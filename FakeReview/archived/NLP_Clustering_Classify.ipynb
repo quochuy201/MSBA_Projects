{
 "cells": [
  {
   "cell_type": "code",
   "execution_count": 1,
   "metadata": {},
   "outputs": [
    {
     "name": "stderr",
     "output_type": "stream",
     "text": [
      "[nltk_data] Downloading package stopwords to /home/jovyan/nltk_data...\n",
      "[nltk_data]   Package stopwords is already up-to-date!\n"
     ]
    },
    {
     "data": {
      "text/plain": [
       "True"
      ]
     },
     "execution_count": 1,
     "metadata": {},
     "output_type": "execute_result"
    }
   ],
   "source": [
    "import sys\n",
    "import nltk\n",
    "import sklearn\n",
    "import pandas as pd\n",
    "import numpy as np\n",
    "from sklearn.utils import shuffle\n",
    "nltk.download('stopwords')\n",
    "\n"
   ]
  },
  {
   "cell_type": "code",
   "execution_count": 2,
   "metadata": {},
   "outputs": [],
   "source": [
    "# load the dataset\n",
    "df= pd.read_csv('./sampleof10k.csv')"
   ]
  },
  {
   "cell_type": "markdown",
   "metadata": {},
   "source": [
    "# 2 EAD\n",
    "\n",
    "i have to do EAD in this steps\n",
    "all cleanning step will be implement in SQL server\n",
    "\n",
    "something need to show in EAD:\n",
    "- summarise statistic\n",
    "- proportion of fake and non fake in dataset\n",
    "- the relation between \"flagged and other feature\""
   ]
  },
  {
   "cell_type": "markdown",
   "metadata": {},
   "source": [
    "## 2.1 Sumarize statistic"
   ]
  },
  {
   "cell_type": "code",
   "execution_count": 3,
   "metadata": {},
   "outputs": [
    {
     "name": "stdout",
     "output_type": "stream",
     "text": [
      "       Unnamed: 0  reviewrating  reusefulcount  recoolcount  refunnycount  \\\n",
      "count    10000.00      10000.00       10000.00     10000.00      10000.00   \n",
      "mean      4999.50          3.79           0.43         0.25          0.23   \n",
      "std       2886.90          1.31           1.53         1.11          1.10   \n",
      "min          0.00          1.00           0.00         0.00          0.00   \n",
      "25%       2499.75          3.00           0.00         0.00          0.00   \n",
      "50%       4999.50          4.00           0.00         0.00          0.00   \n",
      "75%       7499.25          5.00           0.00         0.00          0.00   \n",
      "max       9999.00          5.00          38.00        38.00         32.00   \n",
      "\n",
      "       friendcount  fancount  tipcount  reviewcount  firstcount      ...       \\\n",
      "count     10000.00  10000.00  10000.00     10000.00    10000.00      ...        \n",
      "mean         31.46      3.15      9.05        61.79        4.31      ...        \n",
      "std         171.77     20.22     55.46       155.28       18.58      ...        \n",
      "min           0.00      0.00      0.00         1.00        0.00      ...        \n",
      "25%           0.00      0.00      0.00         3.00        0.00      ...        \n",
      "50%           1.00      0.00      0.00         9.00        0.00      ...        \n",
      "75%          13.00      1.00      0.00        43.00        1.00      ...        \n",
      "max        4924.00    556.00   2166.00      2063.00      457.00      ...        \n",
      "\n",
      "       funnycount  busrating  pricerange  filreviewcount  monmembership  \\\n",
      "count    10000.00   10000.00    10000.00        10000.00       10000.00   \n",
      "mean        75.50       3.89        2.30           45.99          12.18   \n",
      "std        541.66       0.32        0.68           59.17          15.52   \n",
      "min          0.00       1.00        1.00            0.00           0.00   \n",
      "25%          0.00       4.00        2.00            0.00           0.00   \n",
      "50%          1.00       4.00        2.00           15.00           5.00   \n",
      "75%         10.00       4.00        3.00           77.00          20.00   \n",
      "max      16952.00       4.50        4.00          241.00          87.00   \n",
      "\n",
      "       firstreview  maxReviewDay  avgReviewDay  avgpostedrating  avgreviewlen  \n",
      "count     10000.00      10000.00      10000.00         10000.00      10000.00  \n",
      "mean          0.00          6.17          2.06             3.30        643.68  \n",
      "std           0.04          7.36          2.11             0.92        435.28  \n",
      "min           0.00          1.00          1.00             1.00          8.00  \n",
      "25%           0.00          2.00          1.00             3.00        350.00  \n",
      "50%           0.00          4.00          1.00             3.00        550.00  \n",
      "75%           0.00          8.00          2.00             4.00        831.00  \n",
      "max           1.00        116.00         46.00             5.00       4977.00  \n",
      "\n",
      "[8 rows x 23 columns]\n"
     ]
    },
    {
     "data": {
      "text/plain": [
       "Unnamed: 0         0\n",
       "reviewid           0\n",
       "reviewerid         0\n",
       "businessid         0\n",
       "reviewcontent      0\n",
       "reviewrating       0\n",
       "reusefulcount      0\n",
       "recoolcount        0\n",
       "refunnycount       0\n",
       "reviewDate         0\n",
       "yelpjoindate       0\n",
       "friendcount        0\n",
       "fancount           0\n",
       "tipcount           0\n",
       "reviewcount        0\n",
       "firstcount         0\n",
       "usefulcount        0\n",
       "coolcount          0\n",
       "complimentcount    0\n",
       "funnycount         0\n",
       "busrating          0\n",
       "buscateg           0\n",
       "pricerange         0\n",
       "filreviewcount     0\n",
       "monmembership      0\n",
       "firstreview        0\n",
       "maxReviewDay       0\n",
       "avgReviewDay       0\n",
       "avgpostedrating    0\n",
       "avgreviewlen       0\n",
       "flagged            0\n",
       "dtype: int64"
      ]
     },
     "execution_count": 3,
     "metadata": {},
     "output_type": "execute_result"
    }
   ],
   "source": [
    "# Summarize statistic\n",
    "print(round(df.describe(),2))\n",
    "df.isna().sum()"
   ]
  },
  {
   "cell_type": "code",
   "execution_count": 122,
   "metadata": {},
   "outputs": [
    {
     "data": {
      "text/plain": [
       "<bound method DataFrame.corr of       Unnamed: 0                reviewid              reviewerid  \\\n",
       "0              0  FbkhIrlmiUVgBqxfQBpcWg  9YgFbqSz5FWTKkI-4kBypg   \n",
       "1              1  6LbxSdSAgKOqtVCRKFqByw  80th4DFxg2GSXz82OATgeA   \n",
       "2              2  9rmT7pRTx3GLfeCEYcXv5A  rcuxT7EbX0UhWBBnUarspg   \n",
       "3              3  JKnfSiU2UatKqbqnFZRP_A  5emCDl321TReN64bxiEJGQ   \n",
       "4              4  Sq2zg7I1vwov9TQjyKY-lQ  RGqWoD0FEsc9vWNpmm0prQ   \n",
       "5              5  rJ06NjwScfvBmwOiiZWz3g  RWKeP1uPwaraFixxB8EQHg   \n",
       "6              6  gFUyUo8cHJSBH9LKYx3Pzw  8d36keo3PhL85C0DkZbaOg   \n",
       "7              7  qg0G3IlsUA7j2MFaClW7IQ  dhJjHJ1Hp4R8Rkg1eOl3Tw   \n",
       "8              8               4jIx4C6Fa  Bhc85vXp139ei0mS6xaEWw   \n",
       "9              9  yMdipWZZHdFWsn2De-qzwg  h6sRjwnrBe3SUOmlQe2Ipw   \n",
       "10            10        4KKLMG59pkzsZVjM  EO-QqT7G-tGx5W4b3cHjmQ   \n",
       "11            11  pyIC2Ku3WbDaWw2Vt-EREw  drOAcbsSGfx1Uaz-HjCfQQ   \n",
       "12            12                  #NAME?  FbpXhRQJi1pmmflL3rJ1aA   \n",
       "13            13  TCwcc1RqQ3OnoWU2PO84PQ  Lre0LRszFUNL7Q3ttWeMCw   \n",
       "14            14  -1lE5x-KZrKtYasNMf5vWg  j_xdpXxPdSVhlwTJ7roKag   \n",
       "15            15  y24a4XFVJJZbYXUFEwH1aw  D0WXH1iQFJBKvbiwcD0i-g   \n",
       "16            16  fiGgzJm4xRQ25QdBlcgkQg  jg2MBdYYGh1J6MDcGA87lQ   \n",
       "17            17  EqLY2X2fwxtbiIT2-VwWqQ  SwOs7xBwzj_q7hLeNt_opg   \n",
       "18            18  entiV80_BsOVf2x-wHScvA  r7CwLC7NMx-ruu7IxUXsHQ   \n",
       "19            19  GkjtTb63jxaCB7AQNQk83g  bB35i6eA3JYHDpcxZ21k9w   \n",
       "20            20  gnfrzb7weeyjyPKtXYfnKA  Gc2q9S06QPgOqkIzMeyPAw   \n",
       "21            21  FSqwYycZopINRhrrnBNG-g  6CDN9uW0_QXtGKe0TkdhzQ   \n",
       "22            22     6eVMdVJX6a0sZJHMtGz  kcLuh-ck_Zj07TsodaaNUA   \n",
       "23            23  CHcgnMKFJvx-AB7IaScrjQ  fRrJEhIWdaC8bhT1VgnlMQ   \n",
       "24            24  CyBa0qng2SrWbiMmxnKTCA  fJoVX8iLtCpdx0xI5TSXSA   \n",
       "25            25  dt3enOlPhxTXA9E8zxNpzw  Qc7eU-z3r6haDsh-FaKQTw   \n",
       "26            26  MYJv62B1ZRHJ8mSxsKKT_A  dbBDNsSbR2l-KigMxdVsqQ   \n",
       "27            27                  #NAME?  I6rHdiaA-U0DxNK1QfqyMQ   \n",
       "28            28                      k0  O6fv0KBZ4ejwzkXgzsgotA   \n",
       "29            29  I7MlQj6lsXMpuXPj60Ii8w  ARXswZQ4aDfhPnMYSbzcSw   \n",
       "...          ...                     ...                     ...   \n",
       "9970        9970  2GixtsVwiSobsP2L-PA4xA  MTBz767yHkeJV2isWewCOQ   \n",
       "9971        9971  q3DAImGaRhZ3eOff5-bthg  YxgrerS0mPPCwKhJjfaczA   \n",
       "9972        9972  Yo9QSlT5q69z-mSYSjLBkg  EyJBocZggX53xj9_rbWccw   \n",
       "9973        9973  VTsNgrAZbpjvOlT1y9efkA  H1GgX4CXe2D-T-qGbSGKjQ   \n",
       "9974        9974  MlabMLedWjwy0K4g8bdnaQ                  #NAME?   \n",
       "9975        9975                      eO  anz6sQ1M6iDzP3NxOcN7Ew   \n",
       "9976        9976                   LdtXL  RKDsEnnO3qPEnclib-0q9w   \n",
       "9977        9977  D4Yhm9neiTorv4o-VeJwSA  zA7LrtkreYFttN79mPxOQA   \n",
       "9978        9978  WJaiFe9wsMzcKmL5UqGvTQ  o_CiSI6eGERJaqOCMDXtpQ   \n",
       "9979        9979  L_Z4gR2yZMipBwKRAewwcw  CYIcDaSE4aXfgH8WctREzQ   \n",
       "9980        9980  CPYtO3sQ02n1g0iirDCuEw  U4Zd0DtR3unwFkqjM-sOlw   \n",
       "9981        9981  jxiBNgl01olWbSMA9sykDA  hyLzl_7aADZ5j69SEqCbCw   \n",
       "9982        9982         k3-wLdelHuZsMSN  V9DICfvnhH6NrU-ay2Twdw   \n",
       "9983        9983  d6FzAZgDRyvgjgU-f_bE8w  XAC6VdZ4aBnA9lVuJ_Ox2w   \n",
       "9984        9984  ZGC9hmS1DUD2ryWnRcJARQ  ECllDp_t4h8okUgMT2pQEg   \n",
       "9985        9985  j-xcSl39kYYjDW1jbZWdqQ  kIKMMqLUOl4WtpbexowGUA   \n",
       "9986        9986  ecodPtmJnepRZVVK3B1Kww  BiNXss7bIz431q8q-MV7Zg   \n",
       "9987        9987                    DY4y  I8H5SbOlnNFAmkXTQ-8umg   \n",
       "9988        9988  BDXr8QWvhpP28CD75xZNoQ  ol3DyVzJznz9aZX8562MfQ   \n",
       "9989        9989  2Nr9crC-V1nRGfyeacP8-Q  Qim2sr6YVNMVvXscIuDsfw   \n",
       "9990        9990  KwPTJXupiWAjxsb5GJNg0Q  7NZkZKGuC--4EAPBqwqsug   \n",
       "9991        9991  cXcR_3F5ljQN4EezgxyeTw  kDL00hZmC891SREleHfETg   \n",
       "9992        9992  1LpKHFidu1uPkwwA8Vzu6w  QR7Uv0W4-HL8yy1gS8wo0g   \n",
       "9993        9993  AiKB3vSRwFp841jtgB1Mvg  lgu0nQXabvRba1_Y8xwCbA   \n",
       "9994        9994  cp2UcPN8sdMhchswtIUcag  cYKNT-Qq-lKX7BZ19ZpoYg   \n",
       "9995        9995  3ZVoTWsXmjVtcAPuRY8Rpg  DcC5IMREZk_8cvalM2NUiw   \n",
       "9996        9996  MWFojoQjfyjLgUTLd7j44Q  IEUHNF3m1APny-7b5x25Tw   \n",
       "9997        9997  huSSMfUNVVpTmIWqg0G9FA  YyPghtND4oTpltrR20pStg   \n",
       "9998        9998  M8ntO1vpBW1I7Q-NHHhGnA  8n_rqZ7M_6e53IRftfzayA   \n",
       "9999        9999  Ufr_pVY2ZJjUUUr57gc6PQ  Hx8ElZp9e0i2ho4MXEOygA   \n",
       "\n",
       "                  businessid  \\\n",
       "0     CQ75CQSyrsmb-S3UAwCHpw   \n",
       "1     50gFzdVglOz88eFJ6v-26A   \n",
       "2     1iehp7Z2kejBq3RSeb4Dxg   \n",
       "3     08X_5WTOVNvk4SgPRKBjjQ   \n",
       "4     p9aMkgTdOKhsjkkv4G0QBw   \n",
       "5     N7juvW8YoFIj7sEBzVF8GQ   \n",
       "6     LUmAQaRrAleKdXZd8On16Q   \n",
       "7                     #NAME?   \n",
       "8     o4NcUfco7JxOcyfKFWyAhg   \n",
       "9     6PQTqW9j-sriDBQyQCJbjw   \n",
       "10    ezxzzWj-EIigt0p4wlbLbw   \n",
       "11    8d_DiHWB-pjBVW3a7D8EWg   \n",
       "12    cQnY_VneZisfUAqcbuEuKg   \n",
       "13    IuFEm-19YYh49T5ZlvwkDA   \n",
       "14    boE4Ahsssqic7o5wQLI04w   \n",
       "15    _UJ3KqtHIHjExbAg-iIGUA   \n",
       "16    IvdOI86_CSCRFpid2atnyA   \n",
       "17    oLM9piDKbj2PDgy-m3XEcQ   \n",
       "18    juop6_3dLfPDo-un-ZuXrg   \n",
       "19    yBRaSkuYwFhYEoucDyD0lA   \n",
       "20    mCHto10PBQOKnefm7gholg   \n",
       "21    dLS8GPg-K1O-zJ3VJAtiyg   \n",
       "22    pbEiXam9YJL3neCYHGwLUA   \n",
       "23    boE4Ahsssqic7o5wQLI04w   \n",
       "24    sR4EOfPuI-at41uIxIZPhw   \n",
       "25    LMaoM2Ue2BR_HI9ba3JsZg   \n",
       "26    ms5ge1XY9-Alu7HkybAMdQ   \n",
       "27    Rlg07N7Sl1qTzjc7zc6Whg   \n",
       "28    Yc5wFFyMhyYsxI2Z4bhkng   \n",
       "29    Z2nOMPedr7XYhgYhILJjEA   \n",
       "...                      ...   \n",
       "9970  sR4EOfPuI-at41uIxIZPhw   \n",
       "9971  oCTlReyKjJxKPFYfCurxxQ   \n",
       "9972  4wreIFjaPMppyEnzKHbozg   \n",
       "9973  DBtXy8wcPsVr80oFfz-CbA   \n",
       "9974  euO3-H92LCivH2B0CQPlnw   \n",
       "9975  yBRaSkuYwFhYEoucDyD0lA   \n",
       "9976  Z2nOMPedr7XYhgYhILJjEA   \n",
       "9977  sR4EOfPuI-at41uIxIZPhw   \n",
       "9978  Btjt4D8dJ-yEdsts3Tj5Hg   \n",
       "9979  28gamO9SwWMHxwB0nP_plQ   \n",
       "9980  dKcO9OQ44RPRlkWe-vToFA   \n",
       "9981  0fFLUKl71vv3eNV2xhikEw   \n",
       "9982  qkfBgSCbekH3DHTanVL1_w   \n",
       "9983  euO3-H92LCivH2B0CQPlnw   \n",
       "9984  sDYjKyI_67eUhFAqVneYjA   \n",
       "9985  8d_DiHWB-pjBVW3a7D8EWg   \n",
       "9986  _b69OdBNLhysN1jFlYNQiA   \n",
       "9987  pbEiXam9YJL3neCYHGwLUA   \n",
       "9988  mLdvQGAFadIJkOlEoHsI7w   \n",
       "9989  boE4Ahsssqic7o5wQLI04w   \n",
       "9990  AqgG-1aD6JYj9D6OmBWO3w   \n",
       "9991  ALwH81_sqskLmwfWS-_eeQ   \n",
       "9992  h-CNRJ-bqSZvz75J4A9cFg   \n",
       "9993  sfWMOqUEp8S2adDeJp7Kzg   \n",
       "9994  N7juvW8YoFIj7sEBzVF8GQ   \n",
       "9995  qqax04alS3UPx0Yp4jJNDQ   \n",
       "9996  z_qEuUuRWIq4O-YufXHf1w   \n",
       "9997  jGiKIJCVLZHXQDSNnSLPsw   \n",
       "9998  qkfBgSCbekH3DHTanVL1_w   \n",
       "9999  4wreIFjaPMppyEnzKHbozg   \n",
       "\n",
       "                                          reviewcontent  reviewrating  \\\n",
       "0     This place was amazing! My partner and I came ...             5   \n",
       "1     Visited 8/2009 YUM! We visited hubby's hometow...             5   \n",
       "2     Great atmosphere and great service all around....             5   \n",
       "3     OK so I cant recall how many times I have driv...             4   \n",
       "4     Hotel staff incredibly not helpful. The room t...             1   \n",
       "5     This place is definitely FRESH FRESH FRESH as ...             5   \n",
       "6     My boyfriend and I treated ourselves to a mini...             4   \n",
       "7     15 year patron of the original Uncommon Ground...             1   \n",
       "8     Prepare to be treated poorly.  A promise of 45...             1   \n",
       "9     Enjoyed another fabulous dinner last night.  J...             5   \n",
       "10    Absolutely the worst hotel experience I've eve...             1   \n",
       "11    So far - my favorite sushi place in Chicago. F...             5   \n",
       "12    I was here about 3 months ago. The food overal...             2   \n",
       "13    I had a cuban sandwich.  It was very good.  It...             4   \n",
       "14    Hmmm...I really wanted to be in love with this...             3   \n",
       "15    I am at a place called the Greek Islands. I or...             5   \n",
       "16          go immediately!  get the truffle egg toast.             5   \n",
       "17    Great food and wonderful, personal service.  I...             5   \n",
       "18    I love this place. I want to try every one of ...             5   \n",
       "19    They have the best spicy tofu dish and Szechua...             4   \n",
       "20    Combine great food, affordability, tremendous ...             5   \n",
       "21                          Excellent food and service.             5   \n",
       "22    I planned a trip to Chicago around a visit to ...             5   \n",
       "23    Great food!!! Another winner from the creative...             5   \n",
       "24    I like Hopleaf. Great Beer list ...mmmDaisycut...             4   \n",
       "25    I'm a little late to the Publican party, but I...             5   \n",
       "26    The deep dish pizza was great! As other people...             4   \n",
       "27    RUDE!  My husband and I live in Andersonville ...             2   \n",
       "28    This was place was alright.  I recently booked...             3   \n",
       "29    one of my favorite places for thin crust in th...             4   \n",
       "...                                                 ...           ...   \n",
       "9970  The food is bland and the bartenders are rude....             1   \n",
       "9971  The owner of this place is pretty awesome and ...             4   \n",
       "9972  I'm not sure I get this place. I eat here ever...             3   \n",
       "9973  WOOOWEEEE! They got some great home-made sausa...             4   \n",
       "9974  I have an announcement. I'm pregnant. With a f...             5   \n",
       "9975  The food is delicious and authentic. I had the...             4   \n",
       "9976  This is a microbrewery & pizza place, that giv...             5   \n",
       "9977  I guess there is nothing novel about recommend...             5   \n",
       "9978  I just wasn't very impressed with what I order...             3   \n",
       "9979  Well, I decided to write a review since I've b...             1   \n",
       "9980  Oh my goodness! My friend and I are visiting C...             5   \n",
       "9981  Beware: the owner may ruin your meal and embar...             1   \n",
       "9982  I absolutely love this place! The restaurant i...             5   \n",
       "9983  Uh...pretty freakin' tasty BBQ! Full disclosur...             5   \n",
       "9984  4 1/2 Stars - Gilt really is delicious and the...             4   \n",
       "9985  Beef lollipops tasted a bit gamey, not steak q...             1   \n",
       "9986  The perfect place for breakfast so far. Ambian...             5   \n",
       "9987  I went to this restaurant back in July, i know...             3   \n",
       "9988  Looks like they renovated / updated their room...             4   \n",
       "9989  honestly, i dont know what all the fuss is abo...             2   \n",
       "9990  Frontera Grill ....  What to say, can't explai...             5   \n",
       "9991  I enjoy the pho they serve here. The service i...             5   \n",
       "9992  Get this--my sister and her family AND my in-l...             4   \n",
       "9993  The atmosphere in the restaurant is vey pleasa...             5   \n",
       "9994  We called ahead and arranged a party for twent...             5   \n",
       "9995  This is a really poor choice for brunch with f...             1   \n",
       "9996  Ordered a Deep Pepperoni pizza- Lots of CHEESE...             4   \n",
       "9997  xoco is super tasty, but it's also super price...             4   \n",
       "9998  Great sushi and very nice staff! Lovely atmosp...             4   \n",
       "9999  I LOVE the Grand Lux Cafe.  I would have to sa...             5   \n",
       "\n",
       "      reusefulcount  recoolcount  refunnycount  reviewDate   ...     \\\n",
       "0                 0            0             0   1/19/2012   ...      \n",
       "1                 1            0             0    1/3/2011   ...      \n",
       "2                 0            0             0    3/6/2011   ...      \n",
       "3                 0            0             0    6/1/2010   ...      \n",
       "4                 0            0             0    1/6/2012   ...      \n",
       "5                 0            0             0   4/23/2010   ...      \n",
       "6                 3            1             0   2/17/2010   ...      \n",
       "7                 0            0             0   4/22/2012   ...      \n",
       "8                 1            0             1  12/31/2011   ...      \n",
       "9                 1            1             0  12/10/2011   ...      \n",
       "10                0            0             0    9/1/2012   ...      \n",
       "11                0            0             0   2/21/2011   ...      \n",
       "12                0            0             0    5/2/2012   ...      \n",
       "13                0            0             0  11/26/2011   ...      \n",
       "14                2            1             0   2/23/2010   ...      \n",
       "15                0            3             0   2/20/2011   ...      \n",
       "16                0            0             0  12/30/2010   ...      \n",
       "17                0            0             0    9/6/2010   ...      \n",
       "18                0            0             0   2/16/2010   ...      \n",
       "19                0            0             0    4/2/2011   ...      \n",
       "20                0            0             0   6/16/2012   ...      \n",
       "21                0            0             0   8/28/2012   ...      \n",
       "22                2            1             0   8/24/2010   ...      \n",
       "23                0            0             0  12/20/2010   ...      \n",
       "24                0            0             0   5/12/2010   ...      \n",
       "25                0            0             0    2/5/2012   ...      \n",
       "26                0            0             0    7/2/2012   ...      \n",
       "27                0            0             0   5/12/2011   ...      \n",
       "28                0            0             0   4/18/2012   ...      \n",
       "29                0            0             0   8/21/2010   ...      \n",
       "...             ...          ...           ...         ...   ...      \n",
       "9970              3            0             1   2/28/2012   ...      \n",
       "9971              0            0             0   5/11/2011   ...      \n",
       "9972              0            0             0  12/22/2010   ...      \n",
       "9973              0            0             0    2/9/2010   ...      \n",
       "9974              7            6            12   5/17/2012   ...      \n",
       "9975              0            0             0   3/17/2012   ...      \n",
       "9976              1            2             0    3/3/2011   ...      \n",
       "9977              0            0             0   9/12/2012   ...      \n",
       "9978              0            0             0  10/26/2011   ...      \n",
       "9979              0            0             0   6/27/2011   ...      \n",
       "9980              1            2             0    2/7/2012   ...      \n",
       "9981              0            0             0   8/29/2011   ...      \n",
       "9982              3            4             0    5/5/2011   ...      \n",
       "9983              0            0             0    9/1/2010   ...      \n",
       "9984              0            0             0  11/13/2011   ...      \n",
       "9985              0            0             0    9/1/2011   ...      \n",
       "9986              0            0             0   12/2/2011   ...      \n",
       "9987              0            0             0   2/23/2010   ...      \n",
       "9988              0            0             0   7/22/2011   ...      \n",
       "9989              0            0             0   4/26/2010   ...      \n",
       "9990              0            0             0  12/28/2011   ...      \n",
       "9991              0            0             0    6/1/2012   ...      \n",
       "9992              2            1             1   1/27/2012   ...      \n",
       "9993              0            0             0    8/9/2012   ...      \n",
       "9994              0            0             0  11/15/2010   ...      \n",
       "9995              0            0             0   2/26/2012   ...      \n",
       "9996              0            0             0   6/17/2012   ...      \n",
       "9997              0            0             0   9/17/2012   ...      \n",
       "9998              0            0             0   5/14/2012   ...      \n",
       "9999              0            0             0  10/20/2010   ...      \n",
       "\n",
       "                    buscateg  pricerange  filreviewcount  monmembership  \\\n",
       "0                Restaurants         3.0               0              3   \n",
       "1                Restaurants         2.0               0              0   \n",
       "2                Restaurants         3.0              80              0   \n",
       "3                Restaurants         2.0               0              1   \n",
       "4                     Hotels         2.0              33             28   \n",
       "5                Restaurants         2.0             241              0   \n",
       "6                     Hotels         3.0               4              5   \n",
       "7                Restaurants         2.0               0              0   \n",
       "8                Restaurants         3.0               0              1   \n",
       "9                Restaurants         2.0               0             30   \n",
       "10                    Hotels         3.0              17             57   \n",
       "11               Restaurants         3.0             217              0   \n",
       "12               Restaurants         1.0               0              0   \n",
       "13               Restaurants         1.0               0             24   \n",
       "14               Restaurants         2.0             118             20   \n",
       "15               Restaurants         2.0              99              0   \n",
       "16               Restaurants         2.0              55             45   \n",
       "17               Restaurants         2.0               0              0   \n",
       "18               Restaurants         1.0              61              0   \n",
       "19               Restaurants         2.0              94              0   \n",
       "20               Restaurants         2.0               0              0   \n",
       "21               Restaurants         2.0               0             12   \n",
       "22               Restaurants         4.0               0             40   \n",
       "23               Restaurants         2.0             118             30   \n",
       "24               Restaurants         2.0             125              7   \n",
       "25               Restaurants         3.0               0             48   \n",
       "26               Restaurants         2.0               0              0   \n",
       "27               Restaurants         2.0              50              0   \n",
       "28                    Hotels         2.0               8             12   \n",
       "29               Restaurants         2.0             151             20   \n",
       "...                      ...         ...             ...            ...   \n",
       "9970             Restaurants         2.0             125             19   \n",
       "9971             Restaurants         2.0              60             18   \n",
       "9972             Restaurants         2.0               0              1   \n",
       "9973             Restaurants         2.0              77              1   \n",
       "9974             Restaurants         2.0               0             53   \n",
       "9975             Restaurants         2.0              94              9   \n",
       "9976             Restaurants         2.0             151             23   \n",
       "9977             Restaurants         2.0             125              0   \n",
       "9978             Restaurants         3.0               0             21   \n",
       "9979             Restaurants         1.0               0              0   \n",
       "9980             Restaurants         3.0             118              6   \n",
       "9981             Restaurants         2.0               0             18   \n",
       "9982             Restaurants         2.0               0              8   \n",
       "9983             Restaurants         2.0               0              0   \n",
       "9984             Restaurants         3.0               0             17   \n",
       "9985             Restaurants         3.0             217              0   \n",
       "9986             Restaurants         2.0              88             22   \n",
       "9987             Restaurants         4.0               0              0   \n",
       "9988  Restaurants and Hotels         3.0              15             24   \n",
       "9989             Restaurants         2.0             118             17   \n",
       "9990             Restaurants         3.0               0              0   \n",
       "9991             Restaurants         1.0               0              1   \n",
       "9992             Restaurants         2.0               0             17   \n",
       "9993             Restaurants         3.0             126              0   \n",
       "9994             Restaurants         2.0             241              0   \n",
       "9995             Restaurants         1.0               0              0   \n",
       "9996             Restaurants         2.0              68             24   \n",
       "9997             Restaurants         2.0               0             66   \n",
       "9998             Restaurants         2.0               0              2   \n",
       "9999             Restaurants         2.0               0              0   \n",
       "\n",
       "      firstreview  maxReviewDay  avgReviewDay  avgpostedrating  avgreviewlen  \\\n",
       "0               0             4             2                4           548   \n",
       "1               0            14             2                3           364   \n",
       "2               0             1             1                5           321   \n",
       "3               0             2             1                3          1274   \n",
       "4               0             1             1                2           344   \n",
       "5               0             5             5                4           457   \n",
       "6               0             6             1                3          1372   \n",
       "7               0             1             1                3            53   \n",
       "8               0             2             1                2           354   \n",
       "9               0            10             3                4           383   \n",
       "10              0             6             1                3           658   \n",
       "11              0             5             2                3           666   \n",
       "12              0             1             1                2          1084   \n",
       "13              0             7             1                3           294   \n",
       "14              0            13             1                3          1350   \n",
       "15              0             3             1                3           464   \n",
       "16              0             7             1                3           357   \n",
       "17              0             2             2                5           230   \n",
       "18              0             1             1                3            63   \n",
       "19              0             4             4                4           363   \n",
       "20              0             1             1                3           734   \n",
       "21              0             2             1                2           535   \n",
       "22              0            19             2                3           749   \n",
       "23              0             7             2                3           438   \n",
       "24              0             5             1                3           896   \n",
       "25              0             5             1                3          1337   \n",
       "26              0             1             1                4           200   \n",
       "27              0             1             1                3           777   \n",
       "28              0             4             1                3           482   \n",
       "29              0            16             2                3           534   \n",
       "...           ...           ...           ...              ...           ...   \n",
       "9970            0             3             1                1           263   \n",
       "9971            0             1             1                2           425   \n",
       "9972            0             3             2                3           731   \n",
       "9973            0            10             3                4           755   \n",
       "9974            0            21             2                3           835   \n",
       "9975            0            10             3                3           267   \n",
       "9976            0            11             2                3           354   \n",
       "9977            0             2             1                4           221   \n",
       "9978            0            11             6                3           184   \n",
       "9979            0             2             1                2           758   \n",
       "9980            0             3             2                4          1386   \n",
       "9981            0             2             1                3          1207   \n",
       "9982            0             5             2                4           423   \n",
       "9983            1             1             1                5          1435   \n",
       "9984            0             4             1                3           602   \n",
       "9985            0             2             2                1           503   \n",
       "9986            0             4             1                3           439   \n",
       "9987            0             3             2                3           675   \n",
       "9988            0            12             2                3           925   \n",
       "9989            0             2             1                4           610   \n",
       "9990            0             1             1                4           509   \n",
       "9991            0             5             3                3           637   \n",
       "9992            0             6             6                4           778   \n",
       "9993            0             1             1                5           165   \n",
       "9994            0             1             1                3           371   \n",
       "9995            0             1             1                1           855   \n",
       "9996            0             5             5                3           227   \n",
       "9997            0            14             2                4           586   \n",
       "9998            0             5             2                3            84   \n",
       "9999            0             4             4                4           389   \n",
       "\n",
       "      flagged  \n",
       "0           Y  \n",
       "1           N  \n",
       "2           Y  \n",
       "3           Y  \n",
       "4           Y  \n",
       "5           Y  \n",
       "6           N  \n",
       "7           Y  \n",
       "8           N  \n",
       "9           N  \n",
       "10          N  \n",
       "11          N  \n",
       "12          Y  \n",
       "13          N  \n",
       "14          N  \n",
       "15          N  \n",
       "16          N  \n",
       "17          Y  \n",
       "18          Y  \n",
       "19          Y  \n",
       "20          Y  \n",
       "21          Y  \n",
       "22          N  \n",
       "23          N  \n",
       "24          N  \n",
       "25          N  \n",
       "26          Y  \n",
       "27          Y  \n",
       "28          N  \n",
       "29          N  \n",
       "...       ...  \n",
       "9970        N  \n",
       "9971        Y  \n",
       "9972        Y  \n",
       "9973        N  \n",
       "9974        N  \n",
       "9975        N  \n",
       "9976        N  \n",
       "9977        Y  \n",
       "9978        Y  \n",
       "9979        Y  \n",
       "9980        N  \n",
       "9981        Y  \n",
       "9982        N  \n",
       "9983        Y  \n",
       "9984        Y  \n",
       "9985        Y  \n",
       "9986        Y  \n",
       "9987        N  \n",
       "9988        N  \n",
       "9989        N  \n",
       "9990        Y  \n",
       "9991        Y  \n",
       "9992        N  \n",
       "9993        Y  \n",
       "9994        Y  \n",
       "9995        Y  \n",
       "9996        N  \n",
       "9997        N  \n",
       "9998        N  \n",
       "9999        Y  \n",
       "\n",
       "[10000 rows x 31 columns]>"
      ]
     },
     "execution_count": 122,
     "metadata": {},
     "output_type": "execute_result"
    }
   ],
   "source": []
  },
  {
   "cell_type": "code",
   "execution_count": 4,
   "metadata": {},
   "outputs": [],
   "source": [
    "df['pricerange'] = df['pricerange'].fillna(0.0)"
   ]
  },
  {
   "cell_type": "code",
   "execution_count": 5,
   "metadata": {},
   "outputs": [
    {
     "name": "stdout",
     "output_type": "stream",
     "text": [
      "N    5000\n",
      "Y    5000\n",
      "Name: flagged, dtype: int64\n",
      "% filtered reviews: 50.0\n",
      "% non-filtered reviews: 50.0\n"
     ]
    }
   ],
   "source": [
    "# checking data distribution\n",
    "Y = df['flagged']\n",
    "\n",
    "print(Y.value_counts())\n",
    "\n",
    "print('% filtered reviews: {}'.format(round(Y.value_counts()[0]/len(Y)*100),3))\n",
    "print('% non-filtered reviews: {}'.format(round(Y.value_counts()[1]/len(Y)*100),2))"
   ]
  },
  {
   "cell_type": "markdown",
   "metadata": {},
   "source": [
    "# 3. Data Preprocessing\n",
    "## 3.1 Text data\n",
    "\n",
    "steps:\n",
    "- generate new fields: look at notebook\n",
    "    + review length\n",
    "    + ...\n",
    "- text feature genereate: n-gram, POS, Bag of words, TF-IDF\n",
    "- sentiment analysis\n",
    "- opinion mining\n",
    "- integrate text feature back to the dataframe\n"
   ]
  },
  {
   "cell_type": "code",
   "execution_count": 6,
   "metadata": {},
   "outputs": [],
   "source": [
    "from sklearn.preprocessing import LabelEncoder"
   ]
  },
  {
   "cell_type": "code",
   "execution_count": 7,
   "metadata": {
    "scrolled": true
   },
   "outputs": [
    {
     "name": "stdout",
     "output_type": "stream",
     "text": [
      "0    This place was amazing! My partner and I came ...\n",
      "1    Visited 8/2009 YUM! We visited hubby's hometow...\n",
      "2    Great atmosphere and great service all around....\n",
      "3    OK so I cant recall how many times I have driv...\n",
      "4    Hotel staff incredibly not helpful. The room t...\n",
      "5    This place is definitely FRESH FRESH FRESH as ...\n",
      "6    My boyfriend and I treated ourselves to a mini...\n",
      "7    15 year patron of the original Uncommon Ground...\n",
      "8    Prepare to be treated poorly.  A promise of 45...\n",
      "9    Enjoyed another fabulous dinner last night.  J...\n",
      "Name: reviewcontent, dtype: object\n"
     ]
    },
    {
     "name": "stderr",
     "output_type": "stream",
     "text": [
      "/opt/conda/lib/python3.6/site-packages/ipykernel_launcher.py:42: SettingWithCopyWarning: \n",
      "A value is trying to be set on a copy of a slice from a DataFrame.\n",
      "Try using .loc[row_indexer,col_indexer] = value instead\n",
      "\n",
      "See the caveats in the documentation: http://pandas.pydata.org/pandas-docs/stable/indexing.html#indexing-view-versus-copy\n",
      "/opt/conda/lib/python3.6/site-packages/ipykernel_launcher.py:43: SettingWithCopyWarning: \n",
      "A value is trying to be set on a copy of a slice from a DataFrame.\n",
      "Try using .loc[row_indexer,col_indexer] = value instead\n",
      "\n",
      "See the caveats in the documentation: http://pandas.pydata.org/pandas-docs/stable/indexing.html#indexing-view-versus-copy\n",
      "/opt/conda/lib/python3.6/site-packages/ipykernel_launcher.py:44: SettingWithCopyWarning: \n",
      "A value is trying to be set on a copy of a slice from a DataFrame.\n",
      "Try using .loc[row_indexer,col_indexer] = value instead\n",
      "\n",
      "See the caveats in the documentation: http://pandas.pydata.org/pandas-docs/stable/indexing.html#indexing-view-versus-copy\n"
     ]
    }
   ],
   "source": [
    "# store the sms message data to diff dataframe\n",
    "df['flagged'] = df['flagged'].astype('category')\n",
    "df['buscateg'] = df['buscateg'].astype('category')\n",
    "df['pricerange'] = df['pricerange'].astype('category')\n",
    "df['firstreview'] = df['firstreview'].astype('category')\n",
    "\n",
    "review_id = df['reviewid']\n",
    "review_content = df['reviewcontent']\n",
    "behavior_attr = df[['reviewrating',\n",
    "                    'reusefulcount',\n",
    "                    'recoolcount',\n",
    "                    'refunnycount',\n",
    "                    'friendcount',\n",
    "                    'fancount',\n",
    "                    'tipcount',\n",
    "                    'reviewcount',\n",
    "                    'firstcount',\n",
    "                    'usefulcount',\n",
    "                    'coolcount',\n",
    "                    'complimentcount',\n",
    "                    'funnycount',\n",
    "                    'busrating',\n",
    "                    'buscateg',\n",
    "                    'pricerange',\n",
    "                    'monmembership',\n",
    "                    'firstreview',\n",
    "                    'maxReviewDay',\n",
    "                    'avgReviewDay',\n",
    "                    'avgpostedrating',\n",
    "                    'avgreviewlen'\n",
    "                    ]]\n",
    "\n",
    "# replace NaN with space\n",
    "review_content = review_content.fillna('')\n",
    "\n",
    "\n",
    "\n",
    "# convert class labels to binary values, 0 = ham and 1 = spam\n",
    "encoder = LabelEncoder()\n",
    "Y = encoder.fit_transform(df['flagged'])\n",
    "\n",
    "behavior_attr['buscateg'] =  encoder.fit_transform(behavior_attr['buscateg'])\n",
    "behavior_attr['pricerange'] = encoder.fit_transform(behavior_attr['pricerange'])\n",
    "behavior_attr['firstreview'] = encoder.fit_transform(behavior_attr['firstreview'])\n",
    "\n",
    "print(review_content[:10])"
   ]
  },
  {
   "cell_type": "code",
   "execution_count": 126,
   "metadata": {},
   "outputs": [
    {
     "data": {
      "text/plain": [
       "<matplotlib.axes._subplots.AxesSubplot at 0x7f5a0578d898>"
      ]
     },
     "execution_count": 126,
     "metadata": {},
     "output_type": "execute_result"
    },
    {
     "data": {
      "image/png": "[encoded data removed]",
      "text/plain": [
       "<Figure size 1440x720 with 2 Axes>"
      ]
     },
     "metadata": {
      "needs_background": "light"
     },
     "output_type": "display_data"
    }
   ],
   "source": [
    "import seaborn as sn\n",
    "behavior_attr.corr()\n",
    "plt.figure(figsize=(20,10))\n",
    "sn.heatmap(behavior_attr.corr(), annot=True)\n"
   ]
  },
  {
   "cell_type": "code",
   "execution_count": 8,
   "metadata": {},
   "outputs": [],
   "source": [
    "# use regular expressions to replace email address, URLs, Phone numbers, other numbers\n",
    "\n",
    "# Replace email addresses with 'email'\n",
    "processed = review_content.str.replace(r'^.+@[^\\.].*\\.[a-z]{2,}$',\n",
    "                                      'emailaddress')\n",
    "\n",
    "# Replace URLs with 'webaddress'\n",
    "processed = processed.str.replace(r'^http\\://[a-zA-Z0-9\\-\\.]+\\.[a-zA-Z]{2,3}(/\\S*)?$',\n",
    "                                   'webaddress')\n",
    "\n",
    "# Replace moneu symbols with 'moneysymb' (€,£)\n",
    "processed = processed.str.replace(r'€|\\$|£', 'moneysymb')\n",
    "\n",
    "# replac 10 digit phone numbers (formats include paranthesis, space, no space, dashes) with phonenumber\n",
    "processed = processed.str.replace(r'^\\(?[\\d]{3}\\)?[\\s-]?[\\d]{3}[\\s-]?[\\d]{4}$',\n",
    "                                 'phonenumber')\n",
    "# \n",
    "#replace numbers with 'number'\n",
    "processed = processed.str.replace(r'\\d+(\\.\\d+)?','number')"
   ]
  },
  {
   "cell_type": "code",
   "execution_count": 9,
   "metadata": {},
   "outputs": [],
   "source": [
    "# Remove Punctuation\n",
    "processed = processed.str.replace(r'[^\\w\\d\\s]', ' ')\n",
    "\n",
    "# replace whitespac between terms with a single space\n",
    "processed = processed.str.replace(r'\\s+',' ') \n",
    "\n",
    "# remove leading and trailing whitespace\n",
    "processed = processed.str.replace(r'^\\s+|\\s+?$','')"
   ]
  },
  {
   "cell_type": "code",
   "execution_count": 10,
   "metadata": {},
   "outputs": [
    {
     "name": "stdout",
     "output_type": "stream",
     "text": [
      "0       this place was amazing my partner and i came h...\n",
      "1       visited number number yum we visited hubby s h...\n",
      "2       great atmosphere and great service all around ...\n",
      "3       ok so i cant recall how many times i have driv...\n",
      "4       hotel staff incredibly not helpful the room th...\n",
      "5       this place is definitely fresh fresh fresh as ...\n",
      "6       my boyfriend and i treated ourselves to a mini...\n",
      "7       number year patron of the original uncommon gr...\n",
      "8       prepare to be treated poorly a promise of numb...\n",
      "9       enjoyed another fabulous dinner last night jum...\n",
      "10      absolutely the worst hotel experience i ve eve...\n",
      "11      so far my favorite sushi place in chicago food...\n",
      "12      i was here about number months ago the food ov...\n",
      "13      i had a cuban sandwich it was very good it was...\n",
      "14      hmmm i really wanted to be in love with this p...\n",
      "15      i am at a place called the greek islands i ord...\n",
      "16               go immediately get the truffle egg toast\n",
      "17      great food and wonderful personal service it s...\n",
      "18      i love this place i want to try every one of t...\n",
      "19      they have the best spicy tofu dish and szechua...\n",
      "20      combine great food affordability tremendous en...\n",
      "21                             excellent food and service\n",
      "22      i planned a trip to chicago around a visit to ...\n",
      "23      great food another winner from the creatives b...\n",
      "24      i like hopleaf great beer list mmmdaisycutter ...\n",
      "25      i m a little late to the publican party but i ...\n",
      "26      the deep dish pizza was great as other people ...\n",
      "27      rude my husband and i live in andersonville an...\n",
      "28      this was place was alright i recently booked a...\n",
      "29      one of my favorite places for thin crust in th...\n",
      "                              ...                        \n",
      "9970    the food is bland and the bartenders are rude ...\n",
      "9971    the owner of this place is pretty awesome and ...\n",
      "9972    i m not sure i get this place i eat here every...\n",
      "9973    woooweeee they got some great home made sausag...\n",
      "9974    i have an announcement i m pregnant with a foo...\n",
      "9975    the food is delicious and authentic i had the ...\n",
      "9976    this is a microbrewery pizza place that gives ...\n",
      "9977    i guess there is nothing novel about recommend...\n",
      "9978    i just wasn t very impressed with what i order...\n",
      "9979    well i decided to write a review since i ve be...\n",
      "9980    oh my goodness my friend and i are visiting ch...\n",
      "9981    beware the owner may ruin your meal and embara...\n",
      "9982    i absolutely love this place the restaurant it...\n",
      "9983    uh pretty freakin tasty bbq full disclosure my...\n",
      "9984    number number number stars gilt really is deli...\n",
      "9985    beef lollipops tasted a bit gamey not steak qu...\n",
      "9986    the perfect place for breakfast so far ambianc...\n",
      "9987    i went to this restaurant back in july i know ...\n",
      "9988    looks like they renovated updated their rooms ...\n",
      "9989    honestly i dont know what all the fuss is abou...\n",
      "9990    frontera grill what to say can t explain how i...\n",
      "9991    i enjoy the pho they serve here the service is...\n",
      "9992    get this my sister and her family and my in la...\n",
      "9993    the atmosphere in the restaurant is vey pleasa...\n",
      "9994    we called ahead and arranged a party for twent...\n",
      "9995    this is a really poor choice for brunch with f...\n",
      "9996    ordered a deep pepperoni pizza lots of cheese ...\n",
      "9997    xoco is super tasty but it s also super pricey...\n",
      "9998    great sushi and very nice staff lovely atmosph...\n",
      "9999    i love the grand lux cafe i would have to say ...\n",
      "Name: reviewcontent, Length: 10000, dtype: object\n"
     ]
    }
   ],
   "source": [
    "# change words to lower case\n",
    "processed = processed.str.lower()\n",
    "print(processed)"
   ]
  },
  {
   "cell_type": "code",
   "execution_count": 11,
   "metadata": {},
   "outputs": [],
   "source": [
    "# # remove stopwords from text sms\n",
    "from nltk.corpus import stopwords\n",
    "\n",
    "stop_words = set(stopwords.words('english'))\n",
    "\n",
    "processed = processed.apply(lambda x: ' '.join(\n",
    "            term for term in x.split() if term not in stop_words))"
   ]
  },
  {
   "cell_type": "code",
   "execution_count": 12,
   "metadata": {},
   "outputs": [
    {
     "name": "stdout",
     "output_type": "stream",
     "text": [
      "0       place amazing partner came first time ever wai...\n",
      "1       visited number number yum visited hubby hometo...\n",
      "2       great atmosphere great service around family p...\n",
      "3       ok cant recall many times driven past restaura...\n",
      "4       hotel staff incredibly helpful room put us siz...\n",
      "5       place definitely fresh fresh fresh someone els...\n",
      "6       boyfriend treated mini weekend getaway past va...\n",
      "7       number year patron original uncommon ground po...\n",
      "8       prepare treated poorly promise number minutes ...\n",
      "9       enjoyed another fabulous dinner last night jum...\n",
      "10      absolutely worst hotel experience ever around ...\n",
      "11      far favorite sushi place chicago food ordered ...\n",
      "12      number months ago food overall good manager ow...\n",
      "13      cuban sandwich good good one used tampa high s...\n",
      "14      hmmm really wanted love place biggest fear lif...\n",
      "15      place called greek islands ordered chicken rig...\n",
      "16                   go immediately get truffle egg toast\n",
      "17      great food wonderful personal service great se...\n",
      "18      love place want try every one number pies plac...\n",
      "19      best spicy tofu dish szechuan string beans als...\n",
      "20      combine great food affordability tremendous en...\n",
      "21                                 excellent food service\n",
      "22      planned trip chicago around visit alinea extre...\n",
      "23      great food another winner creatives behind mia...\n",
      "24      like hopleaf great beer list mmmdaisycutter al...\n",
      "25      little late publican party glad tried sunday b...\n",
      "26      deep dish pizza great people said take number ...\n",
      "27      rude husband live andersonville enjoy going ic...\n",
      "28      place alright recently booked room last minute...\n",
      "29      one favorite places thin crust city especially...\n",
      "                              ...                        \n",
      "9970    food bland bartenders rude used go less touris...\n",
      "9971    owner place pretty awesome sit talk excellent ...\n",
      "9972    sure get place eat every time go see lawyers a...\n",
      "9973    woooweeee got great home made sausages love pl...\n",
      "9974    announcement pregnant food baby made pulled po...\n",
      "9975    food delicious authentic pot stickers dried ch...\n",
      "9976    microbrewery pizza place gives number stars ev...\n",
      "9977    guess nothing novel recommending mussels shame...\n",
      "9978    impressed ordered restaurants andersonville ar...\n",
      "9979    well decided write review since noticing serve...\n",
      "9980    oh goodness friend visiting chicago week cravi...\n",
      "9981    beware owner may ruin meal embarass unprofessi...\n",
      "9982    absolutely love place restaurant chill vibe wa...\n",
      "9983    uh pretty freakin tasty bbq full disclosure of...\n",
      "9984    number number number stars gilt really delicio...\n",
      "9985    beef lollipops tasted bit gamey steak qualityt...\n",
      "9986    perfect place breakfast far ambiance warm frie...\n",
      "9987    went restaurant back july know written review ...\n",
      "9988    looks like renovated updated rooms â overall d...\n",
      "9989    honestly dont know fuss purple pig everything ...\n",
      "9990    frontera grill say explain great meal got many...\n",
      "9991    enjoy pho serve service really fast gets reall...\n",
      "9992    get sister family laws town makes number us sa...\n",
      "9993    atmosphere restaurant vey pleasant services am...\n",
      "9994    called ahead arranged party twenty daughters b...\n",
      "9995    really poor choice brunch friends like places ...\n",
      "9996    ordered deep pepperoni pizza lots cheese order...\n",
      "9997    xoco super tasty also super pricey also source...\n",
      "9998    great sushi nice staff lovely atmosphere date ...\n",
      "9999    love grand lux cafe would say would choose res...\n",
      "Name: reviewcontent, Length: 10000, dtype: object\n"
     ]
    }
   ],
   "source": [
    "print(processed)"
   ]
  },
  {
   "cell_type": "code",
   "execution_count": 13,
   "metadata": {},
   "outputs": [],
   "source": [
    "# remove word stems using a Porter stemmer\n",
    "ps = nltk.PorterStemmer()\n",
    "\n",
    "processed = processed.apply(lambda x: ' '.join(\n",
    "            ps.stem(term) for term in x.split()))\n"
   ]
  },
  {
   "cell_type": "code",
   "execution_count": 14,
   "metadata": {},
   "outputs": [],
   "source": [
    "#processed.to_csv('processed_content.csv', header ='review_content')"
   ]
  },
  {
   "cell_type": "markdown",
   "metadata": {},
   "source": [
    "# 4 Generate Text features\n",
    "## 4.1 Bag of Words\n",
    "### a. all words\n"
   ]
  },
  {
   "cell_type": "markdown",
   "metadata": {},
   "source": [
    "## 4.2 Part of Speech"
   ]
  },
  {
   "cell_type": "code",
   "execution_count": 15,
   "metadata": {
    "scrolled": true
   },
   "outputs": [
    {
     "name": "stderr",
     "output_type": "stream",
     "text": [
      "[nltk_data] Downloading package punkt to /home/jovyan/nltk_data...\n",
      "[nltk_data]   Package punkt is already up-to-date!\n",
      "[nltk_data] Downloading package averaged_perceptron_tagger to\n",
      "[nltk_data]     /home/jovyan/nltk_data...\n",
      "[nltk_data]   Package averaged_perceptron_tagger is already up-to-\n",
      "[nltk_data]       date!\n"
     ]
    },
    {
     "data": {
      "text/plain": [
       "True"
      ]
     },
     "execution_count": 15,
     "metadata": {},
     "output_type": "execute_result"
    }
   ],
   "source": [
    "from nltk import word_tokenize, pos_tag\n",
    "nltk.download('punkt')\n",
    "nltk.download('averaged_perceptron_tagger')\n",
    "#tokenized review into word\n",
    "#word_tok = processed.apply(word_tokenize)\n",
    "#print(word_tok.head(10))\n"
   ]
  },
  {
   "cell_type": "code",
   "execution_count": 16,
   "metadata": {},
   "outputs": [],
   "source": [
    "# [('I', 'PRP'), (\"'m\", 'VBP'), ('learning', 'VBG'), ('NLP', 'NNP')]\n",
    "pos = processed.apply(word_tokenize).apply(pos_tag)"
   ]
  },
  {
   "cell_type": "code",
   "execution_count": 17,
   "metadata": {},
   "outputs": [],
   "source": [
    "for i, sent in enumerate(pos):\n",
    "    pos[i] =' '.join([word + '_' + postag for word, postag in sent])"
   ]
  },
  {
   "cell_type": "code",
   "execution_count": 18,
   "metadata": {},
   "outputs": [
    {
     "name": "stdout",
     "output_type": "stream",
     "text": [
      "0    place_NN amaz_NN partner_NN came_VBD first_JJ ...\n",
      "1    visit_NN number_NN number_NN yum_JJ visit_NN h...\n",
      "2    great_JJ atmospher_RB great_JJ servic_NN aroun...\n",
      "3    ok_JJ cant_JJ recal_JJ mani_NN time_NN driven_...\n",
      "4    hotel_NN staff_NN incred_VBN help_NN room_NN p...\n",
      "5    place_NN definit_NN fresh_JJ fresh_JJ fresh_JJ...\n",
      "6    boyfriend_NN treat_NN mini_JJ weekend_NN getaw...\n",
      "7    number_NN year_NN patron_RB origin_JJ uncommon...\n",
      "8    prepar_NN treat_NN poorli_NN promis_IN number_...\n",
      "9    enjoy_VB anoth_DT fabul_NN dinner_NN last_JJ n...\n",
      "Name: reviewcontent, dtype: object\n"
     ]
    }
   ],
   "source": [
    "print(pos[:10])\n"
   ]
  },
  {
   "cell_type": "markdown",
   "metadata": {},
   "source": [
    "## 4.3 Cosine Similarity\n"
   ]
  },
  {
   "cell_type": "code",
   "execution_count": 19,
   "metadata": {},
   "outputs": [],
   "source": [
    "# ML Packages For Vectorization of Text For Feature Extraction\n",
    "from sklearn.feature_extraction.text import CountVectorizer\n",
    "from sklearn.feature_extraction.text import TfidfVectorizer\n",
    "from sklearn.metrics.pairwise import cosine_similarity"
   ]
  },
  {
   "cell_type": "markdown",
   "metadata": {},
   "source": [
    "### a. Cosine Similarity by N-grams"
   ]
  },
  {
   "cell_type": "code",
   "execution_count": 20,
   "metadata": {},
   "outputs": [],
   "source": [
    "corpus = processed\n",
    "# using bi-gram\n",
    "#cv = CountVectorizer(analyzer='word', ngram_range=(2, 2))\n",
    "#X_cv = cv.fit_transform(corpus) # Fit the Data\n",
    "# create fi-idf vector\n",
    "tfidf = TfidfVectorizer(analyzer='word', ngram_range=(1,1))\n",
    "#X_tfidf= tfidf.fit_transform(corpus)"
   ]
  },
  {
   "cell_type": "code",
   "execution_count": 21,
   "metadata": {},
   "outputs": [],
   "source": [
    "# create cosine similarity by tf-idf vector\n",
    "CS_similarity_bigram =cosine_similarity(tfidf.fit_transform(corpus))"
   ]
  },
  {
   "cell_type": "code",
   "execution_count": 22,
   "metadata": {},
   "outputs": [
    {
     "data": {
      "text/plain": [
       "(10000, 10000)"
      ]
     },
     "execution_count": 22,
     "metadata": {},
     "output_type": "execute_result"
    }
   ],
   "source": [
    "# get the feature shape\n",
    "CS_similarity_bigram.shape"
   ]
  },
  {
   "cell_type": "code",
   "execution_count": 23,
   "metadata": {
    "scrolled": true
   },
   "outputs": [
    {
     "data": {
      "text/plain": [
       "array([[1.        , 0.        , 0.0542976 , ..., 0.0466203 , 0.07984026,\n",
       "        0.03959476],\n",
       "       [0.        , 1.        , 0.06167563, ..., 0.0419655 , 0.        ,\n",
       "        0.03300071],\n",
       "       [0.0542976 , 0.06167563, 1.        , ..., 0.02360633, 0.06350651,\n",
       "        0.00834639],\n",
       "       ...,\n",
       "       [0.0466203 , 0.0419655 , 0.02360633, ..., 1.        , 0.03996169,\n",
       "        0.06271102],\n",
       "       [0.07984026, 0.        , 0.06350651, ..., 0.03996169, 1.        ,\n",
       "        0.03295736],\n",
       "       [0.03959476, 0.03300071, 0.00834639, ..., 0.06271102, 0.03295736,\n",
       "        1.        ]])"
      ]
     },
     "execution_count": 23,
     "metadata": {},
     "output_type": "execute_result"
    }
   ],
   "source": [
    "CS_similarity_bigram"
   ]
  },
  {
   "cell_type": "code",
   "execution_count": 24,
   "metadata": {},
   "outputs": [],
   "source": [
    "#del CS_similarity_bigram"
   ]
  },
  {
   "cell_type": "markdown",
   "metadata": {},
   "source": [
    "### b. Cosine Similarity by Part of Speech"
   ]
  },
  {
   "cell_type": "code",
   "execution_count": 25,
   "metadata": {
    "scrolled": false
   },
   "outputs": [],
   "source": [
    "corpus = pos\n",
    "# create fi-idf vector base on POS\n",
    "tfidf = TfidfVectorizer(analyzer='word', ngram_range=(1, 1))\n",
    "pos_tfidf= tfidf.fit_transform(corpus)\n",
    "\n",
    "#print(pos_tfidf.shape)"
   ]
  },
  {
   "cell_type": "code",
   "execution_count": 26,
   "metadata": {},
   "outputs": [
    {
     "data": {
      "text/plain": [
       "['__nnp',\n",
       " '_capitol_nnp',\n",
       " 'aa_in',\n",
       " 'aaa_jj',\n",
       " 'aaa_nn',\n",
       " 'aaaaahhh_nn',\n",
       " 'aaaaand_nn',\n",
       " 'aaah_jj',\n",
       " 'aacckkk_nn',\n",
       " 'aah_jj',\n",
       " 'aahhhh_nn',\n",
       " 'aak_jj',\n",
       " 'aaron_nn',\n",
       " 'ab_in',\n",
       " 'ab_jj',\n",
       " 'aback_rb',\n",
       " 'abandon_jj',\n",
       " 'abandon_rb',\n",
       " 'abbi_nn',\n",
       " 'abbrevi_nn',\n",
       " 'aberr_jj',\n",
       " 'abid_nn',\n",
       " 'abil_in',\n",
       " 'abil_jj',\n",
       " 'abil_nn',\n",
       " 'abil_nns',\n",
       " 'abil_rb',\n",
       " 'abil_vbd',\n",
       " 'abinth_jj',\n",
       " 'abit_nn',\n",
       " 'abl_in',\n",
       " 'abl_jj',\n",
       " 'abl_nn',\n",
       " 'abl_nns',\n",
       " 'abl_rb',\n",
       " 'abl_vb',\n",
       " 'abl_vbd',\n",
       " 'abl_vbp',\n",
       " 'abl_vbz',\n",
       " 'abomin_jj',\n",
       " 'abomin_nn',\n",
       " 'abort_nn',\n",
       " 'abound_in',\n",
       " 'abound_nn',\n",
       " 'aboutthat_rb',\n",
       " 'abra_jj',\n",
       " 'abras_jj',\n",
       " 'abras_nns',\n",
       " 'abrazo_nn',\n",
       " 'abridg_rb',\n",
       " 'abroad_rb',\n",
       " 'abrubtli_nn',\n",
       " 'abrupt_jj',\n",
       " 'abrupt_vbp',\n",
       " 'abruptli_jj',\n",
       " 'abruptli_vb',\n",
       " 'abruzzo_rb',\n",
       " 'absenc_jj',\n",
       " 'absenc_nn',\n",
       " 'absent_jj',\n",
       " 'absent_nn',\n",
       " 'absinth_jj',\n",
       " 'absolit_rb',\n",
       " 'absolut_fw',\n",
       " 'absolut_in',\n",
       " 'absolut_jj',\n",
       " 'absolut_nn',\n",
       " 'absolut_nns',\n",
       " 'absolut_rb',\n",
       " 'absolut_rp',\n",
       " 'absolut_vb',\n",
       " 'absolut_vbd',\n",
       " 'absolut_vbp',\n",
       " 'absolut_vbz',\n",
       " 'absolutley_rb',\n",
       " 'absorb_jj',\n",
       " 'absoult_nn',\n",
       " 'absurd_in',\n",
       " 'absurd_jj',\n",
       " 'absurd_rb',\n",
       " 'absurdli_jj',\n",
       " 'absurdli_nn',\n",
       " 'absurdli_vbp',\n",
       " 'abt_in',\n",
       " 'abu_nn',\n",
       " 'abuela_nn',\n",
       " 'abund_in',\n",
       " 'abund_nn',\n",
       " 'abund_rp',\n",
       " 'abundantli_nn',\n",
       " 'abus_jj',\n",
       " 'abus_nn',\n",
       " 'abus_rb',\n",
       " 'abut_jj',\n",
       " 'abuzz_jj',\n",
       " 'abv_jj',\n",
       " 'abysm_nn',\n",
       " 'abysm_rb',\n",
       " 'abyss_jj',\n",
       " 'ac_in',\n",
       " 'ac_jj',\n",
       " 'ac_nn',\n",
       " 'ac_rb',\n",
       " 'accent_jj',\n",
       " 'accent_nn',\n",
       " 'accentu_jj',\n",
       " 'accentu_nn',\n",
       " 'accept_in',\n",
       " 'accept_jj',\n",
       " 'accept_nn',\n",
       " 'accept_rp',\n",
       " 'accept_vb',\n",
       " 'accept_vbd',\n",
       " 'accept_vbp',\n",
       " 'access_nn',\n",
       " 'accessori_jj',\n",
       " 'accid_jj',\n",
       " 'accid_nn',\n",
       " 'accid_nns',\n",
       " 'accid_rb',\n",
       " 'accid_vbp',\n",
       " 'accident_jj',\n",
       " 'accident_nn',\n",
       " 'acclaim_nn',\n",
       " 'accolad_in',\n",
       " 'accolad_jj',\n",
       " 'accomd_nns',\n",
       " 'accomid_in',\n",
       " 'accomid_nn',\n",
       " 'accommod_in',\n",
       " 'accommod_jj',\n",
       " 'accommod_nn',\n",
       " 'accommod_nns',\n",
       " 'accommod_rb',\n",
       " 'accommod_rp',\n",
       " 'accommod_vb',\n",
       " 'accommod_vbd',\n",
       " 'accommod_vbp',\n",
       " 'accommod_vbz',\n",
       " 'accomod_in',\n",
       " 'accomod_jj',\n",
       " 'accomod_nn',\n",
       " 'accomod_nns',\n",
       " 'accomod_rb',\n",
       " 'accomod_vb',\n",
       " 'accomod_vbd',\n",
       " 'accomod_vbp',\n",
       " 'accompani_in',\n",
       " 'accompani_jj',\n",
       " 'accompani_nn',\n",
       " 'accompani_rb',\n",
       " 'accompani_vbp',\n",
       " 'accompani_vbz',\n",
       " 'accomplish_jj',\n",
       " 'accomplish_nn',\n",
       " 'accomplish_vb',\n",
       " 'accord_nn',\n",
       " 'accord_rb',\n",
       " 'accord_vbp',\n",
       " 'accordian_jj',\n",
       " 'accordingli_in',\n",
       " 'accordingli_jj',\n",
       " 'accordingli_nn',\n",
       " 'accordingli_nns',\n",
       " 'accordingli_rb',\n",
       " 'accordingli_vbp',\n",
       " 'accordingli_vbz',\n",
       " 'accordion_nn',\n",
       " 'account_nn',\n",
       " 'account_vb',\n",
       " 'account_vbp',\n",
       " 'accouter_nn',\n",
       " 'accoutr_nn',\n",
       " 'accridit_jj',\n",
       " 'accross_in',\n",
       " 'accross_nn',\n",
       " 'accur_in',\n",
       " 'accur_jj',\n",
       " 'accur_nn',\n",
       " 'accur_vbp',\n",
       " 'accuraci_jj',\n",
       " 'accuraci_nn',\n",
       " 'accus_nn',\n",
       " 'accus_vb',\n",
       " 'accus_vbz',\n",
       " 'accustom_in',\n",
       " 'accustom_jj',\n",
       " 'accustom_nn',\n",
       " 'ace_nn',\n",
       " 'ach_nn',\n",
       " 'ach_vbp',\n",
       " 'achatz_jj',\n",
       " 'achatz_nn',\n",
       " 'achiev_jj',\n",
       " 'achiev_nn',\n",
       " 'achiev_rb',\n",
       " 'achiev_vbp',\n",
       " 'achiot_in',\n",
       " 'achiot_jj',\n",
       " 'acid_jj',\n",
       " 'acid_nn',\n",
       " 'acknowledg_in',\n",
       " 'acknowledg_jj',\n",
       " 'acknowledg_nn',\n",
       " 'acknowledg_nns',\n",
       " 'acknowledg_rb',\n",
       " 'acknowledg_vb',\n",
       " 'acknowledg_vbp',\n",
       " 'acknowledg_vbz',\n",
       " 'acknowleg_vbp',\n",
       " 'acknwledg_jj',\n",
       " 'acn_vbd',\n",
       " 'acorn_jj',\n",
       " 'acoust_jj',\n",
       " 'acoust_nn',\n",
       " 'acoust_vbp',\n",
       " 'acquaint_in',\n",
       " 'acquir_in',\n",
       " 'acquir_jj',\n",
       " 'acquir_nn',\n",
       " 'acr_in',\n",
       " 'acr_jj',\n",
       " 'acr_nn',\n",
       " 'acr_vbz',\n",
       " 'acrob_in',\n",
       " 'acrobat_jj',\n",
       " 'acrobat_nn',\n",
       " 'acrobat_rb',\n",
       " 'acrobat_vbd',\n",
       " 'acrobat_vbp',\n",
       " 'across_in',\n",
       " 'act_jj',\n",
       " 'act_nn',\n",
       " 'act_vbp',\n",
       " 'action_nn',\n",
       " 'activ_in',\n",
       " 'activ_jj',\n",
       " 'activ_nn',\n",
       " 'activ_rb',\n",
       " 'actor_nn',\n",
       " 'actress_nn',\n",
       " 'actual_jj',\n",
       " 'acupulco_nn',\n",
       " 'acur_nn',\n",
       " 'acura_jj',\n",
       " 'acura_nn',\n",
       " 'acura_vb',\n",
       " 'acut_nn',\n",
       " 'acut_rb',\n",
       " 'acut_vbd',\n",
       " 'ad_nn',\n",
       " 'ada_jj',\n",
       " 'ada_nn',\n",
       " 'ada_vbp',\n",
       " 'adag_nn',\n",
       " 'adam_jj',\n",
       " 'adam_nn',\n",
       " 'adam_vbp',\n",
       " 'adapt_nn',\n",
       " 'adapt_rb',\n",
       " 'adass_nn',\n",
       " 'add_in',\n",
       " 'add_jj',\n",
       " 'add_nn',\n",
       " 'add_nns',\n",
       " 'add_rb',\n",
       " 'add_vb',\n",
       " 'add_vbn',\n",
       " 'add_vbp',\n",
       " 'add_vbz',\n",
       " 'addict_in',\n",
       " 'addict_jj',\n",
       " 'addict_nn',\n",
       " 'addict_nns',\n",
       " 'addict_vbp',\n",
       " 'addison_nn',\n",
       " 'addit_in',\n",
       " 'addit_jj',\n",
       " 'addit_nn',\n",
       " 'addit_rb',\n",
       " 'addit_rp',\n",
       " 'addit_vbp',\n",
       " 'addit_vbz',\n",
       " 'additud_nn',\n",
       " 'address_jj',\n",
       " 'address_nn',\n",
       " 'address_vb',\n",
       " 'address_vbp',\n",
       " 'addtit_nn',\n",
       " 'adductor_nn',\n",
       " 'adel_nn',\n",
       " 'adendum_nn',\n",
       " 'adequ_in',\n",
       " 'adequ_jj',\n",
       " 'adequ_nn',\n",
       " 'adequ_rb',\n",
       " 'adequ_vbz',\n",
       " 'adher_nn',\n",
       " 'adher_rb',\n",
       " 'adio_nn',\n",
       " 'adjac_in',\n",
       " 'adjac_jj',\n",
       " 'adjac_nn',\n",
       " 'adjac_nns',\n",
       " 'adjac_rb',\n",
       " 'adjac_rp',\n",
       " 'adjac_vbz',\n",
       " 'adject_jj',\n",
       " 'adject_nn',\n",
       " 'adject_vbp',\n",
       " 'adjoin_jj',\n",
       " 'adjoin_nn',\n",
       " 'adjoin_vbp',\n",
       " 'adjust_jj',\n",
       " 'adjust_nn',\n",
       " 'adjust_vb',\n",
       " 'adjust_vbp',\n",
       " 'adler_in',\n",
       " 'adler_nn',\n",
       " 'administ_nn',\n",
       " 'admir_in',\n",
       " 'admir_jj',\n",
       " 'admir_nn',\n",
       " 'admiss_jj',\n",
       " 'admiss_nn',\n",
       " 'admit_in',\n",
       " 'admit_jj',\n",
       " 'admit_nn',\n",
       " 'admit_rb',\n",
       " 'admit_vb',\n",
       " 'admit_vbp',\n",
       " 'admittedli_in',\n",
       " 'admittedli_jj',\n",
       " 'admittedli_nn',\n",
       " 'admittedli_rb',\n",
       " 'admittingli_jj',\n",
       " 'adobo_jj',\n",
       " 'adobo_nn',\n",
       " 'adobo_vbp',\n",
       " 'adolfo_nn',\n",
       " 'adopt_jj',\n",
       " 'ador_jj',\n",
       " 'ador_nn',\n",
       " 'ador_vbp',\n",
       " 'ador_vbz',\n",
       " 'adorn_in',\n",
       " 'adorn_jj',\n",
       " 'adorn_nn',\n",
       " 'adorn_vbp',\n",
       " 'adorn_vbz',\n",
       " 'adrian_jj',\n",
       " 'adriano_jj',\n",
       " 'adriano_nn',\n",
       " 'adriano_vbd',\n",
       " 'adriat_jj',\n",
       " 'adult_jj',\n",
       " 'adult_nn',\n",
       " 'adulthood_jj',\n",
       " 'advanc_in',\n",
       " 'advanc_jj',\n",
       " 'advanc_nn',\n",
       " 'advanc_nns',\n",
       " 'advanc_rb',\n",
       " 'advanc_rp',\n",
       " 'advanc_vb',\n",
       " 'advanc_vbd',\n",
       " 'advanc_vbn',\n",
       " 'advanc_vbp',\n",
       " 'advanc_vbz',\n",
       " 'advantag_jj',\n",
       " 'advantag_nn',\n",
       " 'advantag_nns',\n",
       " 'advantag_rb',\n",
       " 'advantag_rp',\n",
       " 'adventorourr_jj',\n",
       " 'adventur_in',\n",
       " 'adventur_jj',\n",
       " 'adventur_nn',\n",
       " 'adventur_nns',\n",
       " 'adventur_rb',\n",
       " 'adventur_vb',\n",
       " 'adventur_vbd',\n",
       " 'adventur_vbp',\n",
       " 'adventuresom_jj',\n",
       " 'advers_nns',\n",
       " 'advertencia_nn',\n",
       " 'advertis_in',\n",
       " 'advertis_jj',\n",
       " 'advertis_nn',\n",
       " 'advertis_nns',\n",
       " 'advertis_vbp',\n",
       " 'advic_in',\n",
       " 'advic_jj',\n",
       " 'advic_nn',\n",
       " 'advic_nns',\n",
       " 'advic_vb',\n",
       " 'advic_vbz',\n",
       " 'advil_jj',\n",
       " 'advis_jj',\n",
       " 'advis_nn',\n",
       " 'advis_rb',\n",
       " 'advis_vb',\n",
       " 'advis_vbp',\n",
       " 'advisor_nn',\n",
       " 'advisori_jj',\n",
       " 'advisori_vbp',\n",
       " 'advoc_vbp',\n",
       " 'aerial_jj',\n",
       " 'aerob_nn',\n",
       " 'aeron_nn',\n",
       " 'aeronsunda_nn',\n",
       " 'aesthet_in',\n",
       " 'aesthet_jj',\n",
       " 'aesthet_nn',\n",
       " 'aesthet_rb',\n",
       " 'aethetit_rb',\n",
       " 'af_jj',\n",
       " 'afer_vbp',\n",
       " 'affabl_nn',\n",
       " 'affair_jj',\n",
       " 'affair_nn',\n",
       " 'affect_jj',\n",
       " 'affect_nn',\n",
       " 'affect_vb',\n",
       " 'affect_vbp',\n",
       " 'affili_nn',\n",
       " 'affin_nn',\n",
       " 'affix_nn',\n",
       " 'affogata_nns',\n",
       " 'afford_jj',\n",
       " 'afford_nn',\n",
       " 'afford_vb',\n",
       " 'afford_vbp',\n",
       " 'afford_vbz',\n",
       " 'aficionado_nn',\n",
       " 'aficionado_rb',\n",
       " 'aflam_jj',\n",
       " 'aforement_jj',\n",
       " 'aforement_nn',\n",
       " 'afraid_jj',\n",
       " 'afraid_nn',\n",
       " 'africa_nn',\n",
       " 'african_jj',\n",
       " 'afrika_jj',\n",
       " 'afteral_jj',\n",
       " 'afternoon_nn',\n",
       " 'aftertast_in',\n",
       " 'aftertast_nn',\n",
       " 'aftertast_rb',\n",
       " 'afterthought_vbd',\n",
       " 'afterward_in',\n",
       " 'afterward_nn',\n",
       " 'afterward_rb',\n",
       " 'afterword_nn',\n",
       " 'agan_jj',\n",
       " 'agava_nn',\n",
       " 'age_nn',\n",
       " 'agenc_nn',\n",
       " 'agenda_rb',\n",
       " 'agent_nn',\n",
       " 'aggrav_jj',\n",
       " 'aggrav_nn',\n",
       " 'aggrav_nns',\n",
       " 'aggres_vbz',\n",
       " 'aggress_jj',\n",
       " 'aggress_nn',\n",
       " 'aggress_rb',\n",
       " 'aglass_nn',\n",
       " 'agnelotti_nn',\n",
       " 'agnollotti_nns',\n",
       " 'agnolotti_jj',\n",
       " 'agnolotti_nns',\n",
       " 'agnolotti_rb',\n",
       " 'agnolotti_vbp',\n",
       " 'ago_in',\n",
       " 'ago_rb',\n",
       " 'agre_in',\n",
       " 'agre_jj',\n",
       " 'agre_nn',\n",
       " 'agre_nns',\n",
       " 'agre_rb',\n",
       " 'agre_rp',\n",
       " 'agre_vb',\n",
       " 'agre_vbd',\n",
       " 'agre_vbp',\n",
       " 'agre_vbz',\n",
       " 'agreeabl_rb',\n",
       " 'agreement_nn',\n",
       " 'agress_jj',\n",
       " 'agripolitan_nn',\n",
       " 'agrodolc_nn',\n",
       " 'agua_jj',\n",
       " 'agua_nn',\n",
       " 'aguac_fw',\n",
       " 'aguirr_jj',\n",
       " 'ah_in',\n",
       " 'ah_jj',\n",
       " 'ah_nn',\n",
       " 'ah_rb',\n",
       " 'ah_vbp',\n",
       " 'ahead_rb',\n",
       " 'ahem_jj',\n",
       " 'ahem_nn',\n",
       " 'ahem_nns',\n",
       " 'ahh_jj',\n",
       " 'ahh_nn',\n",
       " 'ahh_rb',\n",
       " 'ahhh_jj',\n",
       " 'ahhh_nn',\n",
       " 'ahhhh_nn',\n",
       " 'ahhhhh_nn',\n",
       " 'ahi_in',\n",
       " 'ahi_jj',\n",
       " 'ahi_nn',\n",
       " 'ahi_nns',\n",
       " 'ahi_vbz',\n",
       " 'ahnold_nn',\n",
       " 'ahogada_in',\n",
       " 'ahogada_jj',\n",
       " 'ahogada_nn',\n",
       " 'ahogada_nns',\n",
       " 'ahogado_jj',\n",
       " 'ahogado_rb',\n",
       " 'ai_vbp',\n",
       " 'aid_nn',\n",
       " 'aight_rb',\n",
       " 'aight_vbd',\n",
       " 'aigr_nn',\n",
       " 'aillad_jj',\n",
       " 'ailment_nn',\n",
       " 'ailoi_nn',\n",
       " 'ailoli_nns',\n",
       " 'aim_nn',\n",
       " 'aimlessli_nn',\n",
       " 'aint_nn',\n",
       " 'aioli_in',\n",
       " 'aioli_jj',\n",
       " 'aioli_nn',\n",
       " 'aioli_nns',\n",
       " 'aioli_rb',\n",
       " 'aioli_vbp',\n",
       " 'aioli_vbz',\n",
       " 'air_in',\n",
       " 'air_jj',\n",
       " 'air_nn',\n",
       " 'air_rp',\n",
       " 'air_vb',\n",
       " 'airfar_nns',\n",
       " 'airi_jj',\n",
       " 'airi_nn',\n",
       " 'airi_nns',\n",
       " 'airi_rb',\n",
       " 'airlin_in',\n",
       " 'airlin_jj',\n",
       " 'airlin_nn',\n",
       " 'airlin_rb',\n",
       " 'airplan_nn',\n",
       " 'airport_nn',\n",
       " 'airport_rb',\n",
       " 'airway_nn',\n",
       " 'airway_rp',\n",
       " 'aisl_jj',\n",
       " 'aisl_nn',\n",
       " 'aja_in',\n",
       " 'aja_jj',\n",
       " 'aja_nn',\n",
       " 'aja_rb',\n",
       " 'ajar_jj',\n",
       " 'aji_nn',\n",
       " 'ajillo_in',\n",
       " 'ajillo_nn',\n",
       " 'ajo_fw',\n",
       " 'ajumma_nn',\n",
       " 'ak_nn',\n",
       " 'aka_in',\n",
       " 'aka_nn',\n",
       " 'aka_vbp',\n",
       " 'aka_vbz',\n",
       " 'akin_in',\n",
       " 'akin_jj',\n",
       " 'akin_rb',\n",
       " 'akind_in',\n",
       " 'akward_rb',\n",
       " 'al_in',\n",
       " 'al_jj',\n",
       " 'al_nn',\n",
       " 'al_rb',\n",
       " 'al_vbp',\n",
       " 'ala_in',\n",
       " 'ala_jj',\n",
       " 'ala_nn',\n",
       " 'ala_rb',\n",
       " 'alabama_vbz',\n",
       " 'alacardchicago_in',\n",
       " 'alacart_nn',\n",
       " 'alarm_nn',\n",
       " 'alarm_vbp',\n",
       " 'alaska_jj',\n",
       " 'alaska_nn',\n",
       " 'alaskan_jj',\n",
       " 'alaskan_nn',\n",
       " 'albacor_in',\n",
       " 'albacor_nn',\n",
       " 'albani_vbz',\n",
       " 'albeit_in',\n",
       " 'albeit_nn',\n",
       " 'albeit_rb',\n",
       " 'albert_jj',\n",
       " 'albert_nn',\n",
       " 'alberto_jj',\n",
       " 'alberto_nn',\n",
       " 'alberto_vbp',\n",
       " 'album_nn',\n",
       " 'alchol_jj',\n",
       " 'alcohol_in',\n",
       " 'alcohol_jj',\n",
       " 'alcohol_nn',\n",
       " 'alcohol_rb',\n",
       " 'alcohol_rp',\n",
       " 'alcohol_vb',\n",
       " 'alcohol_vbp',\n",
       " 'alcoholi_in',\n",
       " 'alcov_jj',\n",
       " 'ale_jj',\n",
       " 'ale_nn',\n",
       " 'ale_rb',\n",
       " 'ale_vbp',\n",
       " 'alec_in',\n",
       " 'alert_jj',\n",
       " 'alert_nn',\n",
       " 'alert_vb',\n",
       " 'alert_vbp',\n",
       " 'alex_jj',\n",
       " 'alexa_nn',\n",
       " 'alexandria_nns',\n",
       " 'alfredo_jj',\n",
       " 'alfredo_nn',\n",
       " 'algerian_jj',\n",
       " 'alguna_nn',\n",
       " 'alibaba_jj',\n",
       " 'alic_jj',\n",
       " 'alic_nn',\n",
       " 'alicha_nn',\n",
       " 'alici_nn',\n",
       " 'alien_jj',\n",
       " 'aliianc_nn',\n",
       " 'aliianc_rb',\n",
       " 'alik_nn',\n",
       " 'alik_rb',\n",
       " 'alimentación_fw',\n",
       " 'alinea_in',\n",
       " 'alinea_jj',\n",
       " 'alinea_nn',\n",
       " 'alinea_rb',\n",
       " 'alinea_rp',\n",
       " 'alinea_vb',\n",
       " 'alinea_vbd',\n",
       " 'alinea_vbp',\n",
       " 'alison_nn',\n",
       " 'alittl_nn',\n",
       " 'alittl_rb',\n",
       " 'aliv_in',\n",
       " 'aliv_jj',\n",
       " 'aliv_nn',\n",
       " 'aliv_nns',\n",
       " 'aliv_vbp',\n",
       " 'aliv_vbz',\n",
       " 'all_dt',\n",
       " 'alla_nn',\n",
       " 'allagash_in',\n",
       " 'allagash_jj',\n",
       " 'allegedli_nn',\n",
       " 'allegedli_vbp',\n",
       " 'allegi_nn',\n",
       " 'allegro_cc',\n",
       " 'allegro_in',\n",
       " 'allegro_jj',\n",
       " 'allegro_nn',\n",
       " 'allegro_nns',\n",
       " 'allegro_rb',\n",
       " 'alleluiiiaaaaa_vb',\n",
       " 'allend_fw',\n",
       " 'allerg_in',\n",
       " 'allerg_jj',\n",
       " 'allerg_nn',\n",
       " 'allerg_rb',\n",
       " 'allerg_vbp',\n",
       " 'allerg_vbz',\n",
       " 'allergi_jj',\n",
       " 'allergi_nn',\n",
       " 'allergi_rb',\n",
       " 'allergi_vbp',\n",
       " 'allergro_in',\n",
       " 'allergyeat_nn',\n",
       " 'allerton_in',\n",
       " 'allerton_jj',\n",
       " 'allerton_nn',\n",
       " 'allerton_rb',\n",
       " 'allerton_rp',\n",
       " 'allerton_vb',\n",
       " 'allerton_vbz',\n",
       " 'allevi_vb',\n",
       " 'alley_jj',\n",
       " 'alley_nn',\n",
       " 'alley_vbp',\n",
       " 'alleyway_nn',\n",
       " 'allianc_in',\n",
       " 'allianc_jj',\n",
       " 'allianc_nn',\n",
       " 'allianc_rb',\n",
       " 'allianc_rp',\n",
       " 'allianc_vbp',\n",
       " 'allig_in',\n",
       " 'allig_nn',\n",
       " 'allig_rb',\n",
       " 'allium_nn',\n",
       " 'allk_nn',\n",
       " 'alll_jj',\n",
       " 'allo_rb',\n",
       " 'allo_vbp',\n",
       " 'allot_jj',\n",
       " 'allot_nn',\n",
       " 'allot_vbd',\n",
       " 'allow_in',\n",
       " 'allow_jj',\n",
       " 'allow_nn',\n",
       " 'allow_vb',\n",
       " 'allow_vbp',\n",
       " 'allspic_nn',\n",
       " 'allud_rb',\n",
       " 'allur_jj',\n",
       " 'allá_nn',\n",
       " 'alma_vbp',\n",
       " 'almond_jj',\n",
       " 'almond_nn',\n",
       " 'almond_rb',\n",
       " 'almondin_vbp',\n",
       " 'almost_rb',\n",
       " 'alo_nn',\n",
       " 'aloft_rb',\n",
       " 'alon_in',\n",
       " 'alon_jj',\n",
       " 'alon_nn',\n",
       " 'alon_rb',\n",
       " 'alon_rp',\n",
       " 'alon_vb',\n",
       " 'alon_vbp',\n",
       " 'alon_vbz',\n",
       " 'along_in',\n",
       " 'along_jj',\n",
       " 'along_rb',\n",
       " 'along_rp',\n",
       " 'along_vb',\n",
       " 'alongsid_jj',\n",
       " 'alongsid_nn',\n",
       " 'alongsid_rb',\n",
       " 'alongsid_vbp',\n",
       " 'aloo_jj',\n",
       " 'aloof_jj',\n",
       " 'aloof_nn',\n",
       " 'alot_jj',\n",
       " 'alot_nn',\n",
       " 'alot_rb',\n",
       " 'aloud_in',\n",
       " 'alpha_jj',\n",
       " 'alpha_nn',\n",
       " 'alreadi_in',\n",
       " 'alreadi_jj',\n",
       " 'alreadi_nn',\n",
       " 'alreadi_nns',\n",
       " 'alreadi_rb',\n",
       " 'alreadi_rp',\n",
       " 'alreadi_vb',\n",
       " 'alreadi_vbd',\n",
       " 'alreadi_vbp',\n",
       " 'alreadi_vbz',\n",
       " 'alright_jj',\n",
       " 'alright_nn',\n",
       " 'alright_rb',\n",
       " 'alright_vb',\n",
       " 'alright_vbd',\n",
       " 'alright_vbn',\n",
       " 'alrighti_jj',\n",
       " 'alrighti_nn',\n",
       " 'alsacienn_jj',\n",
       " 'also_rb',\n",
       " 'alter_nn',\n",
       " 'alterc_rb',\n",
       " 'altern_jj',\n",
       " 'altern_nn',\n",
       " 'altho_nn',\n",
       " 'although_in',\n",
       " 'altitud_jj',\n",
       " 'altogeth_jj',\n",
       " 'altogeth_nn',\n",
       " 'altogeth_rb',\n",
       " 'altogeth_rp',\n",
       " 'altogeth_vbz',\n",
       " 'alton_nn',\n",
       " 'altough_in',\n",
       " 'aluminum_nn',\n",
       " 'alumni_jj',\n",
       " 'alumni_nns',\n",
       " 'alwasi_jj',\n",
       " 'alwasi_nn',\n",
       " 'alway_in',\n",
       " 'alway_jj',\n",
       " 'alway_nn',\n",
       " 'alway_rb',\n",
       " 'alway_rp',\n",
       " 'alway_vb',\n",
       " 'alway_vbd',\n",
       " 'alway_vbp',\n",
       " 'alzheim_vbz',\n",
       " 'amaaaaaaz_rb',\n",
       " 'amaaaaaz_jj',\n",
       " 'amaaaaz_jj',\n",
       " 'amaaaazzzz_vbz',\n",
       " 'amaaaz_nn',\n",
       " 'amalfi_in',\n",
       " 'amalfi_jj',\n",
       " 'amalfi_nn',\n",
       " 'amalfi_rb',\n",
       " 'amalfi_vbz',\n",
       " 'amalfitini_in',\n",
       " 'amalgam_nn',\n",
       " 'amalgam_rb',\n",
       " 'amanda_nn',\n",
       " 'amaretto_jj',\n",
       " 'amarillo_nn',\n",
       " 'amateur_in',\n",
       " 'amateur_jj',\n",
       " 'amateurish_nn',\n",
       " 'amatriciana_nns',\n",
       " 'amaz_fw',\n",
       " 'amaz_in',\n",
       " 'amaz_jj',\n",
       " 'amaz_nn',\n",
       " 'amaz_nns',\n",
       " 'amaz_rb',\n",
       " 'amaz_rp',\n",
       " 'amaz_vb',\n",
       " 'amaz_vbd',\n",
       " 'amaz_vbn',\n",
       " 'amaz_vbp',\n",
       " 'amaz_vbz',\n",
       " 'amazbal_jj',\n",
       " 'amazebal_jj',\n",
       " 'amazing_vbg',\n",
       " 'amazinggg_nn',\n",
       " 'amazinggggggggg_nn',\n",
       " 'amazingli_in',\n",
       " 'amazingli_jj',\n",
       " 'amazingli_nn',\n",
       " 'amazingli_nns',\n",
       " 'amazingli_rb',\n",
       " 'amazingli_vbd',\n",
       " 'amazingli_vbp',\n",
       " 'amazingli_vbz',\n",
       " 'amb_jj',\n",
       " 'amb_vbp',\n",
       " 'ambasha_nn',\n",
       " 'ambassador_in',\n",
       " 'ambassador_jj',\n",
       " 'ambassador_nn',\n",
       " 'ambassador_rp',\n",
       " 'amber_jj',\n",
       " 'amber_nn',\n",
       " 'amber_vb',\n",
       " 'ambianc_fw',\n",
       " 'ambianc_in',\n",
       " 'ambianc_jj',\n",
       " 'ambianc_nn',\n",
       " 'ambianc_nns',\n",
       " 'ambianc_rb',\n",
       " 'ambianc_vb',\n",
       " 'ambianc_vbp',\n",
       " 'ambianc_vbz',\n",
       " 'ambidextr_nns',\n",
       " 'ambieanc_nn',\n",
       " 'ambienc_in',\n",
       " 'ambienc_jj',\n",
       " 'ambienc_nn',\n",
       " 'ambienc_nns',\n",
       " 'ambienc_rb',\n",
       " 'ambienc_vb',\n",
       " 'ambienc_vbz',\n",
       " 'ambient_jj',\n",
       " 'ambient_nn',\n",
       " 'ambiti_nn',\n",
       " 'ambiti_vbp',\n",
       " 'ambival_jj',\n",
       " 'ambival_nn',\n",
       " 'ambival_vb',\n",
       " 'ambrois_jj',\n",
       " 'ambrosia_nn',\n",
       " 'ambul_jj',\n",
       " 'ambul_nn',\n",
       " 'amc_jj',\n",
       " 'amc_nn',\n",
       " 'ame_nn',\n",
       " 'amelior_jj',\n",
       " 'amen_in',\n",
       " 'amen_jj',\n",
       " 'amen_nns',\n",
       " 'amenitit_jj',\n",
       " 'ament_jj',\n",
       " 'america_in',\n",
       " 'america_jj',\n",
       " 'america_nn',\n",
       " 'america_rb',\n",
       " 'america_vbp',\n",
       " 'american_jj',\n",
       " 'americana_nn',\n",
       " 'americana_nns',\n",
       " 'americano_nn',\n",
       " 'amex_nn',\n",
       " 'ami_jj',\n",
       " 'ami_nn',\n",
       " 'ami_rb',\n",
       " 'amiabl_nns',\n",
       " 'amibi_nn',\n",
       " 'amic_jj',\n",
       " 'amid_in',\n",
       " 'amidst_jj',\n",
       " 'amidst_nn',\n",
       " 'amidst_rb',\n",
       " 'amigo_rb',\n",
       " 'amigo_vbz',\n",
       " 'amish_jj',\n",
       " 'amiss_jj',\n",
       " 'amnesia_nn',\n",
       " 'amnot_nn',\n",
       " 'amoneysymbmoneysymb_rb',\n",
       " 'amoneysymbmoneysymbhol_nn',\n",
       " 'among_in',\n",
       " 'amongst_in',\n",
       " 'amongst_jj',\n",
       " 'amongst_nn',\n",
       " 'amongst_rb',\n",
       " 'amongst_vbp',\n",
       " 'amor_jj',\n",
       " 'amorph_nn',\n",
       " 'amoung_nn',\n",
       " 'amount_nn',\n",
       " 'amount_vb',\n",
       " 'amour_nns',\n",
       " 'amp_in',\n",
       " 'amp_nn',\n",
       " 'amp_vbp',\n",
       " 'ampl_in',\n",
       " 'ampl_jj',\n",
       " 'ampl_nn',\n",
       " 'ampl_rb',\n",
       " 'ampl_vbp',\n",
       " 'amplifi_jj',\n",
       " 'amplifi_rb',\n",
       " 'amsterdam_nn',\n",
       " 'amt_nn',\n",
       " 'amtrak_nn',\n",
       " 'amtyp_nn',\n",
       " 'amus_in',\n",
       " 'amus_jj',\n",
       " 'amus_nn',\n",
       " 'amus_nns',\n",
       " 'amus_rb',\n",
       " 'amus_vbp',\n",
       " 'amus_vbz',\n",
       " 'amz_nn',\n",
       " 'ana_nn',\n",
       " 'anal_jj',\n",
       " 'analog_nn',\n",
       " 'analysi_nn',\n",
       " 'analyst_nn',\n",
       " 'anarchi_nns',\n",
       " 'anatomi_nn',\n",
       " 'ancestor_nn',\n",
       " 'ancho_nn',\n",
       " 'anchor_nn',\n",
       " 'anchovi_in',\n",
       " 'anchovi_jj',\n",
       " 'anchovi_nn',\n",
       " 'anchovi_rb',\n",
       " 'and_cc',\n",
       " 'anda_in',\n",
       " 'andalucia_nn',\n",
       " 'andbett_nn',\n",
       " 'anderson_nn',\n",
       " 'andersonvil_jj',\n",
       " 'andersonvil_nn',\n",
       " 'andersonvil_nns',\n",
       " 'andersonvil_rb',\n",
       " 'andersonvil_vbz',\n",
       " 'andfeel_nns',\n",
       " 'andi_in',\n",
       " 'andi_jj',\n",
       " 'andi_nn',\n",
       " 'andnumb_jj',\n",
       " 'andouil_jj',\n",
       " 'andouil_nn',\n",
       " ...]"
      ]
     },
     "execution_count": 26,
     "metadata": {},
     "output_type": "execute_result"
    }
   ],
   "source": [
    "tfidf.get_feature_names()"
   ]
  },
  {
   "cell_type": "code",
   "execution_count": 27,
   "metadata": {},
   "outputs": [],
   "source": [
    "import time"
   ]
  },
  {
   "cell_type": "code",
   "execution_count": 28,
   "metadata": {},
   "outputs": [
    {
     "name": "stdout",
     "output_type": "stream",
     "text": [
      "--- 3.967608690261841 seconds ---\n"
     ]
    }
   ],
   "source": [
    "import time\n",
    "start_time = time.time()\n",
    "\n",
    "# create cosine similarity by tf-idf vector\n",
    "CS_similarity_pos =cosine_similarity(pos_tfidf)\n",
    "\n",
    "print(\"--- %s seconds ---\" % (time.time() - start_time))"
   ]
  },
  {
   "cell_type": "code",
   "execution_count": 29,
   "metadata": {},
   "outputs": [
    {
     "data": {
      "text/plain": [
       "array([[1.        , 0.        , 0.04700922, ..., 0.04074961, 0.03586119,\n",
       "        0.03173109],\n",
       "       [0.        , 1.        , 0.04398393, ..., 0.03884415, 0.        ,\n",
       "        0.02749997],\n",
       "       [0.04700922, 0.04398393, 1.        , ..., 0.01347333, 0.01993384,\n",
       "        0.00682551],\n",
       "       ...,\n",
       "       [0.04074961, 0.03884415, 0.01347333, ..., 1.        , 0.03281716,\n",
       "        0.04422862],\n",
       "       [0.03586119, 0.        , 0.01993384, ..., 0.03281716, 1.        ,\n",
       "        0.00998219],\n",
       "       [0.03173109, 0.02749997, 0.00682551, ..., 0.04422862, 0.00998219,\n",
       "        1.        ]])"
      ]
     },
     "execution_count": 29,
     "metadata": {},
     "output_type": "execute_result"
    }
   ],
   "source": [
    "# get the feature b\n",
    "CS_similarity_pos"
   ]
  },
  {
   "cell_type": "code",
   "execution_count": 30,
   "metadata": {
    "scrolled": false
   },
   "outputs": [
    {
     "data": {
      "text/plain": [
       "array([[1.        , 0.        , 0.04700922, ..., 0.04074961, 0.03586119,\n",
       "        0.03173109],\n",
       "       [0.        , 1.        , 0.04398393, ..., 0.03884415, 0.        ,\n",
       "        0.02749997],\n",
       "       [0.04700922, 0.04398393, 1.        , ..., 0.01347333, 0.01993384,\n",
       "        0.00682551],\n",
       "       ...,\n",
       "       [0.04074961, 0.03884415, 0.01347333, ..., 1.        , 0.03281716,\n",
       "        0.04422862],\n",
       "       [0.03586119, 0.        , 0.01993384, ..., 0.03281716, 1.        ,\n",
       "        0.00998219],\n",
       "       [0.03173109, 0.02749997, 0.00682551, ..., 0.04422862, 0.00998219,\n",
       "        1.        ]])"
      ]
     },
     "execution_count": 30,
     "metadata": {},
     "output_type": "execute_result"
    }
   ],
   "source": [
    "CS_similarity_pos"
   ]
  },
  {
   "cell_type": "code",
   "execution_count": 31,
   "metadata": {},
   "outputs": [],
   "source": [
    "import pickle\n",
    "# #save variable\n",
    "with open('CS_similarity_pos', 'wb') as f:\n",
    "    pickle.dump(CS_similarity_pos, f)\n",
    "\n",
    "with open('CS_similarity_bigram', 'wb') as f:\n",
    "    pickle.dump(CS_similarity_bigram, f)\n",
    "\n",
    "    \n",
    "    \n",
    "#load variable\n",
    "#with open(filename, ‘rb’) as f:\n",
    "    #var_you_want_to_load_into = pickle.load(f)"
   ]
  },
  {
   "cell_type": "code",
   "execution_count": 32,
   "metadata": {},
   "outputs": [],
   "source": [
    "# cs_matrix = CS_similarity_pos\n",
    "\n",
    "# for i in range(0, cs_matrix.shape[0]):\n",
    "#     cs_matrix[i,i] =0"
   ]
  },
  {
   "cell_type": "code",
   "execution_count": 33,
   "metadata": {},
   "outputs": [],
   "source": [
    "#cs_matrix"
   ]
  },
  {
   "cell_type": "markdown",
   "metadata": {},
   "source": [
    "## 4.4 Sentiment analysis\n"
   ]
  },
  {
   "cell_type": "code",
   "execution_count": 34,
   "metadata": {},
   "outputs": [],
   "source": [
    "from textblob import TextBlob \n",
    "from textblob.sentiments import NaiveBayesAnalyzer\n",
    "\n",
    "#Example how to get sentiment score of a text\n",
    "#rv_sentiment = TextBlob(\"Came in on the early afternoon on Sunday. The food was tasty and priced well.\",analyzer=NaiveBayesAnalyzer()).sentiment\n"
   ]
  },
  {
   "cell_type": "markdown",
   "metadata": {},
   "source": [
    "### ** Note **\n",
    "Because NaiveBayesAnalyzer() take too long to analyze the sentiment of whole dataset. I had tested and it take me more than 4hours. So, I choose move forward with pattern analyzer"
   ]
  },
  {
   "cell_type": "code",
   "execution_count": 35,
   "metadata": {
    "scrolled": true
   },
   "outputs": [
    {
     "name": "stderr",
     "output_type": "stream",
     "text": [
      "/opt/conda/lib/python3.6/site-packages/ipykernel_launcher.py:4: SettingWithCopyWarning: \n",
      "A value is trying to be set on a copy of a slice from a DataFrame.\n",
      "Try using .loc[row_indexer,col_indexer] = value instead\n",
      "\n",
      "See the caveats in the documentation: http://pandas.pydata.org/pandas-docs/stable/indexing.html#indexing-view-versus-copy\n",
      "  after removing the cwd from sys.path.\n",
      "/opt/conda/lib/python3.6/site-packages/ipykernel_launcher.py:5: SettingWithCopyWarning: \n",
      "A value is trying to be set on a copy of a slice from a DataFrame.\n",
      "Try using .loc[row_indexer,col_indexer] = value instead\n",
      "\n",
      "See the caveats in the documentation: http://pandas.pydata.org/pandas-docs/stable/indexing.html#indexing-view-versus-copy\n",
      "  \"\"\"\n"
     ]
    }
   ],
   "source": [
    "# Polarity and subjectivity\n",
    "pol = lambda x: TextBlob(x).sentiment.polarity\n",
    "sub = lambda x: TextBlob(x).sentiment.subjectivity\n",
    "behavior_attr['polarity'] = processed.apply(pol)\n",
    "behavior_attr['subjective'] = processed.apply(sub)\n",
    "\n",
    "#reve_pos = []\n",
    "#reve_pos += [TextBlob(x, analyzer= NaiveBayesAnalyzer()).sentiment.p_pos  for x in processed]"
   ]
  },
  {
   "cell_type": "code",
   "execution_count": 36,
   "metadata": {},
   "outputs": [],
   "source": [
    "#behavior_attr.to_csv('behavior_attr.csv')"
   ]
  },
  {
   "cell_type": "code",
   "execution_count": 37,
   "metadata": {
    "scrolled": true
   },
   "outputs": [],
   "source": [
    "# Let's plot the results\n",
    "# import matplotlib.pyplot as plt\n",
    "\n",
    "# plt.rcParams['figure.figsize'] = [10, 8]\n",
    "\n",
    "# x = polarity\n",
    "# y = subjective\n",
    "# plt.scatter(x, y, color='blue')\n",
    "# #plt.text(x+.001, y+.001, data['full_name'][index], fontsize=10)\n",
    "# plt.xlim(-.01, .12) \n",
    "    \n",
    "# plt.title('Sentiment Analysis', fontsize=20)\n",
    "# plt.xlabel('<-- Negative -------- Positive -->', fontsize=15)\n",
    "# plt.ylabel('<-- Facts -------- Opinions -->', fontsize=15)\n",
    "\n",
    "# plt.show()"
   ]
  },
  {
   "cell_type": "markdown",
   "metadata": {},
   "source": [
    "### Behavior feature\n",
    "- behavior_attr: behavioral attributes\n",
    "### text_feature\n",
    "- processed: text content\n",
    "- polarity: polarity of review\n",
    "- CS_similarity_pos: consine similarity generated from POS\n",
    "- CS_similarity_bigram: cosine similarity generated from bi-gram"
   ]
  },
  {
   "cell_type": "markdown",
   "metadata": {},
   "source": [
    "# 5 Clusstering"
   ]
  },
  {
   "cell_type": "code",
   "execution_count": 38,
   "metadata": {},
   "outputs": [],
   "source": [
    "# from nltk import cluster\n",
    "# # dimensionality reduction\n",
    "# distance = cluster.euclidean_distance\n",
    "# clusterer = cluster.KMeansClusterer(10,distance)\n",
    "\n",
    "# clusterers  = clusterer.cluster(CS_similarity_pos)\n"
   ]
  },
  {
   "cell_type": "code",
   "execution_count": 39,
   "metadata": {},
   "outputs": [],
   "source": [
    "# means = clusterer.means()"
   ]
  },
  {
   "cell_type": "code",
   "execution_count": 40,
   "metadata": {},
   "outputs": [],
   "source": [
    "# clusterer = cluster.EMClusterer(means)\n",
    "# clusters = clusterer.cluster(CS_similarity_pos, True)"
   ]
  },
  {
   "cell_type": "code",
   "execution_count": 41,
   "metadata": {},
   "outputs": [],
   "source": [
    "# cluter_pos =clusterer.classify(CS_similarity_pos) "
   ]
  },
  {
   "cell_type": "markdown",
   "metadata": {},
   "source": [
    "## 5.1 Clustering with PoS cosine similarity"
   ]
  },
  {
   "cell_type": "code",
   "execution_count": 42,
   "metadata": {
    "scrolled": false
   },
   "outputs": [],
   "source": [
    "from sklearn.mixture import GaussianMixture\n",
    "\n",
    "def em_clustering(X, k ):\n",
    "    \n",
    "    gmm = GaussianMixture(n_components=k, random_state= 138)\n",
    "    gmm.fit(X)\n",
    "    return gmm\n",
    "\n"
   ]
  },
  {
   "cell_type": "code",
   "execution_count": 43,
   "metadata": {},
   "outputs": [
    {
     "name": "stdout",
     "output_type": "stream",
     "text": [
      "--- 456.823525428772 seconds ---\n"
     ]
    }
   ],
   "source": [
    "# em Clustering\n",
    "start_time = time.time()\n",
    "k= 4\n",
    "gmm = em_clustering(CS_similarity_pos,k)\n",
    "\n",
    "\n",
    "print(\"--- %s seconds ---\" % (time.time() - start_time))"
   ]
  },
  {
   "cell_type": "code",
   "execution_count": 44,
   "metadata": {},
   "outputs": [
    {
     "data": {
      "text/plain": [
       "0"
      ]
     },
     "execution_count": 44,
     "metadata": {},
     "output_type": "execute_result"
    }
   ],
   "source": [
    "import gc\n",
    "gc.collect()"
   ]
  },
  {
   "cell_type": "code",
   "execution_count": 45,
   "metadata": {},
   "outputs": [],
   "source": [
    "# saving model for tommorow \n",
    "# import pickle\n",
    "\n",
    "# # save the model to disk\n",
    "# filename = 'cluster_model_pos.pkl'\n",
    "# with open(filename, 'wb') as file:  \n",
    "#     pickle.dump(gmm, file)\n",
    "\n",
    "# load the model from disk\n",
    "#loaded_model = pickle.load(open(filename, 'rb'))\n",
    "#result = loaded_model.score(X_test, Y_test)\n",
    "#print(result)"
   ]
  },
  {
   "cell_type": "code",
   "execution_count": 46,
   "metadata": {},
   "outputs": [
    {
     "data": {
      "text/plain": [
       "array([0, 0, 3, 0, 2, 0, 2, 3, 3, 3])"
      ]
     },
     "execution_count": 46,
     "metadata": {},
     "output_type": "execute_result"
    }
   ],
   "source": [
    "cluster_pos = gmm.predict(CS_similarity_pos)\n",
    "\n",
    "cluster_pos[:10]"
   ]
  },
  {
   "cell_type": "code",
   "execution_count": 150,
   "metadata": {},
   "outputs": [],
   "source": [
    "#plot clustering result\n",
    "dt_plt = pd.DataFrame({'Cluster':cluster_pos})\n",
    "dt_plt =pd.DataFrame({'Cluster':dt_plt.groupby('Cluster')['Cluster'].count().index, 'count': dt_plt.groupby('Cluster')['Cluster'].count()})"
   ]
  },
  {
   "cell_type": "code",
   "execution_count": 132,
   "metadata": {
    "scrolled": true
   },
   "outputs": [
    {
     "data": {
      "text/html": [
       "<div>\n",
       "<style scoped>\n",
       "    .dataframe tbody tr th:only-of-type {\n",
       "        vertical-align: middle;\n",
       "    }\n",
       "\n",
       "    .dataframe tbody tr th {\n",
       "        vertical-align: top;\n",
       "    }\n",
       "\n",
       "    .dataframe thead th {\n",
       "        text-align: right;\n",
       "    }\n",
       "</style>\n",
       "<table border=\"1\" class=\"dataframe\">\n",
       "  <thead>\n",
       "    <tr style=\"text-align: right;\">\n",
       "      <th></th>\n",
       "      <th>Cluster</th>\n",
       "      <th>count</th>\n",
       "    </tr>\n",
       "    <tr>\n",
       "      <th>Cluster</th>\n",
       "      <th></th>\n",
       "      <th></th>\n",
       "    </tr>\n",
       "  </thead>\n",
       "  <tbody>\n",
       "    <tr>\n",
       "      <th>0</th>\n",
       "      <td>0</td>\n",
       "      <td>3967</td>\n",
       "    </tr>\n",
       "    <tr>\n",
       "      <th>1</th>\n",
       "      <td>1</td>\n",
       "      <td>1643</td>\n",
       "    </tr>\n",
       "    <tr>\n",
       "      <th>2</th>\n",
       "      <td>2</td>\n",
       "      <td>1046</td>\n",
       "    </tr>\n",
       "    <tr>\n",
       "      <th>3</th>\n",
       "      <td>3</td>\n",
       "      <td>3344</td>\n",
       "    </tr>\n",
       "  </tbody>\n",
       "</table>\n",
       "</div>"
      ],
      "text/plain": [
       "         Cluster  count\n",
       "Cluster                \n",
       "0              0   3967\n",
       "1              1   1643\n",
       "2              2   1046\n",
       "3              3   3344"
      ]
     },
     "execution_count": 132,
     "metadata": {},
     "output_type": "execute_result"
    }
   ],
   "source": [
    "dt_plt"
   ]
  },
  {
   "cell_type": "code",
   "execution_count": 151,
   "metadata": {},
   "outputs": [],
   "source": [
    "import itertools\n",
    "from scipy import linalg\n",
    "import matplotlib.pyplot as plt\n",
    "import matplotlib as mpl\n"
   ]
  },
  {
   "cell_type": "code",
   "execution_count": 152,
   "metadata": {},
   "outputs": [
    {
     "data": {
      "image/png": "[encoded data removed]",
      "text/plain": [
       "<Figure size 432x432 with 1 Axes>"
      ]
     },
     "metadata": {
      "needs_background": "light"
     },
     "output_type": "display_data"
    }
   ],
   "source": [
    "\n",
    "\n",
    "color_iter = ['navy', 'turquoise', 'cornflowerblue','darkorange']\n",
    "plt.figure(figsize=(6,6))\n",
    "plt.bar(dt_plt['Cluster'], dt_plt['count'],  color=color_iter )\n",
    "plt.xlabel('Clusters')\n",
    "plt.xticks(dt_plt['Cluster'])\n",
    "plt.ylabel('Count')\n",
    "plt.title('Review Clustering by POS Cosine Similarity')\n",
    "\n",
    "for x,y in zip(dt_plt['Cluster'], dt_plt['count']):\n",
    "    plt.annotate('{}'.format(y ),\n",
    "                 xy=(x , y + 10),\n",
    "                 xytext=(0, 3),  # 3 points vertical offset\n",
    "                 textcoords=\"offset points\",\n",
    "                 ha='center', va='bottom')\n",
    "plt.show()"
   ]
  },
  {
   "cell_type": "code",
   "execution_count": 51,
   "metadata": {
    "scrolled": true
   },
   "outputs": [
    {
     "data": {
      "image/png": "[encoded data removed]",
      "text/plain": [
       "<Figure size 432x288 with 1 Axes>"
      ]
     },
     "metadata": {
      "needs_background": "light"
     },
     "output_type": "display_data"
    }
   ],
   "source": [
    "plt.scatter(CS_similarity_pos[:, 0], CS_similarity_pos[:, 1], c=cluster_pos, s=40, cmap='viridis', alpha =0.5)\n",
    "plt.show()"
   ]
  },
  {
   "cell_type": "code",
   "execution_count": 52,
   "metadata": {},
   "outputs": [],
   "source": [
    "# def draw_ellipse(position, covariance, ax=None, **kwargs):\n",
    "#     \"\"\"Draw an ellipse with a given position and covariance\"\"\"\n",
    "#     ax = ax or plt.gca()\n",
    "    \n",
    "#     # Convert covariance to principal axes\n",
    "#     if covariance.shape == (2, 2):\n",
    "#         U, s, Vt = np.linalg.svd(covariance)\n",
    "#         angle = np.degrees(np.arctan2(U[1, 0], U[0, 0]))\n",
    "#         width, height = 2 * np.sqrt(s)\n",
    "#     else:\n",
    "#         angle = 0\n",
    "#         width, height = 2 * np.sqrt(covariance)\n",
    "    \n",
    "#     # Draw the Ellipse\n",
    "#     for nsig in range(1, 4):\n",
    "#         ax.add_patch(Ellipse(position, nsig * width, nsig * height,\n",
    "#                              angle, **kwargs))\n",
    "        \n",
    "# def plot_gmm(gmm, lables_, X, label=True, ax=None):\n",
    "#     ax = ax or plt.gca()\n",
    "#     labels = lables_\n",
    "#     if label:\n",
    "#         ax.scatter(X[:, 0], X[:, 1], c=labels, s=40, cmap='viridis', zorder=2, alpha =0.5)\n",
    "#     else:\n",
    "#         ax.scatter(X[:, 0], X[:, 1], s=40, zorder=2)\n",
    "#     ax.axis('equal')\n",
    "    \n",
    "#     w_factor = 0.2 / gmm.weights_.max()\n",
    "# #     for pos, covar, w in zip(gmm.means_, gmm.covariances_, gmm.weights_):\n",
    "# #         draw_ellipse(pos, covar, alpha=w * w_factor)"
   ]
  },
  {
   "cell_type": "code",
   "execution_count": 53,
   "metadata": {},
   "outputs": [],
   "source": [
    "# plot_gmm(gmm,cluster_pos, CS_similarity_pos)"
   ]
  },
  {
   "cell_type": "code",
   "execution_count": 54,
   "metadata": {
    "scrolled": true
   },
   "outputs": [],
   "source": [
    "# plt.figure()\n",
    "# plt.pcolormesh(CS_similarity_pos,cmap='hot')\n",
    "# plt.show()"
   ]
  },
  {
   "cell_type": "code",
   "execution_count": 55,
   "metadata": {},
   "outputs": [],
   "source": [
    "# import seaborn as sns\n",
    "# import matplotlib.pyplot as plt\n",
    "\n",
    "# # plot it with seaborn\n",
    "# plt.figure(figsize=(10,10))\n",
    "# sns.heatmap(\n",
    "#     CS_similarity_pos,\n",
    "#     cmap='OrRd'\n",
    "# )"
   ]
  },
  {
   "cell_type": "code",
   "execution_count": 56,
   "metadata": {},
   "outputs": [],
   "source": [
    "uniform_data = np.random.rand(10, 12)"
   ]
  },
  {
   "cell_type": "markdown",
   "metadata": {},
   "source": [
    "## 5.2 Clustering with Cosine similarity with uni-gram"
   ]
  },
  {
   "cell_type": "code",
   "execution_count": 57,
   "metadata": {
    "scrolled": true
   },
   "outputs": [
    {
     "name": "stdout",
     "output_type": "stream",
     "text": [
      "--- 455.6839244365692 seconds ---\n"
     ]
    }
   ],
   "source": [
    "from sklearn.mixture import GaussianMixture\n",
    "\n",
    "\n",
    "# em Clustering\n",
    "start_time = time.time()\n",
    "\n",
    "\n",
    "gmm = em_clustering(CS_similarity_bigram,k)\n",
    "\n",
    "\n",
    "print(\"--- %s seconds ---\" % (time.time() - start_time))"
   ]
  },
  {
   "cell_type": "code",
   "execution_count": 58,
   "metadata": {},
   "outputs": [],
   "source": [
    "# from nltk.cluster.em import EMClusterer\n",
    "\n",
    "\n",
    "# nltk_em = EMClusterer(gmm.means_)\n",
    "\n",
    "\n"
   ]
  },
  {
   "cell_type": "code",
   "execution_count": 59,
   "metadata": {},
   "outputs": [
    {
     "data": {
      "text/plain": [
       "array([0, 0, 1, 0, 2, 0, 2, 1, 1, 1])"
      ]
     },
     "execution_count": 59,
     "metadata": {},
     "output_type": "execute_result"
    }
   ],
   "source": [
    "cluster_ngram = gmm.predict(CS_similarity_bigram)\n",
    "\n",
    "cluster_ngram[:10]"
   ]
  },
  {
   "cell_type": "code",
   "execution_count": 142,
   "metadata": {},
   "outputs": [],
   "source": [
    "#plot clustering result\n",
    "dt_plt = pd.DataFrame({'Cluster':cluster_ngram})\n",
    "dt_plt = dt_plt.groupby('Cluster')['Cluster'].count()"
   ]
  },
  {
   "cell_type": "code",
   "execution_count": 144,
   "metadata": {
    "scrolled": true
   },
   "outputs": [
    {
     "data": {
      "text/plain": [
       "Cluster\n",
       "0    3971\n",
       "1    3213\n",
       "2    1074\n",
       "3    1742\n",
       "Name: Cluster, dtype: int64"
      ]
     },
     "execution_count": 144,
     "metadata": {},
     "output_type": "execute_result"
    }
   ],
   "source": [
    "dt_plt"
   ]
  },
  {
   "cell_type": "code",
   "execution_count": 148,
   "metadata": {
    "scrolled": true
   },
   "outputs": [
    {
     "data": {
      "image/png": "[encoded data removed]",
      "text/plain": [
       "<Figure size 432x432 with 1 Axes>"
      ]
     },
     "metadata": {
      "needs_background": "light"
     },
     "output_type": "display_data"
    }
   ],
   "source": [
    "color_iter = ['navy', 'turquoise', 'cornflowerblue','darkorange']\n",
    "\n",
    "plt.figure(figsize=(6,6))\n",
    "dt_plt.plot(kind ='bar', color = color_iter)\n",
    "\n",
    "for x,y in zip(dt_plt.index, dt_plt):\n",
    "    plt.annotate('{}'.format(y ),\n",
    "                 xy=(x , y + 10),\n",
    "                 xytext=(0, 3),  # 3 points vertical offset\n",
    "                 textcoords=\"offset points\",\n",
    "                 ha='center', va='bottom')\n",
    "plt.title('CLustering by Ngram cosine similarity')\n",
    "plt.show()"
   ]
  },
  {
   "cell_type": "markdown",
   "metadata": {},
   "source": [
    "## 5.3 Evaluation & Integration cluster label with behavioral features"
   ]
  },
  {
   "cell_type": "markdown",
   "metadata": {},
   "source": [
    "### b. Integrate data"
   ]
  },
  {
   "cell_type": "code",
   "execution_count": 63,
   "metadata": {},
   "outputs": [],
   "source": [
    "df_pos=pd.concat([behavior_attr,\n",
    "                 pd.DataFrame({'cluster':cluster_pos}).reindex(behavior_attr.index),\n",
    "                 pd.DataFrame({'flagged':Y})],\n",
    "#                  pd.DataFrame({'polarity':polarity}).reindex(behavior_attr.index),\n",
    "#                  pd.DataFrame({'subjective':subjective}).reindex(behavior_attr.index)],\n",
    "                 #pd.DataFrame(CS_similarity_bigram).reindex(behavior_attr.index)], \n",
    "                 axis=1) \n",
    "df_ngram=pd.concat([behavior_attr,\n",
    "                 pd.DataFrame({'cluster':cluster_ngram}).reindex(behavior_attr.index),\n",
    "                    pd.DataFrame({'flagged':Y})],\n",
    "#                  pd.DataFrame({'polarity':polarity}).reindex(behavior_attr.index),\n",
    "#                  pd.DataFrame({'subjective':subjective}).reindex(behavior_attr.index)],\n",
    "#                  #pd.DataFrame(CS_similarity_bigram).reindex(behavior_attr.index)], \n",
    "                 axis=1) \n",
    "\n"
   ]
  },
  {
   "cell_type": "code",
   "execution_count": 64,
   "metadata": {},
   "outputs": [],
   "source": [
    "df_pos.to_csv('df_pos.csv')\n",
    "df_ngram.to_csv('df_ngram.csv')"
   ]
  },
  {
   "cell_type": "code",
   "execution_count": 65,
   "metadata": {},
   "outputs": [],
   "source": [
    "df_pos = df_pos.drop('flagged', axis = 1)\n",
    "df_ngram = df_ngram.drop('flagged', axis = 1)"
   ]
  },
  {
   "cell_type": "code",
   "execution_count": 66,
   "metadata": {
    "scrolled": true
   },
   "outputs": [
    {
     "data": {
      "text/html": [
       "<div>\n",
       "<style scoped>\n",
       "    .dataframe tbody tr th:only-of-type {\n",
       "        vertical-align: middle;\n",
       "    }\n",
       "\n",
       "    .dataframe tbody tr th {\n",
       "        vertical-align: top;\n",
       "    }\n",
       "\n",
       "    .dataframe thead th {\n",
       "        text-align: right;\n",
       "    }\n",
       "</style>\n",
       "<table border=\"1\" class=\"dataframe\">\n",
       "  <thead>\n",
       "    <tr style=\"text-align: right;\">\n",
       "      <th></th>\n",
       "      <th>reviewrating</th>\n",
       "      <th>reusefulcount</th>\n",
       "      <th>recoolcount</th>\n",
       "      <th>refunnycount</th>\n",
       "      <th>friendcount</th>\n",
       "      <th>fancount</th>\n",
       "      <th>tipcount</th>\n",
       "      <th>reviewcount</th>\n",
       "      <th>firstcount</th>\n",
       "      <th>usefulcount</th>\n",
       "      <th>...</th>\n",
       "      <th>pricerange</th>\n",
       "      <th>monmembership</th>\n",
       "      <th>firstreview</th>\n",
       "      <th>maxReviewDay</th>\n",
       "      <th>avgReviewDay</th>\n",
       "      <th>avgpostedrating</th>\n",
       "      <th>avgreviewlen</th>\n",
       "      <th>polarity</th>\n",
       "      <th>subjective</th>\n",
       "      <th>cluster</th>\n",
       "    </tr>\n",
       "  </thead>\n",
       "  <tbody>\n",
       "    <tr>\n",
       "      <th>0</th>\n",
       "      <td>5</td>\n",
       "      <td>0</td>\n",
       "      <td>0</td>\n",
       "      <td>0</td>\n",
       "      <td>3</td>\n",
       "      <td>0</td>\n",
       "      <td>0</td>\n",
       "      <td>8</td>\n",
       "      <td>0</td>\n",
       "      <td>1</td>\n",
       "      <td>...</td>\n",
       "      <td>2</td>\n",
       "      <td>3</td>\n",
       "      <td>0</td>\n",
       "      <td>4</td>\n",
       "      <td>2</td>\n",
       "      <td>4</td>\n",
       "      <td>548</td>\n",
       "      <td>0.253571</td>\n",
       "      <td>0.589286</td>\n",
       "      <td>0</td>\n",
       "    </tr>\n",
       "    <tr>\n",
       "      <th>1</th>\n",
       "      <td>5</td>\n",
       "      <td>1</td>\n",
       "      <td>0</td>\n",
       "      <td>0</td>\n",
       "      <td>1</td>\n",
       "      <td>0</td>\n",
       "      <td>0</td>\n",
       "      <td>25</td>\n",
       "      <td>2</td>\n",
       "      <td>17</td>\n",
       "      <td>...</td>\n",
       "      <td>1</td>\n",
       "      <td>0</td>\n",
       "      <td>0</td>\n",
       "      <td>14</td>\n",
       "      <td>2</td>\n",
       "      <td>3</td>\n",
       "      <td>364</td>\n",
       "      <td>0.461905</td>\n",
       "      <td>0.578571</td>\n",
       "      <td>0</td>\n",
       "    </tr>\n",
       "    <tr>\n",
       "      <th>2</th>\n",
       "      <td>5</td>\n",
       "      <td>0</td>\n",
       "      <td>0</td>\n",
       "      <td>0</td>\n",
       "      <td>0</td>\n",
       "      <td>0</td>\n",
       "      <td>0</td>\n",
       "      <td>1</td>\n",
       "      <td>0</td>\n",
       "      <td>0</td>\n",
       "      <td>...</td>\n",
       "      <td>2</td>\n",
       "      <td>0</td>\n",
       "      <td>0</td>\n",
       "      <td>1</td>\n",
       "      <td>1</td>\n",
       "      <td>5</td>\n",
       "      <td>321</td>\n",
       "      <td>0.596429</td>\n",
       "      <td>0.633929</td>\n",
       "      <td>3</td>\n",
       "    </tr>\n",
       "    <tr>\n",
       "      <th>3</th>\n",
       "      <td>4</td>\n",
       "      <td>0</td>\n",
       "      <td>0</td>\n",
       "      <td>0</td>\n",
       "      <td>0</td>\n",
       "      <td>0</td>\n",
       "      <td>0</td>\n",
       "      <td>4</td>\n",
       "      <td>0</td>\n",
       "      <td>2</td>\n",
       "      <td>...</td>\n",
       "      <td>1</td>\n",
       "      <td>1</td>\n",
       "      <td>0</td>\n",
       "      <td>2</td>\n",
       "      <td>1</td>\n",
       "      <td>3</td>\n",
       "      <td>1274</td>\n",
       "      <td>0.168750</td>\n",
       "      <td>0.418750</td>\n",
       "      <td>0</td>\n",
       "    </tr>\n",
       "    <tr>\n",
       "      <th>4</th>\n",
       "      <td>1</td>\n",
       "      <td>0</td>\n",
       "      <td>0</td>\n",
       "      <td>0</td>\n",
       "      <td>1</td>\n",
       "      <td>1</td>\n",
       "      <td>0</td>\n",
       "      <td>4</td>\n",
       "      <td>1</td>\n",
       "      <td>4</td>\n",
       "      <td>...</td>\n",
       "      <td>1</td>\n",
       "      <td>28</td>\n",
       "      <td>0</td>\n",
       "      <td>1</td>\n",
       "      <td>1</td>\n",
       "      <td>2</td>\n",
       "      <td>344</td>\n",
       "      <td>-0.050000</td>\n",
       "      <td>0.200000</td>\n",
       "      <td>2</td>\n",
       "    </tr>\n",
       "    <tr>\n",
       "      <th>5</th>\n",
       "      <td>5</td>\n",
       "      <td>0</td>\n",
       "      <td>0</td>\n",
       "      <td>0</td>\n",
       "      <td>0</td>\n",
       "      <td>0</td>\n",
       "      <td>0</td>\n",
       "      <td>5</td>\n",
       "      <td>0</td>\n",
       "      <td>2</td>\n",
       "      <td>...</td>\n",
       "      <td>1</td>\n",
       "      <td>0</td>\n",
       "      <td>0</td>\n",
       "      <td>5</td>\n",
       "      <td>5</td>\n",
       "      <td>4</td>\n",
       "      <td>457</td>\n",
       "      <td>0.180000</td>\n",
       "      <td>0.444359</td>\n",
       "      <td>0</td>\n",
       "    </tr>\n",
       "    <tr>\n",
       "      <th>6</th>\n",
       "      <td>4</td>\n",
       "      <td>3</td>\n",
       "      <td>1</td>\n",
       "      <td>0</td>\n",
       "      <td>98</td>\n",
       "      <td>9</td>\n",
       "      <td>10</td>\n",
       "      <td>85</td>\n",
       "      <td>8</td>\n",
       "      <td>194</td>\n",
       "      <td>...</td>\n",
       "      <td>2</td>\n",
       "      <td>5</td>\n",
       "      <td>0</td>\n",
       "      <td>6</td>\n",
       "      <td>1</td>\n",
       "      <td>3</td>\n",
       "      <td>1372</td>\n",
       "      <td>0.115152</td>\n",
       "      <td>0.416667</td>\n",
       "      <td>2</td>\n",
       "    </tr>\n",
       "    <tr>\n",
       "      <th>7</th>\n",
       "      <td>1</td>\n",
       "      <td>0</td>\n",
       "      <td>0</td>\n",
       "      <td>0</td>\n",
       "      <td>0</td>\n",
       "      <td>0</td>\n",
       "      <td>0</td>\n",
       "      <td>2</td>\n",
       "      <td>0</td>\n",
       "      <td>0</td>\n",
       "      <td>...</td>\n",
       "      <td>1</td>\n",
       "      <td>0</td>\n",
       "      <td>0</td>\n",
       "      <td>1</td>\n",
       "      <td>1</td>\n",
       "      <td>3</td>\n",
       "      <td>53</td>\n",
       "      <td>-0.033333</td>\n",
       "      <td>0.866667</td>\n",
       "      <td>3</td>\n",
       "    </tr>\n",
       "    <tr>\n",
       "      <th>8</th>\n",
       "      <td>1</td>\n",
       "      <td>1</td>\n",
       "      <td>0</td>\n",
       "      <td>1</td>\n",
       "      <td>2</td>\n",
       "      <td>0</td>\n",
       "      <td>0</td>\n",
       "      <td>3</td>\n",
       "      <td>0</td>\n",
       "      <td>5</td>\n",
       "      <td>...</td>\n",
       "      <td>2</td>\n",
       "      <td>1</td>\n",
       "      <td>0</td>\n",
       "      <td>2</td>\n",
       "      <td>1</td>\n",
       "      <td>2</td>\n",
       "      <td>354</td>\n",
       "      <td>-0.400000</td>\n",
       "      <td>0.400000</td>\n",
       "      <td>3</td>\n",
       "    </tr>\n",
       "    <tr>\n",
       "      <th>9</th>\n",
       "      <td>5</td>\n",
       "      <td>1</td>\n",
       "      <td>1</td>\n",
       "      <td>0</td>\n",
       "      <td>2</td>\n",
       "      <td>0</td>\n",
       "      <td>0</td>\n",
       "      <td>14</td>\n",
       "      <td>1</td>\n",
       "      <td>7</td>\n",
       "      <td>...</td>\n",
       "      <td>1</td>\n",
       "      <td>30</td>\n",
       "      <td>0</td>\n",
       "      <td>10</td>\n",
       "      <td>3</td>\n",
       "      <td>4</td>\n",
       "      <td>383</td>\n",
       "      <td>-0.066667</td>\n",
       "      <td>0.505556</td>\n",
       "      <td>3</td>\n",
       "    </tr>\n",
       "  </tbody>\n",
       "</table>\n",
       "<p>10 rows × 25 columns</p>\n",
       "</div>"
      ],
      "text/plain": [
       "   reviewrating  reusefulcount  recoolcount  refunnycount  friendcount  \\\n",
       "0             5              0            0             0            3   \n",
       "1             5              1            0             0            1   \n",
       "2             5              0            0             0            0   \n",
       "3             4              0            0             0            0   \n",
       "4             1              0            0             0            1   \n",
       "5             5              0            0             0            0   \n",
       "6             4              3            1             0           98   \n",
       "7             1              0            0             0            0   \n",
       "8             1              1            0             1            2   \n",
       "9             5              1            1             0            2   \n",
       "\n",
       "   fancount  tipcount  reviewcount  firstcount  usefulcount   ...     \\\n",
       "0         0         0            8           0            1   ...      \n",
       "1         0         0           25           2           17   ...      \n",
       "2         0         0            1           0            0   ...      \n",
       "3         0         0            4           0            2   ...      \n",
       "4         1         0            4           1            4   ...      \n",
       "5         0         0            5           0            2   ...      \n",
       "6         9        10           85           8          194   ...      \n",
       "7         0         0            2           0            0   ...      \n",
       "8         0         0            3           0            5   ...      \n",
       "9         0         0           14           1            7   ...      \n",
       "\n",
       "   pricerange  monmembership  firstreview  maxReviewDay  avgReviewDay  \\\n",
       "0           2              3            0             4             2   \n",
       "1           1              0            0            14             2   \n",
       "2           2              0            0             1             1   \n",
       "3           1              1            0             2             1   \n",
       "4           1             28            0             1             1   \n",
       "5           1              0            0             5             5   \n",
       "6           2              5            0             6             1   \n",
       "7           1              0            0             1             1   \n",
       "8           2              1            0             2             1   \n",
       "9           1             30            0            10             3   \n",
       "\n",
       "   avgpostedrating  avgreviewlen  polarity  subjective  cluster  \n",
       "0                4           548  0.253571    0.589286        0  \n",
       "1                3           364  0.461905    0.578571        0  \n",
       "2                5           321  0.596429    0.633929        3  \n",
       "3                3          1274  0.168750    0.418750        0  \n",
       "4                2           344 -0.050000    0.200000        2  \n",
       "5                4           457  0.180000    0.444359        0  \n",
       "6                3          1372  0.115152    0.416667        2  \n",
       "7                3            53 -0.033333    0.866667        3  \n",
       "8                2           354 -0.400000    0.400000        3  \n",
       "9                4           383 -0.066667    0.505556        3  \n",
       "\n",
       "[10 rows x 25 columns]"
      ]
     },
     "execution_count": 66,
     "metadata": {},
     "output_type": "execute_result"
    }
   ],
   "source": [
    "df_pos.head(10)"
   ]
  },
  {
   "cell_type": "markdown",
   "metadata": {},
   "source": [
    "# 6 Building classify model"
   ]
  },
  {
   "cell_type": "code",
   "execution_count": 67,
   "metadata": {
    "scrolled": true
   },
   "outputs": [
    {
     "name": "stderr",
     "output_type": "stream",
     "text": [
      "/opt/conda/lib/python3.6/site-packages/ipykernel_launcher.py:36: FutureWarning: 'argmin' is deprecated, use 'idxmin' instead. The behavior of 'argmin'\n",
      "will be corrected to return the positional minimum in the future.\n",
      "Use 'series.values.argmin' to get the position of the minimum now.\n"
     ]
    },
    {
     "name": "stdout",
     "output_type": "stream",
     "text": [
      "Add  monmembership                  with p-value 0.0\n",
      "Add  maxReviewDay                   with p-value 6.13438e-160\n",
      "Add  avgReviewDay                   with p-value 1.65179e-83\n",
      "Add  reusefulcount                  with p-value 2.80797e-68\n",
      "Add  avgreviewlen                   with p-value 1.10816e-22\n",
      "Add  coolcount                      with p-value 2.37624e-22\n",
      "Add  reviewrating                   with p-value 4.62205e-21\n",
      "Add  buscateg                       with p-value 2.51267e-10\n",
      "Add  pricerange                     with p-value 5.77692e-08\n",
      "Add  avgpostedrating                with p-value 1.19894e-07\n",
      "Add  tipcount                       with p-value 3.98547e-07\n",
      "Add  recoolcount                    with p-value 0.000186758\n",
      "Add  polarity                       with p-value 0.00204887\n",
      "Add  firstcount                     with p-value 0.00506717\n",
      "Add  reviewcount                    with p-value 0.00323116\n",
      "resulting features:\n",
      "['monmembership', 'maxReviewDay', 'avgReviewDay', 'reusefulcount', 'avgreviewlen', 'coolcount', 'reviewrating', 'buscateg', 'pricerange', 'avgpostedrating', 'tipcount', 'recoolcount', 'polarity', 'firstcount', 'reviewcount']\n"
     ]
    }
   ],
   "source": [
    "import statsmodels.api as sm\n",
    "\n",
    "X = df_pos\n",
    "y = Y\n",
    "\n",
    "\n",
    "def stepwise_selection(X, y, \n",
    "                       initial_list=[], \n",
    "                       threshold_in=0.01, \n",
    "                       threshold_out = 0.05, \n",
    "                       verbose=True):\n",
    "    \"\"\" Perform a forward-backward feature selection \n",
    "    based on p-value from statsmodels.api.OLS\n",
    "    Arguments:\n",
    "        X - pandas.DataFrame with candidate features\n",
    "        y - list-like with the target\n",
    "        initial_list - list of features to start with (column names of X)\n",
    "        threshold_in - include a feature if its p-value < threshold_in\n",
    "        threshold_out - exclude a feature if its p-value > threshold_out\n",
    "        verbose - whether to print the sequence of inclusions and exclusions\n",
    "    Returns: list of selected features \n",
    "    Always set threshold_in < threshold_out to avoid infinite looping.\n",
    "    See https://en.wikipedia.org/wiki/Stepwise_regression for the details\n",
    "    \"\"\"\n",
    "    included = list(initial_list)\n",
    "    while True:\n",
    "        changed=False\n",
    "        # forward step\n",
    "        excluded = list(set(X.columns)-set(included))\n",
    "        new_pval = pd.Series(index=excluded)\n",
    "        for new_column in excluded:\n",
    "            model = sm.OLS(y, sm.add_constant(pd.DataFrame(X[included+[new_column]]))).fit()\n",
    "            new_pval[new_column] = model.pvalues[new_column]\n",
    "        best_pval = new_pval.min()\n",
    "        if best_pval < threshold_in:\n",
    "            best_feature = new_pval.argmin()\n",
    "            included.append(best_feature)\n",
    "            changed=True\n",
    "            if verbose:\n",
    "                print('Add  {:30} with p-value {:.6}'.format(best_feature, best_pval))\n",
    "\n",
    "        # backward step\n",
    "        model = sm.OLS(y, sm.add_constant(pd.DataFrame(X[included]))).fit()\n",
    "        # use all coefs except intercept\n",
    "        pvalues = model.pvalues.iloc[1:]\n",
    "        worst_pval = pvalues.max() # null if pvalues is empty\n",
    "        if worst_pval > threshold_out:\n",
    "            changed=True\n",
    "            worst_feature = pvalues.argmax()\n",
    "            included.remove(worst_feature)\n",
    "            if verbose:\n",
    "                print('Drop {:30} with p-value {:.6}'.format(worst_feature, worst_pval))\n",
    "        if not changed:\n",
    "            break\n",
    "    return included\n",
    "\n",
    "result = stepwise_selection(X, y)\n",
    "\n",
    "print('resulting features:')\n",
    "print(result)\n",
    "\n"
   ]
  },
  {
   "cell_type": "code",
   "execution_count": 68,
   "metadata": {},
   "outputs": [],
   "source": [
    "df_filtered = df_pos[['monmembership', 'maxReviewDay', 'reusefulcount', 'avgReviewDay', 'complimentcount', 'avgreviewlen', 'reviewrating', 'avgpostedrating', 'recoolcount', 'tipcount', 'buscateg', 'polarity', 'fancount', 'firstreview', 'subjective', 'cluster']]"
   ]
  },
  {
   "cell_type": "markdown",
   "metadata": {},
   "source": [
    "## 6.1 Svm model\n",
    "### a. Pos similarity"
   ]
  },
  {
   "cell_type": "code",
   "execution_count": 69,
   "metadata": {},
   "outputs": [],
   "source": [
    "# entire dataset\n",
    "# test building classify model with consine similarity\n",
    "# we can split the featuresets into training and testing datasets using sklearn\n",
    "from sklearn import model_selection\n",
    "from sklearn.model_selection  import train_test_split\n",
    "from sklearn.preprocessing import StandardScaler\n",
    "from nltk.classify.scikitlearn import SklearnClassifier\n",
    "from sklearn.svm import SVC\n",
    "from sklearn import metrics\n",
    "\n",
    "# split the data into training and testing datasets\n",
    " "
   ]
  },
  {
   "cell_type": "code",
   "execution_count": 70,
   "metadata": {},
   "outputs": [],
   "source": [
    "# standardize the independent variable\n",
    "def fit_SVM_(X,Y, kernel ='rbf'):\n",
    "    X_train, X_test, y_train, y_test = train_test_split(X, Y, test_size=0.20,random_state=138) \n",
    "    scaler = StandardScaler()  \n",
    "    scaler.fit(X)\n",
    "    X_train = scaler.transform(X_train)  \n",
    "    X_test = scaler.transform(X_test)\n",
    "    # SVM kernel: ‘linear’, ‘poly’, ‘rbf’, ‘sigmoid’, ‘precomputed\n",
    "    svclassifier = SVC(kernel='rbf')    \n",
    "    svclassifier.fit(X_train, y_train)  \n",
    "    y_pred = svclassifier.predict(X_test)  \t## predict test se\n",
    "    print(metrics.confusion_matrix(y_test, y_pred))\n",
    "    print(\"Accuracy:\",metrics.accuracy_score(y_test, y_pred))\n",
    "    print(\"Error rate:\", 1-metrics.accuracy_score(y_test, y_pred))\n",
    "    print(\"Recall:\", metrics.recall_score(y_test, y_pred))\n",
    "    print(\"Precision:\", metrics.precision_score(y_test, y_pred))\n",
    "    print('{} {} {} {}'.format(metrics.accuracy_score(y_test, y_pred),\n",
    "                   1-metrics.accuracy_score(y_test, y_pred),\n",
    "                   metrics.recall_score(y_test, y_pred),\n",
    "                   metrics.precision_score(y_test, y_pred)))\n"
   ]
  },
  {
   "cell_type": "code",
   "execution_count": 71,
   "metadata": {
    "scrolled": false
   },
   "outputs": [
    {
     "name": "stdout",
     "output_type": "stream",
     "text": [
      "[[833 174]\n",
      " [ 81 912]]\n",
      "Accuracy: 0.8725\n",
      "Error rate: 0.12749999999999995\n",
      "Recall: 0.918429003021148\n",
      "Precision: 0.8397790055248618\n",
      "0.8725 0.12749999999999995 0.918429003021148 0.8397790055248618\n",
      "--- 2.43927001953125 seconds ---\n"
     ]
    }
   ],
   "source": [
    "import time\n",
    "#\n",
    "start_time = time.time()\n",
    "\n",
    "fit_SVM_(df_pos,Y, kernel ='rbf')\n",
    "\n",
    "print(\"--- %s seconds ---\" % (time.time() - start_time))\n"
   ]
  },
  {
   "cell_type": "code",
   "execution_count": 72,
   "metadata": {},
   "outputs": [
    {
     "name": "stdout",
     "output_type": "stream",
     "text": [
      "\n",
      " Classifying in cluster: 0\n",
      "[[313  95]\n",
      " [ 34 352]]\n",
      "Accuracy: 0.8375314861460957\n",
      "Error rate: 0.16246851385390426\n",
      "Recall: 0.9119170984455959\n",
      "Precision: 0.7874720357941835\n",
      "0.8375314861460957 0.16246851385390426 0.9119170984455959 0.7874720357941835\n",
      "\n",
      " Classifying in cluster: 1\n",
      "[[159  30]\n",
      " [ 10 130]]\n",
      "Accuracy: 0.878419452887538\n",
      "Error rate: 0.12158054711246202\n",
      "Recall: 0.9285714285714286\n",
      "Precision: 0.8125\n",
      "0.878419452887538 0.12158054711246202 0.9285714285714286 0.8125\n",
      "\n",
      " Classifying in cluster: 2\n",
      "[[115  19]\n",
      " [  8  68]]\n",
      "Accuracy: 0.8714285714285714\n",
      "Error rate: 0.12857142857142856\n",
      "Recall: 0.8947368421052632\n",
      "Precision: 0.7816091954022989\n",
      "0.8714285714285714 0.12857142857142856 0.8947368421052632 0.7816091954022989\n",
      "\n",
      " Classifying in cluster: 3\n",
      "[[229  77]\n",
      " [ 19 344]]\n",
      "Accuracy: 0.8565022421524664\n",
      "Error rate: 0.1434977578475336\n",
      "Recall: 0.9476584022038568\n",
      "Precision: 0.8171021377672208\n",
      "0.8565022421524664 0.1434977578475336 0.9476584022038568 0.8171021377672208\n"
     ]
    }
   ],
   "source": [
    "for i in range(0,k):\n",
    "    df_cluster0 = df_pos[df_pos['cluster'] == i]\n",
    "    Y = pd.Series(Y)\n",
    "    print('\\n Classifying in cluster: {}'.format(i))\n",
    "    fit_SVM_(df_cluster0.drop('cluster',axis=1),Y.iloc[df_cluster0.index], kernel ='rbf')"
   ]
  },
  {
   "cell_type": "code",
   "execution_count": 73,
   "metadata": {},
   "outputs": [
    {
     "name": "stdout",
     "output_type": "stream",
     "text": [
      "[[836 171]\n",
      " [ 81 912]]\n",
      "Accuracy: 0.874\n",
      "Error rate: 0.126\n",
      "Recall: 0.918429003021148\n",
      "Precision: 0.8421052631578947\n",
      "0.874 0.126 0.918429003021148 0.8421052631578947\n"
     ]
    }
   ],
   "source": [
    "# withou cluster\n",
    "fit_SVM_(df_pos.drop('cluster',axis=1),Y, kernel ='rbf' )\n"
   ]
  },
  {
   "cell_type": "code",
   "execution_count": 74,
   "metadata": {},
   "outputs": [
    {
     "name": "stdout",
     "output_type": "stream",
     "text": [
      "[[839 168]\n",
      " [ 79 914]]\n",
      "Accuracy: 0.8765\n",
      "Error rate: 0.12350000000000005\n",
      "Recall: 0.9204431017119838\n",
      "Precision: 0.844731977818854\n",
      "0.8765 0.12350000000000005 0.9204431017119838 0.844731977818854\n"
     ]
    }
   ],
   "source": [
    "fit_SVM_(df_pos.drop(['cluster', 'subjective'],axis=1),Y, kernel ='rbf' )"
   ]
  },
  {
   "cell_type": "code",
   "execution_count": 75,
   "metadata": {},
   "outputs": [
    {
     "name": "stdout",
     "output_type": "stream",
     "text": [
      "[[838 169]\n",
      " [ 79 914]]\n",
      "Accuracy: 0.876\n",
      "Error rate: 0.124\n",
      "Recall: 0.9204431017119838\n",
      "Precision: 0.8439519852262235\n",
      "0.876 0.124 0.9204431017119838 0.8439519852262235\n"
     ]
    }
   ],
   "source": [
    "fit_SVM_(df_pos.drop(['cluster','polarity', 'subjective'],axis=1),Y, kernel ='rbf' )"
   ]
  },
  {
   "cell_type": "markdown",
   "metadata": {},
   "source": [
    "### b. Unigram"
   ]
  },
  {
   "cell_type": "code",
   "execution_count": 76,
   "metadata": {
    "scrolled": true
   },
   "outputs": [
    {
     "name": "stdout",
     "output_type": "stream",
     "text": [
      "[[834 173]\n",
      " [ 81 912]]\n",
      "Accuracy: 0.873\n",
      "Error rate: 0.127\n",
      "Recall: 0.918429003021148\n",
      "Precision: 0.840552995391705\n",
      "0.873 0.127 0.918429003021148 0.840552995391705\n",
      "--- 2.476524591445923 seconds ---\n"
     ]
    }
   ],
   "source": [
    "import time\n",
    "start_time = time.time()\n",
    "\n",
    "fit_SVM_(df_ngram,Y, kernel ='rbf')\n",
    "\n",
    "print(\"--- %s seconds ---\" % (time.time() - start_time))\n"
   ]
  },
  {
   "cell_type": "code",
   "execution_count": 77,
   "metadata": {},
   "outputs": [
    {
     "name": "stdout",
     "output_type": "stream",
     "text": [
      "Classifying in cluster: 0\n",
      "[[299  82]\n",
      " [ 30 384]]\n",
      "Accuracy: 0.8591194968553459\n",
      "Error rate: 0.14088050314465406\n",
      "Recall: 0.927536231884058\n",
      "Precision: 0.8240343347639485\n",
      "0.8591194968553459 0.14088050314465406 0.927536231884058 0.8240343347639485\n",
      "Classifying in cluster: 1\n",
      "[[208  71]\n",
      " [ 28 336]]\n",
      "Accuracy: 0.8460342146189735\n",
      "Error rate: 0.15396578538102645\n",
      "Recall: 0.9230769230769231\n",
      "Precision: 0.8255528255528255\n",
      "0.8460342146189735 0.15396578538102645 0.9230769230769231 0.8255528255528255\n",
      "Classifying in cluster: 2\n",
      "[[111  14]\n",
      " [ 10  80]]\n",
      "Accuracy: 0.8883720930232558\n",
      "Error rate: 0.11162790697674418\n",
      "Recall: 0.8888888888888888\n",
      "Precision: 0.851063829787234\n",
      "0.8883720930232558 0.11162790697674418 0.8888888888888888 0.851063829787234\n",
      "Classifying in cluster: 3\n",
      "[[164  26]\n",
      " [ 15 144]]\n",
      "Accuracy: 0.8825214899713467\n",
      "Error rate: 0.11747851002865328\n",
      "Recall: 0.9056603773584906\n",
      "Precision: 0.8470588235294118\n",
      "0.8825214899713467 0.11747851002865328 0.9056603773584906 0.8470588235294118\n"
     ]
    }
   ],
   "source": [
    "for i in range(0,k):\n",
    "    df_cluster0 = df_ngram[df_ngram['cluster'] == i]\n",
    "    Y = pd.Series(Y)\n",
    "    print('Classifying in cluster: {}'.format(i))\n",
    "    fit_SVM_(df_cluster0.drop('cluster',axis=1),Y.iloc[df_cluster0.index], kernel ='rbf')"
   ]
  },
  {
   "cell_type": "code",
   "execution_count": 114,
   "metadata": {},
   "outputs": [
    {
     "name": "stdout",
     "output_type": "stream",
     "text": [
      "[[836 171]\n",
      " [ 81 912]]\n",
      "Accuracy: 0.874\n",
      "Error rate: 0.126\n",
      "Recall: 0.918429003021148\n",
      "Precision: 0.8421052631578947\n",
      "0.874 0.126 0.918429003021148 0.8421052631578947\n"
     ]
    }
   ],
   "source": [
    "fit_SVM_(df_ngram.drop(['cluster'],axis=1),Y, kernel ='rbf' )"
   ]
  },
  {
   "cell_type": "markdown",
   "metadata": {},
   "source": [
    "## 6.3 Random Forest Classifiers"
   ]
  },
  {
   "cell_type": "code",
   "execution_count": 78,
   "metadata": {},
   "outputs": [],
   "source": [
    "from sklearn.ensemble import RandomForestClassifier\n",
    "from sklearn.datasets import make_classification\n",
    "from sklearn.feature_selection import SelectFromModel"
   ]
  },
  {
   "cell_type": "code",
   "execution_count": 79,
   "metadata": {},
   "outputs": [],
   "source": [
    "\n",
    "def RF_selction(X,Y):\n",
    "    X_train, X_test, y_train, y_test = train_test_split(X, Y, test_size=0.20,random_state=138) \n",
    "    sel = SelectFromModel(RandomForestClassifier(n_estimators = 500,max_depth = 100))\n",
    "    sel.fit(X_train, y_train)\n",
    "    sel.get_support()\n",
    "    selected_feat= X_train.columns[(sel.get_support())]\n",
    "    print(len(selected_feat))\n",
    "    print(selected_feat)\n"
   ]
  },
  {
   "cell_type": "code",
   "execution_count": 80,
   "metadata": {},
   "outputs": [
    {
     "name": "stdout",
     "output_type": "stream",
     "text": [
      "9\n",
      "Index(['reusefulcount', 'friendcount', 'reviewcount', 'usefulcount',\n",
      "       'coolcount', 'complimentcount', 'funnycount', 'monmembership',\n",
      "       'avgreviewlen'],\n",
      "      dtype='object')\n"
     ]
    }
   ],
   "source": [
    "RF_selction(df_pos,Y)"
   ]
  },
  {
   "cell_type": "code",
   "execution_count": 81,
   "metadata": {},
   "outputs": [],
   "source": [
    "def RF_classifier(X,Y, \n",
    "                  max_features_= 'auto', \n",
    "                  n_estimators_ = 100,\n",
    "                  max_depth_ = None,\n",
    "                  min_sample_leaf_ = 2):\n",
    "    X_train, X_test, y_train, y_test = train_test_split(X, Y, test_size=0.20,random_state=138) \n",
    "    clf = RandomForestClassifier(max_features = max_features_, \n",
    "                                 n_estimators = n_estimators_,\n",
    "                                 max_depth = max_depth_,\n",
    "                                 min_samples_leaf = min_sample_leaf_)\n",
    "    clf.fit(X_train, y_train)\n",
    "    y_pred = clf.predict(X_test)  \t## predict test set\n",
    "    print(metrics.confusion_matrix(y_test, y_pred))\n",
    "    print(\"Accuracy:\",metrics.accuracy_score(y_test, y_pred))\n",
    "    print(\"Error rate:\", 1-metrics.accuracy_score(y_test, y_pred))\n",
    "    print(\"Recall:\", metrics.recall_score(y_test, y_pred))\n",
    "    print(\"Precision:\", metrics.precision_score(y_test, y_pred))\n",
    "    print('{} {} {} {}'.format(metrics.accuracy_score(y_test, y_pred),\n",
    "                   1-metrics.accuracy_score(y_test, y_pred),\n",
    "                   metrics.recall_score(y_test, y_pred),\n",
    "                   metrics.precision_score(y_test, y_pred)))\n",
    "    return(clf)"
   ]
  },
  {
   "cell_type": "code",
   "execution_count": 82,
   "metadata": {},
   "outputs": [
    {
     "data": {
      "text/html": [
       "<div>\n",
       "<style scoped>\n",
       "    .dataframe tbody tr th:only-of-type {\n",
       "        vertical-align: middle;\n",
       "    }\n",
       "\n",
       "    .dataframe tbody tr th {\n",
       "        vertical-align: top;\n",
       "    }\n",
       "\n",
       "    .dataframe thead th {\n",
       "        text-align: right;\n",
       "    }\n",
       "</style>\n",
       "<table border=\"1\" class=\"dataframe\">\n",
       "  <thead>\n",
       "    <tr style=\"text-align: right;\">\n",
       "      <th></th>\n",
       "      <th>reviewrating</th>\n",
       "      <th>reusefulcount</th>\n",
       "      <th>recoolcount</th>\n",
       "      <th>refunnycount</th>\n",
       "      <th>friendcount</th>\n",
       "      <th>fancount</th>\n",
       "      <th>tipcount</th>\n",
       "      <th>reviewcount</th>\n",
       "      <th>firstcount</th>\n",
       "      <th>usefulcount</th>\n",
       "      <th>...</th>\n",
       "      <th>pricerange</th>\n",
       "      <th>monmembership</th>\n",
       "      <th>firstreview</th>\n",
       "      <th>maxReviewDay</th>\n",
       "      <th>avgReviewDay</th>\n",
       "      <th>avgpostedrating</th>\n",
       "      <th>avgreviewlen</th>\n",
       "      <th>polarity</th>\n",
       "      <th>subjective</th>\n",
       "      <th>cluster</th>\n",
       "    </tr>\n",
       "  </thead>\n",
       "  <tbody>\n",
       "    <tr>\n",
       "      <th>0</th>\n",
       "      <td>5</td>\n",
       "      <td>0</td>\n",
       "      <td>0</td>\n",
       "      <td>0</td>\n",
       "      <td>3</td>\n",
       "      <td>0</td>\n",
       "      <td>0</td>\n",
       "      <td>8</td>\n",
       "      <td>0</td>\n",
       "      <td>1</td>\n",
       "      <td>...</td>\n",
       "      <td>2</td>\n",
       "      <td>3</td>\n",
       "      <td>0</td>\n",
       "      <td>4</td>\n",
       "      <td>2</td>\n",
       "      <td>4</td>\n",
       "      <td>548</td>\n",
       "      <td>0.253571</td>\n",
       "      <td>0.589286</td>\n",
       "      <td>0</td>\n",
       "    </tr>\n",
       "    <tr>\n",
       "      <th>1</th>\n",
       "      <td>5</td>\n",
       "      <td>1</td>\n",
       "      <td>0</td>\n",
       "      <td>0</td>\n",
       "      <td>1</td>\n",
       "      <td>0</td>\n",
       "      <td>0</td>\n",
       "      <td>25</td>\n",
       "      <td>2</td>\n",
       "      <td>17</td>\n",
       "      <td>...</td>\n",
       "      <td>1</td>\n",
       "      <td>0</td>\n",
       "      <td>0</td>\n",
       "      <td>14</td>\n",
       "      <td>2</td>\n",
       "      <td>3</td>\n",
       "      <td>364</td>\n",
       "      <td>0.461905</td>\n",
       "      <td>0.578571</td>\n",
       "      <td>0</td>\n",
       "    </tr>\n",
       "    <tr>\n",
       "      <th>2</th>\n",
       "      <td>5</td>\n",
       "      <td>0</td>\n",
       "      <td>0</td>\n",
       "      <td>0</td>\n",
       "      <td>0</td>\n",
       "      <td>0</td>\n",
       "      <td>0</td>\n",
       "      <td>1</td>\n",
       "      <td>0</td>\n",
       "      <td>0</td>\n",
       "      <td>...</td>\n",
       "      <td>2</td>\n",
       "      <td>0</td>\n",
       "      <td>0</td>\n",
       "      <td>1</td>\n",
       "      <td>1</td>\n",
       "      <td>5</td>\n",
       "      <td>321</td>\n",
       "      <td>0.596429</td>\n",
       "      <td>0.633929</td>\n",
       "      <td>3</td>\n",
       "    </tr>\n",
       "    <tr>\n",
       "      <th>3</th>\n",
       "      <td>4</td>\n",
       "      <td>0</td>\n",
       "      <td>0</td>\n",
       "      <td>0</td>\n",
       "      <td>0</td>\n",
       "      <td>0</td>\n",
       "      <td>0</td>\n",
       "      <td>4</td>\n",
       "      <td>0</td>\n",
       "      <td>2</td>\n",
       "      <td>...</td>\n",
       "      <td>1</td>\n",
       "      <td>1</td>\n",
       "      <td>0</td>\n",
       "      <td>2</td>\n",
       "      <td>1</td>\n",
       "      <td>3</td>\n",
       "      <td>1274</td>\n",
       "      <td>0.168750</td>\n",
       "      <td>0.418750</td>\n",
       "      <td>0</td>\n",
       "    </tr>\n",
       "    <tr>\n",
       "      <th>4</th>\n",
       "      <td>1</td>\n",
       "      <td>0</td>\n",
       "      <td>0</td>\n",
       "      <td>0</td>\n",
       "      <td>1</td>\n",
       "      <td>1</td>\n",
       "      <td>0</td>\n",
       "      <td>4</td>\n",
       "      <td>1</td>\n",
       "      <td>4</td>\n",
       "      <td>...</td>\n",
       "      <td>1</td>\n",
       "      <td>28</td>\n",
       "      <td>0</td>\n",
       "      <td>1</td>\n",
       "      <td>1</td>\n",
       "      <td>2</td>\n",
       "      <td>344</td>\n",
       "      <td>-0.050000</td>\n",
       "      <td>0.200000</td>\n",
       "      <td>2</td>\n",
       "    </tr>\n",
       "  </tbody>\n",
       "</table>\n",
       "<p>5 rows × 25 columns</p>\n",
       "</div>"
      ],
      "text/plain": [
       "   reviewrating  reusefulcount  recoolcount  refunnycount  friendcount  \\\n",
       "0             5              0            0             0            3   \n",
       "1             5              1            0             0            1   \n",
       "2             5              0            0             0            0   \n",
       "3             4              0            0             0            0   \n",
       "4             1              0            0             0            1   \n",
       "\n",
       "   fancount  tipcount  reviewcount  firstcount  usefulcount   ...     \\\n",
       "0         0         0            8           0            1   ...      \n",
       "1         0         0           25           2           17   ...      \n",
       "2         0         0            1           0            0   ...      \n",
       "3         0         0            4           0            2   ...      \n",
       "4         1         0            4           1            4   ...      \n",
       "\n",
       "   pricerange  monmembership  firstreview  maxReviewDay  avgReviewDay  \\\n",
       "0           2              3            0             4             2   \n",
       "1           1              0            0            14             2   \n",
       "2           2              0            0             1             1   \n",
       "3           1              1            0             2             1   \n",
       "4           1             28            0             1             1   \n",
       "\n",
       "   avgpostedrating  avgreviewlen  polarity  subjective  cluster  \n",
       "0                4           548  0.253571    0.589286        0  \n",
       "1                3           364  0.461905    0.578571        0  \n",
       "2                5           321  0.596429    0.633929        3  \n",
       "3                3          1274  0.168750    0.418750        0  \n",
       "4                2           344 -0.050000    0.200000        2  \n",
       "\n",
       "[5 rows x 25 columns]"
      ]
     },
     "execution_count": 82,
     "metadata": {},
     "output_type": "execute_result"
    }
   ],
   "source": [
    "df_pos.head(5)"
   ]
  },
  {
   "cell_type": "code",
   "execution_count": 83,
   "metadata": {},
   "outputs": [
    {
     "name": "stdout",
     "output_type": "stream",
     "text": [
      "[[905 102]\n",
      " [ 47 946]]\n",
      "Accuracy: 0.9255\n",
      "Error rate: 0.07450000000000001\n",
      "Recall: 0.9526686807653575\n",
      "Precision: 0.9026717557251909\n",
      "0.9255 0.07450000000000001 0.9526686807653575 0.9026717557251909\n"
     ]
    }
   ],
   "source": [
    "clf = RF_classifier(df_pos,Y,n_estimators_=150,min_sample_leaf_= 2, max_depth_ = 50)"
   ]
  },
  {
   "cell_type": "code",
   "execution_count": 84,
   "metadata": {},
   "outputs": [
    {
     "name": "stdout",
     "output_type": "stream",
     "text": [
      "            feature  importance\n",
      "9       usefulcount    0.159746\n",
      "7       reviewcount    0.129014\n",
      "4       friendcount    0.104276\n",
      "10        coolcount    0.099588\n",
      "16    monmembership    0.067446\n",
      "12       funnycount    0.060096\n",
      "1     reusefulcount    0.052847\n",
      "21     avgreviewlen    0.043731\n",
      "11  complimentcount    0.040217\n",
      "23       subjective    0.031585\n",
      "22         polarity    0.031339\n"
     ]
    },
    {
     "data": {
      "image/png": "[encoded data removed]",
      "text/plain": [
       "<Figure size 432x288 with 1 Axes>"
      ]
     },
     "metadata": {
      "needs_background": "light"
     },
     "output_type": "display_data"
    }
   ],
   "source": [
    "fi = pd.DataFrame({'feature': list(df_pos.columns),\n",
    "                  'importance': clf.feature_importances_}).\\\n",
    "                   sort_values('importance', ascending = False)\n",
    "print(fi.head(11))\n",
    "\n",
    "dfplot = fi.head(11).sort_values('importance', ascending = True)\n",
    "\n",
    "N=10\n",
    "colors = np.random.rand(N)\n",
    "plt.scatter(dfplot['feature'], dfplot['importance'], s =50, c='tomato', alpha=1, marker ='^')\n",
    "plt.xticks(rotation=90)\n",
    "plt.xlabel('Features Name')\n",
    "plt.ylabel('Importance')\n",
    "plt.title('Top 10 Importance Features in RF model')\n",
    "for x,y in zip(range(0,11), dfplot['importance']):\n",
    "    plt.annotate('{}'.format(round(y,3)),\n",
    "                 xy=(x , y + 0.01),\n",
    "                 xytext=(0, 0),  # 3 points vertical offset\n",
    "                 textcoords=\"offset points\",\n",
    "                 ha='center', va='bottom')\n",
    "\n",
    "plt.show()"
   ]
  },
  {
   "cell_type": "code",
   "execution_count": 85,
   "metadata": {},
   "outputs": [
    {
     "name": "stdout",
     "output_type": "stream",
     "text": [
      "\n",
      "Classifying in cluster: 0\n",
      "[[355  53]\n",
      " [ 18 368]]\n",
      "Accuracy: 0.9105793450881612\n",
      "Error rate: 0.08942065491183881\n",
      "Recall: 0.9533678756476683\n",
      "Precision: 0.8741092636579573\n",
      "0.9105793450881612 0.08942065491183881 0.9533678756476683 0.8741092636579573\n",
      "\n",
      "Classifying in cluster: 1\n",
      "[[174  15]\n",
      " [  5 135]]\n",
      "Accuracy: 0.939209726443769\n",
      "Error rate: 0.06079027355623101\n",
      "Recall: 0.9642857142857143\n",
      "Precision: 0.9\n",
      "0.939209726443769 0.06079027355623101 0.9642857142857143 0.9\n",
      "\n",
      "Classifying in cluster: 2\n",
      "[[126   8]\n",
      " [ 13  63]]\n",
      "Accuracy: 0.9\n",
      "Error rate: 0.09999999999999998\n",
      "Recall: 0.8289473684210527\n",
      "Precision: 0.8873239436619719\n",
      "0.9 0.09999999999999998 0.8289473684210527 0.8873239436619719\n",
      "\n",
      "Classifying in cluster: 3\n",
      "[[267  39]\n",
      " [  9 354]]\n",
      "Accuracy: 0.9282511210762332\n",
      "Error rate: 0.0717488789237668\n",
      "Recall: 0.9752066115702479\n",
      "Precision: 0.9007633587786259\n",
      "0.9282511210762332 0.0717488789237668 0.9752066115702479 0.9007633587786259\n"
     ]
    }
   ],
   "source": [
    "for i in range(0,k):\n",
    "    df_cluster0 = df_pos[df_pos['cluster'] == i]\n",
    "    Y = pd.Series(Y)\n",
    "    print('\\nClassifying in cluster: {}'.format(i))\n",
    "    RF_classifier(df_cluster0.drop('cluster',axis=1),Y.iloc[df_cluster0.index],n_estimators_=500,min_sample_leaf_= 2, max_depth_ = 100)"
   ]
  },
  {
   "cell_type": "code",
   "execution_count": 86,
   "metadata": {
    "scrolled": true
   },
   "outputs": [
    {
     "name": "stdout",
     "output_type": "stream",
     "text": [
      "[[903 104]\n",
      " [ 50 943]]\n",
      "Accuracy: 0.923\n",
      "Error rate: 0.07699999999999996\n",
      "Recall: 0.9496475327291037\n",
      "Precision: 0.9006685768863419\n",
      "0.923 0.07699999999999996 0.9496475327291037 0.9006685768863419\n"
     ]
    },
    {
     "data": {
      "text/plain": [
       "RandomForestClassifier(bootstrap=True, ccp_alpha=0.0, class_weight=None,\n",
       "                       criterion='gini', max_depth=50, max_features='auto',\n",
       "                       max_leaf_nodes=None, max_samples=None,\n",
       "                       min_impurity_decrease=0.0, min_impurity_split=None,\n",
       "                       min_samples_leaf=2, min_samples_split=2,\n",
       "                       min_weight_fraction_leaf=0.0, n_estimators=150,\n",
       "                       n_jobs=None, oob_score=False, random_state=None,\n",
       "                       verbose=0, warm_start=False)"
      ]
     },
     "execution_count": 86,
     "metadata": {},
     "output_type": "execute_result"
    }
   ],
   "source": [
    "# without cluster\n",
    "RF_classifier(df_pos.drop('cluster',axis=1),Y,n_estimators_=150,min_sample_leaf_= 2, max_depth_ = 50 )"
   ]
  },
  {
   "cell_type": "code",
   "execution_count": 87,
   "metadata": {
    "scrolled": false
   },
   "outputs": [
    {
     "name": "stdout",
     "output_type": "stream",
     "text": [
      "[[903 104]\n",
      " [ 49 944]]\n",
      "Accuracy: 0.9235\n",
      "Error rate: 0.07650000000000001\n",
      "Recall: 0.9506545820745217\n",
      "Precision: 0.9007633587786259\n",
      "0.9235 0.07650000000000001 0.9506545820745217 0.9007633587786259\n"
     ]
    },
    {
     "data": {
      "text/plain": [
       "RandomForestClassifier(bootstrap=True, ccp_alpha=0.0, class_weight=None,\n",
       "                       criterion='gini', max_depth=50, max_features='auto',\n",
       "                       max_leaf_nodes=None, max_samples=None,\n",
       "                       min_impurity_decrease=0.0, min_impurity_split=None,\n",
       "                       min_samples_leaf=2, min_samples_split=2,\n",
       "                       min_weight_fraction_leaf=0.0, n_estimators=150,\n",
       "                       n_jobs=None, oob_score=False, random_state=None,\n",
       "                       verbose=0, warm_start=False)"
      ]
     },
     "execution_count": 87,
     "metadata": {},
     "output_type": "execute_result"
    }
   ],
   "source": [
    "# without text generated features\n",
    "RF_classifier(df_pos.drop(['polarity','subjective','cluster'],axis=1),Y,n_estimators_=150,min_sample_leaf_= 2, max_depth_ = 50 )"
   ]
  },
  {
   "cell_type": "markdown",
   "metadata": {},
   "source": [
    "### b. Bigram"
   ]
  },
  {
   "cell_type": "code",
   "execution_count": 88,
   "metadata": {
    "scrolled": true
   },
   "outputs": [
    {
     "name": "stdout",
     "output_type": "stream",
     "text": [
      "[[903 104]\n",
      " [ 51 942]]\n",
      "Accuracy: 0.9225\n",
      "Error rate: 0.07750000000000001\n",
      "Recall: 0.9486404833836858\n",
      "Precision: 0.9005736137667304\n",
      "0.9225 0.07750000000000001 0.9486404833836858 0.9005736137667304\n"
     ]
    },
    {
     "data": {
      "text/plain": [
       "RandomForestClassifier(bootstrap=True, ccp_alpha=0.0, class_weight=None,\n",
       "                       criterion='gini', max_depth=100, max_features='auto',\n",
       "                       max_leaf_nodes=None, max_samples=None,\n",
       "                       min_impurity_decrease=0.0, min_impurity_split=None,\n",
       "                       min_samples_leaf=2, min_samples_split=2,\n",
       "                       min_weight_fraction_leaf=0.0, n_estimators=150,\n",
       "                       n_jobs=None, oob_score=False, random_state=None,\n",
       "                       verbose=0, warm_start=False)"
      ]
     },
     "execution_count": 88,
     "metadata": {},
     "output_type": "execute_result"
    }
   ],
   "source": [
    "RF_classifier(df_ngram,Y,n_estimators_=150,min_sample_leaf_= 2, max_depth_ = 100 )"
   ]
  },
  {
   "cell_type": "code",
   "execution_count": 89,
   "metadata": {
    "scrolled": true
   },
   "outputs": [
    {
     "name": "stdout",
     "output_type": "stream",
     "text": [
      "\n",
      "Classifying in cluster: 0\n",
      "[[331  50]\n",
      " [ 23 391]]\n",
      "Accuracy: 0.9081761006289308\n",
      "Error rate: 0.09182389937106916\n",
      "Recall: 0.9444444444444444\n",
      "Precision: 0.8866213151927438\n",
      "0.9081761006289308 0.09182389937106916 0.9444444444444444 0.8866213151927438\n",
      "\n",
      "Classifying in cluster: 1\n",
      "[[236  43]\n",
      " [ 19 345]]\n",
      "Accuracy: 0.9035769828926905\n",
      "Error rate: 0.0964230171073095\n",
      "Recall: 0.9478021978021978\n",
      "Precision: 0.8891752577319587\n",
      "0.9035769828926905 0.0964230171073095 0.9478021978021978 0.8891752577319587\n",
      "\n",
      "Classifying in cluster: 2\n",
      "[[115  10]\n",
      " [ 11  79]]\n",
      "Accuracy: 0.9023255813953488\n",
      "Error rate: 0.0976744186046512\n",
      "Recall: 0.8777777777777778\n",
      "Precision: 0.8876404494382022\n",
      "0.9023255813953488 0.0976744186046512 0.8777777777777778 0.8876404494382022\n",
      "\n",
      "Classifying in cluster: 3\n",
      "[[173  17]\n",
      " [  7 152]]\n",
      "Accuracy: 0.9312320916905444\n",
      "Error rate: 0.06876790830945556\n",
      "Recall: 0.9559748427672956\n",
      "Precision: 0.8994082840236687\n",
      "0.9312320916905444 0.06876790830945556 0.9559748427672956 0.8994082840236687\n"
     ]
    }
   ],
   "source": [
    "for i in range(0,k):\n",
    "    df_cluster0 = df_ngram[df_ngram['cluster'] == i]\n",
    "    Y = pd.Series(Y)\n",
    "    print('\\nClassifying in cluster: {}'.format(i))\n",
    "    RF_classifier(df_cluster0.drop('cluster',axis=1),Y.iloc[df_cluster0.index],n_estimators_=150,min_sample_leaf_= 2, max_depth_ = 100)"
   ]
  },
  {
   "cell_type": "code",
   "execution_count": 90,
   "metadata": {
    "scrolled": true
   },
   "outputs": [
    {
     "name": "stdout",
     "output_type": "stream",
     "text": [
      "[[905 102]\n",
      " [ 50 943]]\n",
      "Accuracy: 0.924\n",
      "Error rate: 0.07599999999999996\n",
      "Recall: 0.9496475327291037\n",
      "Precision: 0.9023923444976076\n",
      "0.924 0.07599999999999996 0.9496475327291037 0.9023923444976076\n"
     ]
    },
    {
     "data": {
      "text/plain": [
       "RandomForestClassifier(bootstrap=True, ccp_alpha=0.0, class_weight=None,\n",
       "                       criterion='gini', max_depth=100, max_features='auto',\n",
       "                       max_leaf_nodes=None, max_samples=None,\n",
       "                       min_impurity_decrease=0.0, min_impurity_split=None,\n",
       "                       min_samples_leaf=2, min_samples_split=2,\n",
       "                       min_weight_fraction_leaf=0.0, n_estimators=150,\n",
       "                       n_jobs=None, oob_score=False, random_state=None,\n",
       "                       verbose=0, warm_start=False)"
      ]
     },
     "execution_count": 90,
     "metadata": {},
     "output_type": "execute_result"
    }
   ],
   "source": [
    "# withou cluster\n",
    "RF_classifier(df_ngram.drop('cluster',axis=1),Y,n_estimators_=150,min_sample_leaf_= 2, max_depth_ = 100 )"
   ]
  },
  {
   "cell_type": "code",
   "execution_count": 91,
   "metadata": {},
   "outputs": [
    {
     "name": "stdout",
     "output_type": "stream",
     "text": [
      "[[911  96]\n",
      " [ 50 943]]\n",
      "Accuracy: 0.927\n",
      "Error rate: 0.07299999999999995\n",
      "Recall: 0.9496475327291037\n",
      "Precision: 0.9076034648700674\n",
      "0.927 0.07299999999999995 0.9496475327291037 0.9076034648700674\n"
     ]
    },
    {
     "data": {
      "text/plain": [
       "RandomForestClassifier(bootstrap=True, ccp_alpha=0.0, class_weight=None,\n",
       "                       criterion='gini', max_depth=100, max_features='auto',\n",
       "                       max_leaf_nodes=None, max_samples=None,\n",
       "                       min_impurity_decrease=0.0, min_impurity_split=None,\n",
       "                       min_samples_leaf=2, min_samples_split=2,\n",
       "                       min_weight_fraction_leaf=0.0, n_estimators=150,\n",
       "                       n_jobs=None, oob_score=False, random_state=None,\n",
       "                       verbose=0, warm_start=False)"
      ]
     },
     "execution_count": 91,
     "metadata": {},
     "output_type": "execute_result"
    }
   ],
   "source": [
    "# withou text generated features\n",
    "RF_classifier(df_ngram.drop(['cluster','polarity','subjective'],axis=1),Y,n_estimators_=150,min_sample_leaf_= 2, max_depth_ = 100 )"
   ]
  },
  {
   "cell_type": "markdown",
   "metadata": {},
   "source": [
    "## 6.3 Neural Network"
   ]
  },
  {
   "cell_type": "markdown",
   "metadata": {},
   "source": [
    "### a. NN with pos similarity"
   ]
  },
  {
   "cell_type": "code",
   "execution_count": 92,
   "metadata": {},
   "outputs": [],
   "source": [
    "from sklearn.neural_network import MLPClassifier"
   ]
  },
  {
   "cell_type": "code",
   "execution_count": 93,
   "metadata": {},
   "outputs": [],
   "source": [
    "def NN_classifier(X, Y, hidden_layers_ = (5,2), activation_ ='relu',solver_ ='adam' , alphafloat_ =1e-5):\n",
    "\n",
    "    X_train, X_test, y_train, y_test = train_test_split(X, Y, test_size=0.20,random_state=138)\n",
    "\n",
    "    clf = MLPClassifier(solver=solver_,\n",
    "                        alpha=alphafloat_,\n",
    "                        activation =activation_,\n",
    "                        hidden_layer_sizes= hidden_layers_,\n",
    "                        random_state=1)\n",
    "\n",
    "    clf.fit(X_train, y_train)\n",
    "\n",
    "    y_pred = clf.predict(X_test)\n",
    "    cm =  metrics.confusion_matrix(y_test, y_pred)\n",
    "    print(cm)\n",
    "    print(\"Accuracy:\",metrics.accuracy_score(y_test, y_pred))\n",
    "    print(\"Error rate:\", 1-metrics.accuracy_score(y_test, y_pred))\n",
    "    print(\"Recall:\", metrics.recall_score(y_test, y_pred))\n",
    "    print(\"Precision:\", metrics.precision_score(y_test, y_pred))\n",
    "    print('{} {} {} {}'.format(metrics.accuracy_score(y_test, y_pred),\n",
    "                   1-metrics.accuracy_score(y_test, y_pred),\n",
    "                   metrics.recall_score(y_test, y_pred),\n",
    "                   metrics.precision_score(y_test, y_pred)))\n",
    "#     plt.clf()\n",
    "#     plt.imshow(cm, interpolation='nearest', cmap=plt.cm.Wistia)\n",
    "#     classNames = ['0','1']\n",
    "#     plt.title('NN Confusion Matrix - Test Data')\n",
    "#     plt.ylabel('True Class')\n",
    "#     plt.xlabel('Predicted Class')\n",
    "#     tick_marks = np.arange(len(classNames))\n",
    "#     plt.xticks(tick_marks, classNames, rotation=45)\n",
    "#     plt.yticks(tick_marks, classNames)\n",
    "#     s = [['TN','FP'], ['FN', 'TP']]\n",
    "#     for i in range(2):\n",
    "#         for j in range(2):\n",
    "#             plt.text(j,i, str(s[i][j])+\" = \"+str(cm[i][j]))\n",
    "#     plt.show()"
   ]
  },
  {
   "cell_type": "code",
   "execution_count": 130,
   "metadata": {},
   "outputs": [
    {
     "name": "stdout",
     "output_type": "stream",
     "text": [
      "[[881 126]\n",
      " [ 73 920]]\n",
      "Accuracy: 0.9005\n",
      "Error rate: 0.09950000000000003\n",
      "Recall: 0.9264853977844915\n",
      "Precision: 0.8795411089866156\n",
      "0.9005 0.09950000000000003 0.9264853977844915 0.8795411089866156\n"
     ]
    }
   ],
   "source": [
    "# full clusters\n",
    "\n",
    "NN_classifier(df_pos,Y,hidden_layers_ =(200,200,200,200), solver_='adam', activation_= 'tanh' )"
   ]
  },
  {
   "cell_type": "code",
   "execution_count": 95,
   "metadata": {},
   "outputs": [
    {
     "name": "stdout",
     "output_type": "stream",
     "text": [
      "\n",
      "Classifying in cluster: 0\n",
      "[[343  65]\n",
      " [ 29 357]]\n",
      "Accuracy: 0.8816120906801007\n",
      "Error rate: 0.11838790931989929\n",
      "Recall: 0.9248704663212435\n",
      "Precision: 0.8459715639810427\n",
      "0.8816120906801007 0.11838790931989929 0.9248704663212435 0.8459715639810427\n",
      "\n",
      "Classifying in cluster: 1\n",
      "[[154  35]\n",
      " [  8 132]]\n",
      "Accuracy: 0.8693009118541033\n",
      "Error rate: 0.1306990881458967\n",
      "Recall: 0.9428571428571428\n",
      "Precision: 0.7904191616766467\n",
      "0.8693009118541033 0.1306990881458967 0.9428571428571428 0.7904191616766467\n",
      "\n",
      "Classifying in cluster: 2\n",
      "[[125   9]\n",
      " [ 20  56]]\n",
      "Accuracy: 0.861904761904762\n",
      "Error rate: 0.13809523809523805\n",
      "Recall: 0.7368421052631579\n",
      "Precision: 0.8615384615384616\n",
      "0.861904761904762 0.13809523809523805 0.7368421052631579 0.8615384615384616\n",
      "\n",
      "Classifying in cluster: 3\n",
      "[[271  35]\n",
      " [ 42 321]]\n",
      "Accuracy: 0.8849028400597907\n",
      "Error rate: 0.1150971599402093\n",
      "Recall: 0.8842975206611571\n",
      "Precision: 0.901685393258427\n",
      "0.8849028400597907 0.1150971599402093 0.8842975206611571 0.901685393258427\n"
     ]
    }
   ],
   "source": [
    "for i in range(0,k):\n",
    "    df_cluster0 = df_pos[df_pos['cluster'] == i]\n",
    "    Y = pd.Series(Y)\n",
    "    print('\\nClassifying in cluster: {}'.format(i))\n",
    "    NN_classifier(df_cluster0.drop('cluster',axis=1),Y.iloc[df_cluster0.index],hidden_layers_ =(20,30,40,50), solver_='adam', activation_= 'tanh' )"
   ]
  },
  {
   "cell_type": "code",
   "execution_count": 96,
   "metadata": {},
   "outputs": [
    {
     "name": "stdout",
     "output_type": "stream",
     "text": [
      "[[823 184]\n",
      " [ 58 935]]\n",
      "Accuracy: 0.879\n",
      "Error rate: 0.121\n",
      "Recall: 0.9415911379657603\n",
      "Precision: 0.8355674709562109\n",
      "0.879 0.121 0.9415911379657603 0.8355674709562109\n"
     ]
    }
   ],
   "source": [
    "#without cluster\n",
    "NN_classifier(df_pos.drop('cluster',axis=1),Y,hidden_layers_ =(20,30,40,50), solver_='adam', activation_= 'tanh' )"
   ]
  },
  {
   "cell_type": "markdown",
   "metadata": {},
   "source": [
    "### b NN with bigram"
   ]
  },
  {
   "cell_type": "code",
   "execution_count": 97,
   "metadata": {
    "scrolled": false
   },
   "outputs": [
    {
     "name": "stdout",
     "output_type": "stream",
     "text": [
      "[[822 185]\n",
      " [ 41 952]]\n",
      "Accuracy: 0.887\n",
      "Error rate: 0.11299999999999999\n",
      "Recall: 0.9587109768378651\n",
      "Precision: 0.8372911169744943\n",
      "0.887 0.11299999999999999 0.9587109768378651 0.8372911169744943\n"
     ]
    }
   ],
   "source": [
    "NN_classifier(df_ngram,Y,hidden_layers_ =(20,30,40,50), solver_='adam', activation_= 'tanh' )"
   ]
  },
  {
   "cell_type": "code",
   "execution_count": 98,
   "metadata": {},
   "outputs": [
    {
     "name": "stdout",
     "output_type": "stream",
     "text": [
      "Classifying in cluster: 0\n",
      "[[309  72]\n",
      " [ 28 386]]\n",
      "Accuracy: 0.8742138364779874\n",
      "Error rate: 0.12578616352201255\n",
      "Recall: 0.9323671497584541\n",
      "Precision: 0.8427947598253275\n",
      "0.8742138364779874 0.12578616352201255 0.9323671497584541 0.8427947598253275\n",
      "Classifying in cluster: 1\n",
      "[[223  56]\n",
      " [ 22 342]]\n",
      "Accuracy: 0.8786936236391913\n",
      "Error rate: 0.12130637636080865\n",
      "Recall: 0.9395604395604396\n",
      "Precision: 0.8592964824120602\n",
      "0.8786936236391913 0.12130637636080865 0.9395604395604396 0.8592964824120602\n",
      "Classifying in cluster: 2\n",
      "[[114  11]\n",
      " [ 22  68]]\n",
      "Accuracy: 0.8465116279069768\n",
      "Error rate: 0.15348837209302324\n",
      "Recall: 0.7555555555555555\n",
      "Precision: 0.8607594936708861\n",
      "0.8465116279069768 0.15348837209302324 0.7555555555555555 0.8607594936708861\n",
      "Classifying in cluster: 3\n",
      "[[161  29]\n",
      " [ 18 141]]\n",
      "Accuracy: 0.8653295128939829\n",
      "Error rate: 0.13467048710601714\n",
      "Recall: 0.8867924528301887\n",
      "Precision: 0.8294117647058824\n",
      "0.8653295128939829 0.13467048710601714 0.8867924528301887 0.8294117647058824\n"
     ]
    }
   ],
   "source": [
    "for i in range(0,k):\n",
    "    df_cluster0 = df_ngram[df_ngram['cluster'] == i]\n",
    "    Y = pd.Series(Y)\n",
    "    print('Classifying in cluster: {}'.format(i))\n",
    "    NN_classifier(df_cluster0.drop('cluster',axis=1),Y.iloc[df_cluster0.index],hidden_layers_ =(20,30,40,50), solver_='adam', activation_= 'tanh' )"
   ]
  },
  {
   "cell_type": "code",
   "execution_count": 99,
   "metadata": {
    "scrolled": true
   },
   "outputs": [
    {
     "name": "stdout",
     "output_type": "stream",
     "text": [
      "[[823 184]\n",
      " [ 58 935]]\n",
      "Accuracy: 0.879\n",
      "Error rate: 0.121\n",
      "Recall: 0.9415911379657603\n",
      "Precision: 0.8355674709562109\n",
      "0.879 0.121 0.9415911379657603 0.8355674709562109\n"
     ]
    }
   ],
   "source": [
    "# withou cluster\n",
    "NN_classifier(df_ngram.drop('cluster',axis=1),Y,hidden_layers_ =(20,30,40,50), solver_='adam', activation_= 'tanh')"
   ]
  },
  {
   "cell_type": "code",
   "execution_count": 100,
   "metadata": {},
   "outputs": [
    {
     "name": "stdout",
     "output_type": "stream",
     "text": [
      "[[885 122]\n",
      " [100 893]]\n",
      "Accuracy: 0.889\n",
      "Error rate: 0.11099999999999999\n",
      "Recall: 0.8992950654582075\n",
      "Precision: 0.8798029556650246\n",
      "0.889 0.11099999999999999 0.8992950654582075 0.8798029556650246\n"
     ]
    }
   ],
   "source": [
    "# withou cluster\n",
    "NN_classifier(df_ngram.drop(['cluster','polarity','subjective'],axis=1),Y,hidden_layers_ =(20,30,40,50), solver_='adam', activation_= 'tanh')"
   ]
  },
  {
   "cell_type": "markdown",
   "metadata": {},
   "source": [
    "## 6.4 Decision Tree\n"
   ]
  },
  {
   "cell_type": "code",
   "execution_count": 101,
   "metadata": {},
   "outputs": [],
   "source": [
    "from sklearn import tree"
   ]
  },
  {
   "cell_type": "code",
   "execution_count": 115,
   "metadata": {},
   "outputs": [],
   "source": [
    "def DT_clf(X, Y, max_features_= 'auto', \n",
    "                  max_depth_ = None,\n",
    "                  min_sample_leaf_ = 2):\n",
    "    from sklearn import tree\n",
    "    X_train, X_test, y_train, y_test = train_test_split(X, Y, test_size=0.20,random_state=138)\n",
    "\n",
    "    clf = tree.DecisionTreeClassifier(max_features = max_features_, \n",
    "                                     max_depth = max_depth_,\n",
    "                                     min_samples_leaf = min_sample_leaf_)\n",
    "\n",
    "    clf.fit(X_train, y_train)\n",
    "    \n",
    "    #plot the tree\n",
    "    #tree.plot_tree(clf.fit(X_train, y_train)) \n",
    "    \n",
    "    y_pred = clf.predict(X_test)\n",
    "    cm =  metrics.confusion_matrix(y_test, y_pred)\n",
    "    print(cm)\n",
    "    print(\"Accuracy:\",metrics.accuracy_score(y_test, y_pred))\n",
    "    print(\"Error rate:\", 1-metrics.accuracy_score(y_test, y_pred))\n",
    "    print(\"Recall:\", metrics.recall_score(y_test, y_pred))\n",
    "    print(\"Precision:\", metrics.precision_score(y_test, y_pred))\n",
    "    print('{} {} {} {}'.format(metrics.accuracy_score(y_test, y_pred),\n",
    "                   1-metrics.accuracy_score(y_test, y_pred),\n",
    "                   metrics.recall_score(y_test, y_pred),\n",
    "                   metrics.precision_score(y_test, y_pred)))\n",
    "#     plt.clf()\n",
    "#     plt.imshow(cm, interpolation='nearest', cmap=plt.cm.Wistia)\n",
    "#     classNames = ['0','1']\n",
    "#     plt.title('NN Confusion Matrix - Test Data')\n",
    "#     plt.ylabel('True Class')\n",
    "#     plt.xlabel('Predicted Class')\n",
    "#     tick_marks = np.arange(len(classNames))\n",
    "#     plt.xticks(tick_marks, classNames, rotation=45)\n",
    "#     plt.yticks(tick_marks, classNames)\n",
    "#     s = [['TN','FP'], ['FN', 'TP']]\n",
    "#     for i in range(2):\n",
    "#         for j in range(2):\n",
    "#             plt.text(j,i, str(s[i][j])+\" = \"+str(cm[i][j]))\n",
    "#     plt.show()\n",
    "    return clf\n",
    "    "
   ]
  },
  {
   "cell_type": "code",
   "execution_count": 116,
   "metadata": {
    "scrolled": true
   },
   "outputs": [
    {
     "name": "stdout",
     "output_type": "stream",
     "text": [
      "[[900 107]\n",
      " [130 863]]\n",
      "Accuracy: 0.8815\n",
      "Error rate: 0.11850000000000005\n",
      "Recall: 0.8690835850956697\n",
      "Precision: 0.8896907216494845\n",
      "0.8815 0.11850000000000005 0.8690835850956697 0.8896907216494845\n"
     ]
    }
   ],
   "source": [
    "dtmodel = DT_clf(df_pos,Y,min_sample_leaf_= 2, max_depth_ = 15)"
   ]
  },
  {
   "cell_type": "code",
   "execution_count": 117,
   "metadata": {},
   "outputs": [
    {
     "name": "stdout",
     "output_type": "stream",
     "text": [
      "Classifying in cluster: 0\n",
      "[[884 123]\n",
      " [134 859]]\n",
      "Accuracy: 0.8715\n",
      "Error rate: 0.12849999999999995\n",
      "Recall: 0.865055387713998\n",
      "Precision: 0.8747454175152749\n",
      "0.8715 0.12849999999999995 0.865055387713998 0.8747454175152749\n",
      "Classifying in cluster: 1\n",
      "[[881 126]\n",
      " [ 91 902]]\n",
      "Accuracy: 0.8915\n",
      "Error rate: 0.10850000000000004\n",
      "Recall: 0.9083585095669687\n",
      "Precision: 0.877431906614786\n",
      "0.8915 0.10850000000000004 0.9083585095669687 0.877431906614786\n",
      "Classifying in cluster: 2\n",
      "[[890 117]\n",
      " [114 879]]\n",
      "Accuracy: 0.8845\n",
      "Error rate: 0.11550000000000005\n",
      "Recall: 0.8851963746223565\n",
      "Precision: 0.8825301204819277\n",
      "0.8845 0.11550000000000005 0.8851963746223565 0.8825301204819277\n",
      "Classifying in cluster: 3\n",
      "[[899 108]\n",
      " [121 872]]\n",
      "Accuracy: 0.8855\n",
      "Error rate: 0.11450000000000005\n",
      "Recall: 0.878147029204431\n",
      "Precision: 0.889795918367347\n",
      "0.8855 0.11450000000000005 0.878147029204431 0.889795918367347\n"
     ]
    }
   ],
   "source": [
    "for i in range(0,k):\n",
    "    df_cluster0 = df_pos[df_pos['cluster'] == i]\n",
    "    Y = pd.Series(Y)\n",
    "    print('Classifying in cluster: {}'.format(i))\n",
    "    dt_k = DT_clf(df_pos.drop('cluster', axis =1),Y,min_sample_leaf_= 2, max_depth_ = 15)"
   ]
  },
  {
   "cell_type": "code",
   "execution_count": 118,
   "metadata": {
    "scrolled": false
   },
   "outputs": [
    {
     "name": "stdout",
     "output_type": "stream",
     "text": [
      "[[884 123]\n",
      " [ 96 897]]\n",
      "Accuracy: 0.8905\n",
      "Error rate: 0.10950000000000004\n",
      "Recall: 0.9033232628398792\n",
      "Precision: 0.8794117647058823\n",
      "0.8905 0.10950000000000004 0.9033232628398792 0.8794117647058823\n"
     ]
    }
   ],
   "source": [
    "# withou cluster\n",
    "dtmodel = DT_clf(df_pos.drop(['cluster'],axis=1),Y,min_sample_leaf_= 2, max_depth_ = 15)"
   ]
  },
  {
   "cell_type": "markdown",
   "metadata": {},
   "source": [
    "### b. Unigram"
   ]
  },
  {
   "cell_type": "code",
   "execution_count": 119,
   "metadata": {
    "scrolled": true
   },
   "outputs": [
    {
     "name": "stdout",
     "output_type": "stream",
     "text": [
      "[[886 121]\n",
      " [113 880]]\n",
      "Accuracy: 0.883\n",
      "Error rate: 0.11699999999999999\n",
      "Recall: 0.8862034239677744\n",
      "Precision: 0.8791208791208791\n",
      "0.883 0.11699999999999999 0.8862034239677744 0.8791208791208791\n"
     ]
    }
   ],
   "source": [
    "dtmodel = DT_clf(df_ngram,Y,min_sample_leaf_= 2, max_depth_ = 15)"
   ]
  },
  {
   "cell_type": "code",
   "execution_count": 120,
   "metadata": {
    "scrolled": false
   },
   "outputs": [
    {
     "name": "stdout",
     "output_type": "stream",
     "text": [
      "Classifying in cluster: 0\n",
      "[[321  60]\n",
      " [ 53 361]]\n",
      "Accuracy: 0.8578616352201258\n",
      "Error rate: 0.14213836477987418\n",
      "Recall: 0.8719806763285024\n",
      "Precision: 0.8574821852731591\n",
      "0.8578616352201258 0.14213836477987418 0.8719806763285024 0.8574821852731591\n",
      "Classifying in cluster: 1\n",
      "[[239  40]\n",
      " [ 50 314]]\n",
      "Accuracy: 0.8600311041990669\n",
      "Error rate: 0.13996889580093308\n",
      "Recall: 0.8626373626373627\n",
      "Precision: 0.8870056497175142\n",
      "0.8600311041990669 0.13996889580093308 0.8626373626373627 0.8870056497175142\n",
      "Classifying in cluster: 2\n",
      "[[118   7]\n",
      " [ 18  72]]\n",
      "Accuracy: 0.8837209302325582\n",
      "Error rate: 0.11627906976744184\n",
      "Recall: 0.8\n",
      "Precision: 0.9113924050632911\n",
      "0.8837209302325582 0.11627906976744184 0.8 0.9113924050632911\n",
      "Classifying in cluster: 3\n",
      "[[167  23]\n",
      " [ 29 130]]\n",
      "Accuracy: 0.8510028653295129\n",
      "Error rate: 0.14899713467048714\n",
      "Recall: 0.8176100628930818\n",
      "Precision: 0.8496732026143791\n",
      "0.8510028653295129 0.14899713467048714 0.8176100628930818 0.8496732026143791\n"
     ]
    }
   ],
   "source": [
    "for i in range(0,k):\n",
    "    df_cluster0 = df_ngram[df_ngram['cluster'] == i]\n",
    "    Y = pd.Series(Y)\n",
    "    print('Classifying in cluster: {}'.format(i))\n",
    "    dt_k = DT_clf(df_cluster0.drop('cluster', axis =1),Y[df_cluster0.index],min_sample_leaf_= 2, max_depth_ = 15)"
   ]
  },
  {
   "cell_type": "code",
   "execution_count": 121,
   "metadata": {},
   "outputs": [
    {
     "name": "stdout",
     "output_type": "stream",
     "text": [
      "[[891 116]\n",
      " [116 877]]\n",
      "Accuracy: 0.884\n",
      "Error rate: 0.11599999999999999\n",
      "Recall: 0.8831822759315207\n",
      "Precision: 0.8831822759315207\n",
      "0.884 0.11599999999999999 0.8831822759315207 0.8831822759315207\n"
     ]
    }
   ],
   "source": [
    "# without cluster\n",
    "dtmodel = DT_clf(df_ngram.drop(['cluster'],axis=1),Y,min_sample_leaf_= 2, max_depth_ = 15)"
   ]
  },
  {
   "cell_type": "code",
   "execution_count": 109,
   "metadata": {},
   "outputs": [
    {
     "name": "stdout",
     "output_type": "stream",
     "text": [
      "[[875 132]\n",
      " [ 90 903]]\n",
      "Accuracy: 0.889\n",
      "Error rate: 0.11099999999999999\n",
      "Recall: 0.9093655589123867\n",
      "Precision: 0.8724637681159421\n"
     ]
    },
    {
     "data": {
      "image/png": "[encoded data removed]",
      "text/plain": [
       "<Figure size 432x288 with 1 Axes>"
      ]
     },
     "metadata": {
      "needs_background": "light"
     },
     "output_type": "display_data"
    }
   ],
   "source": [
    "# dt for visualize\n",
    "# chosing 5 level of depth \n",
    "dtmodel = DT_clf(df_ngram,Y,min_sample_leaf_= 2, max_depth_ = 10)"
   ]
  },
  {
   "cell_type": "code",
   "execution_count": 110,
   "metadata": {
    "scrolled": false
   },
   "outputs": [],
   "source": [
    "import graphviz \n",
    "from IPython.display import SVG\n",
    "#from StringIO import StringIO\n",
    "\n",
    "dot_data= tree.export_graphviz(dtmodel, out_file=\"ngram_8cluster.dot\",\n",
    "                               feature_names=df_ngram.columns) \n",
    "\n"
   ]
  },
  {
   "cell_type": "code",
   "execution_count": 111,
   "metadata": {},
   "outputs": [],
   "source": [
    "# import os\n",
    "# #./usr/lib/x86_64-linux-gnu/graphviz\n",
    "# os.environ[\"PATH\"] += os.pathsep + './usr/bin/'"
   ]
  },
  {
   "cell_type": "code",
   "execution_count": 112,
   "metadata": {},
   "outputs": [],
   "source": [
    "# with open(\"mytree.dot\") as f:\n",
    "#     dot_graph = f.read()\n",
    "# #graphviz.Source(dot_graph)\n",
    "# graph = graphviz.Source(dot_graph)\n",
    "# graph.render(\"image\",view=True)"
   ]
  }
 ],
 "metadata": {
  "kernelspec": {
   "display_name": "Python 3",
   "language": "python",
   "name": "python3"
  },
  "language_info": {
   "codemirror_mode": {
    "name": "ipython",
    "version": 3
   },
   "file_extension": ".py",
   "mimetype": "text/x-python",
   "name": "python",
   "nbconvert_exporter": "python",
   "pygments_lexer": "ipython3",
   "version": "3.6.5"
  }
 },
 "nbformat": 4,
 "nbformat_minor": 2
}
