{
 "cells": [
  {
   "cell_type": "code",
   "execution_count": 1,
   "metadata": {},
   "outputs": [],
   "source": [
    "import sys\n",
    "import nltk\n",
    "import sklearn\n",
    "import pandas as pd\n",
    "import numpy as np\n",
    "from sklearn.utils import shuffle\n"
   ]
  },
  {
   "cell_type": "code",
   "execution_count": 2,
   "metadata": {},
   "outputs": [],
   "source": [
    "# load the dataset\n",
    "raw_data= pd.read_csv('./Data/yelpreview021302.csv')"
   ]
  },
  {
   "cell_type": "code",
   "execution_count": 3,
   "metadata": {},
   "outputs": [
    {
     "data": {
      "text/html": [
       "<div>\n",
       "<style scoped>\n",
       "    .dataframe tbody tr th:only-of-type {\n",
       "        vertical-align: middle;\n",
       "    }\n",
       "\n",
       "    .dataframe tbody tr th {\n",
       "        vertical-align: top;\n",
       "    }\n",
       "\n",
       "    .dataframe thead th {\n",
       "        text-align: right;\n",
       "    }\n",
       "</style>\n",
       "<table border=\"1\" class=\"dataframe\">\n",
       "  <thead>\n",
       "    <tr style=\"text-align: right;\">\n",
       "      <th></th>\n",
       "      <th>reviewid</th>\n",
       "      <th>reviewerid</th>\n",
       "      <th>businessid</th>\n",
       "      <th>reviewcontent</th>\n",
       "      <th>reviewrating</th>\n",
       "      <th>reusefulcount</th>\n",
       "      <th>recoolcount</th>\n",
       "      <th>refunnycount</th>\n",
       "      <th>reviewDate</th>\n",
       "      <th>yelpjoindate</th>\n",
       "      <th>...</th>\n",
       "      <th>buscateg</th>\n",
       "      <th>pricerange</th>\n",
       "      <th>filreviewcount</th>\n",
       "      <th>monmembership</th>\n",
       "      <th>firstreview</th>\n",
       "      <th>maxReviewDay</th>\n",
       "      <th>avgReviewDay</th>\n",
       "      <th>avgpostedrating</th>\n",
       "      <th>avgreviewlen</th>\n",
       "      <th>flagged</th>\n",
       "    </tr>\n",
       "  </thead>\n",
       "  <tbody>\n",
       "    <tr>\n",
       "      <th>0</th>\n",
       "      <td>LGCYk</td>\n",
       "      <td>KJmXsA1zFPH-n6r14JcYLw</td>\n",
       "      <td>SfRCNiCTPfGwzHEM_hCVZQ</td>\n",
       "      <td>I came here with a group of people for a birth...</td>\n",
       "      <td>4</td>\n",
       "      <td>0</td>\n",
       "      <td>0</td>\n",
       "      <td>0</td>\n",
       "      <td>4/30/2012</td>\n",
       "      <td>00:00.0</td>\n",
       "      <td>...</td>\n",
       "      <td>Hotels</td>\n",
       "      <td>2.0</td>\n",
       "      <td>6</td>\n",
       "      <td>46</td>\n",
       "      <td>0</td>\n",
       "      <td>7</td>\n",
       "      <td>1</td>\n",
       "      <td>3</td>\n",
       "      <td>711</td>\n",
       "      <td>N</td>\n",
       "    </tr>\n",
       "    <tr>\n",
       "      <th>1</th>\n",
       "      <td>GtwU21YOQn-wf4vWRUIx6w</td>\n",
       "      <td>bNYesZ944s6IJVowOnB0iA</td>\n",
       "      <td>pbEiXam9YJL3neCYHGwLUA</td>\n",
       "      <td>Unlike Next, which we'd eaten at the previous ...</td>\n",
       "      <td>5</td>\n",
       "      <td>0</td>\n",
       "      <td>0</td>\n",
       "      <td>0</td>\n",
       "      <td>9/22/2012</td>\n",
       "      <td>00:00.0</td>\n",
       "      <td>...</td>\n",
       "      <td>Restaurants</td>\n",
       "      <td>4.0</td>\n",
       "      <td>0</td>\n",
       "      <td>36</td>\n",
       "      <td>0</td>\n",
       "      <td>6</td>\n",
       "      <td>1</td>\n",
       "      <td>3</td>\n",
       "      <td>1320</td>\n",
       "      <td>N</td>\n",
       "    </tr>\n",
       "    <tr>\n",
       "      <th>2</th>\n",
       "      <td>0LpVTc3</td>\n",
       "      <td>TRKxLC3y-ZvP45e5iilMtw</td>\n",
       "      <td>pbEiXam9YJL3neCYHGwLUA</td>\n",
       "      <td>Probably one of the best meals I've had ever. ...</td>\n",
       "      <td>5</td>\n",
       "      <td>0</td>\n",
       "      <td>0</td>\n",
       "      <td>0</td>\n",
       "      <td>9/22/2012</td>\n",
       "      <td>00:00.0</td>\n",
       "      <td>...</td>\n",
       "      <td>Restaurants</td>\n",
       "      <td>4.0</td>\n",
       "      <td>0</td>\n",
       "      <td>15</td>\n",
       "      <td>0</td>\n",
       "      <td>4</td>\n",
       "      <td>2</td>\n",
       "      <td>4</td>\n",
       "      <td>241</td>\n",
       "      <td>N</td>\n",
       "    </tr>\n",
       "    <tr>\n",
       "      <th>3</th>\n",
       "      <td>V0PU0ciEBeNiHHS1</td>\n",
       "      <td>-3Mzc2O6jmYLWQJcIJdvAA</td>\n",
       "      <td>pbEiXam9YJL3neCYHGwLUA</td>\n",
       "      <td>Today marks one year since my dinner at Alinea...</td>\n",
       "      <td>5</td>\n",
       "      <td>1</td>\n",
       "      <td>1</td>\n",
       "      <td>0</td>\n",
       "      <td>9/11/2012</td>\n",
       "      <td>00:00.0</td>\n",
       "      <td>...</td>\n",
       "      <td>Restaurants</td>\n",
       "      <td>4.0</td>\n",
       "      <td>0</td>\n",
       "      <td>64</td>\n",
       "      <td>0</td>\n",
       "      <td>4</td>\n",
       "      <td>1</td>\n",
       "      <td>3</td>\n",
       "      <td>1108</td>\n",
       "      <td>N</td>\n",
       "    </tr>\n",
       "    <tr>\n",
       "      <th>4</th>\n",
       "      <td>tOC0u8KRXVJdYT9mFTEwvw</td>\n",
       "      <td>lXG7Mbhi6_nXaTZojpneUg</td>\n",
       "      <td>pbEiXam9YJL3neCYHGwLUA</td>\n",
       "      <td>Best restaurant I have ever visited in the Uni...</td>\n",
       "      <td>5</td>\n",
       "      <td>0</td>\n",
       "      <td>0</td>\n",
       "      <td>0</td>\n",
       "      <td>7/2/2012</td>\n",
       "      <td>00:00.0</td>\n",
       "      <td>...</td>\n",
       "      <td>Restaurants</td>\n",
       "      <td>4.0</td>\n",
       "      <td>0</td>\n",
       "      <td>0</td>\n",
       "      <td>0</td>\n",
       "      <td>16</td>\n",
       "      <td>2</td>\n",
       "      <td>3</td>\n",
       "      <td>789</td>\n",
       "      <td>N</td>\n",
       "    </tr>\n",
       "  </tbody>\n",
       "</table>\n",
       "<p>5 rows × 30 columns</p>\n",
       "</div>"
      ],
      "text/plain": [
       "                 reviewid              reviewerid              businessid  \\\n",
       "0                   LGCYk  KJmXsA1zFPH-n6r14JcYLw  SfRCNiCTPfGwzHEM_hCVZQ   \n",
       "1  GtwU21YOQn-wf4vWRUIx6w  bNYesZ944s6IJVowOnB0iA  pbEiXam9YJL3neCYHGwLUA   \n",
       "2                 0LpVTc3  TRKxLC3y-ZvP45e5iilMtw  pbEiXam9YJL3neCYHGwLUA   \n",
       "3        V0PU0ciEBeNiHHS1  -3Mzc2O6jmYLWQJcIJdvAA  pbEiXam9YJL3neCYHGwLUA   \n",
       "4  tOC0u8KRXVJdYT9mFTEwvw  lXG7Mbhi6_nXaTZojpneUg  pbEiXam9YJL3neCYHGwLUA   \n",
       "\n",
       "                                       reviewcontent  reviewrating  \\\n",
       "0  I came here with a group of people for a birth...             4   \n",
       "1  Unlike Next, which we'd eaten at the previous ...             5   \n",
       "2  Probably one of the best meals I've had ever. ...             5   \n",
       "3  Today marks one year since my dinner at Alinea...             5   \n",
       "4  Best restaurant I have ever visited in the Uni...             5   \n",
       "\n",
       "   reusefulcount  recoolcount  refunnycount reviewDate yelpjoindate  ...  \\\n",
       "0              0            0             0  4/30/2012      00:00.0  ...   \n",
       "1              0            0             0  9/22/2012      00:00.0  ...   \n",
       "2              0            0             0  9/22/2012      00:00.0  ...   \n",
       "3              1            1             0  9/11/2012      00:00.0  ...   \n",
       "4              0            0             0   7/2/2012      00:00.0  ...   \n",
       "\n",
       "      buscateg  pricerange  filreviewcount  monmembership  firstreview  \\\n",
       "0       Hotels         2.0               6             46            0   \n",
       "1  Restaurants         4.0               0             36            0   \n",
       "2  Restaurants         4.0               0             15            0   \n",
       "3  Restaurants         4.0               0             64            0   \n",
       "4  Restaurants         4.0               0              0            0   \n",
       "\n",
       "   maxReviewDay  avgReviewDay  avgpostedrating  avgreviewlen  flagged  \n",
       "0             7             1                3           711        N  \n",
       "1             6             1                3          1320        N  \n",
       "2             4             2                4           241        N  \n",
       "3             4             1                3          1108        N  \n",
       "4            16             2                3           789        N  \n",
       "\n",
       "[5 rows x 30 columns]"
      ]
     },
     "execution_count": 3,
     "metadata": {},
     "output_type": "execute_result"
    }
   ],
   "source": [
    "raw_data.head(5)"
   ]
  },
  {
   "cell_type": "code",
   "execution_count": 4,
   "metadata": {},
   "outputs": [
    {
     "data": {
      "text/html": [
       "<div>\n",
       "<style scoped>\n",
       "    .dataframe tbody tr th:only-of-type {\n",
       "        vertical-align: middle;\n",
       "    }\n",
       "\n",
       "    .dataframe tbody tr th {\n",
       "        vertical-align: top;\n",
       "    }\n",
       "\n",
       "    .dataframe thead th {\n",
       "        text-align: right;\n",
       "    }\n",
       "</style>\n",
       "<table border=\"1\" class=\"dataframe\">\n",
       "  <thead>\n",
       "    <tr style=\"text-align: right;\">\n",
       "      <th></th>\n",
       "      <th>reviewid</th>\n",
       "      <th>reviewerid</th>\n",
       "      <th>businessid</th>\n",
       "      <th>reviewcontent</th>\n",
       "      <th>reviewrating</th>\n",
       "      <th>reusefulcount</th>\n",
       "      <th>recoolcount</th>\n",
       "      <th>refunnycount</th>\n",
       "      <th>reviewDate</th>\n",
       "      <th>yelpjoindate</th>\n",
       "      <th>...</th>\n",
       "      <th>buscateg</th>\n",
       "      <th>pricerange</th>\n",
       "      <th>filreviewcount</th>\n",
       "      <th>monmembership</th>\n",
       "      <th>firstreview</th>\n",
       "      <th>maxReviewDay</th>\n",
       "      <th>avgReviewDay</th>\n",
       "      <th>avgpostedrating</th>\n",
       "      <th>avgreviewlen</th>\n",
       "      <th>flagged</th>\n",
       "    </tr>\n",
       "  </thead>\n",
       "  <tbody>\n",
       "    <tr>\n",
       "      <th>0</th>\n",
       "      <td>LGCYk</td>\n",
       "      <td>KJmXsA1zFPH-n6r14JcYLw</td>\n",
       "      <td>SfRCNiCTPfGwzHEM_hCVZQ</td>\n",
       "      <td>I came here with a group of people for a birth...</td>\n",
       "      <td>4</td>\n",
       "      <td>0</td>\n",
       "      <td>0</td>\n",
       "      <td>0</td>\n",
       "      <td>4/30/2012</td>\n",
       "      <td>00:00.0</td>\n",
       "      <td>...</td>\n",
       "      <td>Hotels</td>\n",
       "      <td>2.0</td>\n",
       "      <td>6</td>\n",
       "      <td>46</td>\n",
       "      <td>0</td>\n",
       "      <td>7</td>\n",
       "      <td>1</td>\n",
       "      <td>3</td>\n",
       "      <td>711</td>\n",
       "      <td>N</td>\n",
       "    </tr>\n",
       "    <tr>\n",
       "      <th>1</th>\n",
       "      <td>GtwU21YOQn-wf4vWRUIx6w</td>\n",
       "      <td>bNYesZ944s6IJVowOnB0iA</td>\n",
       "      <td>pbEiXam9YJL3neCYHGwLUA</td>\n",
       "      <td>Unlike Next, which we'd eaten at the previous ...</td>\n",
       "      <td>5</td>\n",
       "      <td>0</td>\n",
       "      <td>0</td>\n",
       "      <td>0</td>\n",
       "      <td>9/22/2012</td>\n",
       "      <td>00:00.0</td>\n",
       "      <td>...</td>\n",
       "      <td>Restaurants</td>\n",
       "      <td>4.0</td>\n",
       "      <td>0</td>\n",
       "      <td>36</td>\n",
       "      <td>0</td>\n",
       "      <td>6</td>\n",
       "      <td>1</td>\n",
       "      <td>3</td>\n",
       "      <td>1320</td>\n",
       "      <td>N</td>\n",
       "    </tr>\n",
       "    <tr>\n",
       "      <th>2</th>\n",
       "      <td>0LpVTc3</td>\n",
       "      <td>TRKxLC3y-ZvP45e5iilMtw</td>\n",
       "      <td>pbEiXam9YJL3neCYHGwLUA</td>\n",
       "      <td>Probably one of the best meals I've had ever. ...</td>\n",
       "      <td>5</td>\n",
       "      <td>0</td>\n",
       "      <td>0</td>\n",
       "      <td>0</td>\n",
       "      <td>9/22/2012</td>\n",
       "      <td>00:00.0</td>\n",
       "      <td>...</td>\n",
       "      <td>Restaurants</td>\n",
       "      <td>4.0</td>\n",
       "      <td>0</td>\n",
       "      <td>15</td>\n",
       "      <td>0</td>\n",
       "      <td>4</td>\n",
       "      <td>2</td>\n",
       "      <td>4</td>\n",
       "      <td>241</td>\n",
       "      <td>N</td>\n",
       "    </tr>\n",
       "    <tr>\n",
       "      <th>3</th>\n",
       "      <td>V0PU0ciEBeNiHHS1</td>\n",
       "      <td>-3Mzc2O6jmYLWQJcIJdvAA</td>\n",
       "      <td>pbEiXam9YJL3neCYHGwLUA</td>\n",
       "      <td>Today marks one year since my dinner at Alinea...</td>\n",
       "      <td>5</td>\n",
       "      <td>1</td>\n",
       "      <td>1</td>\n",
       "      <td>0</td>\n",
       "      <td>9/11/2012</td>\n",
       "      <td>00:00.0</td>\n",
       "      <td>...</td>\n",
       "      <td>Restaurants</td>\n",
       "      <td>4.0</td>\n",
       "      <td>0</td>\n",
       "      <td>64</td>\n",
       "      <td>0</td>\n",
       "      <td>4</td>\n",
       "      <td>1</td>\n",
       "      <td>3</td>\n",
       "      <td>1108</td>\n",
       "      <td>N</td>\n",
       "    </tr>\n",
       "    <tr>\n",
       "      <th>4</th>\n",
       "      <td>tOC0u8KRXVJdYT9mFTEwvw</td>\n",
       "      <td>lXG7Mbhi6_nXaTZojpneUg</td>\n",
       "      <td>pbEiXam9YJL3neCYHGwLUA</td>\n",
       "      <td>Best restaurant I have ever visited in the Uni...</td>\n",
       "      <td>5</td>\n",
       "      <td>0</td>\n",
       "      <td>0</td>\n",
       "      <td>0</td>\n",
       "      <td>7/2/2012</td>\n",
       "      <td>00:00.0</td>\n",
       "      <td>...</td>\n",
       "      <td>Restaurants</td>\n",
       "      <td>4.0</td>\n",
       "      <td>0</td>\n",
       "      <td>0</td>\n",
       "      <td>0</td>\n",
       "      <td>16</td>\n",
       "      <td>2</td>\n",
       "      <td>3</td>\n",
       "      <td>789</td>\n",
       "      <td>N</td>\n",
       "    </tr>\n",
       "  </tbody>\n",
       "</table>\n",
       "<p>5 rows × 30 columns</p>\n",
       "</div>"
      ],
      "text/plain": [
       "                 reviewid              reviewerid              businessid  \\\n",
       "0                   LGCYk  KJmXsA1zFPH-n6r14JcYLw  SfRCNiCTPfGwzHEM_hCVZQ   \n",
       "1  GtwU21YOQn-wf4vWRUIx6w  bNYesZ944s6IJVowOnB0iA  pbEiXam9YJL3neCYHGwLUA   \n",
       "2                 0LpVTc3  TRKxLC3y-ZvP45e5iilMtw  pbEiXam9YJL3neCYHGwLUA   \n",
       "3        V0PU0ciEBeNiHHS1  -3Mzc2O6jmYLWQJcIJdvAA  pbEiXam9YJL3neCYHGwLUA   \n",
       "4  tOC0u8KRXVJdYT9mFTEwvw  lXG7Mbhi6_nXaTZojpneUg  pbEiXam9YJL3neCYHGwLUA   \n",
       "\n",
       "                                       reviewcontent  reviewrating  \\\n",
       "0  I came here with a group of people for a birth...             4   \n",
       "1  Unlike Next, which we'd eaten at the previous ...             5   \n",
       "2  Probably one of the best meals I've had ever. ...             5   \n",
       "3  Today marks one year since my dinner at Alinea...             5   \n",
       "4  Best restaurant I have ever visited in the Uni...             5   \n",
       "\n",
       "   reusefulcount  recoolcount  refunnycount reviewDate yelpjoindate  ...  \\\n",
       "0              0            0             0  4/30/2012      00:00.0  ...   \n",
       "1              0            0             0  9/22/2012      00:00.0  ...   \n",
       "2              0            0             0  9/22/2012      00:00.0  ...   \n",
       "3              1            1             0  9/11/2012      00:00.0  ...   \n",
       "4              0            0             0   7/2/2012      00:00.0  ...   \n",
       "\n",
       "      buscateg  pricerange  filreviewcount  monmembership  firstreview  \\\n",
       "0       Hotels         2.0               6             46            0   \n",
       "1  Restaurants         4.0               0             36            0   \n",
       "2  Restaurants         4.0               0             15            0   \n",
       "3  Restaurants         4.0               0             64            0   \n",
       "4  Restaurants         4.0               0              0            0   \n",
       "\n",
       "   maxReviewDay  avgReviewDay  avgpostedrating  avgreviewlen  flagged  \n",
       "0             7             1                3           711        N  \n",
       "1             6             1                3          1320        N  \n",
       "2             4             2                4           241        N  \n",
       "3             4             1                3          1108        N  \n",
       "4            16             2                3           789        N  \n",
       "\n",
       "[5 rows x 30 columns]"
      ]
     },
     "execution_count": 4,
     "metadata": {},
     "output_type": "execute_result"
    }
   ],
   "source": [
    "\n",
    "# repalce NR = N, YR =Y\n",
    "#raw_data[['flagged']]= raw_data[['flagged']].replace('NR','N')\n",
    "#raw_data[['flagged']]= raw_data[['flagged']].replace('YR','Y')\n",
    "raw_data = raw_data.loc[(raw_data['flagged'] !='NR') & (raw_data['flagged']!='YR') ]\n",
    "\n",
    "\n",
    "#seed = 138\n",
    "#raw_data = shuffle(raw_data, seed)\n",
    "raw_data.head(5)"
   ]
  },
  {
   "cell_type": "code",
   "execution_count": 5,
   "metadata": {},
   "outputs": [],
   "source": [
    "#df = raw_data.sample(5000).groupby('flagged').head(5000)\n",
    "#\n",
    "\n",
    "fn = lambda obj: obj.loc[np.random.choice(obj.index, 5000, True),:]\n",
    "df = raw_data.groupby('flagged', as_index=False).apply(fn)\n",
    "df.reset_index(drop=True, inplace=True)\n",
    "\n"
   ]
  },
  {
   "cell_type": "code",
   "execution_count": 6,
   "metadata": {
    "scrolled": true
   },
   "outputs": [
    {
     "data": {
      "text/html": [
       "<div>\n",
       "<style scoped>\n",
       "    .dataframe tbody tr th:only-of-type {\n",
       "        vertical-align: middle;\n",
       "    }\n",
       "\n",
       "    .dataframe tbody tr th {\n",
       "        vertical-align: top;\n",
       "    }\n",
       "\n",
       "    .dataframe thead th {\n",
       "        text-align: right;\n",
       "    }\n",
       "</style>\n",
       "<table border=\"1\" class=\"dataframe\">\n",
       "  <thead>\n",
       "    <tr style=\"text-align: right;\">\n",
       "      <th></th>\n",
       "      <th>flagged</th>\n",
       "      <th>buscateg</th>\n",
       "      <th>pricerange</th>\n",
       "      <th>firstreview</th>\n",
       "    </tr>\n",
       "  </thead>\n",
       "  <tbody>\n",
       "    <tr>\n",
       "      <th>0</th>\n",
       "      <td>N</td>\n",
       "      <td>Restaurants</td>\n",
       "      <td>2.0</td>\n",
       "      <td>0</td>\n",
       "    </tr>\n",
       "    <tr>\n",
       "      <th>1</th>\n",
       "      <td>N</td>\n",
       "      <td>Restaurants</td>\n",
       "      <td>3.0</td>\n",
       "      <td>0</td>\n",
       "    </tr>\n",
       "    <tr>\n",
       "      <th>2</th>\n",
       "      <td>N</td>\n",
       "      <td>Restaurants</td>\n",
       "      <td>3.0</td>\n",
       "      <td>0</td>\n",
       "    </tr>\n",
       "    <tr>\n",
       "      <th>3</th>\n",
       "      <td>N</td>\n",
       "      <td>Restaurants</td>\n",
       "      <td>2.0</td>\n",
       "      <td>0</td>\n",
       "    </tr>\n",
       "    <tr>\n",
       "      <th>4</th>\n",
       "      <td>N</td>\n",
       "      <td>Restaurants</td>\n",
       "      <td>2.0</td>\n",
       "      <td>0</td>\n",
       "    </tr>\n",
       "    <tr>\n",
       "      <th>5</th>\n",
       "      <td>N</td>\n",
       "      <td>Restaurants</td>\n",
       "      <td>3.0</td>\n",
       "      <td>0</td>\n",
       "    </tr>\n",
       "    <tr>\n",
       "      <th>6</th>\n",
       "      <td>N</td>\n",
       "      <td>Restaurants</td>\n",
       "      <td>2.0</td>\n",
       "      <td>0</td>\n",
       "    </tr>\n",
       "    <tr>\n",
       "      <th>7</th>\n",
       "      <td>N</td>\n",
       "      <td>Restaurants</td>\n",
       "      <td>2.0</td>\n",
       "      <td>0</td>\n",
       "    </tr>\n",
       "    <tr>\n",
       "      <th>8</th>\n",
       "      <td>N</td>\n",
       "      <td>Restaurants</td>\n",
       "      <td>3.0</td>\n",
       "      <td>0</td>\n",
       "    </tr>\n",
       "    <tr>\n",
       "      <th>9</th>\n",
       "      <td>N</td>\n",
       "      <td>Restaurants</td>\n",
       "      <td>3.0</td>\n",
       "      <td>0</td>\n",
       "    </tr>\n",
       "  </tbody>\n",
       "</table>\n",
       "</div>"
      ],
      "text/plain": [
       "  flagged     buscateg  pricerange  firstreview\n",
       "0       N  Restaurants         2.0            0\n",
       "1       N  Restaurants         3.0            0\n",
       "2       N  Restaurants         3.0            0\n",
       "3       N  Restaurants         2.0            0\n",
       "4       N  Restaurants         2.0            0\n",
       "5       N  Restaurants         3.0            0\n",
       "6       N  Restaurants         2.0            0\n",
       "7       N  Restaurants         2.0            0\n",
       "8       N  Restaurants         3.0            0\n",
       "9       N  Restaurants         3.0            0"
      ]
     },
     "execution_count": 6,
     "metadata": {},
     "output_type": "execute_result"
    }
   ],
   "source": [
    "df[['flagged','buscateg','pricerange','firstreview']].head(10)"
   ]
  },
  {
   "cell_type": "markdown",
   "metadata": {},
   "source": [
    "# 2 EAD\n",
    "\n",
    "i have to do EAD in this steps\n",
    "all cleanning step will be implement in SQL server\n",
    "\n",
    "something need to show in EAD:\n",
    "- summarise statistic\n",
    "- proportion of fake and non fake in dataset\n",
    "- the relation between \"flagged and other feature\""
   ]
  },
  {
   "cell_type": "markdown",
   "metadata": {},
   "source": [
    "## 2.1 Sumarize statistic"
   ]
  },
  {
   "cell_type": "code",
   "execution_count": 7,
   "metadata": {},
   "outputs": [
    {
     "name": "stdout",
     "output_type": "stream",
     "text": [
      "       reviewrating  reusefulcount  recoolcount  refunnycount  friendcount  \\\n",
      "count      10000.00       10000.00     10000.00      10000.00     10000.00   \n",
      "mean           3.81           0.45         0.26          0.24        35.77   \n",
      "std            1.31           1.72         1.34          1.34       199.98   \n",
      "min            1.00           0.00         0.00          0.00         0.00   \n",
      "25%            3.00           0.00         0.00          0.00         0.00   \n",
      "50%            4.00           0.00         0.00          0.00         1.00   \n",
      "75%            5.00           0.00         0.00          0.00        14.00   \n",
      "max            5.00          57.00        52.00         54.00      4924.00   \n",
      "\n",
      "       fancount  tipcount  reviewcount  firstcount  usefulcount  ...  \\\n",
      "count  10000.00  10000.00     10000.00    10000.00     10000.00  ...   \n",
      "mean       3.56      9.72        64.96        4.62       138.70  ...   \n",
      "std       24.35     56.22       168.03       21.24       870.34  ...   \n",
      "min        0.00      0.00         1.00        0.00         0.00  ...   \n",
      "25%        0.00      0.00         3.00        0.00         0.00  ...   \n",
      "50%        0.00      0.00         9.00        0.00         4.00  ...   \n",
      "75%        1.00      0.00        42.00        1.00        30.00  ...   \n",
      "max     1017.00   1619.00      2162.00      753.00     23034.00  ...   \n",
      "\n",
      "       funnycount  busrating  pricerange  filreviewcount  monmembership  \\\n",
      "count    10000.00   10000.00     9999.00        10000.00       10000.00   \n",
      "mean        84.38       3.89        2.32           45.72          12.13   \n",
      "std        637.73       0.32        0.67           59.65          15.48   \n",
      "min          0.00       1.00        1.00            0.00           0.00   \n",
      "25%          0.00       4.00        2.00            0.00           0.00   \n",
      "50%          1.00       4.00        2.00           14.00           5.00   \n",
      "75%         10.00       4.00        3.00           77.00          21.00   \n",
      "max      16952.00       4.50        4.00          241.00          84.00   \n",
      "\n",
      "       firstreview  maxReviewDay  avgReviewDay  avgpostedrating  avgreviewlen  \n",
      "count     10000.00      10000.00      10000.00         10000.00      10000.00  \n",
      "mean          0.00          6.16          2.05             3.30        646.76  \n",
      "std           0.03          7.55          1.95             0.93        439.92  \n",
      "min           0.00          1.00          1.00             1.00          1.00  \n",
      "25%           0.00          2.00          1.00             3.00        349.00  \n",
      "50%           0.00          4.00          1.00             3.00        552.00  \n",
      "75%           0.00          8.00          2.00             4.00        835.00  \n",
      "max           1.00        116.00         46.00             5.00       4977.00  \n",
      "\n",
      "[8 rows x 22 columns]\n"
     ]
    },
    {
     "data": {
      "text/plain": [
       "reviewid           0\n",
       "reviewerid         0\n",
       "businessid         0\n",
       "reviewcontent      0\n",
       "reviewrating       0\n",
       "reusefulcount      0\n",
       "recoolcount        0\n",
       "refunnycount       0\n",
       "reviewDate         0\n",
       "yelpjoindate       0\n",
       "friendcount        0\n",
       "fancount           0\n",
       "tipcount           0\n",
       "reviewcount        0\n",
       "firstcount         0\n",
       "usefulcount        0\n",
       "coolcount          0\n",
       "complimentcount    0\n",
       "funnycount         0\n",
       "busrating          0\n",
       "buscateg           0\n",
       "pricerange         1\n",
       "filreviewcount     0\n",
       "monmembership      0\n",
       "firstreview        0\n",
       "maxReviewDay       0\n",
       "avgReviewDay       0\n",
       "avgpostedrating    0\n",
       "avgreviewlen       0\n",
       "flagged            0\n",
       "dtype: int64"
      ]
     },
     "execution_count": 7,
     "metadata": {},
     "output_type": "execute_result"
    }
   ],
   "source": [
    "# Summarize statistic\n",
    "print(round(df.describe(),2))\n",
    "df.isna().sum()"
   ]
  },
  {
   "cell_type": "code",
   "execution_count": 8,
   "metadata": {},
   "outputs": [],
   "source": [
    "df['pricerange'] = df['pricerange'].fillna(0.0)"
   ]
  },
  {
   "cell_type": "code",
   "execution_count": 9,
   "metadata": {},
   "outputs": [
    {
     "name": "stdout",
     "output_type": "stream",
     "text": [
      "N    5000\n",
      "Y    5000\n",
      "Name: flagged, dtype: int64\n",
      "% filtered reviews: 50.0\n",
      "% non-filtered reviews: 50.0\n"
     ]
    }
   ],
   "source": [
    "# checking data distribution\n",
    "Y = df['flagged']\n",
    "\n",
    "print(Y.value_counts())\n",
    "\n",
    "print('% filtered reviews: {}'.format(round(Y.value_counts()[0]/len(Y)*100),3))\n",
    "print('% non-filtered reviews: {}'.format(round(Y.value_counts()[1]/len(Y)*100),2))"
   ]
  },
  {
   "cell_type": "markdown",
   "metadata": {},
   "source": [
    "# 3. Data Preprocessing\n",
    "## 3.1 Text data\n",
    "\n",
    "steps:\n",
    "- generate new fields: look at notebook\n",
    "    + review length\n",
    "    + ...\n",
    "- text feature genereate: n-gram, POS, Bag of words, TF-IDF\n",
    "- sentiment analysis\n",
    "- opinion mining\n",
    "- integrate text feature back to the dataframe\n"
   ]
  },
  {
   "cell_type": "code",
   "execution_count": 10,
   "metadata": {},
   "outputs": [],
   "source": [
    "from sklearn.preprocessing import LabelEncoder"
   ]
  },
  {
   "cell_type": "code",
   "execution_count": 11,
   "metadata": {},
   "outputs": [
    {
     "name": "stdout",
     "output_type": "stream",
     "text": [
      "0    I'm really glad RevBrew opened up in the neigh...\n",
      "1    Client dinner and wow what a treat. Food was a...\n",
      "2    I've been to Sunda twice now. First time was f...\n",
      "3    Decided to finally check out Cafe 28 after rea...\n",
      "4    My hubby and I went in on Saturday night to ce...\n",
      "5    I adore the entire concept that Violet Hour re...\n",
      "6    We went to Chicago Q today (opening day) at ar...\n",
      "7    I took my parents and grandparents here when t...\n",
      "8    Met my friend for a dinner to catch up before ...\n",
      "9    ************* REVIEW 144 **************** I've...\n",
      "Name: reviewcontent, dtype: object\n"
     ]
    },
    {
     "name": "stderr",
     "output_type": "stream",
     "text": [
      "C:\\Users\\quoch\\Anaconda3\\lib\\site-packages\\ipykernel_launcher.py:42: SettingWithCopyWarning: \n",
      "A value is trying to be set on a copy of a slice from a DataFrame.\n",
      "Try using .loc[row_indexer,col_indexer] = value instead\n",
      "\n",
      "See the caveats in the documentation: http://pandas.pydata.org/pandas-docs/stable/indexing.html#indexing-view-versus-copy\n",
      "C:\\Users\\quoch\\Anaconda3\\lib\\site-packages\\ipykernel_launcher.py:43: SettingWithCopyWarning: \n",
      "A value is trying to be set on a copy of a slice from a DataFrame.\n",
      "Try using .loc[row_indexer,col_indexer] = value instead\n",
      "\n",
      "See the caveats in the documentation: http://pandas.pydata.org/pandas-docs/stable/indexing.html#indexing-view-versus-copy\n",
      "C:\\Users\\quoch\\Anaconda3\\lib\\site-packages\\ipykernel_launcher.py:44: SettingWithCopyWarning: \n",
      "A value is trying to be set on a copy of a slice from a DataFrame.\n",
      "Try using .loc[row_indexer,col_indexer] = value instead\n",
      "\n",
      "See the caveats in the documentation: http://pandas.pydata.org/pandas-docs/stable/indexing.html#indexing-view-versus-copy\n"
     ]
    }
   ],
   "source": [
    "# store the sms message data to diff dataframe\n",
    "df['flagged'] = df['flagged'].astype('category')\n",
    "df['buscateg'] = df['buscateg'].astype('category')\n",
    "df['pricerange'] = df['pricerange'].astype('category')\n",
    "df['firstreview'] = df['firstreview'].astype('category')\n",
    "\n",
    "\n",
    "review_content = df['reviewcontent']\n",
    "behavior_attr = df[['reviewrating',\n",
    "                    'reusefulcount',\n",
    "                    'recoolcount',\n",
    "                    'refunnycount',\n",
    "                    'friendcount',\n",
    "                    'fancount',\n",
    "                    'tipcount',\n",
    "                    'reviewcount',\n",
    "                    'firstcount',\n",
    "                    'usefulcount',\n",
    "                    'coolcount',\n",
    "                    'complimentcount',\n",
    "                    'funnycount',\n",
    "                    'busrating',\n",
    "                    'buscateg',\n",
    "                    'pricerange',\n",
    "                    'monmembership',\n",
    "                    'firstreview',\n",
    "                    'maxReviewDay',\n",
    "                    'avgReviewDay',\n",
    "                    'avgpostedrating',\n",
    "                    'avgreviewlen'\n",
    "                    ]]\n",
    "\n",
    "# replace NaN with space\n",
    "review_content = review_content.fillna('')\n",
    "\n",
    "\n",
    "\n",
    "# convert class labels to binary values, 0 = ham and 1 = spam\n",
    "encoder = LabelEncoder()\n",
    "Y = encoder.fit_transform(df['flagged'])\n",
    "\n",
    "behavior_attr['buscateg'] =  encoder.fit_transform(behavior_attr['buscateg'])\n",
    "behavior_attr['pricerange'] = encoder.fit_transform(behavior_attr['pricerange'])\n",
    "behavior_attr['firstreview'] = encoder.fit_transform(behavior_attr['firstreview'])\n",
    "\n",
    "print(review_content[:10])"
   ]
  },
  {
   "cell_type": "code",
   "execution_count": 12,
   "metadata": {},
   "outputs": [
    {
     "data": {
      "text/plain": [
       "(10000,)"
      ]
     },
     "execution_count": 12,
     "metadata": {},
     "output_type": "execute_result"
    }
   ],
   "source": [
    "Y.shape"
   ]
  },
  {
   "cell_type": "code",
   "execution_count": 14,
   "metadata": {},
   "outputs": [],
   "source": [
    "# use regular expressions to replace email address, URLs, Phone numbers, other numbers\n",
    "\n",
    "# Replace email addresses with 'email'\n",
    "processed = review_content.str.replace(r'^.+@[^\\.].*\\.[a-z]{2,}$',\n",
    "                                      'emailaddress')\n",
    "\n",
    "# Replace URLs with 'webaddress'\n",
    "processed = processed.str.replace(r'^http\\://[a-zA-Z0-9\\-\\.]+\\.[a-zA-Z]{2,3}(/\\S*)?$',\n",
    "                                   'webaddress')\n",
    "\n",
    "# Replace moneu symbols with 'moneysymb' (€,£)\n",
    "processed = processed.str.replace(r'€|\\$|£', 'moneysymb')\n",
    "\n",
    "# replac 10 digit phone numbers (formats include paranthesis, space, no space, dashes) with phonenumber\n",
    "processed = processed.str.replace(r'^\\(?[\\d]{3}\\)?[\\s-]?[\\d]{3}[\\s-]?[\\d]{4}$',\n",
    "                                 'phonenumber')\n",
    "\n",
    "#replace numbers with 'number'\n",
    "processed = processed.str.replace(r'\\d+(\\.\\d+)?','number')"
   ]
  },
  {
   "cell_type": "code",
   "execution_count": 15,
   "metadata": {},
   "outputs": [],
   "source": [
    "# Remove Punctuation\n",
    "processed = processed.str.replace(r'[^\\w\\d\\s]', ' ')\n",
    "\n",
    "# replace whitespac between terms with a single space\n",
    "processed = processed.str.replace(r'\\s+',' ') \n",
    "\n",
    "# remove leading and trailing whitespace\n",
    "processed = processed.str.replace(r'^\\s+|\\s+?$','')"
   ]
  },
  {
   "cell_type": "code",
   "execution_count": 16,
   "metadata": {},
   "outputs": [
    {
     "name": "stdout",
     "output_type": "stream",
     "text": [
      "0       i m really glad revbrew opened up in the neigh...\n",
      "1       client dinner and wow what a treat food was ab...\n",
      "2       i ve been to sunda twice now first time was fo...\n",
      "3       decided to finally check out cafe number after...\n",
      "4       my hubby and i went in on saturday night to ce...\n",
      "5       i adore the entire concept that violet hour re...\n",
      "6       we went to chicago q today opening day at arou...\n",
      "7       i took my parents and grandparents here when t...\n",
      "8       met my friend for a dinner to catch up before ...\n",
      "9       review number i ve been coming here for number...\n",
      "10      carrie m s response to my review on number num...\n",
      "11      definitely one of the best locations on michig...\n",
      "12      great place to eat they tell you its like ital...\n",
      "13      drinks bar in town for my significant others c...\n",
      "14      went to glenn s diner for lunch and it was gre...\n",
      "15      i loved this place it was a lot bigger then ex...\n",
      "16      wife and i were taking a bucket list train tou...\n",
      "17      so im a big fan of hells kitchen and they alwa...\n",
      "18      my meal here is an example of when borderline ...\n",
      "19      great deep dish pizza pie wait was very long e...\n",
      "20      mmm mmmm finally came here after hearing about...\n",
      "21      i forgot to mention they were cool with bringi...\n",
      "22      chicago q is a beautiful restaurant it is much...\n",
      "23      solid sunday brunch experience i would actuall...\n",
      "24      food was delicious my steak was a little salty...\n",
      "25      xoco never ceases to please even when i m stan...\n",
      "26      low key take out or dine in cafe style open la...\n",
      "27      here i was staying for number nights in a hote...\n",
      "28      oh how i love you sultan s i m always tempted ...\n",
      "29      old world charm great customer service hotel b...\n",
      "                              ...                        \n",
      "9970    the food is amazing but the people who work he...\n",
      "9971    we went here for dinner got here early at numb...\n",
      "9972                                 best deep dish pizza\n",
      "9973    went in there for some romanian food btw the f...\n",
      "9974    i ordered a pizza the other night i wasn t in ...\n",
      "9975    i ve been to icosium a few times now i love th...\n",
      "9976    you want great food at a low cost done you wan...\n",
      "9977    maybe my review is biased and i will say that ...\n",
      "9978    i was expecting chicago style pizza but it was...\n",
      "9979    worst service ever food is good but they run o...\n",
      "9980    perfection on a plate i love this restaurant m...\n",
      "9981    when i first stayed here number years ago i wo...\n",
      "9982    my boyfriend and i stayed at the knickerbocker...\n",
      "9983    the mushroom sausage pizza was absolutely fans...\n",
      "9984    i was really disappointed with my child s birt...\n",
      "9985    went here with the wife for our anniversary di...\n",
      "9986    in two words tourist trap i waited number year...\n",
      "9987    number stars my wife and i were having our dat...\n",
      "9988    numbernd time i ve eaten here not coming back ...\n",
      "9989    this is my favorite take out place i have neve...\n",
      "9990    i live just a few blocks away from nana and be...\n",
      "9991    highly recommended i live in lisle illinois so...\n",
      "9992    found this bistro on groupon wonderful atmosph...\n",
      "9993    gilt bar you have answered my prayers all that...\n",
      "9994    beers were just alright bacon fat popcorn was ...\n",
      "9995    i love good authentic mexican food garcia s is...\n",
      "9996    went with my wife tonight had a great meal and...\n",
      "9997    my husband and i had a wonderful stay here the...\n",
      "9998    orack goes into putrid and vomitous l e on a s...\n",
      "9999    this place has some of the best burgers in the...\n",
      "Name: reviewcontent, Length: 10000, dtype: object\n"
     ]
    }
   ],
   "source": [
    "# change words to lower case\n",
    "processed = processed.str.lower()\n",
    "print(processed)"
   ]
  },
  {
   "cell_type": "code",
   "execution_count": 17,
   "metadata": {},
   "outputs": [],
   "source": [
    "# remove stopwords from text sms\n",
    "from nltk.corpus import stopwords\n",
    "\n",
    "stop_words = set(stopwords.words('english'))\n",
    "\n",
    "processed = processed.apply(lambda x: ' '.join(\n",
    "            term for term in x.split() if term not in stop_words))"
   ]
  },
  {
   "cell_type": "code",
   "execution_count": 18,
   "metadata": {},
   "outputs": [
    {
     "name": "stdout",
     "output_type": "stream",
     "text": [
      "0       really glad revbrew opened neighborhood craft ...\n",
      "1       client dinner wow treat food absolutely fantas...\n",
      "2       sunda twice first time dinner second time sund...\n",
      "3       decided finally check cafe number reading huge...\n",
      "4       hubby went saturday night celebrate late valen...\n",
      "5       adore entire concept violet hour represents da...\n",
      "6       went chicago q today opening day around number...\n",
      "7       took parents grandparents came town grandparen...\n",
      "8       met friend dinner catch turkey day last week c...\n",
      "9       review number coming number years dinner cockt...\n",
      "10      carrie response review number number number in...\n",
      "11      definitely one best locations michigan avenue ...\n",
      "12      great place eat tell like italian tapas slight...\n",
      "13      drinks bar town significant others conference ...\n",
      "14      went glenn diner lunch great disappointed coul...\n",
      "15      loved place lot bigger expected food amazing i...\n",
      "16      wife taking bucket list train tour us arrived ...\n",
      "17      im big fan hells kitchen always make risotto n...\n",
      "18      meal example borderline stalking social networ...\n",
      "19      great deep dish pizza pie wait long expect num...\n",
      "20      mmm mmmm finally came hearing lots people disa...\n",
      "21      forgot mention cool bringing little one us not...\n",
      "22      chicago q beautiful restaurant much bigger loo...\n",
      "23      solid sunday brunch experience would actually ...\n",
      "24      food delicious steak little salty im someone l...\n",
      "25      xoco never ceases please even standing line nu...\n",
      "26      low key take dine cafe style open late bakery ...\n",
      "27      staying number nights hotel thought would wow ...\n",
      "28      oh love sultan always tempted try salad bar lo...\n",
      "29      old world charm great customer service hotel b...\n",
      "                              ...                        \n",
      "9970    food amazing people work downright nasty espec...\n",
      "9971    went dinner got early number number saturday a...\n",
      "9972                                 best deep dish pizza\n",
      "9973    went romanian food btw flaming cheese romanian...\n",
      "9974    ordered pizza night mood deep dish decided try...\n",
      "9975    icosium times love coffee water comes sprig mi...\n",
      "9976    want great food low cost done want amazing ser...\n",
      "9977    maybe review biased say first choice dine husb...\n",
      "9978    expecting chicago style pizza thin like ny piz...\n",
      "9979     worst service ever food good run food staff idea\n",
      "9980    perfection plate love restaurant boyfriend alw...\n",
      "9981    first stayed number years ago would given hote...\n",
      "9982    boyfriend stayed knickerbocker friday night fe...\n",
      "9983         mushroom sausage pizza absolutely fanstastic\n",
      "9984    really disappointed child birthday cake commis...\n",
      "9985    went wife anniversary dinner bad spectacular w...\n",
      "9986    two words tourist trap waited number years eat...\n",
      "9987    number stars wife date night wanted authentic ...\n",
      "9988    numbernd time eaten coming back guacamole soup...\n",
      "9989    favorite take place never bad meal must try pizza\n",
      "9990    live blocks away nana opened alway curious lov...\n",
      "9991    highly recommended live lisle illinois frequen...\n",
      "9992    found bistro groupon wonderful atmosphere frie...\n",
      "9993    gilt bar answered prayers longing stopped week...\n",
      "9994    beers alright bacon fat popcorn good burger go...\n",
      "9995    love good authentic mexican food garcia big lo...\n",
      "9996    went wife tonight great meal great service tha...\n",
      "9997    husband wonderful stay service really top notc...\n",
      "9998    orack goes putrid vomitous l e saturday evenin...\n",
      "9999    place best burgers city maybe maybe second kum...\n",
      "Name: reviewcontent, Length: 10000, dtype: object\n"
     ]
    }
   ],
   "source": [
    "print(processed)"
   ]
  },
  {
   "cell_type": "code",
   "execution_count": 19,
   "metadata": {},
   "outputs": [],
   "source": [
    "# remove word stems using a Porter stemmer\n",
    "ps = nltk.PorterStemmer()\n",
    "\n",
    "processed = processed.apply(lambda x: ' '.join(\n",
    "            ps.stem(term) for term in x.split()))\n"
   ]
  },
  {
   "cell_type": "code",
   "execution_count": 19,
   "metadata": {},
   "outputs": [
    {
     "name": "stderr",
     "output_type": "stream",
     "text": [
      "C:\\Users\\quoch\\Anaconda3\\lib\\site-packages\\ipykernel_launcher.py:1: FutureWarning: The signature of `Series.to_csv` was aligned to that of `DataFrame.to_csv`, and argument 'header' will change its default value from False to True: please pass an explicit value to suppress this warning.\n",
      "  \"\"\"Entry point for launching an IPython kernel.\n"
     ]
    }
   ],
   "source": [
    "processed.to_csv('processed_content.csv')"
   ]
  },
  {
   "cell_type": "markdown",
   "metadata": {},
   "source": [
    "# 4 Generate Text features\n",
    "## 4.1 Bag of Words\n",
    "### a. all words\n"
   ]
  },
  {
   "cell_type": "code",
   "execution_count": null,
   "metadata": {},
   "outputs": [],
   "source": []
  },
  {
   "cell_type": "code",
   "execution_count": 293,
   "metadata": {},
   "outputs": [],
   "source": [
    "from sklearn.feature_extraction.text import CountVectorizer\n",
    "\n",
    "vectorizer = CountVectorizer()\n",
    "BoW = vectorizer.fit_transform(processed)\n",
    "BowColName = vectorizer.get_feature_names()"
   ]
  },
  {
   "cell_type": "code",
   "execution_count": 294,
   "metadata": {
    "scrolled": true
   },
   "outputs": [
    {
     "data": {
      "text/html": [
       "<div>\n",
       "<style scoped>\n",
       "    .dataframe tbody tr th:only-of-type {\n",
       "        vertical-align: middle;\n",
       "    }\n",
       "\n",
       "    .dataframe tbody tr th {\n",
       "        vertical-align: top;\n",
       "    }\n",
       "\n",
       "    .dataframe thead th {\n",
       "        text-align: right;\n",
       "    }\n",
       "</style>\n",
       "<table border=\"1\" class=\"dataframe\">\n",
       "  <thead>\n",
       "    <tr style=\"text-align: right;\">\n",
       "      <th></th>\n",
       "      <th>_never_</th>\n",
       "      <th>aa</th>\n",
       "      <th>aaa</th>\n",
       "      <th>aaaah</th>\n",
       "      <th>aaaahhhh</th>\n",
       "      <th>aaamazing</th>\n",
       "      <th>aaanyway</th>\n",
       "      <th>aaron</th>\n",
       "      <th>aarp</th>\n",
       "      <th>aback</th>\n",
       "      <th>...</th>\n",
       "      <th>ztejas</th>\n",
       "      <th>ztinky</th>\n",
       "      <th>zucca</th>\n",
       "      <th>zucchini</th>\n",
       "      <th>zuke</th>\n",
       "      <th>zupa</th>\n",
       "      <th>zuppa</th>\n",
       "      <th>zurich</th>\n",
       "      <th>økologisk</th>\n",
       "      <th>øl</th>\n",
       "    </tr>\n",
       "  </thead>\n",
       "  <tbody>\n",
       "    <tr>\n",
       "      <th>0</th>\n",
       "      <td>0</td>\n",
       "      <td>0</td>\n",
       "      <td>0</td>\n",
       "      <td>0</td>\n",
       "      <td>0</td>\n",
       "      <td>0</td>\n",
       "      <td>0</td>\n",
       "      <td>0</td>\n",
       "      <td>0</td>\n",
       "      <td>0</td>\n",
       "      <td>...</td>\n",
       "      <td>0</td>\n",
       "      <td>0</td>\n",
       "      <td>0</td>\n",
       "      <td>0</td>\n",
       "      <td>0</td>\n",
       "      <td>0</td>\n",
       "      <td>0</td>\n",
       "      <td>0</td>\n",
       "      <td>0</td>\n",
       "      <td>0</td>\n",
       "    </tr>\n",
       "    <tr>\n",
       "      <th>1</th>\n",
       "      <td>0</td>\n",
       "      <td>0</td>\n",
       "      <td>0</td>\n",
       "      <td>0</td>\n",
       "      <td>0</td>\n",
       "      <td>0</td>\n",
       "      <td>0</td>\n",
       "      <td>0</td>\n",
       "      <td>0</td>\n",
       "      <td>0</td>\n",
       "      <td>...</td>\n",
       "      <td>0</td>\n",
       "      <td>0</td>\n",
       "      <td>0</td>\n",
       "      <td>0</td>\n",
       "      <td>0</td>\n",
       "      <td>0</td>\n",
       "      <td>0</td>\n",
       "      <td>0</td>\n",
       "      <td>0</td>\n",
       "      <td>0</td>\n",
       "    </tr>\n",
       "    <tr>\n",
       "      <th>2</th>\n",
       "      <td>0</td>\n",
       "      <td>0</td>\n",
       "      <td>0</td>\n",
       "      <td>0</td>\n",
       "      <td>0</td>\n",
       "      <td>0</td>\n",
       "      <td>0</td>\n",
       "      <td>0</td>\n",
       "      <td>0</td>\n",
       "      <td>0</td>\n",
       "      <td>...</td>\n",
       "      <td>0</td>\n",
       "      <td>0</td>\n",
       "      <td>0</td>\n",
       "      <td>0</td>\n",
       "      <td>0</td>\n",
       "      <td>0</td>\n",
       "      <td>0</td>\n",
       "      <td>0</td>\n",
       "      <td>0</td>\n",
       "      <td>0</td>\n",
       "    </tr>\n",
       "    <tr>\n",
       "      <th>3</th>\n",
       "      <td>0</td>\n",
       "      <td>0</td>\n",
       "      <td>0</td>\n",
       "      <td>0</td>\n",
       "      <td>0</td>\n",
       "      <td>0</td>\n",
       "      <td>0</td>\n",
       "      <td>0</td>\n",
       "      <td>0</td>\n",
       "      <td>0</td>\n",
       "      <td>...</td>\n",
       "      <td>0</td>\n",
       "      <td>0</td>\n",
       "      <td>0</td>\n",
       "      <td>0</td>\n",
       "      <td>0</td>\n",
       "      <td>0</td>\n",
       "      <td>0</td>\n",
       "      <td>0</td>\n",
       "      <td>0</td>\n",
       "      <td>0</td>\n",
       "    </tr>\n",
       "    <tr>\n",
       "      <th>4</th>\n",
       "      <td>0</td>\n",
       "      <td>0</td>\n",
       "      <td>0</td>\n",
       "      <td>0</td>\n",
       "      <td>0</td>\n",
       "      <td>0</td>\n",
       "      <td>0</td>\n",
       "      <td>0</td>\n",
       "      <td>0</td>\n",
       "      <td>0</td>\n",
       "      <td>...</td>\n",
       "      <td>0</td>\n",
       "      <td>0</td>\n",
       "      <td>0</td>\n",
       "      <td>0</td>\n",
       "      <td>0</td>\n",
       "      <td>0</td>\n",
       "      <td>0</td>\n",
       "      <td>0</td>\n",
       "      <td>0</td>\n",
       "      <td>0</td>\n",
       "    </tr>\n",
       "    <tr>\n",
       "      <th>5</th>\n",
       "      <td>0</td>\n",
       "      <td>0</td>\n",
       "      <td>0</td>\n",
       "      <td>0</td>\n",
       "      <td>0</td>\n",
       "      <td>0</td>\n",
       "      <td>0</td>\n",
       "      <td>0</td>\n",
       "      <td>0</td>\n",
       "      <td>0</td>\n",
       "      <td>...</td>\n",
       "      <td>0</td>\n",
       "      <td>0</td>\n",
       "      <td>0</td>\n",
       "      <td>0</td>\n",
       "      <td>0</td>\n",
       "      <td>0</td>\n",
       "      <td>0</td>\n",
       "      <td>0</td>\n",
       "      <td>0</td>\n",
       "      <td>0</td>\n",
       "    </tr>\n",
       "    <tr>\n",
       "      <th>6</th>\n",
       "      <td>0</td>\n",
       "      <td>0</td>\n",
       "      <td>0</td>\n",
       "      <td>0</td>\n",
       "      <td>0</td>\n",
       "      <td>0</td>\n",
       "      <td>0</td>\n",
       "      <td>0</td>\n",
       "      <td>0</td>\n",
       "      <td>0</td>\n",
       "      <td>...</td>\n",
       "      <td>0</td>\n",
       "      <td>0</td>\n",
       "      <td>0</td>\n",
       "      <td>0</td>\n",
       "      <td>0</td>\n",
       "      <td>0</td>\n",
       "      <td>0</td>\n",
       "      <td>0</td>\n",
       "      <td>0</td>\n",
       "      <td>0</td>\n",
       "    </tr>\n",
       "    <tr>\n",
       "      <th>7</th>\n",
       "      <td>0</td>\n",
       "      <td>0</td>\n",
       "      <td>0</td>\n",
       "      <td>0</td>\n",
       "      <td>0</td>\n",
       "      <td>0</td>\n",
       "      <td>0</td>\n",
       "      <td>0</td>\n",
       "      <td>0</td>\n",
       "      <td>0</td>\n",
       "      <td>...</td>\n",
       "      <td>0</td>\n",
       "      <td>0</td>\n",
       "      <td>0</td>\n",
       "      <td>0</td>\n",
       "      <td>0</td>\n",
       "      <td>0</td>\n",
       "      <td>0</td>\n",
       "      <td>0</td>\n",
       "      <td>0</td>\n",
       "      <td>0</td>\n",
       "    </tr>\n",
       "    <tr>\n",
       "      <th>8</th>\n",
       "      <td>0</td>\n",
       "      <td>0</td>\n",
       "      <td>0</td>\n",
       "      <td>0</td>\n",
       "      <td>0</td>\n",
       "      <td>0</td>\n",
       "      <td>0</td>\n",
       "      <td>0</td>\n",
       "      <td>0</td>\n",
       "      <td>0</td>\n",
       "      <td>...</td>\n",
       "      <td>0</td>\n",
       "      <td>0</td>\n",
       "      <td>0</td>\n",
       "      <td>0</td>\n",
       "      <td>0</td>\n",
       "      <td>0</td>\n",
       "      <td>0</td>\n",
       "      <td>0</td>\n",
       "      <td>0</td>\n",
       "      <td>0</td>\n",
       "    </tr>\n",
       "    <tr>\n",
       "      <th>9</th>\n",
       "      <td>0</td>\n",
       "      <td>0</td>\n",
       "      <td>0</td>\n",
       "      <td>0</td>\n",
       "      <td>0</td>\n",
       "      <td>0</td>\n",
       "      <td>0</td>\n",
       "      <td>0</td>\n",
       "      <td>0</td>\n",
       "      <td>0</td>\n",
       "      <td>...</td>\n",
       "      <td>0</td>\n",
       "      <td>0</td>\n",
       "      <td>0</td>\n",
       "      <td>0</td>\n",
       "      <td>0</td>\n",
       "      <td>0</td>\n",
       "      <td>0</td>\n",
       "      <td>0</td>\n",
       "      <td>0</td>\n",
       "      <td>0</td>\n",
       "    </tr>\n",
       "  </tbody>\n",
       "</table>\n",
       "<p>10 rows × 22325 columns</p>\n",
       "</div>"
      ],
      "text/plain": [
       "   _never_  aa  aaa  aaaah  aaaahhhh  aaamazing  aaanyway  aaron  aarp  aback  \\\n",
       "0        0   0    0      0         0          0         0      0     0      0   \n",
       "1        0   0    0      0         0          0         0      0     0      0   \n",
       "2        0   0    0      0         0          0         0      0     0      0   \n",
       "3        0   0    0      0         0          0         0      0     0      0   \n",
       "4        0   0    0      0         0          0         0      0     0      0   \n",
       "5        0   0    0      0         0          0         0      0     0      0   \n",
       "6        0   0    0      0         0          0         0      0     0      0   \n",
       "7        0   0    0      0         0          0         0      0     0      0   \n",
       "8        0   0    0      0         0          0         0      0     0      0   \n",
       "9        0   0    0      0         0          0         0      0     0      0   \n",
       "\n",
       "   ...  ztejas  ztinky  zucca  zucchini  zuke  zupa  zuppa  zurich  økologisk  \\\n",
       "0  ...       0       0      0         0     0     0      0       0          0   \n",
       "1  ...       0       0      0         0     0     0      0       0          0   \n",
       "2  ...       0       0      0         0     0     0      0       0          0   \n",
       "3  ...       0       0      0         0     0     0      0       0          0   \n",
       "4  ...       0       0      0         0     0     0      0       0          0   \n",
       "5  ...       0       0      0         0     0     0      0       0          0   \n",
       "6  ...       0       0      0         0     0     0      0       0          0   \n",
       "7  ...       0       0      0         0     0     0      0       0          0   \n",
       "8  ...       0       0      0         0     0     0      0       0          0   \n",
       "9  ...       0       0      0         0     0     0      0       0          0   \n",
       "\n",
       "   øl  \n",
       "0   0  \n",
       "1   0  \n",
       "2   0  \n",
       "3   0  \n",
       "4   0  \n",
       "5   0  \n",
       "6   0  \n",
       "7   0  \n",
       "8   0  \n",
       "9   0  \n",
       "\n",
       "[10 rows x 22325 columns]"
      ]
     },
     "execution_count": 294,
     "metadata": {},
     "output_type": "execute_result"
    }
   ],
   "source": [
    "#Bag of words after processed\n",
    "pd.DataFrame(BoW.toarray(),columns = vectorizer.get_feature_names()).head(10)"
   ]
  },
  {
   "cell_type": "markdown",
   "metadata": {},
   "source": [
    "### b. 1500 most frequent words"
   ]
  },
  {
   "cell_type": "code",
   "execution_count": 295,
   "metadata": {},
   "outputs": [],
   "source": [
    "\n",
    "from nltk.tokenize import word_tokenize\n",
    "# create bag of words\n",
    "all_words =[]\n",
    "for message in processed: # it should be text content column in other df\n",
    "    words = word_tokenize(message)\n",
    "    for w in words:\n",
    "        all_words.append(w)\n",
    "        \n"
   ]
  },
  {
   "cell_type": "code",
   "execution_count": null,
   "metadata": {},
   "outputs": [],
   "source": [
    "print(all_words)"
   ]
  },
  {
   "cell_type": "code",
   "execution_count": 296,
   "metadata": {},
   "outputs": [
    {
     "name": "stdout",
     "output_type": "stream",
     "text": [
      "[('number', 5442), ('good', 4056), ('food', 3714), ('place', 3412), ('like', 2797), ('great', 2321), ('one', 2213), ('get', 2078), ('really', 2024), ('service', 1868), ('time', 1824), ('would', 1794), ('go', 1754), ('back', 1628), ('also', 1603), ('moneysymbnumber', 1495), ('nice', 1395), ('got', 1272), ('restaurant', 1266), ('pretty', 1252), ('little', 1243), ('us', 1231), ('chicken', 1220), ('well', 1196), ('menu', 1171), ('much', 1142), ('ordered', 1142), ('best', 1091), ('even', 1059), ('order', 1024), ('delicious', 1021), ('love', 1014), ('try', 1013), ('came', 996), ('sauce', 963), ('could', 961), ('bar', 943), ('think', 935), ('cheese', 890), ('people', 879), ('definitely', 875), ('better', 872), ('night', 870), ('went', 868), ('table', 856), ('two', 847), ('way', 836), ('pizza', 825), ('know', 823), ('first', 820), ('come', 816), ('meal', 784), ('lunch', 781), ('dinner', 780), ('made', 777), ('eat', 769), ('bit', 768), ('make', 767), ('salad', 754), ('fresh', 753), ('wait', 748), ('always', 742), ('though', 742), ('right', 727), ('room', 720), ('friendly', 714), ('day', 706), ('still', 704), ('around', 672), ('area', 668), ('never', 667), ('say', 661), ('hot', 658), ('want', 651), ('going', 645), ('dish', 645), ('since', 636), ('sure', 627), ('everything', 625), ('something', 625), ('small', 614), ('side', 613), ('staff', 611), ('next', 606), ('take', 601), ('meat', 599), ('experience', 592), ('fried', 587), ('ever', 586), ('enough', 586), ('see', 582), ('tasty', 579), ('sandwich', 568), ('bad', 566), ('burger', 565), ('sweet', 563), ('bread', 554), ('lot', 543), ('amazing', 540), ('stars', 538), ('long', 537), ('thing', 537), ('big', 536), ('fries', 532), ('many', 532), ('friend', 532), ('beer', 521), ('drinks', 517), ('minutes', 512), ('wine', 511), ('spicy', 505), ('give', 502), ('new', 501), ('probably', 498), ('sushi', 497), ('rice', 497), ('breakfast', 496), ('said', 496), ('every', 493), ('soup', 493), ('hotel', 492), ('another', 490), ('pork', 489), ('flavor', 488), ('tried', 481), ('quite', 479), ('favorite', 469), ('special', 469), ('taste', 466), ('last', 464), ('feel', 464), ('fish', 461), ('times', 460), ('nothing', 457), ('beef', 454), ('find', 453), ('places', 450), ('super', 447), ('large', 441), ('awesome', 441), ('dishes', 439), ('however', 437), ('price', 431), ('location', 430), ('took', 429), ('actually', 428), ('chicago', 426), ('ok', 425), ('top', 423), ('worth', 423), ('things', 420), ('thought', 418), ('dessert', 416), ('huge', 416), ('perfect', 416), ('hour', 413), ('different', 409), ('happy', 408), ('drink', 405), ('excellent', 405), ('kind', 402), ('served', 400), ('server', 398), ('prices', 396), ('full', 393), ('dining', 392), ('atmosphere', 392), ('shrimp', 391), ('check', 391), ('free', 391), ('spot', 388), ('quality', 386), ('overall', 386), ('friends', 386), ('half', 383), ('home', 379), ('steak', 374), ('looking', 373), ('decent', 371), ('maybe', 371), ('need', 369), ('wanted', 365), ('asked', 360), ('away', 351), ('loved', 348), ('cream', 346), ('eating', 346), ('parking', 345), ('cooked', 342), ('plate', 341), ('oh', 338), ('old', 338), ('restaurants', 337), ('enjoyed', 336), ('tasted', 334), ('liked', 334), ('work', 333), ('put', 333), ('without', 331), ('tables', 330), ('else', 329), ('line', 328), ('couple', 326), ('outside', 325), ('roll', 324), ('three', 322), ('visit', 318), ('hard', 316), ('house', 316), ('star', 316), ('least', 315), ('decided', 311), ('recommend', 310), ('inside', 310), ('anything', 310), ('open', 309), ('enjoy', 309), ('street', 306), ('bacon', 305), ('look', 305), ('almost', 304), ('decor', 303), ('clean', 302), ('coffee', 302), ('yelp', 301), ('waiter', 300), ('rolls', 300), ('waitress', 300), ('let', 299), ('chocolate', 298), ('course', 298), ('review', 296), ('fun', 295), ('selection', 293), ('seemed', 293), ('looked', 293), ('told', 288), ('cool', 287), ('usually', 287), ('used', 284), ('may', 284), ('fan', 282), ('found', 281), ('seated', 279), ('part', 279), ('left', 276), ('everyone', 276), ('brunch', 273), ('okay', 273), ('especially', 273), ('quick', 273), ('far', 269), ('getting', 268), ('items', 267), ('fast', 266), ('finally', 266), ('years', 265), ('fine', 264), ('yes', 263), ('city', 263), ('cheap', 263), ('high', 263), ('stay', 262), ('must', 261), ('whole', 260), ('although', 260), ('group', 259), ('comes', 259), ('red', 259), ('front', 259), ('water', 258), ('party', 256), ('options', 255), ('plus', 254), ('coming', 254), ('style', 254), ('less', 253), ('stop', 253), ('french', 252), ('egg', 252), ('might', 251), ('busy', 250), ('reviews', 250), ('town', 249), ('ask', 249), ('makes', 248), ('end', 248), ('close', 248), ('italian', 246), ('trying', 245), ('extra', 245), ('thai', 243), ('ice', 242), ('perfectly', 242), ('list', 241), ('sit', 239), ('done', 238), ('fantastic', 238), ('either', 238), ('chips', 237), ('seating', 235), ('potatoes', 235), ('white', 233), ('pasta', 233), ('light', 233), ('cold', 233), ('waiting', 232), ('grilled', 232), ('instead', 231), ('felt', 231), ('wrong', 231), ('gave', 231), ('yummy', 230), ('crispy', 229), ('appetizer', 228), ('eggs', 228), ('walk', 227), ('use', 227), ('week', 227), ('size', 225), ('point', 224), ('disappointed', 224), ('bbq', 224), ('wonderful', 223), ('family', 221), ('sandwiches', 221), ('expect', 220), ('arrived', 219), ('yet', 219), ('burgers', 219), ('green', 218), ('potato', 217), ('door', 217), ('garlic', 217), ('ate', 216), ('bite', 213), ('absolutely', 213), ('space', 212), ('remember', 212), ('stuff', 212), ('sausage', 212), ('warm', 211), ('portion', 211), ('later', 211), ('mind', 211), ('numberpm', 211), ('started', 210), ('tea', 210), ('brought', 210), ('keep', 209), ('sat', 209), ('crab', 208), ('cake', 208), ('reason', 208), ('hours', 208), ('late', 208), ('portions', 208), ('lots', 208), ('average', 208), ('early', 206), ('real', 206), ('fact', 206), ('crust', 206), ('person', 204), ('deal', 204), ('neighborhood', 203), ('second', 203), ('owner', 202), ('dry', 201), ('several', 201), ('live', 201), ('ambiance', 199), ('someone', 199), ('guess', 198), ('tell', 197), ('rather', 197), ('chinese', 197), ('flavorful', 196), ('name', 196), ('attentive', 196), ('music', 194), ('choice', 194), ('tuna', 194), ('etc', 194), ('bring', 193), ('la', 193), ('husband', 192), ('ended', 192), ('seems', 190), ('mexican', 189), ('taco', 189), ('packed', 188), ('regular', 188), ('slow', 188), ('solid', 187), ('cut', 187), ('able', 187), ('tender', 187), ('four', 187), ('walked', 186), ('evening', 185), ('ordering', 185), ('chef', 185), ('salmon', 185), ('tacos', 185), ('lobster', 184), ('start', 184), ('seriously', 184), ('weekend', 184), ('flavors', 183), ('bowl', 183), ('reservation', 182), ('quickly', 182), ('ingredients', 182), ('soft', 182), ('saw', 181), ('glass', 181), ('noodles', 181), ('plates', 180), ('short', 179), ('often', 179), ('seem', 178), ('leave', 177), ('kitchen', 176), ('simple', 175), ('trip', 175), ('saturday', 175), ('serve', 174), ('bland', 174), ('interesting', 174), ('appetizers', 173), ('entrees', 173), ('vegetarian', 173), ('duck', 172), ('show', 172), ('entree', 172), ('date', 171), ('wish', 171), ('business', 171), ('beans', 171), ('rooms', 171), ('sunday', 170), ('past', 170), ('called', 170), ('tomato', 169), ('beers', 169), ('rest', 168), ('easy', 168), ('extremely', 167), ('plenty', 167), ('onion', 167), ('yum', 166), ('loud', 166), ('waited', 166), ('expensive', 165), ('mean', 165), ('beautiful', 165), ('wings', 165), ('pay', 165), ('gets', 164), ('return', 164), ('already', 164), ('impressed', 164), ('variety', 163), ('counter', 162), ('add', 162), ('toast', 161), ('amount', 161), ('salsa', 160), ('tofu', 160), ('ribs', 160), ('ago', 160), ('main', 159), ('call', 159), ('days', 158), ('butter', 158), ('year', 158), ('across', 157), ('five', 157), ('cafe', 157), ('park', 156), ('birthday', 155), ('salt', 154), ('others', 154), ('crowded', 154), ('type', 154), ('guy', 153), ('sometimes', 153), ('patio', 153), ('salty', 153), ('totally', 153), ('bill', 153), ('spinach', 153), ('oil', 153), ('dog', 152), ('care', 152), ('looks', 152), ('joint', 151), ('floor', 151), ('needed', 151), ('pick', 151), ('black', 151), ('near', 150), ('stopped', 150), ('money', 149), ('surprised', 149), ('run', 149), ('w', 149), ('believe', 148), ('thin', 148), ('stuffed', 147), ('hand', 147), ('highly', 147), ('hungry', 147), ('deep', 147), ('sitting', 146), ('unique', 146), ('given', 146), ('roasted', 146), ('ready', 145), ('local', 145), ('option', 145), ('eaten', 145), ('pieces', 144), ('seafood', 144), ('specials', 144), ('slightly', 143), ('making', 143), ('pho', 143), ('hit', 142), ('heard', 142), ('lamb', 142), ('view', 142), ('http', 141), ('anyway', 140), ('expected', 140), ('reasonable', 140), ('buffet', 140), ('friday', 140), ('prepared', 139), ('entire', 139), ('anyone', 139), ('glad', 139), ('veggies', 139), ('juicy', 138), ('mixed', 138), ('mac', 138), ('cute', 138), ('downtown', 138), ('located', 138), ('sort', 137), ('rich', 137), ('offer', 136), ('split', 136), ('available', 135), ('non', 135), ('added', 134), ('wow', 134), ('standard', 134), ('dark', 134), ('set', 134), ('pie', 134), ('walking', 133), ('car', 132), ('soon', 132), ('creamy', 132), ('authentic', 132), ('together', 132), ('meals', 131), ('choices', 131), ('man', 131), ('sides', 131), ('n', 131), ('drive', 131), ('mouth', 130), ('piece', 130), ('comfortable', 130), ('unfortunately', 129), ('onions', 129), ('along', 129), ('knew', 129), ('lovely', 129), ('tiny', 129), ('mushrooms', 129), ('seat', 128), ('guys', 128), ('broth', 128), ('problem', 127), ('greasy', 127), ('low', 127), ('kept', 126), ('taking', 126), ('typical', 126), ('filled', 126), ('boyfriend', 125), ('com', 125), ('airport', 125), ('working', 125), ('chili', 124), ('certainly', 124), ('including', 124), ('seen', 124), ('bed', 124), ('twice', 123), ('choose', 123), ('filling', 123), ('life', 123), ('behind', 123), ('manager', 123), ('thick', 122), ('reservations', 122), ('shared', 122), ('help', 122), ('priced', 121), ('burrito', 121), ('today', 120), ('curry', 120), ('head', 120), ('baked', 119), ('upon', 119), ('servers', 119), ('wall', 119), ('crowd', 119), ('excited', 118), ('note', 118), ('tip', 118), ('exactly', 118), ('morning', 118), ('salads', 118), ('pancakes', 118), ('idea', 117), ('blue', 117), ('helpful', 117), ('opened', 117), ('corn', 116), ('job', 116), ('gone', 115), ('sign', 115), ('bathroom', 115), ('stayed', 115), ('kids', 114), ('noodle', 114), ('empty', 113), ('korean', 113), ('basically', 113), ('grab', 113), ('lettuce', 113), ('world', 112), ('b', 112), ('perhaps', 112), ('recommended', 112), ('tasting', 112), ('pepper', 112), ('bottle', 111), ('miss', 111), ('crazy', 111), ('desserts', 111), ('corner', 111), ('seasoned', 111), ('stand', 111), ('goes', 110), ('thinking', 110), ('asian', 109), ('serving', 109), ('www', 109), ('recently', 108), ('based', 108), ('traditional', 108), ('wife', 108), ('dressing', 108), ('tomatoes', 107), ('san', 107), ('offered', 107), ('veggie', 107), ('girl', 107), ('understand', 107), ('game', 107), ('medium', 107), ('middle', 107), ('pricey', 107), ('easily', 106), ('yeah', 106), ('strip', 106), ('fruit', 106), ('lemon', 106), ('generous', 106), ('customer', 105), ('read', 105), ('topped', 105), ('slice', 105), ('completely', 105), ('ones', 104), ('mushroom', 104), ('alone', 104), ('craving', 104), ('watch', 104), ('considering', 104), ('per', 103), ('whatever', 103), ('homemade', 103), ('bun', 103), ('expecting', 103), ('feeling', 102), ('overpriced', 102), ('cozy', 101), ('orders', 100), ('texture', 100), ('mix', 100), ('american', 100), ('kinda', 100), ('c', 100), ('chain', 100), ('tour', 100), ('lounge', 100), ('nicely', 99), ('south', 99), ('chance', 99), ('prefer', 99), ('toppings', 99), ('level', 99), ('finish', 99), ('value', 99), ('dumplings', 99), ('literally', 99), ('indian', 99), ('share', 99), ('saying', 99), ('within', 98), ('case', 98), ('vibe', 98), ('ramen', 98), ('please', 98), ('hands', 98), ('pleasant', 97), ('minute', 97), ('fat', 97), ('charge', 97), ('cost', 97), ('bartender', 97), ('spend', 97), ('diner', 97), ('honestly', 96), ('slices', 96), ('orange', 96), ('damn', 96), ('anywhere', 96), ('sauces', 96), ('truffle', 95), ('terrible', 95), ('meats', 95), ('outdoor', 94), ('due', 94), ('sorry', 94), ('cocktails', 94), ('pool', 94), ('mine', 94), ('longer', 94), ('tastes', 93), ('fancy', 93), ('heavy', 93), ('combination', 92), ('touch', 92), ('despite', 92), ('store', 92), ('pad', 92), ('peppers', 92), ('sour', 92), ('except', 92), ('takes', 91), ('pot', 91), ('vegan', 91), ('cocktail', 91), ('sized', 91), ('unless', 91), ('limited', 90), ('noticed', 90), ('customers', 90), ('total', 90), ('overly', 90), ('heat', 90), ('summer', 90), ('mostly', 89), ('numberth', 89), ('mayo', 89), ('fairly', 89), ('cup', 89), ('true', 89), ('cook', 89), ('seats', 89), ('taken', 89), ('mom', 89), ('plan', 88), ('savory', 88), ('calamari', 88), ('somewhat', 88), ('months', 88), ('outstanding', 88), ('club', 88), ('desk', 88), ('combo', 88), ('nights', 88), ('complaint', 87), ('biz_', 87), ('otherwise', 87), ('received', 87), ('dip', 87), ('means', 87), ('hostess', 87), ('modern', 86), ('truly', 86), ('giving', 86), ('belly', 86), ('afternoon', 86), ('olive', 86), ('covered', 86), ('talk', 85), ('apparently', 85), ('simply', 85), ('included', 85), ('heart', 85), ('change', 85), ('cash', 85), ('de', 85), ('thanks', 85), ('station', 84), ('forward', 84), ('hear', 84), ('crunchy', 84), ('japanese', 84), ('paying', 84), ('needs', 84), ('boy', 83), ('rare', 83), ('avocado', 83), ('moist', 83), ('stick', 83), ('strong', 83), ('greens', 83), ('single', 83), ('center', 83), ('casual', 82), ('crisp', 82), ('incredible', 82), ('mediocre', 82), ('goodness', 82), ('rib', 82), ('fair', 82), ('scallops', 82), ('expectations', 82), ('weird', 82), ('fabulous', 81), ('immediately', 81), ('watching', 81), ('grill', 81), ('usual', 81), ('happened', 81), ('apple', 81), ('dogs', 81), ('reading', 81), ('interior', 80), ('rating', 80), ('clearly', 80), ('normally', 80), ('milk', 80), ('pizzas', 80), ('ton', 80), ('paid', 79), ('can', 79), ('not', 79), ('moved', 79), ('building', 79), ('mussels', 79), ('shop', 79), ('truck', 79), ('comment', 79), ('changed', 79), ('classic', 79), ('normal', 79), ('forget', 79), ('beach', 78), ('spent', 78), ('mention', 78), ('incredibly', 78), ('hope', 78), ('ham', 78), ('pass', 78), ('juice', 78), ('thank', 78), ('goat', 78), ('delivery', 78), ('forgot', 78), ('disappointing', 78), ('mashed', 78), ('mall', 77), ('book', 77), ('chose', 77), ('school', 77), ('chorizo', 76), ('folks', 76), ('hate', 76), ('kick', 76), ('addition', 76), ('presentation', 76), ('mango', 76), ('cuisine', 76), ('turn', 76), ('convenient', 76), ('barely', 75), ('sashimi', 75), ('face', 75), ('spring', 75), ('menus', 75), ('opinion', 75), ('walls', 75), ('similar', 75), ('oysters', 75), ('write', 75), ('pulled', 75), ('wrapped', 75), ('sea', 75), ('somewhere', 74), ('bites', 74), ('dine', 74), ('die', 74), ('double', 74), ('healthy', 74), ('p', 74), ('bunch', 74), ('bucks', 74), ('efficient', 74), ('lobby', 74), ('complimentary', 73), ('turned', 73), ('ravioli', 73), ('turkey', 73), ('greek', 73), ('bean', 73), ('elsewhere', 73), ('pig', 73), ('numberam', 73), ('phone', 73), ('mini', 73), ('talking', 72), ('basil', 72), ('vegetables', 72), ('north', 72), ('mood', 72), ('sliced', 72), ('brown', 72), ('bone', 72), ('buffalo', 72), ('market', 72), ('says', 71), ('box', 71), ('upstairs', 71), ('move', 71), ('finished', 71), ('bay', 71), ('lady', 71), ('surprisingly', 71), ('coconut', 71), ('known', 71), ('lines', 71), ('steamed', 71), ('lived', 71), ('raw', 71), ('gem', 71), ('tapas', 71), ('gotten', 70), ('asking', 70), ('tempura', 70), ('perfection', 70), ('ginger', 70), ('compared', 70), ('frozen', 70), ('e', 70), ('block', 70), ('smoked', 70), ('platter', 70), ('key', 70), ('odd', 70), ('girls', 70), ('meh', 69), ('pudding', 69), ('weeks', 69), ('hell', 69), ('dont', 69), ('peanut', 68), ('version', 68), ('rush', 68), ('giant', 68), ('conversation', 68), ('plain', 68), ('beat', 68), ('nyc', 67), ('company', 67), ('delish', 67), ('hey', 67), ('favorites', 67), ('tv', 67), ('stomach', 67), ('suggest', 67), ('matter', 67), ('smaller', 66), ('glasses', 66), ('worst', 66), ('sounds', 66), ('banana', 66), ('ahead', 66), ('wanting', 66), ('original', 66), ('drinking', 66), ('spice', 66), ('imagine', 65), ('greeted', 65), ('hang', 65), ('co', 65), ('cheesy', 65), ('eggplant', 65), ('bottom', 65), ('serves', 65), ('round', 65), ('staying', 65), ('flight', 65), ('rude', 65), ('baby', 65), ('sister', 65), ('east', 64), ('admit', 64), ('sad', 64), ('affordable', 64), ('nearly', 64), ('wood', 64), ('brisket', 64), ('fill', 64), ('shot', 64), ('popular', 64), ('tonight', 64), ('attention', 64), ('dipping', 64), ('byob', 64), ('none', 64), ('obviously', 63), ('establishment', 63), ('cakes', 63), ('bars', 63), ('missing', 63), ('chewy', 63), ('spectacular', 63), ('daily', 63), ('item', 63), ('seeing', 63), ('hash', 63), ('word', 63), ('eye', 62), ('cooking', 62), ('generally', 62), ('card', 62), ('pleasantly', 62), ('hold', 62), ('likely', 62), ('train', 62), ('stuck', 61), ('mentioned', 61), ('supposed', 61), ('soups', 61), ('host', 61), ('filet', 61), ('sports', 61), ('visited', 61), ('lol', 61), ('chairs', 61), ('college', 61), ('picked', 61), ('tough', 61), ('valet', 61), ('weekends', 61), ('buy', 61), ('living', 61), ('strange', 61), ('pita', 61), ('playing', 61), ('fire', 60), ('leaving', 60), ('window', 60), ('bf', 60), ('patrons', 60), ('pleased', 60), ('surprise', 60), ('sound', 60), ('worked', 60), ('owners', 60), ('general', 60), ('quiet', 60), ('booths', 60), ('closed', 60), ('pm', 60), ('paper', 60), ('waffles', 60), ('foie', 59), ('appreciate', 59), ('opted', 59), ('skip', 59), ('sugar', 59), ('poor', 59), ('honey', 59), ('difficult', 59), ('extensive', 59), ('bartenders', 59), ('sum', 59), ('lucky', 59), ('hotels', 59), ('forever', 59), ('sense', 59), ('refreshing', 59), ('possible', 59), ('st', 59), ('flat', 59), ('particularly', 59), ('reasonably', 59), ('aside', 58), ('soda', 58), ('onto', 58), ('mustard', 58), ('distance', 58), ('guests', 58), ('famous', 58), ('break', 58), ('pan', 58), ('ground', 58), ('lack', 58), ('pop', 58), ('memorable', 58), ('tad', 58), ('personally', 58), ('impressive', 57), ('treat', 57), ('helped', 57), ('woman', 57), ('complaints', 57), ('wrap', 57), ('personal', 57), ('relatively', 57), ('spacious', 57), ('catch', 57), ('showed', 57), ('tons', 57), ('road', 57), ('horrible', 57), ('recent', 57), ('na', 57), ('tap', 57), ('monday', 57), ('visiting', 56), ('event', 56), ('avoid', 56), ('rock', 56), ('windows', 56), ('fare', 56), ('throughout', 56), ('office', 56), ('complain', 56), ('chunks', 56), ('selections', 56), ('west', 56), ('knows', 56), ('air', 56), ('separate', 56), ('foods', 56), ('tuesday', 56), ('points', 56), ('setting', 55), ('meet', 55), ('awful', 55), ('complete', 55), ('visits', 55), ('notch', 55), ('california', 55), ('standing', 55), ('english', 55), ('six', 55), ('disappoint', 55), ('satisfied', 55), ('downstairs', 55), ('self', 55), ('funny', 55), ('bag', 55), ('waffle', 55), ('toasted', 54), ('checked', 54), ('experiences', 54), ('biggest', 54), ('major', 54), ('accommodating', 54), ('nearby', 54), ('hubby', 54), ('dim', 54), ('wide', 54), ('overcooked', 54), ('promptly', 53), ('picture', 53), ('hole', 53), ('cheaper', 53), ('al', 53), ('offers', 53), ('pancake', 53), ('mild', 53), ('creative', 53), ('passed', 53), ('shower', 53), ('sun', 53), ('notice', 53), ('provided', 53), ('parents', 53), ('clear', 53), ('bright', 53), ('parties', 52), ('pesto', 52), ('higher', 52), ('comfort', 52), ('whether', 52), ('beyond', 52), ('phenomenal', 52), ('vegetable', 52), ('country', 52), ('deli', 52), ('basket', 52), ('freshly', 52), ('third', 52), ('speak', 51), ('gras', 51), ('drop', 51), ('young', 51), ('sharing', 51), ('suggested', 51), ('caramel', 51), ('future', 51), ('story', 51), ('credit', 51), ('rate', 51), ('bigger', 51), ('el', 51), ('wines', 51), ('square', 51), ('courses', 51), ('gravy', 51), ('guacamole', 51), ('annoying', 51), ('bus', 51), ('met', 51), ('section', 51), ('heaven', 51), ('risotto', 51), ('parmesan', 50), ('straight', 50), ('employees', 50), ('types', 50), ('asparagus', 50), ('experienced', 50), ('checking', 50), ('soy', 50), ('seasoning', 50), ('doors', 50), ('wedding', 50), ('driving', 50), ('cheddar', 50), ('waiters', 50), ('hummus', 50), ('worse', 50), ('highlight', 50), ('decide', 50), ('buns', 50), ('sake', 50), ('besides', 50), ('rings', 50), ('chop', 50), ('vegas', 50), ('using', 49), ('realized', 49), ('request', 49), ('recommendations', 49), ('york', 49), ('signature', 49), ('lighting', 49), ('lost', 49), ('honest', 49), ('spots', 49), ('cookie', 49), ('chipotle', 49), ('ta', 49), ('king', 49), ('actual', 49), ('upscale', 49), ('sesame', 49), ('games', 49), ('vietnamese', 49), ('enjoyable', 49), ('spices', 49), ('blocks', 49), ('realize', 49), ('grits', 49), ('dirty', 49), ('knowledgeable', 49), ('offering', 49), ('reminded', 49), ('relaxing', 49), ('lacking', 49), ('issue', 49), ('cheesecake', 49), ('shopping', 49), ('crepes', 49), ('tart', 49), ('finding', 49), ('empanadas', 49), ('wifi', 49), ('month', 49), ('soggy', 48), ('figure', 48), ('pre', 48), ('previous', 48), ('shake', 48), ('ten', 48), ('save', 48), ('locations', 48), ('multiple', 48), ('girlfriend', 48), ('delivered', 48), ('dried', 48), ('difference', 48), ('works', 48), ('prompt', 48), ('ass', 48), ('welcome', 48), ('sangria', 48), ('luckily', 48), ('meeting', 48), ('smell', 48), ('sadly', 48), ('seared', 48), ('concept', 48), ('consistently', 48), ('ran', 48), ('fell', 47), ('melted', 47), ('running', 47), ('certain', 47), ('buttery', 47), ('offerings', 47), ('miso', 47), ('basic', 47), ('workers', 47), ('booth', 47), ('ride', 47), ('oven', 47), ('various', 47), ('gorgeous', 47), ('willing', 47), ('placed', 46), ('important', 46), ('doubt', 46), ('typically', 46), ('scene', 46), ('fix', 46), ('alright', 46), ('island', 46), ('iced', 46), ('smile', 46), ('hearty', 46), ('kid', 46), ('groups', 46), ('agree', 46), ('alcohol', 46), ('become', 46), ('ny', 46), ('words', 46), ('blah', 46), ('crepe', 46), ('gluten', 46), ('thursday', 46), ('veal', 46), ('meatballs', 46), ('random', 46), ('polite', 46), ('lime', 46), ('meant', 46), ('online', 46), ('omelet', 46), ('inn', 46), ('fall', 46), ('terms', 45), ('cab', 45), ('chill', 45), ('appreciated', 45), ('melt', 45), ('whipped', 45), ('stew', 45), ('satisfying', 45), ('gives', 45), ('cabbage', 45), ('figured', 45), ('martini', 45), ('attitude', 45), ('nachos', 45), ('patty', 45), ('awhile', 45), ('happen', 45), ('leaves', 45), ('texas', 45), ('lake', 45), ('yelpers', 45), ('specialty', 45), ('travel', 45), ('spa', 45), ('spaghetti', 44), ('tourist', 44), ('wheat', 44), ('art', 44), ('breast', 44), ('pub', 44), ('state', 44), ('anymore', 44), ('sf', 44), ('roast', 44), ('steaks', 44), ('fit', 44), ('leftovers', 44), ('olives', 44), ('falafel', 44), ('particular', 44), ('play', 44), ('hype', 44), ('additional', 44), ('sample', 44), ('boston', 44), ('custard', 44), ('cuban', 44), ('bought', 43), ('hanging', 43), ('comfy', 43), ('dough', 43), ('skin', 43), ('crunch', 43), ('batter', 43), ('strawberry', 43), ('dined', 43), ('earlier', 43), ('somehow', 43), ('sticky', 43), ('environment', 43), ('mint', 43), ('pickled', 43), ('min', 43), ('cajun', 43), ('carry', 43), ('diners', 43), ('prime', 43), ('marinated', 43), ('blood', 43), ('disappointment', 43), ('garden', 43), ('grand', 43), ('clam', 43), ('flavored', 43), ('classy', 42), ('mozzarella', 42), ('bakery', 42), ('locals', 42), ('sliders', 42), ('trendy', 42), ('bistro', 42), ('cornbread', 42), ('ketchup', 42), ('vanilla', 42), ('cookies', 42), ('women', 42), ('professional', 42), ('gross', 42), ('irish', 42), ('feels', 42), ('ale', 42), ('margarita', 42), ('security', 42), ('god', 42), ('grease', 42), ('bottles', 42), ('range', 42), ('coast', 42), ('noise', 42), ('larger', 42), ('wonder', 42), ('waitstaff', 42), ('darn', 42), ('weather', 42), ('apps', 42), ('dollars', 42), ('southern', 42), ('mistake', 42), ('numbers', 42), ('sent', 41), ('sell', 41)]"
     ]
    },
    {
     "name": "stdout",
     "output_type": "stream",
     "text": [
      "\n"
     ]
    }
   ],
   "source": [
    "all_words = nltk.FreqDist(all_words)\n",
    "print(all_words.most_common(1500))"
   ]
  },
  {
   "cell_type": "code",
   "execution_count": 297,
   "metadata": {},
   "outputs": [
    {
     "name": "stdout",
     "output_type": "stream",
     "text": [
      "Number of words: 22347\n",
      "Most common words: [('number', 5442), ('good', 4056), ('food', 3714), ('place', 3412), ('like', 2797), ('great', 2321), ('one', 2213), ('get', 2078), ('really', 2024), ('service', 1868), ('time', 1824), ('would', 1794), ('go', 1754), ('back', 1628), ('also', 1603)]\n"
     ]
    }
   ],
   "source": [
    "# see the 1500 most common words \n",
    "print('Number of words: {}'.format(len(all_words)))\n",
    "print('Most common words: {}'.format(all_words.most_common(15)))\n",
    "lst_commonwords = all_words.most_common(1500)\n",
    "word_features_df = pd.DataFrame(lst_commonwords, columns = ['Word', 'Count'])"
   ]
  },
  {
   "cell_type": "code",
   "execution_count": 298,
   "metadata": {},
   "outputs": [
    {
     "data": {
      "text/html": [
       "<div>\n",
       "<style scoped>\n",
       "    .dataframe tbody tr th:only-of-type {\n",
       "        vertical-align: middle;\n",
       "    }\n",
       "\n",
       "    .dataframe tbody tr th {\n",
       "        vertical-align: top;\n",
       "    }\n",
       "\n",
       "    .dataframe thead th {\n",
       "        text-align: right;\n",
       "    }\n",
       "</style>\n",
       "<table border=\"1\" class=\"dataframe\">\n",
       "  <thead>\n",
       "    <tr style=\"text-align: right;\">\n",
       "      <th></th>\n",
       "      <th>Word</th>\n",
       "      <th>Count</th>\n",
       "    </tr>\n",
       "  </thead>\n",
       "  <tbody>\n",
       "    <tr>\n",
       "      <th>0</th>\n",
       "      <td>number</td>\n",
       "      <td>5442</td>\n",
       "    </tr>\n",
       "    <tr>\n",
       "      <th>1</th>\n",
       "      <td>good</td>\n",
       "      <td>4056</td>\n",
       "    </tr>\n",
       "    <tr>\n",
       "      <th>2</th>\n",
       "      <td>food</td>\n",
       "      <td>3714</td>\n",
       "    </tr>\n",
       "    <tr>\n",
       "      <th>3</th>\n",
       "      <td>place</td>\n",
       "      <td>3412</td>\n",
       "    </tr>\n",
       "    <tr>\n",
       "      <th>4</th>\n",
       "      <td>like</td>\n",
       "      <td>2797</td>\n",
       "    </tr>\n",
       "    <tr>\n",
       "      <th>5</th>\n",
       "      <td>great</td>\n",
       "      <td>2321</td>\n",
       "    </tr>\n",
       "    <tr>\n",
       "      <th>6</th>\n",
       "      <td>one</td>\n",
       "      <td>2213</td>\n",
       "    </tr>\n",
       "    <tr>\n",
       "      <th>7</th>\n",
       "      <td>get</td>\n",
       "      <td>2078</td>\n",
       "    </tr>\n",
       "    <tr>\n",
       "      <th>8</th>\n",
       "      <td>really</td>\n",
       "      <td>2024</td>\n",
       "    </tr>\n",
       "    <tr>\n",
       "      <th>9</th>\n",
       "      <td>service</td>\n",
       "      <td>1868</td>\n",
       "    </tr>\n",
       "  </tbody>\n",
       "</table>\n",
       "</div>"
      ],
      "text/plain": [
       "      Word  Count\n",
       "0   number   5442\n",
       "1     good   4056\n",
       "2     food   3714\n",
       "3    place   3412\n",
       "4     like   2797\n",
       "5    great   2321\n",
       "6      one   2213\n",
       "7      get   2078\n",
       "8   really   2024\n",
       "9  service   1868"
      ]
     },
     "execution_count": 298,
     "metadata": {},
     "output_type": "execute_result"
    }
   ],
   "source": [
    "word_features_df.head(10)"
   ]
  },
  {
   "cell_type": "code",
   "execution_count": 299,
   "metadata": {},
   "outputs": [
    {
     "name": "stdout",
     "output_type": "stream",
     "text": [
      "good\n",
      "food\n",
      "get\n",
      "wait\n",
      "small\n",
      "long\n",
      "space\n",
      "early\n"
     ]
    }
   ],
   "source": [
    "# the find_features function will determin which of the 1500 word features are contained in the review\n",
    "def find_features(message):\n",
    "    words = word_tokenize(message)\n",
    "    features = {}\n",
    "    for word in word_features_df['Word']:\n",
    "        features[word] = 1 if (word in words) else 0\n",
    "    return features\n",
    "\n",
    "# example\n",
    "features =  find_features(processed[0])\n",
    "for key, value in features.items():\n",
    "    if value == True:\n",
    "        print(key)"
   ]
  },
  {
   "cell_type": "code",
   "execution_count": 300,
   "metadata": {},
   "outputs": [],
   "source": [
    "# generating feature for all the messages\n",
    "messages = list(zip(processed, Y))\n"
   ]
  },
  {
   "cell_type": "code",
   "execution_count": 301,
   "metadata": {
    "scrolled": false
   },
   "outputs": [
    {
     "name": "stdout",
     "output_type": "stream",
     "text": [
      "[({'number': 0, 'good': 1, 'food': 1, 'place': 0, 'like': 0, 'great': 0, 'one': 0, 'get': 1, 'really': 0, 'service': 0, 'time': 0, 'would': 0, 'go': 0, 'back': 0, 'also': 0, 'moneysymbnumber': 0, 'nice': 0, 'got': 0, 'restaurant': 0, 'pretty': 0, 'little': 0, 'us': 0, 'chicken': 0, 'well': 0, 'menu': 0, 'much': 0, 'ordered': 0, 'best': 0, 'even': 0, 'order': 0, 'delicious': 0, 'love': 0, 'try': 0, 'came': 0, 'sauce': 0, 'could': 0, 'bar': 0, 'think': 0, 'cheese': 0, 'people': 0, 'definitely': 0, 'better': 0, 'night': 0, 'went': 0, 'table': 0, 'two': 0, 'way': 0, 'pizza': 0, 'know': 0, 'first': 0, 'come': 0, 'meal': 0, 'lunch': 0, 'dinner': 0, 'made': 0, 'eat': 0, 'bit': 0, 'make': 0, 'salad': 0, 'fresh': 0, 'wait': 1, 'always': 0, 'though': 0, 'right': 0, 'room': 0, 'friendly': 0, 'day': 0, 'still': 0, 'around': 0, 'area': 0, 'never': 0, 'say': 0, 'hot': 0, 'want': 0, 'going': 0, 'dish': 0, 'since': 0, 'sure': 0, 'everything': 0, 'something': 0, 'small': 1, 'side': 0, 'staff': 0, 'next': 0, 'take': 0, 'meat': 0, 'experience': 0, 'fried': 0, 'ever': 0, 'enough': 0, 'see': 0, 'tasty': 0, 'sandwich': 0, 'bad': 0, 'burger': 0, 'sweet': 0, 'bread': 0, 'lot': 0, 'amazing': 0, 'stars': 0, 'long': 1, 'thing': 0, 'big': 0, 'fries': 0, 'many': 0, 'friend': 0, 'beer': 0, 'drinks': 0, 'minutes': 0, 'wine': 0, 'spicy': 0, 'give': 0, 'new': 0, 'probably': 0, 'sushi': 0, 'rice': 0, 'breakfast': 0, 'said': 0, 'every': 0, 'soup': 0, 'hotel': 0, 'another': 0, 'pork': 0, 'flavor': 0, 'tried': 0, 'quite': 0, 'favorite': 0, 'special': 0, 'taste': 0, 'last': 0, 'feel': 0, 'fish': 0, 'times': 0, 'nothing': 0, 'beef': 0, 'find': 0, 'places': 0, 'super': 0, 'large': 0, 'awesome': 0, 'dishes': 0, 'however': 0, 'price': 0, 'location': 0, 'took': 0, 'actually': 0, 'chicago': 0, 'ok': 0, 'top': 0, 'worth': 0, 'things': 0, 'thought': 0, 'dessert': 0, 'huge': 0, 'perfect': 0, 'hour': 0, 'different': 0, 'happy': 0, 'drink': 0, 'excellent': 0, 'kind': 0, 'served': 0, 'server': 0, 'prices': 0, 'full': 0, 'dining': 0, 'atmosphere': 0, 'shrimp': 0, 'check': 0, 'free': 0, 'spot': 0, 'quality': 0, 'overall': 0, 'friends': 0, 'half': 0, 'home': 0, 'steak': 0, 'looking': 0, 'decent': 0, 'maybe': 0, 'need': 0, 'wanted': 0, 'asked': 0, 'away': 0, 'loved': 0, 'cream': 0, 'eating': 0, 'parking': 0, 'cooked': 0, 'plate': 0, 'oh': 0, 'old': 0, 'restaurants': 0, 'enjoyed': 0, 'tasted': 0, 'liked': 0, 'work': 0, 'put': 0, 'without': 0, 'tables': 0, 'else': 0, 'line': 0, 'couple': 0, 'outside': 0, 'roll': 0, 'three': 0, 'visit': 0, 'hard': 0, 'house': 0, 'star': 0, 'least': 0, 'decided': 0, 'recommend': 0, 'inside': 0, 'anything': 0, 'open': 0, 'enjoy': 0, 'street': 0, 'bacon': 0, 'look': 0, 'almost': 0, 'decor': 0, 'clean': 0, 'coffee': 0, 'yelp': 0, 'waiter': 0, 'rolls': 0, 'waitress': 0, 'let': 0, 'chocolate': 0, 'course': 0, 'review': 0, 'fun': 0, 'selection': 0, 'seemed': 0, 'looked': 0, 'told': 0, 'cool': 0, 'usually': 0, 'used': 0, 'may': 0, 'fan': 0, 'found': 0, 'seated': 0, 'part': 0, 'left': 0, 'everyone': 0, 'brunch': 0, 'okay': 0, 'especially': 0, 'quick': 0, 'far': 0, 'getting': 0, 'items': 0, 'fast': 0, 'finally': 0, 'years': 0, 'fine': 0, 'yes': 0, 'city': 0, 'cheap': 0, 'high': 0, 'stay': 0, 'must': 0, 'whole': 0, 'although': 0, 'group': 0, 'comes': 0, 'red': 0, 'front': 0, 'water': 0, 'party': 0, 'options': 0, 'plus': 0, 'coming': 0, 'style': 0, 'less': 0, 'stop': 0, 'french': 0, 'egg': 0, 'might': 0, 'busy': 0, 'reviews': 0, 'town': 0, 'ask': 0, 'makes': 0, 'end': 0, 'close': 0, 'italian': 0, 'trying': 0, 'extra': 0, 'thai': 0, 'ice': 0, 'perfectly': 0, 'list': 0, 'sit': 0, 'done': 0, 'fantastic': 0, 'either': 0, 'chips': 0, 'seating': 0, 'potatoes': 0, 'white': 0, 'pasta': 0, 'light': 0, 'cold': 0, 'waiting': 0, 'grilled': 0, 'instead': 0, 'felt': 0, 'wrong': 0, 'gave': 0, 'yummy': 0, 'crispy': 0, 'appetizer': 0, 'eggs': 0, 'walk': 0, 'use': 0, 'week': 0, 'size': 0, 'point': 0, 'disappointed': 0, 'bbq': 0, 'wonderful': 0, 'family': 0, 'sandwiches': 0, 'expect': 0, 'arrived': 0, 'yet': 0, 'burgers': 0, 'green': 0, 'potato': 0, 'door': 0, 'garlic': 0, 'ate': 0, 'bite': 0, 'absolutely': 0, 'space': 1, 'remember': 0, 'stuff': 0, 'sausage': 0, 'warm': 0, 'portion': 0, 'later': 0, 'mind': 0, 'numberpm': 0, 'started': 0, 'tea': 0, 'brought': 0, 'keep': 0, 'sat': 0, 'crab': 0, 'cake': 0, 'reason': 0, 'hours': 0, 'late': 0, 'portions': 0, 'lots': 0, 'average': 0, 'early': 1, 'real': 0, 'fact': 0, 'crust': 0, 'person': 0, 'deal': 0, 'neighborhood': 0, 'second': 0, 'owner': 0, 'dry': 0, 'several': 0, 'live': 0, 'ambiance': 0, 'someone': 0, 'guess': 0, 'tell': 0, 'rather': 0, 'chinese': 0, 'flavorful': 0, 'name': 0, 'attentive': 0, 'music': 0, 'choice': 0, 'tuna': 0, 'etc': 0, 'bring': 0, 'la': 0, 'husband': 0, 'ended': 0, 'seems': 0, 'mexican': 0, 'taco': 0, 'packed': 0, 'regular': 0, 'slow': 0, 'solid': 0, 'cut': 0, 'able': 0, 'tender': 0, 'four': 0, 'walked': 0, 'evening': 0, 'ordering': 0, 'chef': 0, 'salmon': 0, 'tacos': 0, 'lobster': 0, 'start': 0, 'seriously': 0, 'weekend': 0, 'flavors': 0, 'bowl': 0, 'reservation': 0, 'quickly': 0, 'ingredients': 0, 'soft': 0, 'saw': 0, 'glass': 0, 'noodles': 0, 'plates': 0, 'short': 0, 'often': 0, 'seem': 0, 'leave': 0, 'kitchen': 0, 'simple': 0, 'trip': 0, 'saturday': 0, 'serve': 0, 'bland': 0, 'interesting': 0, 'appetizers': 0, 'entrees': 0, 'vegetarian': 0, 'duck': 0, 'show': 0, 'entree': 0, 'date': 0, 'wish': 0, 'business': 0, 'beans': 0, 'rooms': 0, 'sunday': 0, 'past': 0, 'called': 0, 'tomato': 0, 'beers': 0, 'rest': 0, 'easy': 0, 'extremely': 0, 'plenty': 0, 'onion': 0, 'yum': 0, 'loud': 0, 'waited': 0, 'expensive': 0, 'mean': 0, 'beautiful': 0, 'wings': 0, 'pay': 0, 'gets': 0, 'return': 0, 'already': 0, 'impressed': 0, 'variety': 0, 'counter': 0, 'add': 0, 'toast': 0, 'amount': 0, 'salsa': 0, 'tofu': 0, 'ribs': 0, 'ago': 0, 'main': 0, 'call': 0, 'days': 0, 'butter': 0, 'year': 0, 'across': 0, 'five': 0, 'cafe': 0, 'park': 0, 'birthday': 0, 'salt': 0, 'others': 0, 'crowded': 0, 'type': 0, 'guy': 0, 'sometimes': 0, 'patio': 0, 'salty': 0, 'totally': 0, 'bill': 0, 'spinach': 0, 'oil': 0, 'dog': 0, 'care': 0, 'looks': 0, 'joint': 0, 'floor': 0, 'needed': 0, 'pick': 0, 'black': 0, 'near': 0, 'stopped': 0, 'money': 0, 'surprised': 0, 'run': 0, 'w': 0, 'believe': 0, 'thin': 0, 'stuffed': 0, 'hand': 0, 'highly': 0, 'hungry': 0, 'deep': 0, 'sitting': 0, 'unique': 0, 'given': 0, 'roasted': 0, 'ready': 0, 'local': 0, 'option': 0, 'eaten': 0, 'pieces': 0, 'seafood': 0, 'specials': 0, 'slightly': 0, 'making': 0, 'pho': 0, 'hit': 0, 'heard': 0, 'lamb': 0, 'view': 0, 'http': 0, 'anyway': 0, 'expected': 0, 'reasonable': 0, 'buffet': 0, 'friday': 0, 'prepared': 0, 'entire': 0, 'anyone': 0, 'glad': 0, 'veggies': 0, 'juicy': 0, 'mixed': 0, 'mac': 0, 'cute': 0, 'downtown': 0, 'located': 0, 'sort': 0, 'rich': 0, 'offer': 0, 'split': 0, 'available': 0, 'non': 0, 'added': 0, 'wow': 0, 'standard': 0, 'dark': 0, 'set': 0, 'pie': 0, 'walking': 0, 'car': 0, 'soon': 0, 'creamy': 0, 'authentic': 0, 'together': 0, 'meals': 0, 'choices': 0, 'man': 0, 'sides': 0, 'n': 0, 'drive': 0, 'mouth': 0, 'piece': 0, 'comfortable': 0, 'unfortunately': 0, 'onions': 0, 'along': 0, 'knew': 0, 'lovely': 0, 'tiny': 0, 'mushrooms': 0, 'seat': 0, 'guys': 0, 'broth': 0, 'problem': 0, 'greasy': 0, 'low': 0, 'kept': 0, 'taking': 0, 'typical': 0, 'filled': 0, 'boyfriend': 0, 'com': 0, 'airport': 0, 'working': 0, 'chili': 0, 'certainly': 0, 'including': 0, 'seen': 0, 'bed': 0, 'twice': 0, 'choose': 0, 'filling': 0, 'life': 0, 'behind': 0, 'manager': 0, 'thick': 0, 'reservations': 0, 'shared': 0, 'help': 0, 'priced': 0, 'burrito': 0, 'today': 0, 'curry': 0, 'head': 0, 'baked': 0, 'upon': 0, 'servers': 0, 'wall': 0, 'crowd': 0, 'excited': 0, 'note': 0, 'tip': 0, 'exactly': 0, 'morning': 0, 'salads': 0, 'pancakes': 0, 'idea': 0, 'blue': 0, 'helpful': 0, 'opened': 0, 'corn': 0, 'job': 0, 'gone': 0, 'sign': 0, 'bathroom': 0, 'stayed': 0, 'kids': 0, 'noodle': 0, 'empty': 0, 'korean': 0, 'basically': 0, 'grab': 0, 'lettuce': 0, 'world': 0, 'b': 0, 'perhaps': 0, 'recommended': 0, 'tasting': 0, 'pepper': 0, 'bottle': 0, 'miss': 0, 'crazy': 0, 'desserts': 0, 'corner': 0, 'seasoned': 0, 'stand': 0, 'goes': 0, 'thinking': 0, 'asian': 0, 'serving': 0, 'www': 0, 'recently': 0, 'based': 0, 'traditional': 0, 'wife': 0, 'dressing': 0, 'tomatoes': 0, 'san': 0, 'offered': 0, 'veggie': 0, 'girl': 0, 'understand': 0, 'game': 0, 'medium': 0, 'middle': 0, 'pricey': 0, 'easily': 0, 'yeah': 0, 'strip': 0, 'fruit': 0, 'lemon': 0, 'generous': 0, 'customer': 0, 'read': 0, 'topped': 0, 'slice': 0, 'completely': 0, 'ones': 0, 'mushroom': 0, 'alone': 0, 'craving': 0, 'watch': 0, 'considering': 0, 'per': 0, 'whatever': 0, 'homemade': 0, 'bun': 0, 'expecting': 0, 'feeling': 0, 'overpriced': 0, 'cozy': 0, 'orders': 0, 'texture': 0, 'mix': 0, 'american': 0, 'kinda': 0, 'c': 0, 'chain': 0, 'tour': 0, 'lounge': 0, 'nicely': 0, 'south': 0, 'chance': 0, 'prefer': 0, 'toppings': 0, 'level': 0, 'finish': 0, 'value': 0, 'dumplings': 0, 'literally': 0, 'indian': 0, 'share': 0, 'saying': 0, 'within': 0, 'case': 0, 'vibe': 0, 'ramen': 0, 'please': 0, 'hands': 0, 'pleasant': 0, 'minute': 0, 'fat': 0, 'charge': 0, 'cost': 0, 'bartender': 0, 'spend': 0, 'diner': 0, 'honestly': 0, 'slices': 0, 'orange': 0, 'damn': 0, 'anywhere': 0, 'sauces': 0, 'truffle': 0, 'terrible': 0, 'meats': 0, 'outdoor': 0, 'due': 0, 'sorry': 0, 'cocktails': 0, 'pool': 0, 'mine': 0, 'longer': 0, 'tastes': 0, 'fancy': 0, 'heavy': 0, 'combination': 0, 'touch': 0, 'despite': 0, 'store': 0, 'pad': 0, 'peppers': 0, 'sour': 0, 'except': 0, 'takes': 0, 'pot': 0, 'vegan': 0, 'cocktail': 0, 'sized': 0, 'unless': 0, 'limited': 0, 'noticed': 0, 'customers': 0, 'total': 0, 'overly': 0, 'heat': 0, 'summer': 0, 'mostly': 0, 'numberth': 0, 'mayo': 0, 'fairly': 0, 'cup': 0, 'true': 0, 'cook': 0, 'seats': 0, 'taken': 0, 'mom': 0, 'plan': 0, 'savory': 0, 'calamari': 0, 'somewhat': 0, 'months': 0, 'outstanding': 0, 'club': 0, 'desk': 0, 'combo': 0, 'nights': 0, 'complaint': 0, 'biz_': 0, 'otherwise': 0, 'received': 0, 'dip': 0, 'means': 0, 'hostess': 0, 'modern': 0, 'truly': 0, 'giving': 0, 'belly': 0, 'afternoon': 0, 'olive': 0, 'covered': 0, 'talk': 0, 'apparently': 0, 'simply': 0, 'included': 0, 'heart': 0, 'change': 0, 'cash': 0, 'de': 0, 'thanks': 0, 'station': 0, 'forward': 0, 'hear': 0, 'crunchy': 0, 'japanese': 0, 'paying': 0, 'needs': 0, 'boy': 0, 'rare': 0, 'avocado': 0, 'moist': 0, 'stick': 0, 'strong': 0, 'greens': 0, 'single': 0, 'center': 0, 'casual': 0, 'crisp': 0, 'incredible': 0, 'mediocre': 0, 'goodness': 0, 'rib': 0, 'fair': 0, 'scallops': 0, 'expectations': 0, 'weird': 0, 'fabulous': 0, 'immediately': 0, 'watching': 0, 'grill': 0, 'usual': 0, 'happened': 0, 'apple': 0, 'dogs': 0, 'reading': 0, 'interior': 0, 'rating': 0, 'clearly': 0, 'normally': 0, 'milk': 0, 'pizzas': 0, 'ton': 0, 'paid': 0, 'can': 0, 'not': 0, 'moved': 0, 'building': 0, 'mussels': 0, 'shop': 0, 'truck': 0, 'comment': 0, 'changed': 0, 'classic': 0, 'normal': 0, 'forget': 0, 'beach': 0, 'spent': 0, 'mention': 0, 'incredibly': 0, 'hope': 0, 'ham': 0, 'pass': 0, 'juice': 0, 'thank': 0, 'goat': 0, 'delivery': 0, 'forgot': 0, 'disappointing': 0, 'mashed': 0, 'mall': 0, 'book': 0, 'chose': 0, 'school': 0, 'chorizo': 0, 'folks': 0, 'hate': 0, 'kick': 0, 'addition': 0, 'presentation': 0, 'mango': 0, 'cuisine': 0, 'turn': 0, 'convenient': 0, 'barely': 0, 'sashimi': 0, 'face': 0, 'spring': 0, 'menus': 0, 'opinion': 0, 'walls': 0, 'similar': 0, 'oysters': 0, 'write': 0, 'pulled': 0, 'wrapped': 0, 'sea': 0, 'somewhere': 0, 'bites': 0, 'dine': 0, 'die': 0, 'double': 0, 'healthy': 0, 'p': 0, 'bunch': 0, 'bucks': 0, 'efficient': 0, 'lobby': 0, 'complimentary': 0, 'turned': 0, 'ravioli': 0, 'turkey': 0, 'greek': 0, 'bean': 0, 'elsewhere': 0, 'pig': 0, 'numberam': 0, 'phone': 0, 'mini': 0, 'talking': 0, 'basil': 0, 'vegetables': 0, 'north': 0, 'mood': 0, 'sliced': 0, 'brown': 0, 'bone': 0, 'buffalo': 0, 'market': 0, 'says': 0, 'box': 0, 'upstairs': 0, 'move': 0, 'finished': 0, 'bay': 0, 'lady': 0, 'surprisingly': 0, 'coconut': 0, 'known': 0, 'lines': 0, 'steamed': 0, 'lived': 0, 'raw': 0, 'gem': 0, 'tapas': 0, 'gotten': 0, 'asking': 0, 'tempura': 0, 'perfection': 0, 'ginger': 0, 'compared': 0, 'frozen': 0, 'e': 0, 'block': 0, 'smoked': 0, 'platter': 0, 'key': 0, 'odd': 0, 'girls': 0, 'meh': 0, 'pudding': 0, 'weeks': 0, 'hell': 0, 'dont': 0, 'peanut': 0, 'version': 0, 'rush': 0, 'giant': 0, 'conversation': 0, 'plain': 0, 'beat': 0, 'nyc': 0, 'company': 0, 'delish': 0, 'hey': 0, 'favorites': 0, 'tv': 0, 'stomach': 0, 'suggest': 0, 'matter': 0, 'smaller': 0, 'glasses': 0, 'worst': 0, 'sounds': 0, 'banana': 0, 'ahead': 0, 'wanting': 0, 'original': 0, 'drinking': 0, 'spice': 0, 'imagine': 0, 'greeted': 0, 'hang': 0, 'co': 0, 'cheesy': 0, 'eggplant': 0, 'bottom': 0, 'serves': 0, 'round': 0, 'staying': 0, 'flight': 0, 'rude': 0, 'baby': 0, 'sister': 0, 'east': 0, 'admit': 0, 'sad': 0, 'affordable': 0, 'nearly': 0, 'wood': 0, 'brisket': 0, 'fill': 0, 'shot': 0, 'popular': 0, 'tonight': 0, 'attention': 0, 'dipping': 0, 'byob': 0, 'none': 0, 'obviously': 0, 'establishment': 0, 'cakes': 0, 'bars': 0, 'missing': 0, 'chewy': 0, 'spectacular': 0, 'daily': 0, 'item': 0, 'seeing': 0, 'hash': 0, 'word': 0, 'eye': 0, 'cooking': 0, 'generally': 0, 'card': 0, 'pleasantly': 0, 'hold': 0, 'likely': 0, 'train': 0, 'stuck': 0, 'mentioned': 0, 'supposed': 0, 'soups': 0, 'host': 0, 'filet': 0, 'sports': 0, 'visited': 0, 'lol': 0, 'chairs': 0, 'college': 0, 'picked': 0, 'tough': 0, 'valet': 0, 'weekends': 0, 'buy': 0, 'living': 0, 'strange': 0, 'pita': 0, 'playing': 0, 'fire': 0, 'leaving': 0, 'window': 0, 'bf': 0, 'patrons': 0, 'pleased': 0, 'surprise': 0, 'sound': 0, 'worked': 0, 'owners': 0, 'general': 0, 'quiet': 0, 'booths': 0, 'closed': 0, 'pm': 0, 'paper': 0, 'waffles': 0, 'foie': 0, 'appreciate': 0, 'opted': 0, 'skip': 0, 'sugar': 0, 'poor': 0, 'honey': 0, 'difficult': 0, 'extensive': 0, 'bartenders': 0, 'sum': 0, 'lucky': 0, 'hotels': 0, 'forever': 0, 'sense': 0, 'refreshing': 0, 'possible': 0, 'st': 0, 'flat': 0, 'particularly': 0, 'reasonably': 0, 'aside': 0, 'soda': 0, 'onto': 0, 'mustard': 0, 'distance': 0, 'guests': 0, 'famous': 0, 'break': 0, 'pan': 0, 'ground': 0, 'lack': 0, 'pop': 0, 'memorable': 0, 'tad': 0, 'personally': 0, 'impressive': 0, 'treat': 0, 'helped': 0, 'woman': 0, 'complaints': 0, 'wrap': 0, 'personal': 0, 'relatively': 0, 'spacious': 0, 'catch': 0, 'showed': 0, 'tons': 0, 'road': 0, 'horrible': 0, 'recent': 0, 'na': 0, 'tap': 0, 'monday': 0, 'visiting': 0, 'event': 0, 'avoid': 0, 'rock': 0, 'windows': 0, 'fare': 0, 'throughout': 0, 'office': 0, 'complain': 0, 'chunks': 0, 'selections': 0, 'west': 0, 'knows': 0, 'air': 0, 'separate': 0, 'foods': 0, 'tuesday': 0, 'points': 0, 'setting': 0, 'meet': 0, 'awful': 0, 'complete': 0, 'visits': 0, 'notch': 0, 'california': 0, 'standing': 0, 'english': 0, 'six': 0, 'disappoint': 0, 'satisfied': 0, 'downstairs': 0, 'self': 0, 'funny': 0, 'bag': 0, 'waffle': 0, 'toasted': 0, 'checked': 0, 'experiences': 0, 'biggest': 0, 'major': 0, 'accommodating': 0, 'nearby': 0, 'hubby': 0, 'dim': 0, 'wide': 0, 'overcooked': 0, 'promptly': 0, 'picture': 0, 'hole': 0, 'cheaper': 0, 'al': 0, 'offers': 0, 'pancake': 0, 'mild': 0, 'creative': 0, 'passed': 0, 'shower': 0, 'sun': 0, 'notice': 0, 'provided': 0, 'parents': 0, 'clear': 0, 'bright': 0, 'parties': 0, 'pesto': 0, 'higher': 0, 'comfort': 0, 'whether': 0, 'beyond': 0, 'phenomenal': 0, 'vegetable': 0, 'country': 0, 'deli': 0, 'basket': 0, 'freshly': 0, 'third': 0, 'speak': 0, 'gras': 0, 'drop': 0, 'young': 0, 'sharing': 0, 'suggested': 0, 'caramel': 0, 'future': 0, 'story': 0, 'credit': 0, 'rate': 0, 'bigger': 0, 'el': 0, 'wines': 0, 'square': 0, 'courses': 0, 'gravy': 0, 'guacamole': 0, 'annoying': 0, 'bus': 0, 'met': 0, 'section': 0, 'heaven': 0, 'risotto': 0, 'parmesan': 0, 'straight': 0, 'employees': 0, 'types': 0, 'asparagus': 0, 'experienced': 0, 'checking': 0, 'soy': 0, 'seasoning': 0, 'doors': 0, 'wedding': 0, 'driving': 0, 'cheddar': 0, 'waiters': 0, 'hummus': 0, 'worse': 0, 'highlight': 0, 'decide': 0, 'buns': 0, 'sake': 0, 'besides': 0, 'rings': 0, 'chop': 0, 'vegas': 0, 'using': 0, 'realized': 0, 'request': 0, 'recommendations': 0, 'york': 0, 'signature': 0, 'lighting': 0, 'lost': 0, 'honest': 0, 'spots': 0, 'cookie': 0, 'chipotle': 0, 'ta': 0, 'king': 0, 'actual': 0, 'upscale': 0, 'sesame': 0, 'games': 0, 'vietnamese': 0, 'enjoyable': 0, 'spices': 0, 'blocks': 0, 'realize': 0, 'grits': 0, 'dirty': 0, 'knowledgeable': 0, 'offering': 0, 'reminded': 0, 'relaxing': 0, 'lacking': 0, 'issue': 0, 'cheesecake': 0, 'shopping': 0, 'crepes': 0, 'tart': 0, 'finding': 0, 'empanadas': 0, 'wifi': 0, 'month': 0, 'soggy': 0, 'figure': 0, 'pre': 0, 'previous': 0, 'shake': 0, 'ten': 0, 'save': 0, 'locations': 0, 'multiple': 0, 'girlfriend': 0, 'delivered': 0, 'dried': 0, 'difference': 0, 'works': 0, 'prompt': 0, 'ass': 0, 'welcome': 0, 'sangria': 0, 'luckily': 0, 'meeting': 0, 'smell': 0, 'sadly': 0, 'seared': 0, 'concept': 0, 'consistently': 0, 'ran': 0, 'fell': 0, 'melted': 0, 'running': 0, 'certain': 0, 'buttery': 0, 'offerings': 0, 'miso': 0, 'basic': 0, 'workers': 0, 'booth': 0, 'ride': 0, 'oven': 0, 'various': 0, 'gorgeous': 0, 'willing': 0, 'placed': 0, 'important': 0, 'doubt': 0, 'typically': 0, 'scene': 0, 'fix': 0, 'alright': 0, 'island': 0, 'iced': 0, 'smile': 0, 'hearty': 0, 'kid': 0, 'groups': 0, 'agree': 0, 'alcohol': 0, 'become': 0, 'ny': 0, 'words': 0, 'blah': 0, 'crepe': 0, 'gluten': 0, 'thursday': 0, 'veal': 0, 'meatballs': 0, 'random': 0, 'polite': 0, 'lime': 0, 'meant': 0, 'online': 0, 'omelet': 0, 'inn': 0, 'fall': 0, 'terms': 0, 'cab': 0, 'chill': 0, 'appreciated': 0, 'melt': 0, 'whipped': 0, 'stew': 0, 'satisfying': 0, 'gives': 0, 'cabbage': 0, 'figured': 0, 'martini': 0, 'attitude': 0, 'nachos': 0, 'patty': 0, 'awhile': 0, 'happen': 0, 'leaves': 0, 'texas': 0, 'lake': 0, 'yelpers': 0, 'specialty': 0, 'travel': 0, 'spa': 0, 'spaghetti': 0, 'tourist': 0, 'wheat': 0, 'art': 0, 'breast': 0, 'pub': 0, 'state': 0, 'anymore': 0, 'sf': 0, 'roast': 0, 'steaks': 0, 'fit': 0, 'leftovers': 0, 'olives': 0, 'falafel': 0, 'particular': 0, 'play': 0, 'hype': 0, 'additional': 0, 'sample': 0, 'boston': 0, 'custard': 0, 'cuban': 0, 'bought': 0, 'hanging': 0, 'comfy': 0, 'dough': 0, 'skin': 0, 'crunch': 0, 'batter': 0, 'strawberry': 0, 'dined': 0, 'earlier': 0, 'somehow': 0, 'sticky': 0, 'environment': 0, 'mint': 0, 'pickled': 0, 'min': 0, 'cajun': 0, 'carry': 0, 'diners': 0, 'prime': 0, 'marinated': 0, 'blood': 0, 'disappointment': 0, 'garden': 0, 'grand': 0, 'clam': 0, 'flavored': 0, 'classy': 0, 'mozzarella': 0, 'bakery': 0, 'locals': 0, 'sliders': 0, 'trendy': 0, 'bistro': 0, 'cornbread': 0, 'ketchup': 0, 'vanilla': 0, 'cookies': 0, 'women': 0, 'professional': 0, 'gross': 0, 'irish': 0, 'feels': 0, 'ale': 0, 'margarita': 0, 'security': 0, 'god': 0, 'grease': 0, 'bottles': 0, 'range': 0, 'coast': 0, 'noise': 0, 'larger': 0, 'wonder': 0, 'waitstaff': 0, 'darn': 0, 'weather': 0, 'apps': 0, 'dollars': 0, 'southern': 0, 'mistake': 0, 'numbers': 0, 'sent': 0, 'sell': 0}, 1)]"
     ]
    },
    {
     "name": "stdout",
     "output_type": "stream",
     "text": [
      "\n"
     ]
    }
   ],
   "source": [
    "# Bag of Words with 1500 most commonwords\n",
    "# call find_features function for each sms:\n",
    "featuresets_bow = [(find_features(text), label) for (text, label) in messages]\n",
    "print(featuresets_bow[:1])"
   ]
  },
  {
   "cell_type": "markdown",
   "metadata": {},
   "source": [
    "## 4.2 Part of Speech"
   ]
  },
  {
   "cell_type": "code",
   "execution_count": 20,
   "metadata": {
    "scrolled": true
   },
   "outputs": [],
   "source": [
    "from nltk import word_tokenize, pos_tag\n",
    "#tokenized review into word\n",
    "#word_tok = processed.apply(word_tokenize)\n",
    "#print(word_tok.head(10))\n"
   ]
  },
  {
   "cell_type": "code",
   "execution_count": 54,
   "metadata": {},
   "outputs": [],
   "source": [
    "# [('I', 'PRP'), (\"'m\", 'VBP'), ('learning', 'VBG'), ('NLP', 'NNP')]\n",
    "pos = processed.apply(word_tokenize).apply(pos_tag)"
   ]
  },
  {
   "cell_type": "code",
   "execution_count": 55,
   "metadata": {},
   "outputs": [],
   "source": [
    "for i, sent in enumerate(pos):\n",
    "    pos[i] =' '.join([word + '_' + postag for word, postag in sent])"
   ]
  },
  {
   "cell_type": "code",
   "execution_count": 56,
   "metadata": {},
   "outputs": [
    {
     "name": "stdout",
     "output_type": "stream",
     "text": [
      "0    realli_NN glad_NN revbrew_VBD open_JJ neighbor...\n",
      "1    client_NN dinner_NN wow_JJ treat_NN food_NN ab...\n",
      "2    sunda_NN twice_RB first_JJ time_NN dinner_NN s...\n",
      "3    decid_JJ final_JJ check_NN cafe_JJ number_NN r...\n",
      "4    hubbi_NN went_VBD saturday_JJ night_NN celebr_...\n",
      "5    ador_NN entir_NN concept_NN violet_FW hour_NN ...\n",
      "6    went_VBD chicago_NN q_NN today_NN open_JJ day_...\n",
      "7    took_VBD parent_NN grandpar_NN came_VBD town_N...\n",
      "8    met_VBN friend_NN dinner_NN catch_VBP turkey_N...\n",
      "9    review_NN number_NN come_VBN number_NN year_NN...\n",
      "Name: reviewcontent, dtype: object\n"
     ]
    }
   ],
   "source": [
    "print(pos[:10])\n"
   ]
  },
  {
   "cell_type": "markdown",
   "metadata": {},
   "source": [
    "## 4.3 Cosine Similarity\n"
   ]
  },
  {
   "cell_type": "code",
   "execution_count": 57,
   "metadata": {},
   "outputs": [],
   "source": [
    "# ML Packages For Vectorization of Text For Feature Extraction\n",
    "from sklearn.feature_extraction.text import CountVectorizer\n",
    "from sklearn.feature_extraction.text import TfidfVectorizer\n",
    "from sklearn.metrics.pairwise import cosine_similarity"
   ]
  },
  {
   "cell_type": "markdown",
   "metadata": {},
   "source": [
    "### a. Cosine Similarity by N-grams"
   ]
  },
  {
   "cell_type": "code",
   "execution_count": 21,
   "metadata": {},
   "outputs": [],
   "source": [
    "corpus = processed\n",
    "# using bi-gram\n",
    "#cv = CountVectorizer(analyzer='word', ngram_range=(2, 2))\n",
    "#X_cv = cv.fit_transform(corpus) # Fit the Data\n",
    "# create fi-idf vector\n",
    "tfidf = TfidfVectorizer(analyzer='word', ngram_range=(2, 2))\n",
    "X_tfidf= tfidf.fit_transform(corpus)"
   ]
  },
  {
   "cell_type": "code",
   "execution_count": 126,
   "metadata": {},
   "outputs": [
    {
     "ename": "NameError",
     "evalue": "name 'X_tfidf' is not defined",
     "output_type": "error",
     "traceback": [
      "\u001b[1;31m---------------------------------------------------------------------------\u001b[0m",
      "\u001b[1;31mNameError\u001b[0m                                 Traceback (most recent call last)",
      "\u001b[1;32m<ipython-input-126-1e4554dff9a0>\u001b[0m in \u001b[0;36m<module>\u001b[1;34m\u001b[0m\n\u001b[1;32m----> 1\u001b[1;33m \u001b[0mX_tfidf\u001b[0m\u001b[1;33m.\u001b[0m\u001b[0mname\u001b[0m\u001b[1;33m\u001b[0m\u001b[0m\n\u001b[0m",
      "\u001b[1;31mNameError\u001b[0m: name 'X_tfidf' is not defined"
     ]
    }
   ],
   "source": [
    "X_tfidf.name"
   ]
  },
  {
   "cell_type": "code",
   "execution_count": 22,
   "metadata": {},
   "outputs": [],
   "source": [
    "# create cosine similarity by tf-idf vector\n",
    "CS_similarity_bigram =cosine_similarity(X_tfidf)"
   ]
  },
  {
   "cell_type": "code",
   "execution_count": 24,
   "metadata": {},
   "outputs": [
    {
     "data": {
      "text/plain": [
       "(10000, 10000)"
      ]
     },
     "execution_count": 24,
     "metadata": {},
     "output_type": "execute_result"
    }
   ],
   "source": [
    "# get the feature shape\n",
    "CS_similarity_bigram.shape"
   ]
  },
  {
   "cell_type": "code",
   "execution_count": 25,
   "metadata": {
    "scrolled": true
   },
   "outputs": [
    {
     "data": {
      "text/plain": [
       "array([[1.        , 0.        , 0.        , ..., 0.        , 0.        ,\n",
       "        0.        ],\n",
       "       [0.        , 1.        , 0.        , ..., 0.        , 0.        ,\n",
       "        0.        ],\n",
       "       [0.        , 0.        , 1.        , ..., 0.        , 0.        ,\n",
       "        0.00917963],\n",
       "       ...,\n",
       "       [0.        , 0.        , 0.        , ..., 1.        , 0.        ,\n",
       "        0.        ],\n",
       "       [0.        , 0.        , 0.        , ..., 0.        , 1.        ,\n",
       "        0.        ],\n",
       "       [0.        , 0.        , 0.00917963, ..., 0.        , 0.        ,\n",
       "        1.        ]])"
      ]
     },
     "execution_count": 25,
     "metadata": {},
     "output_type": "execute_result"
    }
   ],
   "source": [
    "CS_similarity_bigram"
   ]
  },
  {
   "cell_type": "code",
   "execution_count": 143,
   "metadata": {},
   "outputs": [],
   "source": [
    "del CS_similarity_bigram"
   ]
  },
  {
   "cell_type": "markdown",
   "metadata": {},
   "source": [
    "### b. Cosine Similarity by Part of Speech"
   ]
  },
  {
   "cell_type": "code",
   "execution_count": 74,
   "metadata": {
    "scrolled": false
   },
   "outputs": [
    {
     "name": "stdout",
     "output_type": "stream",
     "text": [
      "(10000, 31938)\n"
     ]
    }
   ],
   "source": [
    "corpus = pos\n",
    "# create fi-idf vector base on POS\n",
    "tfidf = TfidfVectorizer(analyzer='word', ngram_range=(1, 1))\n",
    "pos_tfidf= tfidf.fit_transform(corpus)\n",
    "\n",
    "print(pos_tfidf.shape)"
   ]
  },
  {
   "cell_type": "code",
   "execution_count": 75,
   "metadata": {},
   "outputs": [
    {
     "data": {
      "text/plain": [
       "['__nnp',\n",
       " '_wrong__jj',\n",
       " 'aa_in',\n",
       " 'aa_nn',\n",
       " 'aa_vb',\n",
       " 'aaa_nn',\n",
       " 'aaaaaaaaaggggh_nn',\n",
       " 'aaaand_nn',\n",
       " 'aaargh_in',\n",
       " 'aahhhh_nn',\n",
       " 'aaron_jj',\n",
       " 'aaron_nn',\n",
       " 'aaron_vbp',\n",
       " 'aback_rb',\n",
       " 'abandon_in',\n",
       " 'abandon_jj',\n",
       " 'abandon_nn',\n",
       " 'abat_nn',\n",
       " 'abbey_jj',\n",
       " 'abbi_nn',\n",
       " 'aberr_jj',\n",
       " 'abgreat_nn',\n",
       " 'abid_vb',\n",
       " 'abil_in',\n",
       " 'abil_jj',\n",
       " 'abil_nn',\n",
       " 'abil_rb',\n",
       " 'abil_vbd',\n",
       " 'abject_vbp',\n",
       " 'abl_fw',\n",
       " 'abl_in',\n",
       " 'abl_jj',\n",
       " 'abl_nn',\n",
       " 'abl_nns',\n",
       " 'abl_rb',\n",
       " 'abl_vb',\n",
       " 'abl_vbd',\n",
       " 'abl_vbp',\n",
       " 'abl_vbz',\n",
       " 'abod_nn',\n",
       " 'abort_nn',\n",
       " 'abound_in',\n",
       " 'abound_jj',\n",
       " 'abound_nn',\n",
       " 'aboutthat_rb',\n",
       " 'abovement_nn',\n",
       " 'abra_jj',\n",
       " 'abras_jj',\n",
       " 'abroad_rb',\n",
       " 'abrupt_jj',\n",
       " 'abrupt_vbp',\n",
       " 'abruptli_vb',\n",
       " 'abruzzo_rb',\n",
       " 'abscond_nn',\n",
       " 'absenc_jj',\n",
       " 'absenc_nn',\n",
       " 'absent_jj',\n",
       " 'absinth_jj',\n",
       " 'absinth_nn',\n",
       " 'abso_nn',\n",
       " 'absolut_fw',\n",
       " 'absolut_in',\n",
       " 'absolut_jj',\n",
       " 'absolut_nn',\n",
       " 'absolut_nns',\n",
       " 'absolut_rb',\n",
       " 'absolut_vb',\n",
       " 'absolut_vbd',\n",
       " 'absolut_vbp',\n",
       " 'absolut_vbz',\n",
       " 'absolutley_nn',\n",
       " 'absolutli_in',\n",
       " 'absorb_jj',\n",
       " 'absorb_rb',\n",
       " 'absorb_vb',\n",
       " 'absorbit_nn',\n",
       " 'absoult_vb',\n",
       " 'absurd_in',\n",
       " 'absurd_jj',\n",
       " 'absurd_rb',\n",
       " 'absurdli_jj',\n",
       " 'absurdli_nn',\n",
       " 'absurdli_rb',\n",
       " 'absurdli_vbp',\n",
       " 'absynth_jj',\n",
       " 'abt_in',\n",
       " 'abuela_nn',\n",
       " 'abund_in',\n",
       " 'abund_jj',\n",
       " 'abund_nn',\n",
       " 'abund_rb',\n",
       " 'abus_jj',\n",
       " 'abus_nn',\n",
       " 'abus_rb',\n",
       " 'abv_jj',\n",
       " 'abv_nn',\n",
       " 'abv_rb',\n",
       " 'abysm_nn',\n",
       " 'abysm_nns',\n",
       " 'ac_in',\n",
       " 'ac_jj',\n",
       " 'ac_nn',\n",
       " 'ac_nns',\n",
       " 'ac_rb',\n",
       " 'ac_rp',\n",
       " 'ac_vbp',\n",
       " 'acccomod_nn',\n",
       " 'accent_jj',\n",
       " 'accent_nn',\n",
       " 'accentu_jj',\n",
       " 'accentu_nn',\n",
       " 'accept_in',\n",
       " 'accept_jj',\n",
       " 'accept_nn',\n",
       " 'accept_rp',\n",
       " 'accept_vb',\n",
       " 'accept_vbd',\n",
       " 'accept_vbp',\n",
       " 'access_nn',\n",
       " 'accid_jj',\n",
       " 'accid_nn',\n",
       " 'accid_nns',\n",
       " 'accid_vbd',\n",
       " 'accident_jj',\n",
       " 'accident_nn',\n",
       " 'acclaim_in',\n",
       " 'acclaim_nn',\n",
       " 'accolad_jj',\n",
       " 'accolad_nn',\n",
       " 'accomd_nns',\n",
       " 'accomid_in',\n",
       " 'accommod_in',\n",
       " 'accommod_jj',\n",
       " 'accommod_nn',\n",
       " 'accommod_nns',\n",
       " 'accommod_rb',\n",
       " 'accommod_rp',\n",
       " 'accommod_vb',\n",
       " 'accommod_vbd',\n",
       " 'accommod_vbp',\n",
       " 'accommod_vbz',\n",
       " 'accomod_in',\n",
       " 'accomod_jj',\n",
       " 'accomod_nn',\n",
       " 'accomod_rb',\n",
       " 'accomod_vb',\n",
       " 'accomod_vbd',\n",
       " 'accomod_vbp',\n",
       " 'accompani_in',\n",
       " 'accompani_jj',\n",
       " 'accompani_nn',\n",
       " 'accompani_nns',\n",
       " 'accompani_rb',\n",
       " 'accompani_vbp',\n",
       " 'accompani_vbz',\n",
       " 'accomplish_jj',\n",
       " 'accomplish_nn',\n",
       " 'accomplish_vb',\n",
       " 'accord_jj',\n",
       " 'accord_nn',\n",
       " 'accordian_jj',\n",
       " 'accordingli_in',\n",
       " 'accordingli_jj',\n",
       " 'accordingli_nn',\n",
       " 'accordingli_nns',\n",
       " 'accordingli_vbp',\n",
       " 'accordingli_vbz',\n",
       " 'accordion_nn',\n",
       " 'account_jj',\n",
       " 'account_nn',\n",
       " 'account_vb',\n",
       " 'account_vbp',\n",
       " 'accouter_nn',\n",
       " 'accoutr_in',\n",
       " 'accridit_jj',\n",
       " 'accross_in',\n",
       " 'accumul_nn',\n",
       " 'accur_in',\n",
       " 'accur_jj',\n",
       " 'accur_nn',\n",
       " 'accur_vbp',\n",
       " 'accuraci_jj',\n",
       " 'accus_jj',\n",
       " 'accus_nn',\n",
       " 'accustom_nn',\n",
       " 'ace_nn',\n",
       " 'ach_jj',\n",
       " 'ach_nn',\n",
       " 'ach_vbp',\n",
       " 'achatz_in',\n",
       " 'achatz_jj',\n",
       " 'achatz_nn',\n",
       " 'achatz_nns',\n",
       " 'achatz_rb',\n",
       " 'achiev_in',\n",
       " 'achiev_nn',\n",
       " 'achiev_nns',\n",
       " 'achiev_rb',\n",
       " 'achingli_nn',\n",
       " 'achiot_nn',\n",
       " 'acid_fw',\n",
       " 'acid_jj',\n",
       " 'acid_nn',\n",
       " 'ack_nn',\n",
       " 'acknowledg_in',\n",
       " 'acknowledg_jj',\n",
       " 'acknowledg_nn',\n",
       " 'acknowledg_nns',\n",
       " 'acknowledg_rb',\n",
       " 'acknowledg_vb',\n",
       " 'acknowledg_vbz',\n",
       " 'acn_vbd',\n",
       " 'acoust_jj',\n",
       " 'acoust_nn',\n",
       " 'acoust_rb',\n",
       " 'acoust_vbp',\n",
       " 'acquaint_nn',\n",
       " 'acquir_in',\n",
       " 'acquir_jj',\n",
       " 'acquir_nn',\n",
       " 'acr_jj',\n",
       " 'acr_nn',\n",
       " 'acr_rb',\n",
       " 'acrobat_jj',\n",
       " 'acrobat_nn',\n",
       " 'acrobat_vbd',\n",
       " 'acrobat_vbp',\n",
       " 'across_in',\n",
       " 'act_jj',\n",
       " 'act_nn',\n",
       " 'act_vbp',\n",
       " 'action_nn',\n",
       " 'activ_in',\n",
       " 'activ_jj',\n",
       " 'activ_nn',\n",
       " 'activ_nns',\n",
       " 'activ_vbp',\n",
       " 'actor_nn',\n",
       " 'actress_nn',\n",
       " 'actual_jj',\n",
       " 'acura_nn',\n",
       " 'acut_in',\n",
       " 'acut_nn',\n",
       " 'acut_rb',\n",
       " 'acut_vbd',\n",
       " 'ad_nn',\n",
       " 'ada_jj',\n",
       " 'ada_nn',\n",
       " 'ada_vbp',\n",
       " 'adag_nn',\n",
       " 'adam_in',\n",
       " 'adam_jj',\n",
       " 'adam_nn',\n",
       " 'adam_vb',\n",
       " 'adam_vbp',\n",
       " 'adamantli_rb',\n",
       " 'adapt_in',\n",
       " 'adapt_nn',\n",
       " 'adapt_vb',\n",
       " 'adass_jj',\n",
       " 'adass_nn',\n",
       " 'add_in',\n",
       " 'add_jj',\n",
       " 'add_nn',\n",
       " 'add_nns',\n",
       " 'add_rb',\n",
       " 'add_vb',\n",
       " 'add_vbn',\n",
       " 'add_vbp',\n",
       " 'add_vbz',\n",
       " 'addict_jj',\n",
       " 'addict_nn',\n",
       " 'addict_rb',\n",
       " 'addict_vbp',\n",
       " 'addict_vbz',\n",
       " 'addit_in',\n",
       " 'addit_jj',\n",
       " 'addit_nn',\n",
       " 'addit_rb',\n",
       " 'addit_rp',\n",
       " 'addit_vb',\n",
       " 'addit_vbp',\n",
       " 'addit_vbz',\n",
       " 'additionschorizo_rb',\n",
       " 'address_jj',\n",
       " 'address_nn',\n",
       " 'address_rb',\n",
       " 'address_vb',\n",
       " 'address_vbp',\n",
       " 'addtion_nn',\n",
       " 'adendum_nn',\n",
       " 'adept_in',\n",
       " 'adequ_in',\n",
       " 'adequ_jj',\n",
       " 'adequ_nn',\n",
       " 'adequ_nns',\n",
       " 'adequ_rb',\n",
       " 'adequ_vbz',\n",
       " 'adhd_jj',\n",
       " 'adher_nn',\n",
       " 'adher_rb',\n",
       " 'adieu_nn',\n",
       " 'adjac_in',\n",
       " 'adjac_jj',\n",
       " 'adjac_nn',\n",
       " 'adjac_vb',\n",
       " 'adject_jj',\n",
       " 'adject_nn',\n",
       " 'adject_vbp',\n",
       " 'adjoin_jj',\n",
       " 'adjoin_nn',\n",
       " 'adjoin_vbz',\n",
       " 'adjust_jj',\n",
       " 'adjust_nn',\n",
       " 'adjust_vb',\n",
       " 'adjust_vbp',\n",
       " 'admir_in',\n",
       " 'admir_jj',\n",
       " 'admir_nn',\n",
       " 'admir_vb',\n",
       " 'admiss_jj',\n",
       " 'admiss_nns',\n",
       " 'admit_in',\n",
       " 'admit_jj',\n",
       " 'admit_nn',\n",
       " 'admit_rb',\n",
       " 'admit_vb',\n",
       " 'admit_vbp',\n",
       " 'admittedli_jj',\n",
       " 'admittedli_nn',\n",
       " 'admittedli_rb',\n",
       " 'admittedli_vbp',\n",
       " 'admixtur_nn',\n",
       " 'adobo_jj',\n",
       " 'adobo_nn',\n",
       " 'adobo_rb',\n",
       " 'adobo_vbp',\n",
       " 'adolfo_nn',\n",
       " 'ador_jj',\n",
       " 'ador_nn',\n",
       " 'ador_vbp',\n",
       " 'adorn_in',\n",
       " 'adorn_jj',\n",
       " 'adorn_vbp',\n",
       " 'adorn_vbz',\n",
       " 'adrenalin_nn',\n",
       " 'adrian_jj',\n",
       " 'adult_jj',\n",
       " 'adult_nn',\n",
       " 'adult_vb',\n",
       " 'adult_vbp',\n",
       " 'advanc_in',\n",
       " 'advanc_jj',\n",
       " 'advanc_nn',\n",
       " 'advanc_rb',\n",
       " 'advanc_vbd',\n",
       " 'advanc_vbp',\n",
       " 'advanc_vbz',\n",
       " 'advantag_jj',\n",
       " 'advantag_nn',\n",
       " 'advantag_nns',\n",
       " 'advantag_rb',\n",
       " 'advantag_rp',\n",
       " 'adventur_in',\n",
       " 'adventur_jj',\n",
       " 'adventur_nn',\n",
       " 'adventur_rb',\n",
       " 'adventur_vb',\n",
       " 'adventur_vbd',\n",
       " 'adventur_vbp',\n",
       " 'adventur_vbz',\n",
       " 'adventuresom_jj',\n",
       " 'advers_nns',\n",
       " 'advertencia_nn',\n",
       " 'advertis_in',\n",
       " 'advertis_nn',\n",
       " 'advertis_nns',\n",
       " 'advertis_rb',\n",
       " 'advertis_vbp',\n",
       " 'advertis_vbz',\n",
       " 'advic_in',\n",
       " 'advic_jj',\n",
       " 'advic_nn',\n",
       " 'advic_nns',\n",
       " 'advic_rb',\n",
       " 'advic_rp',\n",
       " 'advic_vb',\n",
       " 'advic_vbd',\n",
       " 'advic_vbp',\n",
       " 'advic_vbz',\n",
       " 'advil_jj',\n",
       " 'advis_jj',\n",
       " 'advis_nn',\n",
       " 'advis_rb',\n",
       " 'advis_vb',\n",
       " 'advis_vbp',\n",
       " 'advis_vbz',\n",
       " 'advisor_nn',\n",
       " 'advisori_vbp',\n",
       " 'advoc_rb',\n",
       " 'advoc_vbp',\n",
       " 'aerial_jj',\n",
       " 'aerob_nn',\n",
       " 'aeron_nn',\n",
       " 'aeronsunda_nn',\n",
       " 'aerosol_jj',\n",
       " 'aesthet_jj',\n",
       " 'aesthet_nn',\n",
       " 'aesthet_rb',\n",
       " 'aesthet_vbd',\n",
       " 'affabl_in',\n",
       " 'affair_jj',\n",
       " 'affair_nn',\n",
       " 'affect_jj',\n",
       " 'affect_nn',\n",
       " 'affect_vb',\n",
       " 'affect_vbp',\n",
       " 'affili_nn',\n",
       " 'affili_vbd',\n",
       " 'affin_nn',\n",
       " 'affix_nn',\n",
       " 'afflict_jj',\n",
       " 'afford_in',\n",
       " 'afford_jj',\n",
       " 'afford_nn',\n",
       " 'afford_rb',\n",
       " 'afford_vb',\n",
       " 'afford_vbp',\n",
       " 'afford_vbz',\n",
       " 'affordabley_jj',\n",
       " 'affront_jj',\n",
       " 'aficionado_nn',\n",
       " 'aficionado_rb',\n",
       " 'aflac_in',\n",
       " 'aford_nn',\n",
       " 'aforement_jj',\n",
       " 'aforement_nn',\n",
       " 'afraid_jj',\n",
       " 'afraid_nn',\n",
       " 'afraid_vbd',\n",
       " 'afraid_vbp',\n",
       " 'africa_nn',\n",
       " 'african_jj',\n",
       " 'africana_fw',\n",
       " 'afteral_jj',\n",
       " 'aftermath_nn',\n",
       " 'afternoon_nn',\n",
       " 'aftertast_in',\n",
       " 'aftertast_jj',\n",
       " 'aftertast_nn',\n",
       " 'afterthought_jj',\n",
       " 'afterthought_vbd',\n",
       " 'afterward_in',\n",
       " 'afterward_jj',\n",
       " 'afterward_nn',\n",
       " 'afterward_rb',\n",
       " 'afterword_in',\n",
       " 'afterword_nn',\n",
       " 'afterwork_nn',\n",
       " 'agan_jj',\n",
       " 'agav_jj',\n",
       " 'agav_vbp',\n",
       " 'age_nn',\n",
       " 'agedashi_nn',\n",
       " 'agenc_in',\n",
       " 'agenc_nn',\n",
       " 'agenda_jj',\n",
       " 'agenda_nn',\n",
       " 'agenda_rb',\n",
       " 'agent_nn',\n",
       " 'aggrav_jj',\n",
       " 'aggrav_nn',\n",
       " 'aggres_vbz',\n",
       " 'aggress_in',\n",
       " 'aggress_jj',\n",
       " 'aggress_nn',\n",
       " 'agh_nn',\n",
       " 'aghast_nn',\n",
       " 'aglass_nn',\n",
       " 'agneau_jj',\n",
       " 'agneau_nn',\n",
       " 'agnello_jj',\n",
       " 'agnollotti_nns',\n",
       " 'agnolotti_jj',\n",
       " 'agnolotti_nn',\n",
       " 'agnolotti_nns',\n",
       " 'agnolotti_vbp',\n",
       " 'agnolotti_vbz',\n",
       " 'ago_in',\n",
       " 'ago_rb',\n",
       " 'agre_in',\n",
       " 'agre_jj',\n",
       " 'agre_nn',\n",
       " 'agre_nns',\n",
       " 'agre_rb',\n",
       " 'agre_rp',\n",
       " 'agre_vb',\n",
       " 'agre_vbd',\n",
       " 'agre_vbp',\n",
       " 'agre_vbz',\n",
       " 'agreement_nn',\n",
       " 'agress_jj',\n",
       " 'agripolitan_rb',\n",
       " 'agu_nn',\n",
       " 'agua_jj',\n",
       " 'agua_nn',\n",
       " 'agua_vb',\n",
       " 'aguirr_jj',\n",
       " 'ah_jj',\n",
       " 'ah_nn',\n",
       " 'ah_rb',\n",
       " 'ahbogada_vbz',\n",
       " 'ahead_rb',\n",
       " 'ahem_jj',\n",
       " 'ahh_jj',\n",
       " 'ahh_nn',\n",
       " 'ahh_nns',\n",
       " 'ahhh_jj',\n",
       " 'ahhh_nn',\n",
       " 'ahhhh_jj',\n",
       " 'ahhhh_nn',\n",
       " 'ahhhhh_nn',\n",
       " 'ahhhhh_vbz',\n",
       " 'ahhhhhhhh_rb',\n",
       " 'ahhhhhhhhh_nn',\n",
       " 'ahi_in',\n",
       " 'ahi_jj',\n",
       " 'ahi_nn',\n",
       " 'ahi_vbz',\n",
       " 'ahnold_nn',\n",
       " 'ahodaga_nn',\n",
       " 'ahodaga_rb',\n",
       " 'ahogada_jj',\n",
       " 'ahogada_nn',\n",
       " 'ahogada_nns',\n",
       " 'ahogada_vbp',\n",
       " 'ahogada_vbz',\n",
       " 'ahogado_jj',\n",
       " 'ahogado_nn',\n",
       " 'ai_rb',\n",
       " 'ai_vbp',\n",
       " 'aid_nn',\n",
       " 'aiit_nn',\n",
       " 'ailment_nn',\n",
       " 'ailoi_nn',\n",
       " 'ailoli_nns',\n",
       " 'aim_jj',\n",
       " 'aim_nn',\n",
       " 'aimless_jj',\n",
       " 'aimless_nn',\n",
       " 'ainsi_nn',\n",
       " 'aint_nn',\n",
       " 'aioli_in',\n",
       " 'aioli_jj',\n",
       " 'aioli_nn',\n",
       " 'aioli_nns',\n",
       " 'aioli_rb',\n",
       " 'aioli_vbp',\n",
       " 'air_in',\n",
       " 'air_jj',\n",
       " 'air_nn',\n",
       " 'air_rp',\n",
       " 'air_vb',\n",
       " 'aircard_nn',\n",
       " 'aircondit_nn',\n",
       " 'airi_in',\n",
       " 'airi_jj',\n",
       " 'airi_nn',\n",
       " 'airi_nns',\n",
       " 'airi_rb',\n",
       " 'airier_nn',\n",
       " 'airlin_nn',\n",
       " 'airlin_rb',\n",
       " 'airplan_nn',\n",
       " 'airport_jj',\n",
       " 'airport_nn',\n",
       " 'airport_rb',\n",
       " 'aisan_jj',\n",
       " 'aisl_jj',\n",
       " 'aisl_nn',\n",
       " 'aisl_vbp',\n",
       " 'aisleway_jj',\n",
       " 'aja_in',\n",
       " 'aja_jj',\n",
       " 'aja_nn',\n",
       " 'ajar_jj',\n",
       " 'aji_nn',\n",
       " 'ajillo_jj',\n",
       " 'ajillo_nn',\n",
       " 'ajillo_vbz',\n",
       " 'ajoin_jj',\n",
       " 'aka_cd',\n",
       " 'aka_jj',\n",
       " 'aka_nn',\n",
       " 'aka_vbp',\n",
       " 'ake_jj',\n",
       " 'akin_in',\n",
       " 'akin_jj',\n",
       " 'akin_rb',\n",
       " 'akron_nn',\n",
       " 'akward_rb',\n",
       " 'al_in',\n",
       " 'al_jj',\n",
       " 'al_nn',\n",
       " 'al_rb',\n",
       " 'al_vbd',\n",
       " 'al_vbp',\n",
       " 'ala_in',\n",
       " 'ala_jj',\n",
       " 'ala_nn',\n",
       " 'ala_nns',\n",
       " 'ala_rb',\n",
       " 'ala_vbd',\n",
       " 'ala_vbp',\n",
       " 'ala_vbz',\n",
       " 'alabama_nn',\n",
       " 'alacart_nn',\n",
       " 'alarm_nn',\n",
       " 'alarm_vbp',\n",
       " 'alarm_vbz',\n",
       " 'alaska_nn',\n",
       " 'alaskan_jj',\n",
       " 'alaskan_nn',\n",
       " 'alaskan_vbp',\n",
       " 'albacor_nn',\n",
       " 'albani_vbz',\n",
       " 'albarino_nn',\n",
       " 'albeit_in',\n",
       " 'albeit_nn',\n",
       " 'albeit_rb',\n",
       " 'albert_jj',\n",
       " 'albert_nn',\n",
       " 'alberto_in',\n",
       " 'alberto_jj',\n",
       " 'alberto_nn',\n",
       " 'alberto_vbp',\n",
       " 'albiet_jj',\n",
       " 'album_nn',\n",
       " 'albumen_nns',\n",
       " 'alchohol_nn',\n",
       " 'alchol_jj',\n",
       " 'alcohol_in',\n",
       " 'alcohol_jj',\n",
       " 'alcohol_nn',\n",
       " 'alcohol_rb',\n",
       " 'alcoholi_in',\n",
       " 'alcov_jj',\n",
       " 'alcov_nn',\n",
       " 'alderman_jj',\n",
       " 'alderman_nn',\n",
       " 'aldermen_nn',\n",
       " 'aldermen_nns',\n",
       " 'ale_jj',\n",
       " 'ale_nn',\n",
       " 'ale_vbp',\n",
       " 'alec_in',\n",
       " 'alert_jj',\n",
       " 'alert_nn',\n",
       " 'alert_vbd',\n",
       " 'alex_nn',\n",
       " 'alexandria_nns',\n",
       " 'alfredo_jj',\n",
       " 'alfredo_nn',\n",
       " 'alfresco_vbp',\n",
       " 'algerian_jj',\n",
       " 'algier_nn',\n",
       " 'alguna_nn',\n",
       " 'alia_nn',\n",
       " 'alibaba_jj',\n",
       " 'alic_jj',\n",
       " 'alic_nn',\n",
       " 'alicha_nn',\n",
       " 'alicha_rb',\n",
       " 'alicha_vbz',\n",
       " 'alici_nn',\n",
       " 'alien_jj',\n",
       " 'alien_nn',\n",
       " 'alight_vbd',\n",
       " 'align_jj',\n",
       " 'align_nn',\n",
       " 'alik_jj',\n",
       " 'alik_nn',\n",
       " 'alik_rb',\n",
       " 'alimentación_fw',\n",
       " 'alinea_in',\n",
       " 'alinea_jj',\n",
       " 'alinea_nn',\n",
       " 'alinea_nns',\n",
       " 'alinea_rb',\n",
       " 'alinea_rp',\n",
       " 'alinea_vb',\n",
       " 'alinea_vbp',\n",
       " 'alinia_jj',\n",
       " 'alison_nn',\n",
       " 'alittl_nn',\n",
       " 'alittl_rb',\n",
       " 'aliv_in',\n",
       " 'aliv_jj',\n",
       " 'aliv_nn',\n",
       " 'alk_nn',\n",
       " 'alla_nn',\n",
       " 'allagash_in',\n",
       " 'allagash_jj',\n",
       " 'allagash_nn',\n",
       " 'allegedli_jj',\n",
       " 'allegedli_nn',\n",
       " 'allegi_nn',\n",
       " 'allegro_cc',\n",
       " 'allegro_in',\n",
       " 'allegro_jj',\n",
       " 'allegro_nn',\n",
       " 'allegro_nns',\n",
       " 'allegro_rb',\n",
       " 'allen_in',\n",
       " 'allen_vbn',\n",
       " 'allend_fw',\n",
       " 'allerg_in',\n",
       " 'allerg_jj',\n",
       " 'allerg_nn',\n",
       " 'allerg_vbp',\n",
       " 'allerg_vbz',\n",
       " 'allergi_in',\n",
       " 'allergi_jj',\n",
       " 'allergi_nn',\n",
       " 'allergi_vbp',\n",
       " 'allerton_in',\n",
       " 'allerton_jj',\n",
       " 'allerton_nn',\n",
       " 'allerton_rb',\n",
       " 'allevi_vb',\n",
       " 'alley_jj',\n",
       " 'alley_nn',\n",
       " 'alley_rb',\n",
       " 'alley_vb',\n",
       " 'alley_vbp',\n",
       " 'allianc_jj',\n",
       " 'allianc_nn',\n",
       " 'allianc_rb',\n",
       " 'allianc_rp',\n",
       " 'allianc_vbp',\n",
       " 'allianc_vbz',\n",
       " 'allig_nn',\n",
       " 'allig_rb',\n",
       " 'allison_nn',\n",
       " 'alll_jj',\n",
       " 'allll_nn',\n",
       " 'allo_vbz',\n",
       " 'allot_jj',\n",
       " 'allot_nn',\n",
       " 'allot_vbd',\n",
       " 'allow_in',\n",
       " 'allow_jj',\n",
       " 'allow_nn',\n",
       " 'allow_vb',\n",
       " 'allow_vbp',\n",
       " 'allspic_nn',\n",
       " 'allud_rb',\n",
       " 'allur_jj',\n",
       " 'allur_nn',\n",
       " 'allá_nn',\n",
       " 'alma_vbp',\n",
       " 'almendra_jj',\n",
       " 'almendra_nn',\n",
       " 'almendrado_nn',\n",
       " 'almond_jj',\n",
       " 'almond_nn',\n",
       " 'almond_vb',\n",
       " 'almond_vbp',\n",
       " 'almondin_vbp',\n",
       " 'almost_rb',\n",
       " 'alo_jj',\n",
       " 'aloft_rb',\n",
       " 'alon_in',\n",
       " 'alon_jj',\n",
       " 'alon_nn',\n",
       " 'alon_nns',\n",
       " 'alon_rb',\n",
       " 'alon_rp',\n",
       " 'alon_vb',\n",
       " 'alon_vbp',\n",
       " 'alon_vbz',\n",
       " 'along_in',\n",
       " 'along_jj',\n",
       " 'along_rb',\n",
       " 'along_vb',\n",
       " 'alongsid_jj',\n",
       " 'alongsid_nn',\n",
       " 'alongsid_rb',\n",
       " 'alonzo_nn',\n",
       " 'aloof_jj',\n",
       " 'aloof_nn',\n",
       " 'alot_in',\n",
       " 'alot_jj',\n",
       " 'alot_nn',\n",
       " 'alot_rb',\n",
       " 'aloud_in',\n",
       " 'alpha_jj',\n",
       " 'alpha_nn',\n",
       " 'alphabet_nn',\n",
       " 'alreadi_cc',\n",
       " 'alreadi_in',\n",
       " 'alreadi_jj',\n",
       " 'alreadi_nn',\n",
       " 'alreadi_nns',\n",
       " 'alreadi_rb',\n",
       " 'alreadi_vb',\n",
       " 'alreadi_vbd',\n",
       " 'alreadi_vbp',\n",
       " 'alreadi_vbz',\n",
       " 'alright_jj',\n",
       " 'alright_nn',\n",
       " 'alright_rb',\n",
       " 'alright_vb',\n",
       " 'alright_vbd',\n",
       " 'alright_vbn',\n",
       " 'alrighti_jj',\n",
       " 'also_rb',\n",
       " 'alter_jj',\n",
       " 'alter_nn',\n",
       " 'alter_rb',\n",
       " 'alterc_rb',\n",
       " 'altern_jj',\n",
       " 'altern_nn',\n",
       " 'alterna_nn',\n",
       " 'altho_nn',\n",
       " 'although_in',\n",
       " 'althought_vbd',\n",
       " 'alto_jj',\n",
       " 'altogeth_jj',\n",
       " 'altogeth_nns',\n",
       " 'altogeth_rb',\n",
       " 'altogeth_vbz',\n",
       " 'alton_nn',\n",
       " 'altough_in',\n",
       " 'aluminum_nn',\n",
       " 'alumnu_in',\n",
       " 'alwasi_jj',\n",
       " 'alwasi_nn',\n",
       " 'alway_in',\n",
       " 'alway_jj',\n",
       " 'alway_nn',\n",
       " 'alway_nns',\n",
       " 'alway_rb',\n",
       " 'alway_rp',\n",
       " 'alway_vb',\n",
       " 'alway_vbd',\n",
       " 'alway_vbp',\n",
       " 'alzheim_vbz',\n",
       " 'amaaaaaz_jj',\n",
       " 'amaaaaz_jj',\n",
       " 'amaaaz_nn',\n",
       " 'amalfi_in',\n",
       " 'amalfi_jj',\n",
       " 'amalfi_nn',\n",
       " 'amalfi_nns',\n",
       " 'amalfi_rb',\n",
       " 'amalfitini_in',\n",
       " 'amalfitini_jj',\n",
       " 'amalfitini_vbd',\n",
       " 'amalgam_nn',\n",
       " 'amalgam_rb',\n",
       " 'amanda_in',\n",
       " 'amanda_nn',\n",
       " 'amaretto_jj',\n",
       " 'amaretto_nn',\n",
       " 'amaro_nn',\n",
       " 'amas_nns',\n",
       " 'amateur_in',\n",
       " 'amateur_nn',\n",
       " 'amaz_fw',\n",
       " 'amaz_in',\n",
       " 'amaz_jj',\n",
       " 'amaz_nn',\n",
       " 'amaz_nns',\n",
       " 'amaz_rb',\n",
       " 'amaz_rp',\n",
       " 'amaz_vb',\n",
       " 'amaz_vbd',\n",
       " 'amaz_vbn',\n",
       " 'amaz_vbp',\n",
       " 'amaz_vbz',\n",
       " 'amazbal_jj',\n",
       " 'amazing_nn',\n",
       " 'amazing_vbg',\n",
       " 'amazingli_in',\n",
       " 'amazingli_jj',\n",
       " 'amazingli_nn',\n",
       " 'amazingli_nns',\n",
       " 'amazingli_rb',\n",
       " 'amazingli_vbd',\n",
       " 'amazingli_vbp',\n",
       " 'amb_jj',\n",
       " 'amb_nn',\n",
       " 'amb_vbp',\n",
       " 'ambad_jj',\n",
       " 'ambassador_in',\n",
       " 'ambassador_jj',\n",
       " 'ambassador_nn',\n",
       " 'ambassador_rp',\n",
       " 'amber_nn',\n",
       " 'ambianc_in',\n",
       " 'ambianc_jj',\n",
       " 'ambianc_nn',\n",
       " 'ambianc_nns',\n",
       " 'ambianc_rb',\n",
       " 'ambianc_rp',\n",
       " 'ambianc_vb',\n",
       " 'ambianc_vbp',\n",
       " 'ambianc_vbz',\n",
       " 'ambidextr_nns',\n",
       " 'ambieanc_nn',\n",
       " 'ambienc_fw',\n",
       " 'ambienc_in',\n",
       " 'ambienc_jj',\n",
       " 'ambienc_nn',\n",
       " 'ambienc_nns',\n",
       " 'ambienc_rb',\n",
       " 'ambienc_vb',\n",
       " 'ambienc_vbd',\n",
       " 'ambienc_vbz',\n",
       " 'ambient_jj',\n",
       " 'ambient_nn',\n",
       " 'ambiti_in',\n",
       " 'ambiti_nn',\n",
       " 'ambiti_vbp',\n",
       " 'ambival_jj',\n",
       " 'ambival_nn',\n",
       " 'ambival_vb',\n",
       " 'ambrois_jj',\n",
       " 'ambrosia_nn',\n",
       " 'ambul_nn',\n",
       " 'amc_nn',\n",
       " 'amd_jj',\n",
       " 'ame_nn',\n",
       " 'amen_in',\n",
       " 'amen_jj',\n",
       " 'amen_nn',\n",
       " 'amen_nns',\n",
       " 'amen_vbp',\n",
       " 'amend_vbp',\n",
       " 'america_in',\n",
       " 'america_jj',\n",
       " 'america_nn',\n",
       " 'america_nns',\n",
       " 'america_rb',\n",
       " 'america_vbp',\n",
       " 'america_vbz',\n",
       " 'american_jj',\n",
       " 'americana_nn',\n",
       " 'americano_nn',\n",
       " 'amet_vbd',\n",
       " 'amex_nn',\n",
       " 'amex_vbz',\n",
       " 'ami_jj',\n",
       " 'ami_nn',\n",
       " 'amiabl_nn',\n",
       " 'amiabl_nns',\n",
       " 'amibi_nn',\n",
       " 'amic_jj',\n",
       " 'amidst_nn',\n",
       " 'amidst_rb',\n",
       " 'amiga_rb',\n",
       " 'amigo_vbz',\n",
       " 'amish_jj',\n",
       " 'amiss_jj',\n",
       " 'ammen_nns',\n",
       " 'ammmmaz_nn',\n",
       " 'ammonia_nn',\n",
       " 'amnot_nn',\n",
       " 'amoneysymbmoneysymb_jj',\n",
       " 'amoneysymbmoneysymb_rb',\n",
       " 'amoneysymbmoneysymbhol_nn',\n",
       " 'among_in',\n",
       " 'amongst_in',\n",
       " 'amongst_jj',\n",
       " 'amongst_nn',\n",
       " 'amongst_nns',\n",
       " 'amongst_rb',\n",
       " 'amongst_vbz',\n",
       " 'amor_nn',\n",
       " 'amorph_nn',\n",
       " 'amount_jj',\n",
       " 'amount_nn',\n",
       " 'amount_vbp',\n",
       " 'amour_nns',\n",
       " 'amp_in',\n",
       " 'amp_jj',\n",
       " 'ampl_in',\n",
       " 'ampl_jj',\n",
       " 'ampl_nn',\n",
       " 'ampl_rb',\n",
       " 'amplifi_nn',\n",
       " 'amplifi_rb',\n",
       " 'amplifi_vb',\n",
       " 'amstel_nn',\n",
       " 'amtospher_nn',\n",
       " 'amtrak_jj',\n",
       " 'amtrak_nn',\n",
       " 'amtyp_nn',\n",
       " 'amus_in',\n",
       " ...]"
      ]
     },
     "execution_count": 75,
     "metadata": {},
     "output_type": "execute_result"
    }
   ],
   "source": [
    "tfidf.get_feature_names()"
   ]
  },
  {
   "cell_type": "code",
   "execution_count": 76,
   "metadata": {},
   "outputs": [],
   "source": [
    "import time"
   ]
  },
  {
   "cell_type": "code",
   "execution_count": 77,
   "metadata": {},
   "outputs": [
    {
     "name": "stdout",
     "output_type": "stream",
     "text": [
      "--- 5.802427768707275 seconds ---\n"
     ]
    }
   ],
   "source": [
    "import time\n",
    "start_time = time.time()\n",
    "\n",
    "# create cosine similarity by tf-idf vector\n",
    "CS_similarity_pos =cosine_similarity(pos_tfidf)\n",
    "\n",
    "print(\"--- %s seconds ---\" % (time.time() - start_time))"
   ]
  },
  {
   "cell_type": "code",
   "execution_count": 78,
   "metadata": {},
   "outputs": [
    {
     "data": {
      "text/plain": [
       "(10000, 10000)"
      ]
     },
     "execution_count": 78,
     "metadata": {},
     "output_type": "execute_result"
    }
   ],
   "source": [
    "# get the feature shape\n",
    "CS_similarity_pos.shape"
   ]
  },
  {
   "cell_type": "code",
   "execution_count": 79,
   "metadata": {
    "scrolled": false
   },
   "outputs": [
    {
     "data": {
      "text/plain": [
       "array([[1.        , 0.02991073, 0.0678243 , ..., 0.01509817, 0.06291411,\n",
       "        0.0359795 ],\n",
       "       [0.02991073, 1.        , 0.0413922 , ..., 0.02658999, 0.00427586,\n",
       "        0.04154356],\n",
       "       [0.0678243 , 0.0413922 , 1.        , ..., 0.01633765, 0.0544978 ,\n",
       "        0.04663534],\n",
       "       ...,\n",
       "       [0.01509817, 0.02658999, 0.01633765, ..., 1.        , 0.00903432,\n",
       "        0.01105356],\n",
       "       [0.06291411, 0.00427586, 0.0544978 , ..., 0.00903432, 1.        ,\n",
       "        0.07172951],\n",
       "       [0.0359795 , 0.04154356, 0.04663534, ..., 0.01105356, 0.07172951,\n",
       "        1.        ]])"
      ]
     },
     "execution_count": 79,
     "metadata": {},
     "output_type": "execute_result"
    }
   ],
   "source": [
    "CS_similarity_pos"
   ]
  },
  {
   "cell_type": "code",
   "execution_count": 320,
   "metadata": {},
   "outputs": [],
   "source": [
    "#po_similarity_df = pd.DataFrame(CS_similarity_pos, dtype= 'float')"
   ]
  },
  {
   "cell_type": "code",
   "execution_count": 321,
   "metadata": {},
   "outputs": [],
   "source": [
    "#po_similarity_df.head(10)"
   ]
  },
  {
   "cell_type": "markdown",
   "metadata": {},
   "source": [
    "## 4.4 Sentiment analysis\n"
   ]
  },
  {
   "cell_type": "code",
   "execution_count": 34,
   "metadata": {},
   "outputs": [],
   "source": [
    "from textblob import TextBlob \n",
    "from textblob.sentiments import NaiveBayesAnalyzer\n",
    "\n",
    "#Example how to get sentiment score of a text\n",
    "#rv_sentiment = TextBlob(\"Came in on the early afternoon on Sunday. The food was tasty and priced well.\",analyzer=NaiveBayesAnalyzer()).sentiment\n"
   ]
  },
  {
   "cell_type": "markdown",
   "metadata": {},
   "source": [
    "### ** Note **\n",
    "Because NaiveBayesAnalyzer() take too long to analyze the sentiment of whole dataset. I had tested and it take me more than 4hours. So, I choose move forward with pattern analyzer"
   ]
  },
  {
   "cell_type": "code",
   "execution_count": 35,
   "metadata": {},
   "outputs": [],
   "source": [
    "# Polarity and subjectivity\n",
    "pol = lambda x: TextBlob(x).sentiment.polarity\n",
    "sub = lambda x: TextBlob(x).sentiment.subjectivity\n",
    "polarity = processed.apply(pol)\n",
    "subjective = processed.apply(sub)\n",
    "\n",
    "#reve_pos = []\n",
    "#reve_pos += [TextBlob(x, analyzer= NaiveBayesAnalyzer()).sentiment.p_pos  for x in processed]"
   ]
  },
  {
   "cell_type": "code",
   "execution_count": null,
   "metadata": {
    "scrolled": true
   },
   "outputs": [],
   "source": [
    "# Let's plot the results\n",
    "import matplotlib.pyplot as plt\n",
    "\n",
    "plt.rcParams['figure.figsize'] = [10, 8]\n",
    "\n",
    "x = polarity\n",
    "y = subjective\n",
    "plt.scatter(x, y, color='blue')\n",
    "#plt.text(x+.001, y+.001, data['full_name'][index], fontsize=10)\n",
    "plt.xlim(-.01, .12) \n",
    "    \n",
    "plt.title('Sentiment Analysis', fontsize=20)\n",
    "plt.xlabel('<-- Negative -------- Positive -->', fontsize=15)\n",
    "plt.ylabel('<-- Facts -------- Opinions -->', fontsize=15)\n",
    "\n",
    "plt.show()"
   ]
  },
  {
   "cell_type": "markdown",
   "metadata": {},
   "source": [
    "### Behavior feature\n",
    "- behavior_attr: behavioral attributes\n",
    "### text_feature\n",
    "- processed: text content\n",
    "- polarity: polarity of review\n",
    "- CS_similarity_pos: consine similarity generated from POS\n",
    "- CS_similarity_bigram: cosine similarity generated from bi-gram"
   ]
  },
  {
   "cell_type": "markdown",
   "metadata": {},
   "source": [
    "# 5 Clusstering"
   ]
  },
  {
   "cell_type": "markdown",
   "metadata": {},
   "source": [
    "## 5.1 Clustering with N-grams Cosine Similarity"
   ]
  },
  {
   "cell_type": "markdown",
   "metadata": {},
   "source": [
    "## 5.2 Clustering with PoS cosine similarity"
   ]
  },
  {
   "cell_type": "code",
   "execution_count": 36,
   "metadata": {
    "scrolled": false
   },
   "outputs": [],
   "source": [
    "from sklearn.mixture import GaussianMixture\n",
    "\n",
    "def em_clustering(X):\n",
    "    gmm = GaussianMixture()\n",
    "    gmm = GaussianMixture(n_components=4)\n",
    "    gmm.fit(X)\n",
    "    return gmm\n",
    "\n"
   ]
  },
  {
   "cell_type": "code",
   "execution_count": 80,
   "metadata": {},
   "outputs": [
    {
     "ename": "MemoryError",
     "evalue": "Unable to allocate 763. MiB for an array with shape (10000, 10000) and data type float64",
     "output_type": "error",
     "traceback": [
      "\u001b[1;31m---------------------------------------------------------------------------\u001b[0m",
      "\u001b[1;31mMemoryError\u001b[0m                               Traceback (most recent call last)",
      "\u001b[1;32m<ipython-input-80-e0ada3e8d909>\u001b[0m in \u001b[0;36m<module>\u001b[1;34m\u001b[0m\n\u001b[0;32m      2\u001b[0m \u001b[0mstart_time\u001b[0m \u001b[1;33m=\u001b[0m \u001b[0mtime\u001b[0m\u001b[1;33m.\u001b[0m\u001b[0mtime\u001b[0m\u001b[1;33m(\u001b[0m\u001b[1;33m)\u001b[0m\u001b[1;33m\u001b[0m\u001b[0m\n\u001b[0;32m      3\u001b[0m \u001b[1;33m\u001b[0m\u001b[0m\n\u001b[1;32m----> 4\u001b[1;33m \u001b[0mgmm\u001b[0m \u001b[1;33m=\u001b[0m \u001b[0mem_clustering\u001b[0m\u001b[1;33m(\u001b[0m\u001b[0mCS_similarity_pos\u001b[0m\u001b[1;33m)\u001b[0m\u001b[1;33m\u001b[0m\u001b[0m\n\u001b[0m\u001b[0;32m      5\u001b[0m \u001b[1;33m\u001b[0m\u001b[0m\n\u001b[0;32m      6\u001b[0m \u001b[1;33m\u001b[0m\u001b[0m\n",
      "\u001b[1;32m<ipython-input-36-792813c16feb>\u001b[0m in \u001b[0;36mem_clustering\u001b[1;34m(X)\u001b[0m\n\u001b[0;32m      4\u001b[0m     \u001b[0mgmm\u001b[0m \u001b[1;33m=\u001b[0m \u001b[0mGaussianMixture\u001b[0m\u001b[1;33m(\u001b[0m\u001b[1;33m)\u001b[0m\u001b[1;33m\u001b[0m\u001b[0m\n\u001b[0;32m      5\u001b[0m     \u001b[0mgmm\u001b[0m \u001b[1;33m=\u001b[0m \u001b[0mGaussianMixture\u001b[0m\u001b[1;33m(\u001b[0m\u001b[0mn_components\u001b[0m\u001b[1;33m=\u001b[0m\u001b[1;36m4\u001b[0m\u001b[1;33m)\u001b[0m\u001b[1;33m\u001b[0m\u001b[0m\n\u001b[1;32m----> 6\u001b[1;33m     \u001b[0mgmm\u001b[0m\u001b[1;33m.\u001b[0m\u001b[0mfit\u001b[0m\u001b[1;33m(\u001b[0m\u001b[0mX\u001b[0m\u001b[1;33m)\u001b[0m\u001b[1;33m\u001b[0m\u001b[0m\n\u001b[0m\u001b[0;32m      7\u001b[0m     \u001b[1;32mreturn\u001b[0m \u001b[0mgmm\u001b[0m\u001b[1;33m\u001b[0m\u001b[0m\n\u001b[0;32m      8\u001b[0m \u001b[1;33m\u001b[0m\u001b[0m\n",
      "\u001b[1;32m~\\Anaconda3\\lib\\site-packages\\sklearn\\mixture\\_base.py\u001b[0m in \u001b[0;36mfit\u001b[1;34m(self, X, y)\u001b[0m\n\u001b[0;32m    190\u001b[0m         \u001b[0mself\u001b[0m\u001b[1;33m\u001b[0m\u001b[0m\n\u001b[0;32m    191\u001b[0m         \"\"\"\n\u001b[1;32m--> 192\u001b[1;33m         \u001b[0mself\u001b[0m\u001b[1;33m.\u001b[0m\u001b[0mfit_predict\u001b[0m\u001b[1;33m(\u001b[0m\u001b[0mX\u001b[0m\u001b[1;33m,\u001b[0m \u001b[0my\u001b[0m\u001b[1;33m)\u001b[0m\u001b[1;33m\u001b[0m\u001b[0m\n\u001b[0m\u001b[0;32m    193\u001b[0m         \u001b[1;32mreturn\u001b[0m \u001b[0mself\u001b[0m\u001b[1;33m\u001b[0m\u001b[0m\n\u001b[0;32m    194\u001b[0m \u001b[1;33m\u001b[0m\u001b[0m\n",
      "\u001b[1;32m~\\Anaconda3\\lib\\site-packages\\sklearn\\mixture\\_base.py\u001b[0m in \u001b[0;36mfit_predict\u001b[1;34m(self, X, y)\u001b[0m\n\u001b[0;32m    242\u001b[0m \u001b[1;33m\u001b[0m\u001b[0m\n\u001b[0;32m    243\u001b[0m                 \u001b[0mlog_prob_norm\u001b[0m\u001b[1;33m,\u001b[0m \u001b[0mlog_resp\u001b[0m \u001b[1;33m=\u001b[0m \u001b[0mself\u001b[0m\u001b[1;33m.\u001b[0m\u001b[0m_e_step\u001b[0m\u001b[1;33m(\u001b[0m\u001b[0mX\u001b[0m\u001b[1;33m)\u001b[0m\u001b[1;33m\u001b[0m\u001b[0m\n\u001b[1;32m--> 244\u001b[1;33m                 \u001b[0mself\u001b[0m\u001b[1;33m.\u001b[0m\u001b[0m_m_step\u001b[0m\u001b[1;33m(\u001b[0m\u001b[0mX\u001b[0m\u001b[1;33m,\u001b[0m \u001b[0mlog_resp\u001b[0m\u001b[1;33m)\u001b[0m\u001b[1;33m\u001b[0m\u001b[0m\n\u001b[0m\u001b[0;32m    245\u001b[0m                 lower_bound = self._compute_lower_bound(\n\u001b[0;32m    246\u001b[0m                     log_resp, log_prob_norm)\n",
      "\u001b[1;32m~\\Anaconda3\\lib\\site-packages\\sklearn\\mixture\\_gaussian_mixture.py\u001b[0m in \u001b[0;36m_m_step\u001b[1;34m(self, X, log_resp)\u001b[0m\n\u001b[0;32m    672\u001b[0m         self.weights_, self.means_, self.covariances_ = (\n\u001b[0;32m    673\u001b[0m             _estimate_gaussian_parameters(X, np.exp(log_resp), self.reg_covar,\n\u001b[1;32m--> 674\u001b[1;33m                                           self.covariance_type))\n\u001b[0m\u001b[0;32m    675\u001b[0m         \u001b[0mself\u001b[0m\u001b[1;33m.\u001b[0m\u001b[0mweights_\u001b[0m \u001b[1;33m/=\u001b[0m \u001b[0mn_samples\u001b[0m\u001b[1;33m\u001b[0m\u001b[0m\n\u001b[0;32m    676\u001b[0m         self.precisions_cholesky_ = _compute_precision_cholesky(\n",
      "\u001b[1;32m~\\Anaconda3\\lib\\site-packages\\sklearn\\mixture\\_gaussian_mixture.py\u001b[0m in \u001b[0;36m_estimate_gaussian_parameters\u001b[1;34m(X, resp, reg_covar, covariance_type)\u001b[0m\n\u001b[0;32m    282\u001b[0m                    \u001b[1;34m\"diag\"\u001b[0m\u001b[1;33m:\u001b[0m \u001b[0m_estimate_gaussian_covariances_diag\u001b[0m\u001b[1;33m,\u001b[0m\u001b[1;33m\u001b[0m\u001b[0m\n\u001b[0;32m    283\u001b[0m                    \u001b[1;34m\"spherical\"\u001b[0m\u001b[1;33m:\u001b[0m \u001b[0m_estimate_gaussian_covariances_spherical\u001b[0m\u001b[1;33m\u001b[0m\u001b[0m\n\u001b[1;32m--> 284\u001b[1;33m                    }[covariance_type](resp, X, nk, means, reg_covar)\n\u001b[0m\u001b[0;32m    285\u001b[0m     \u001b[1;32mreturn\u001b[0m \u001b[0mnk\u001b[0m\u001b[1;33m,\u001b[0m \u001b[0mmeans\u001b[0m\u001b[1;33m,\u001b[0m \u001b[0mcovariances\u001b[0m\u001b[1;33m\u001b[0m\u001b[0m\n\u001b[0;32m    286\u001b[0m \u001b[1;33m\u001b[0m\u001b[0m\n",
      "\u001b[1;32m~\\Anaconda3\\lib\\site-packages\\sklearn\\mixture\\_gaussian_mixture.py\u001b[0m in \u001b[0;36m_estimate_gaussian_covariances_full\u001b[1;34m(resp, X, nk, means, reg_covar)\u001b[0m\n\u001b[0;32m    163\u001b[0m     \u001b[0mcovariances\u001b[0m \u001b[1;33m=\u001b[0m \u001b[0mnp\u001b[0m\u001b[1;33m.\u001b[0m\u001b[0mempty\u001b[0m\u001b[1;33m(\u001b[0m\u001b[1;33m(\u001b[0m\u001b[0mn_components\u001b[0m\u001b[1;33m,\u001b[0m \u001b[0mn_features\u001b[0m\u001b[1;33m,\u001b[0m \u001b[0mn_features\u001b[0m\u001b[1;33m)\u001b[0m\u001b[1;33m)\u001b[0m\u001b[1;33m\u001b[0m\u001b[0m\n\u001b[0;32m    164\u001b[0m     \u001b[1;32mfor\u001b[0m \u001b[0mk\u001b[0m \u001b[1;32min\u001b[0m \u001b[0mrange\u001b[0m\u001b[1;33m(\u001b[0m\u001b[0mn_components\u001b[0m\u001b[1;33m)\u001b[0m\u001b[1;33m:\u001b[0m\u001b[1;33m\u001b[0m\u001b[0m\n\u001b[1;32m--> 165\u001b[1;33m         \u001b[0mdiff\u001b[0m \u001b[1;33m=\u001b[0m \u001b[0mX\u001b[0m \u001b[1;33m-\u001b[0m \u001b[0mmeans\u001b[0m\u001b[1;33m[\u001b[0m\u001b[0mk\u001b[0m\u001b[1;33m]\u001b[0m\u001b[1;33m\u001b[0m\u001b[0m\n\u001b[0m\u001b[0;32m    166\u001b[0m         \u001b[0mcovariances\u001b[0m\u001b[1;33m[\u001b[0m\u001b[0mk\u001b[0m\u001b[1;33m]\u001b[0m \u001b[1;33m=\u001b[0m \u001b[0mnp\u001b[0m\u001b[1;33m.\u001b[0m\u001b[0mdot\u001b[0m\u001b[1;33m(\u001b[0m\u001b[0mresp\u001b[0m\u001b[1;33m[\u001b[0m\u001b[1;33m:\u001b[0m\u001b[1;33m,\u001b[0m \u001b[0mk\u001b[0m\u001b[1;33m]\u001b[0m \u001b[1;33m*\u001b[0m \u001b[0mdiff\u001b[0m\u001b[1;33m.\u001b[0m\u001b[0mT\u001b[0m\u001b[1;33m,\u001b[0m \u001b[0mdiff\u001b[0m\u001b[1;33m)\u001b[0m \u001b[1;33m/\u001b[0m \u001b[0mnk\u001b[0m\u001b[1;33m[\u001b[0m\u001b[0mk\u001b[0m\u001b[1;33m]\u001b[0m\u001b[1;33m\u001b[0m\u001b[0m\n\u001b[0;32m    167\u001b[0m         \u001b[0mcovariances\u001b[0m\u001b[1;33m[\u001b[0m\u001b[0mk\u001b[0m\u001b[1;33m]\u001b[0m\u001b[1;33m.\u001b[0m\u001b[0mflat\u001b[0m\u001b[1;33m[\u001b[0m\u001b[1;33m:\u001b[0m\u001b[1;33m:\u001b[0m\u001b[0mn_features\u001b[0m \u001b[1;33m+\u001b[0m \u001b[1;36m1\u001b[0m\u001b[1;33m]\u001b[0m \u001b[1;33m+=\u001b[0m \u001b[0mreg_covar\u001b[0m\u001b[1;33m\u001b[0m\u001b[0m\n",
      "\u001b[1;31mMemoryError\u001b[0m: Unable to allocate 763. MiB for an array with shape (10000, 10000) and data type float64"
     ]
    }
   ],
   "source": [
    "# em Clustering\n",
    "start_time = time.time()\n",
    "\n",
    "gmm = em_clustering(CS_similarity_pos)\n",
    "\n",
    "\n",
    "print(\"--- %s seconds ---\" % (time.time() - start_time))"
   ]
  },
  {
   "cell_type": "code",
   "execution_count": 81,
   "metadata": {},
   "outputs": [
    {
     "data": {
      "text/plain": [
       "735"
      ]
     },
     "execution_count": 81,
     "metadata": {},
     "output_type": "execute_result"
    }
   ],
   "source": [
    "import gc\n",
    "gc.collect()"
   ]
  },
  {
   "cell_type": "code",
   "execution_count": 35,
   "metadata": {},
   "outputs": [
    {
     "ename": "MemoryError",
     "evalue": "",
     "output_type": "error",
     "traceback": [
      "\u001b[1;31m---------------------------------------------------------------------------\u001b[0m",
      "\u001b[1;31mMemoryError\u001b[0m                               Traceback (most recent call last)",
      "\u001b[1;32m<ipython-input-35-132e4d6deb53>\u001b[0m in \u001b[0;36m<module>\u001b[1;34m\u001b[0m\n\u001b[0;32m      5\u001b[0m \u001b[0mfilename\u001b[0m \u001b[1;33m=\u001b[0m \u001b[1;34m'cluster_model_pos.pkl'\u001b[0m\u001b[1;33m\u001b[0m\u001b[0m\n\u001b[0;32m      6\u001b[0m \u001b[1;32mwith\u001b[0m \u001b[0mopen\u001b[0m\u001b[1;33m(\u001b[0m\u001b[0mfilename\u001b[0m\u001b[1;33m,\u001b[0m \u001b[1;34m'wb'\u001b[0m\u001b[1;33m)\u001b[0m \u001b[1;32mas\u001b[0m \u001b[0mfile\u001b[0m\u001b[1;33m:\u001b[0m\u001b[1;33m\u001b[0m\u001b[0m\n\u001b[1;32m----> 7\u001b[1;33m     \u001b[0mpickle\u001b[0m\u001b[1;33m.\u001b[0m\u001b[0mdump\u001b[0m\u001b[1;33m(\u001b[0m\u001b[0mgmm\u001b[0m\u001b[1;33m,\u001b[0m \u001b[0mfile\u001b[0m\u001b[1;33m)\u001b[0m\u001b[1;33m\u001b[0m\u001b[0m\n\u001b[0m\u001b[0;32m      8\u001b[0m \u001b[1;31m# save the classifier\u001b[0m\u001b[1;33m\u001b[0m\u001b[1;33m\u001b[0m\u001b[0m\n\u001b[0;32m      9\u001b[0m \u001b[1;33m\u001b[0m\u001b[0m\n",
      "\u001b[1;31mMemoryError\u001b[0m: "
     ]
    }
   ],
   "source": [
    "# saving model for tommorow \n",
    "import pickle\n",
    "\n",
    "# save the model to disk\n",
    "filename = 'cluster_model_pos.pkl'\n",
    "with open(filename, 'wb') as file:  \n",
    "    pickle.dump(gmm, file)\n",
    "\n",
    "# load the model from disk\n",
    "#loaded_model = pickle.load(open(filename, 'rb'))\n",
    "#result = loaded_model.score(X_test, Y_test)\n",
    "#print(result)"
   ]
  },
  {
   "cell_type": "code",
   "execution_count": 39,
   "metadata": {},
   "outputs": [
    {
     "data": {
      "text/plain": [
       "array([0, 0, 0, 0, 0, 0, 0, 0, 0, 0], dtype=int64)"
      ]
     },
     "execution_count": 39,
     "metadata": {},
     "output_type": "execute_result"
    }
   ],
   "source": [
    "cluster_pos = gmm.predict(CS_similarity_pos)\n",
    "\n",
    "cluster_pos[:10]"
   ]
  },
  {
   "cell_type": "code",
   "execution_count": 95,
   "metadata": {},
   "outputs": [],
   "source": [
    "del dt_plt"
   ]
  },
  {
   "cell_type": "code",
   "execution_count": 40,
   "metadata": {},
   "outputs": [],
   "source": [
    "#plot clustering result\n",
    "dt_plt = pd.DataFrame({'Cluster':cluster_pos})\n",
    "dt_plt =pd.DataFrame({'Cluster':dt_plt.groupby('Cluster')['Cluster'].count().index, 'count': dt_plt.groupby('Cluster')['Cluster'].count()})"
   ]
  },
  {
   "cell_type": "code",
   "execution_count": 41,
   "metadata": {
    "scrolled": true
   },
   "outputs": [
    {
     "data": {
      "text/html": [
       "<div>\n",
       "<style scoped>\n",
       "    .dataframe tbody tr th:only-of-type {\n",
       "        vertical-align: middle;\n",
       "    }\n",
       "\n",
       "    .dataframe tbody tr th {\n",
       "        vertical-align: top;\n",
       "    }\n",
       "\n",
       "    .dataframe thead th {\n",
       "        text-align: right;\n",
       "    }\n",
       "</style>\n",
       "<table border=\"1\" class=\"dataframe\">\n",
       "  <thead>\n",
       "    <tr style=\"text-align: right;\">\n",
       "      <th></th>\n",
       "      <th>Cluster</th>\n",
       "      <th>count</th>\n",
       "    </tr>\n",
       "    <tr>\n",
       "      <th>Cluster</th>\n",
       "      <th></th>\n",
       "      <th></th>\n",
       "    </tr>\n",
       "  </thead>\n",
       "  <tbody>\n",
       "    <tr>\n",
       "      <th>0</th>\n",
       "      <td>0</td>\n",
       "      <td>9044</td>\n",
       "    </tr>\n",
       "    <tr>\n",
       "      <th>1</th>\n",
       "      <td>1</td>\n",
       "      <td>399</td>\n",
       "    </tr>\n",
       "    <tr>\n",
       "      <th>2</th>\n",
       "      <td>2</td>\n",
       "      <td>6</td>\n",
       "    </tr>\n",
       "    <tr>\n",
       "      <th>3</th>\n",
       "      <td>3</td>\n",
       "      <td>551</td>\n",
       "    </tr>\n",
       "  </tbody>\n",
       "</table>\n",
       "</div>"
      ],
      "text/plain": [
       "         Cluster  count\n",
       "Cluster                \n",
       "0              0   9044\n",
       "1              1    399\n",
       "2              2      6\n",
       "3              3    551"
      ]
     },
     "execution_count": 41,
     "metadata": {},
     "output_type": "execute_result"
    }
   ],
   "source": [
    "dt_plt"
   ]
  },
  {
   "cell_type": "code",
   "execution_count": 42,
   "metadata": {},
   "outputs": [],
   "source": [
    "import itertools\n",
    "from scipy import linalg\n",
    "import matplotlib.pyplot as plt\n",
    "import matplotlib as mpl\n"
   ]
  },
  {
   "cell_type": "code",
   "execution_count": 43,
   "metadata": {},
   "outputs": [
    {
     "data": {
      "image/png": "[encoded data removed]",
      "text/plain": [
       "<Figure size 432x288 with 1 Axes>"
      ]
     },
     "metadata": {
      "needs_background": "light"
     },
     "output_type": "display_data"
    }
   ],
   "source": [
    "\n",
    "\n",
    "color_iter = ['navy', 'turquoise', 'cornflowerblue','darkorange']\n",
    "\n",
    "plt.bar(dt_plt['Cluster'], dt_plt['count'],  color=color_iter )\n",
    "plt.xlabel('Clusters')\n",
    "plt.xticks(dt_plt['Cluster'])\n",
    "plt.ylabel('Count')\n",
    "plt.title('review clusters')\n",
    "plt.show()"
   ]
  },
  {
   "cell_type": "code",
   "execution_count": 41,
   "metadata": {},
   "outputs": [
    {
     "data": {
      "image/png": "[encoded data removed]",
      "text/plain": [
       "<Figure size 432x288 with 1 Axes>"
      ]
     },
     "metadata": {},
     "output_type": "display_data"
    }
   ],
   "source": [
    "\n",
    "\n",
    "color_iter = itertools.cycle(['navy', 'turquoise', 'cornflowerblue',\n",
    "                              'darkorange'])\n",
    "\n",
    "splot = plt.subplot(2, 1, 2)\n",
    "for i, (mean, cov, color) in enumerate(zip(gmm.means_, gmm.covariances_,\n",
    "                                           color_iter)):\n",
    "    v, w = linalg.eigh(cov)\n",
    "    if not np.any(cluster_pos == i):\n",
    "        continue\n",
    "    plt.scatter(CS_similarity_pos[cluster_pos == i, 0], CS_similarity_pos[cluster_pos == i, 1], .8, color=color)\n",
    "\n",
    "    # Plot an ellipse to show the Gaussian component\n",
    "    angle = np.arctan2(w[0][1], w[0][0])\n",
    "    angle = 180. * angle / np.pi  # convert to degrees\n",
    "    v = 2. * np.sqrt(2.) * np.sqrt(v)\n",
    "    ell = mpl.patches.Ellipse(mean, v[0], v[1], 180. + angle, color=color)\n",
    "    ell.set_clip_box(splot.bbox)\n",
    "    ell.set_alpha(.5)\n",
    "    splot.add_artist(ell)\n",
    "\n",
    "plt.xticks(())\n",
    "plt.yticks(())\n",
    "plt.title('Selected GMM: full model')\n",
    "#plt.margins(x=-0.2, y=0)         # Values in (-0.5, 0.0) zooms in to center\n",
    "plt.subplots_adjust(hspace=.35, bottom=.02)\n",
    "plt.show()"
   ]
  },
  {
   "cell_type": "markdown",
   "metadata": {},
   "source": [
    "## 5.2 Clustering with Cosine similarity with bi-gram"
   ]
  },
  {
   "cell_type": "code",
   "execution_count": 30,
   "metadata": {},
   "outputs": [
    {
     "name": "stdout",
     "output_type": "stream",
     "text": [
      "--- 2845.109628677368 seconds ---\n"
     ]
    }
   ],
   "source": [
    "from sklearn.mixture import GaussianMixture\n",
    "\n",
    "\n",
    "# em Clustering\n",
    "start_time = time.time()\n",
    "\n",
    "gmm = GaussianMixture()\n",
    "gmm = GaussianMixture(n_components=4)\n",
    "gmm.fit(CS_similarity_bigram)\n",
    "\n",
    "print(\"--- %s seconds ---\" % (time.time() - start_time))"
   ]
  },
  {
   "cell_type": "code",
   "execution_count": 31,
   "metadata": {},
   "outputs": [
    {
     "data": {
      "text/plain": [
       "array([2, 2, 3, 2, 2, 2, 2, 2, 2, 2], dtype=int64)"
      ]
     },
     "execution_count": 31,
     "metadata": {},
     "output_type": "execute_result"
    }
   ],
   "source": [
    "cluster_ngram = gmm.predict(CS_similarity_bigram)\n",
    "\n",
    "cluster_ngram[:10]"
   ]
  },
  {
   "cell_type": "code",
   "execution_count": 34,
   "metadata": {},
   "outputs": [],
   "source": [
    "#plot clustering result\n",
    "dt_plt = pd.DataFrame({'Cluster':cluster_ngram})\n",
    "dt_plt = dt_plt.groupby('Cluster')['Cluster'].count()"
   ]
  },
  {
   "cell_type": "code",
   "execution_count": 35,
   "metadata": {
    "scrolled": true
   },
   "outputs": [
    {
     "data": {
      "text/plain": [
       "Cluster\n",
       "0       2\n",
       "1     307\n",
       "2    8245\n",
       "3    1446\n",
       "Name: Cluster, dtype: int64"
      ]
     },
     "execution_count": 35,
     "metadata": {},
     "output_type": "execute_result"
    }
   ],
   "source": [
    "dt_plt"
   ]
  },
  {
   "cell_type": "code",
   "execution_count": 86,
   "metadata": {
    "scrolled": true
   },
   "outputs": [
    {
     "data": {
      "image/png": "[encoded data removed]",
      "text/plain": [
       "<Figure size 432x288 with 1 Axes>"
      ]
     },
     "metadata": {
      "needs_background": "light"
     },
     "output_type": "display_data"
    }
   ],
   "source": [
    "color_iter = ['navy', 'turquoise', 'cornflowerblue','darkorange']\n",
    "\n",
    "dt_plt.plot(kind ='bar', color = color_iter)\n",
    "for x,y in zip(dt_plt.index, dt_plt):\n",
    "    plt.annotate('{}'.format(y ),\n",
    "                 xy=(x , y + 10),\n",
    "                 xytext=(0, 3),  # 3 points vertical offset\n",
    "                 textcoords=\"offset points\",\n",
    "                 ha='center', va='bottom')\n",
    "plt.title('CLusters by Ngram cosine similarity')\n",
    "plt.show()"
   ]
  },
  {
   "cell_type": "markdown",
   "metadata": {},
   "source": [
    "## 5.3 Evaluation & Integration cluster label with behavioral features"
   ]
  },
  {
   "cell_type": "markdown",
   "metadata": {},
   "source": [
    "### b. Integrate data"
   ]
  },
  {
   "cell_type": "code",
   "execution_count": 44,
   "metadata": {},
   "outputs": [],
   "source": [
    "df_pos=pd.concat([behavior_attr,\n",
    "                 pd.DataFrame({'cluster':cluster_pos}).reindex(behavior_attr.index),\n",
    "                 pd.DataFrame({'polarity':polarity}).reindex(behavior_attr.index),\n",
    "                 pd.DataFrame({'subjective':subjective}).reindex(behavior_attr.index)],\n",
    "                 #pd.DataFrame(CS_similarity_bigram).reindex(behavior_attr.index)], \n",
    "                 axis=1) \n",
    "# df_ngram=pd.concat([behavior_attr,\n",
    "#                  pd.DataFrame({'cluster':cluster_ngram}).reindex(behavior_attr.index),\n",
    "#                  pd.DataFrame({'polarity':polarity}).reindex(behavior_attr.index),\n",
    "#                  pd.DataFrame({'subjective':subjective}).reindex(behavior_attr.index)],\n",
    "#                  #pd.DataFrame(CS_similarity_bigram).reindex(behavior_attr.index)], \n",
    "#                  axis=1) "
   ]
  },
  {
   "cell_type": "code",
   "execution_count": 59,
   "metadata": {
    "scrolled": true
   },
   "outputs": [
    {
     "data": {
      "text/html": [
       "<div>\n",
       "<style scoped>\n",
       "    .dataframe tbody tr th:only-of-type {\n",
       "        vertical-align: middle;\n",
       "    }\n",
       "\n",
       "    .dataframe tbody tr th {\n",
       "        vertical-align: top;\n",
       "    }\n",
       "\n",
       "    .dataframe thead th {\n",
       "        text-align: right;\n",
       "    }\n",
       "</style>\n",
       "<table border=\"1\" class=\"dataframe\">\n",
       "  <thead>\n",
       "    <tr style=\"text-align: right;\">\n",
       "      <th></th>\n",
       "      <th>reviewrating</th>\n",
       "      <th>reusefulcount</th>\n",
       "      <th>recoolcount</th>\n",
       "      <th>refunnycount</th>\n",
       "      <th>friendcount</th>\n",
       "      <th>fancount</th>\n",
       "      <th>tipcount</th>\n",
       "      <th>reviewcount</th>\n",
       "      <th>firstcount</th>\n",
       "      <th>usefulcount</th>\n",
       "      <th>...</th>\n",
       "      <th>pricerange</th>\n",
       "      <th>monmembership</th>\n",
       "      <th>firstreview</th>\n",
       "      <th>maxReviewDay</th>\n",
       "      <th>avgReviewDay</th>\n",
       "      <th>avgpostedrating</th>\n",
       "      <th>avgreviewlen</th>\n",
       "      <th>cluster</th>\n",
       "      <th>polarity</th>\n",
       "      <th>subjective</th>\n",
       "    </tr>\n",
       "  </thead>\n",
       "  <tbody>\n",
       "    <tr>\n",
       "      <th>0</th>\n",
       "      <td>5</td>\n",
       "      <td>0</td>\n",
       "      <td>0</td>\n",
       "      <td>0</td>\n",
       "      <td>16</td>\n",
       "      <td>7</td>\n",
       "      <td>4</td>\n",
       "      <td>178</td>\n",
       "      <td>0</td>\n",
       "      <td>147</td>\n",
       "      <td>...</td>\n",
       "      <td>2</td>\n",
       "      <td>37</td>\n",
       "      <td>0</td>\n",
       "      <td>14</td>\n",
       "      <td>2</td>\n",
       "      <td>3</td>\n",
       "      <td>841</td>\n",
       "      <td>2</td>\n",
       "      <td>0.166667</td>\n",
       "      <td>0.544167</td>\n",
       "    </tr>\n",
       "    <tr>\n",
       "      <th>1</th>\n",
       "      <td>5</td>\n",
       "      <td>0</td>\n",
       "      <td>0</td>\n",
       "      <td>0</td>\n",
       "      <td>1</td>\n",
       "      <td>0</td>\n",
       "      <td>0</td>\n",
       "      <td>5</td>\n",
       "      <td>1</td>\n",
       "      <td>2</td>\n",
       "      <td>...</td>\n",
       "      <td>4</td>\n",
       "      <td>10</td>\n",
       "      <td>0</td>\n",
       "      <td>3</td>\n",
       "      <td>1</td>\n",
       "      <td>4</td>\n",
       "      <td>480</td>\n",
       "      <td>3</td>\n",
       "      <td>0.438095</td>\n",
       "      <td>0.637619</td>\n",
       "    </tr>\n",
       "    <tr>\n",
       "      <th>2</th>\n",
       "      <td>1</td>\n",
       "      <td>2</td>\n",
       "      <td>0</td>\n",
       "      <td>1</td>\n",
       "      <td>0</td>\n",
       "      <td>0</td>\n",
       "      <td>0</td>\n",
       "      <td>5</td>\n",
       "      <td>0</td>\n",
       "      <td>2</td>\n",
       "      <td>...</td>\n",
       "      <td>2</td>\n",
       "      <td>2</td>\n",
       "      <td>0</td>\n",
       "      <td>2</td>\n",
       "      <td>1</td>\n",
       "      <td>3</td>\n",
       "      <td>189</td>\n",
       "      <td>0</td>\n",
       "      <td>-0.400000</td>\n",
       "      <td>0.600000</td>\n",
       "    </tr>\n",
       "    <tr>\n",
       "      <th>3</th>\n",
       "      <td>5</td>\n",
       "      <td>0</td>\n",
       "      <td>0</td>\n",
       "      <td>0</td>\n",
       "      <td>0</td>\n",
       "      <td>0</td>\n",
       "      <td>1</td>\n",
       "      <td>2</td>\n",
       "      <td>0</td>\n",
       "      <td>1</td>\n",
       "      <td>...</td>\n",
       "      <td>2</td>\n",
       "      <td>20</td>\n",
       "      <td>0</td>\n",
       "      <td>2</td>\n",
       "      <td>1</td>\n",
       "      <td>3</td>\n",
       "      <td>494</td>\n",
       "      <td>0</td>\n",
       "      <td>0.290741</td>\n",
       "      <td>0.585185</td>\n",
       "    </tr>\n",
       "    <tr>\n",
       "      <th>4</th>\n",
       "      <td>5</td>\n",
       "      <td>0</td>\n",
       "      <td>0</td>\n",
       "      <td>0</td>\n",
       "      <td>1</td>\n",
       "      <td>0</td>\n",
       "      <td>0</td>\n",
       "      <td>153</td>\n",
       "      <td>34</td>\n",
       "      <td>303</td>\n",
       "      <td>...</td>\n",
       "      <td>3</td>\n",
       "      <td>29</td>\n",
       "      <td>0</td>\n",
       "      <td>8</td>\n",
       "      <td>1</td>\n",
       "      <td>3</td>\n",
       "      <td>992</td>\n",
       "      <td>3</td>\n",
       "      <td>0.194271</td>\n",
       "      <td>0.484028</td>\n",
       "    </tr>\n",
       "    <tr>\n",
       "      <th>5</th>\n",
       "      <td>4</td>\n",
       "      <td>0</td>\n",
       "      <td>0</td>\n",
       "      <td>0</td>\n",
       "      <td>44</td>\n",
       "      <td>0</td>\n",
       "      <td>0</td>\n",
       "      <td>42</td>\n",
       "      <td>1</td>\n",
       "      <td>17</td>\n",
       "      <td>...</td>\n",
       "      <td>2</td>\n",
       "      <td>35</td>\n",
       "      <td>0</td>\n",
       "      <td>13</td>\n",
       "      <td>4</td>\n",
       "      <td>4</td>\n",
       "      <td>523</td>\n",
       "      <td>0</td>\n",
       "      <td>0.343750</td>\n",
       "      <td>0.542361</td>\n",
       "    </tr>\n",
       "    <tr>\n",
       "      <th>6</th>\n",
       "      <td>5</td>\n",
       "      <td>0</td>\n",
       "      <td>0</td>\n",
       "      <td>0</td>\n",
       "      <td>23</td>\n",
       "      <td>6</td>\n",
       "      <td>95</td>\n",
       "      <td>297</td>\n",
       "      <td>27</td>\n",
       "      <td>162</td>\n",
       "      <td>...</td>\n",
       "      <td>2</td>\n",
       "      <td>18</td>\n",
       "      <td>0</td>\n",
       "      <td>22</td>\n",
       "      <td>3</td>\n",
       "      <td>4</td>\n",
       "      <td>407</td>\n",
       "      <td>1</td>\n",
       "      <td>0.270000</td>\n",
       "      <td>0.620000</td>\n",
       "    </tr>\n",
       "    <tr>\n",
       "      <th>7</th>\n",
       "      <td>2</td>\n",
       "      <td>1</td>\n",
       "      <td>0</td>\n",
       "      <td>0</td>\n",
       "      <td>0</td>\n",
       "      <td>3</td>\n",
       "      <td>0</td>\n",
       "      <td>111</td>\n",
       "      <td>0</td>\n",
       "      <td>63</td>\n",
       "      <td>...</td>\n",
       "      <td>3</td>\n",
       "      <td>17</td>\n",
       "      <td>0</td>\n",
       "      <td>6</td>\n",
       "      <td>1</td>\n",
       "      <td>3</td>\n",
       "      <td>433</td>\n",
       "      <td>3</td>\n",
       "      <td>0.188889</td>\n",
       "      <td>0.551852</td>\n",
       "    </tr>\n",
       "    <tr>\n",
       "      <th>8</th>\n",
       "      <td>5</td>\n",
       "      <td>0</td>\n",
       "      <td>1</td>\n",
       "      <td>0</td>\n",
       "      <td>14</td>\n",
       "      <td>1</td>\n",
       "      <td>0</td>\n",
       "      <td>61</td>\n",
       "      <td>4</td>\n",
       "      <td>60</td>\n",
       "      <td>...</td>\n",
       "      <td>2</td>\n",
       "      <td>1</td>\n",
       "      <td>0</td>\n",
       "      <td>4</td>\n",
       "      <td>1</td>\n",
       "      <td>3</td>\n",
       "      <td>1281</td>\n",
       "      <td>2</td>\n",
       "      <td>0.306861</td>\n",
       "      <td>0.538774</td>\n",
       "    </tr>\n",
       "    <tr>\n",
       "      <th>9</th>\n",
       "      <td>5</td>\n",
       "      <td>3</td>\n",
       "      <td>4</td>\n",
       "      <td>2</td>\n",
       "      <td>402</td>\n",
       "      <td>93</td>\n",
       "      <td>0</td>\n",
       "      <td>1158</td>\n",
       "      <td>662</td>\n",
       "      <td>3482</td>\n",
       "      <td>...</td>\n",
       "      <td>1</td>\n",
       "      <td>62</td>\n",
       "      <td>0</td>\n",
       "      <td>37</td>\n",
       "      <td>3</td>\n",
       "      <td>3</td>\n",
       "      <td>544</td>\n",
       "      <td>0</td>\n",
       "      <td>0.217500</td>\n",
       "      <td>0.517500</td>\n",
       "    </tr>\n",
       "  </tbody>\n",
       "</table>\n",
       "<p>10 rows × 25 columns</p>\n",
       "</div>"
      ],
      "text/plain": [
       "   reviewrating  reusefulcount  recoolcount  refunnycount  friendcount  \\\n",
       "0             5              0            0             0           16   \n",
       "1             5              0            0             0            1   \n",
       "2             1              2            0             1            0   \n",
       "3             5              0            0             0            0   \n",
       "4             5              0            0             0            1   \n",
       "5             4              0            0             0           44   \n",
       "6             5              0            0             0           23   \n",
       "7             2              1            0             0            0   \n",
       "8             5              0            1             0           14   \n",
       "9             5              3            4             2          402   \n",
       "\n",
       "   fancount  tipcount  reviewcount  firstcount  usefulcount  ...  pricerange  \\\n",
       "0         7         4          178           0          147  ...           2   \n",
       "1         0         0            5           1            2  ...           4   \n",
       "2         0         0            5           0            2  ...           2   \n",
       "3         0         1            2           0            1  ...           2   \n",
       "4         0         0          153          34          303  ...           3   \n",
       "5         0         0           42           1           17  ...           2   \n",
       "6         6        95          297          27          162  ...           2   \n",
       "7         3         0          111           0           63  ...           3   \n",
       "8         1         0           61           4           60  ...           2   \n",
       "9        93         0         1158         662         3482  ...           1   \n",
       "\n",
       "   monmembership  firstreview  maxReviewDay  avgReviewDay  avgpostedrating  \\\n",
       "0             37            0            14             2                3   \n",
       "1             10            0             3             1                4   \n",
       "2              2            0             2             1                3   \n",
       "3             20            0             2             1                3   \n",
       "4             29            0             8             1                3   \n",
       "5             35            0            13             4                4   \n",
       "6             18            0            22             3                4   \n",
       "7             17            0             6             1                3   \n",
       "8              1            0             4             1                3   \n",
       "9             62            0            37             3                3   \n",
       "\n",
       "   avgreviewlen  cluster  polarity  subjective  \n",
       "0           841        2  0.166667    0.544167  \n",
       "1           480        3  0.438095    0.637619  \n",
       "2           189        0 -0.400000    0.600000  \n",
       "3           494        0  0.290741    0.585185  \n",
       "4           992        3  0.194271    0.484028  \n",
       "5           523        0  0.343750    0.542361  \n",
       "6           407        1  0.270000    0.620000  \n",
       "7           433        3  0.188889    0.551852  \n",
       "8          1281        2  0.306861    0.538774  \n",
       "9           544        0  0.217500    0.517500  \n",
       "\n",
       "[10 rows x 25 columns]"
      ]
     },
     "execution_count": 59,
     "metadata": {},
     "output_type": "execute_result"
    }
   ],
   "source": [
    "df_pos.head(10)"
   ]
  },
  {
   "cell_type": "markdown",
   "metadata": {},
   "source": [
    "# 6 Building classify model"
   ]
  },
  {
   "cell_type": "code",
   "execution_count": 45,
   "metadata": {
    "scrolled": true
   },
   "outputs": [
    {
     "name": "stderr",
     "output_type": "stream",
     "text": [
      "C:\\Users\\quoch\\Anaconda3\\lib\\site-packages\\numpy\\core\\fromnumeric.py:2542: FutureWarning: Method .ptp is deprecated and will be removed in a future version. Use numpy.ptp instead.\n",
      "  return ptp(axis=axis, out=out, **kwargs)\n",
      "C:\\Users\\quoch\\Anaconda3\\lib\\site-packages\\ipykernel_launcher.py:36: FutureWarning: \n",
      "The current behaviour of 'Series.argmin' is deprecated, use 'idxmin'\n",
      "instead.\n",
      "The behavior of 'argmin' will be corrected to return the positional\n",
      "minimum in the future. For now, use 'series.values.argmin' or\n",
      "'np.argmin(np.array(values))' to get the position of the minimum\n",
      "row.\n"
     ]
    },
    {
     "name": "stdout",
     "output_type": "stream",
     "text": [
      "Add  monmembership                  with p-value 0.0\n",
      "Add  maxReviewDay                   with p-value 1.55538e-171\n",
      "Add  reusefulcount                  with p-value 7.02141e-60\n",
      "Add  avgReviewDay                   with p-value 3.78307e-46\n",
      "Add  complimentcount                with p-value 6.54673e-26\n",
      "Add  avgreviewlen                   with p-value 2.06106e-25\n",
      "Add  reviewrating                   with p-value 1.97338e-16\n",
      "Add  avgpostedrating                with p-value 4.54867e-10\n",
      "Add  recoolcount                    with p-value 5.07618e-11\n",
      "Add  tipcount                       with p-value 5.80929e-09\n",
      "Add  buscateg                       with p-value 5.66487e-06\n",
      "Add  polarity                       with p-value 2.76932e-05\n",
      "Add  fancount                       with p-value 0.000579701\n",
      "Add  firstreview                    with p-value 0.000937372\n",
      "Add  subjective                     with p-value 0.00141262\n",
      "Add  cluster                        with p-value 0.00324517\n",
      "resulting features:\n",
      "['monmembership', 'maxReviewDay', 'reusefulcount', 'avgReviewDay', 'complimentcount', 'avgreviewlen', 'reviewrating', 'avgpostedrating', 'recoolcount', 'tipcount', 'buscateg', 'polarity', 'fancount', 'firstreview', 'subjective', 'cluster']\n"
     ]
    }
   ],
   "source": [
    "import statsmodels.api as sm\n",
    "\n",
    "X = df_pos\n",
    "y = Y\n",
    "\n",
    "\n",
    "def stepwise_selection(X, y, \n",
    "                       initial_list=[], \n",
    "                       threshold_in=0.01, \n",
    "                       threshold_out = 0.05, \n",
    "                       verbose=True):\n",
    "    \"\"\" Perform a forward-backward feature selection \n",
    "    based on p-value from statsmodels.api.OLS\n",
    "    Arguments:\n",
    "        X - pandas.DataFrame with candidate features\n",
    "        y - list-like with the target\n",
    "        initial_list - list of features to start with (column names of X)\n",
    "        threshold_in - include a feature if its p-value < threshold_in\n",
    "        threshold_out - exclude a feature if its p-value > threshold_out\n",
    "        verbose - whether to print the sequence of inclusions and exclusions\n",
    "    Returns: list of selected features \n",
    "    Always set threshold_in < threshold_out to avoid infinite looping.\n",
    "    See https://en.wikipedia.org/wiki/Stepwise_regression for the details\n",
    "    \"\"\"\n",
    "    included = list(initial_list)\n",
    "    while True:\n",
    "        changed=False\n",
    "        # forward step\n",
    "        excluded = list(set(X.columns)-set(included))\n",
    "        new_pval = pd.Series(index=excluded)\n",
    "        for new_column in excluded:\n",
    "            model = sm.OLS(y, sm.add_constant(pd.DataFrame(X[included+[new_column]]))).fit()\n",
    "            new_pval[new_column] = model.pvalues[new_column]\n",
    "        best_pval = new_pval.min()\n",
    "        if best_pval < threshold_in:\n",
    "            best_feature = new_pval.argmin()\n",
    "            included.append(best_feature)\n",
    "            changed=True\n",
    "            if verbose:\n",
    "                print('Add  {:30} with p-value {:.6}'.format(best_feature, best_pval))\n",
    "\n",
    "        # backward step\n",
    "        model = sm.OLS(y, sm.add_constant(pd.DataFrame(X[included]))).fit()\n",
    "        # use all coefs except intercept\n",
    "        pvalues = model.pvalues.iloc[1:]\n",
    "        worst_pval = pvalues.max() # null if pvalues is empty\n",
    "        if worst_pval > threshold_out:\n",
    "            changed=True\n",
    "            worst_feature = pvalues.argmax()\n",
    "            included.remove(worst_feature)\n",
    "            if verbose:\n",
    "                print('Drop {:30} with p-value {:.6}'.format(worst_feature, worst_pval))\n",
    "        if not changed:\n",
    "            break\n",
    "    return included\n",
    "\n",
    "result = stepwise_selection(X, y)\n",
    "\n",
    "print('resulting features:')\n",
    "print(result)\n",
    "\n"
   ]
  },
  {
   "cell_type": "code",
   "execution_count": 116,
   "metadata": {},
   "outputs": [],
   "source": [
    "df_filtered = df_pos[['monmembership', 'maxReviewDay', 'reusefulcount', 'avgReviewDay', 'complimentcount', 'avgreviewlen', 'reviewrating', 'avgpostedrating', 'recoolcount', 'tipcount', 'buscateg', 'polarity', 'fancount', 'firstreview', 'subjective', 'cluster']]"
   ]
  },
  {
   "cell_type": "markdown",
   "metadata": {},
   "source": [
    "## 6.1 Svm model\n",
    "### a. Pos similarity"
   ]
  },
  {
   "cell_type": "code",
   "execution_count": 46,
   "metadata": {},
   "outputs": [],
   "source": [
    "# entire dataset\n",
    "# test building classify model with consine similarity\n",
    "# we can split the featuresets into training and testing datasets using sklearn\n",
    "from sklearn import model_selection\n",
    "from sklearn.model_selection  import train_test_split\n",
    "from sklearn.preprocessing import StandardScaler\n",
    "from nltk.classify.scikitlearn import SklearnClassifier\n",
    "from sklearn.svm import SVC\n",
    "from sklearn import metrics\n",
    "\n",
    "# split the data into training and testing datasets\n",
    " "
   ]
  },
  {
   "cell_type": "code",
   "execution_count": 47,
   "metadata": {},
   "outputs": [],
   "source": [
    "# standardize the independent variable\n",
    "def fit_SVM_(X,Y, kernel ='rbf'):\n",
    "    X_train, X_test, y_train, y_test = train_test_split(X, Y, test_size=0.20,random_state=138) \n",
    "    scaler = StandardScaler()  \n",
    "    scaler.fit(X)\n",
    "    X_train = scaler.transform(X_train)  \n",
    "    X_test = scaler.transform(X_test)\n",
    "    # SVM kernel: ‘linear’, ‘poly’, ‘rbf’, ‘sigmoid’, ‘precomputed\n",
    "    svclassifier = SVC(kernel='rbf')    \t## Linear SVM\n",
    "    svclassifier.fit(X_train, y_train)  \n",
    "    y_pred = svclassifier.predict(X_test)  \t## predict test set\n",
    "    print(metrics.confusion_matrix(y_test, y_pred))\n",
    "    print(\"Accuracy:\",metrics.accuracy_score(y_test, y_pred))\n",
    "    print(\"Error rate:\", 1-metrics.accuracy_score(y_test, y_pred))\n",
    "    print(\"Recall:\", metrics.recall_score(y_test, y_pred))\n",
    "    print(\"Precision:\", metrics.precision_score(y_test, y_pred))\n"
   ]
  },
  {
   "cell_type": "code",
   "execution_count": 48,
   "metadata": {
    "scrolled": false
   },
   "outputs": [
    {
     "name": "stdout",
     "output_type": "stream",
     "text": [
      "[[800 205]\n",
      " [ 90 905]]\n",
      "Accuracy: 0.8525\n",
      "Error rate: 0.14749999999999996\n",
      "Recall: 0.9095477386934674\n",
      "Precision: 0.8153153153153153\n",
      "--- 2.0465786457061768 seconds ---\n"
     ]
    }
   ],
   "source": [
    "import time\n",
    "start_time = time.time()\n",
    "\n",
    "fit_SVM_(df_pos,Y, kernel ='rbf')\n",
    "\n",
    "print(\"--- %s seconds ---\" % (time.time() - start_time))\n"
   ]
  },
  {
   "cell_type": "code",
   "execution_count": 115,
   "metadata": {},
   "outputs": [
    {
     "name": "stdout",
     "output_type": "stream",
     "text": [
      "[[786 219]\n",
      " [ 54 941]]\n",
      "Accuracy: 0.8635\n",
      "Error rate: 0.13649999999999995\n",
      "Recall: 0.9457286432160804\n",
      "Precision: 0.8112068965517242\n",
      "--- 2.1093623638153076 seconds ---\n"
     ]
    }
   ],
   "source": [
    "import time\n",
    "start_time = time.time()\n",
    "\n",
    "fit_SVM_(df_pos,Y, kernel ='rbf')\n",
    "\n",
    "print(\"--- %s seconds ---\" % (time.time() - start_time))\n"
   ]
  },
  {
   "cell_type": "code",
   "execution_count": 70,
   "metadata": {},
   "outputs": [
    {
     "name": "stdout",
     "output_type": "stream",
     "text": [
      "[[244  82]\n",
      " [ 24 338]]\n",
      "Accuracy: 0.8459302325581395\n",
      "Error rate: 0.15406976744186052\n",
      "Recall: 0.9337016574585635\n",
      "Precision: 0.8047619047619048\n"
     ]
    }
   ],
   "source": [
    "#cluster 0\n",
    "df_cluster0 = df_pos[df_pos['cluster'] == 0]\n",
    "Y = pd.Series(Y)\n",
    "fit_SVM_(df_cluster0,Y.iloc[df_cluster0.index], kernel ='rbf')"
   ]
  },
  {
   "cell_type": "code",
   "execution_count": 46,
   "metadata": {
    "scrolled": true
   },
   "outputs": [
    {
     "name": "stdout",
     "output_type": "stream",
     "text": [
      "[[250  81]\n",
      " [ 19 372]]\n",
      "Accuracy: 0.8614958448753463\n",
      "Error rate: 0.13850415512465375\n",
      "Recall: 0.9514066496163683\n",
      "Precision: 0.8211920529801324\n"
     ]
    }
   ],
   "source": [
    "#cluster 1\n",
    "df_cluster0 = df_pos[df_pos['cluster'] == 1]\n",
    "Y = pd.Series(Y)\n",
    "fit_SVM_(df_cluster0,Y.iloc[df_cluster0.index], kernel ='rbf')"
   ]
  },
  {
   "cell_type": "code",
   "execution_count": 47,
   "metadata": {},
   "outputs": [
    {
     "name": "stdout",
     "output_type": "stream",
     "text": [
      "[[195  22]\n",
      " [ 18 140]]\n",
      "Accuracy: 0.8933333333333333\n",
      "Error rate: 0.10666666666666669\n",
      "Recall: 0.8860759493670886\n",
      "Precision: 0.8641975308641975\n"
     ]
    }
   ],
   "source": [
    "#cluster 2\n",
    "df_cluster0 = df_pos[df_pos['cluster'] == 2]\n",
    "Y = pd.Series(Y)\n",
    "fit_SVM_(df_cluster0,Y.iloc[df_cluster0.index], kernel ='rbf')"
   ]
  },
  {
   "cell_type": "code",
   "execution_count": 48,
   "metadata": {
    "scrolled": true
   },
   "outputs": [
    {
     "name": "stdout",
     "output_type": "stream",
     "text": [
      "[[114  22]\n",
      " [  6  74]]\n",
      "Accuracy: 0.8703703703703703\n",
      "Error rate: 0.12962962962962965\n",
      "Recall: 0.925\n",
      "Precision: 0.7708333333333334\n"
     ]
    }
   ],
   "source": [
    "#cluster 3\n",
    "df_cluster0 = df_pos[df_pos['cluster'] == 3]\n",
    "Y = pd.Series(Y)\n",
    "fit_SVM_(df_cluster0,Y.iloc[df_cluster0.index], kernel ='rbf')"
   ]
  },
  {
   "cell_type": "markdown",
   "metadata": {},
   "source": [
    "### b. Bigram"
   ]
  },
  {
   "cell_type": "code",
   "execution_count": 52,
   "metadata": {
    "scrolled": true
   },
   "outputs": [
    {
     "name": "stdout",
     "output_type": "stream",
     "text": [
      "[[799 206]\n",
      " [ 70 925]]\n",
      "Accuracy: 0.862\n",
      "Error rate: 0.138\n",
      "Recall: 0.9296482412060302\n",
      "Precision: 0.8178603006189213\n",
      "--- 2.4778003692626953 seconds ---\n"
     ]
    }
   ],
   "source": [
    "import time\n",
    "start_time = time.time()\n",
    "\n",
    "fit_SVM_(df_ngram,Y, kernel ='rbf')\n",
    "\n",
    "print(\"--- %s seconds ---\" % (time.time() - start_time))\n"
   ]
  },
  {
   "cell_type": "code",
   "execution_count": 55,
   "metadata": {},
   "outputs": [
    {
     "name": "stdout",
     "output_type": "stream",
     "text": [
      "[[10  7]\n",
      " [ 0 45]]\n",
      "Accuracy: 0.8870967741935484\n",
      "Error rate: 0.11290322580645162\n",
      "Recall: 1.0\n",
      "Precision: 0.8653846153846154\n"
     ]
    }
   ],
   "source": [
    "#cluster 1\n",
    "df_cluster0 = df_ngram[df_ngram['cluster'] == 1]\n",
    "Y = pd.Series(Y)\n",
    "fit_SVM_(df_cluster0,Y.iloc[df_cluster0.index], kernel ='rbf')"
   ]
  },
  {
   "cell_type": "code",
   "execution_count": 56,
   "metadata": {
    "scrolled": true
   },
   "outputs": [
    {
     "name": "stdout",
     "output_type": "stream",
     "text": [
      "[[679 152]\n",
      " [ 67 751]]\n",
      "Accuracy: 0.8671922377198302\n",
      "Error rate: 0.13280776228016977\n",
      "Recall: 0.9180929095354523\n",
      "Precision: 0.831672203765227\n"
     ]
    }
   ],
   "source": [
    "#cluster 2\n",
    "df_cluster0 = df_ngram[df_ngram['cluster'] == 2]\n",
    "Y = pd.Series(Y)\n",
    "fit_SVM_(df_cluster0,Y.iloc[df_cluster0.index], kernel ='rbf')"
   ]
  },
  {
   "cell_type": "code",
   "execution_count": 57,
   "metadata": {
    "scrolled": true
   },
   "outputs": [
    {
     "name": "stdout",
     "output_type": "stream",
     "text": [
      "[[106  24]\n",
      " [ 19 141]]\n",
      "Accuracy: 0.8517241379310345\n",
      "Error rate: 0.14827586206896548\n",
      "Recall: 0.88125\n",
      "Precision: 0.8545454545454545\n"
     ]
    }
   ],
   "source": [
    "#cluster 3\n",
    "df_cluster0 = df_ngram[df_ngram['cluster'] == 3]\n",
    "Y = pd.Series(Y)\n",
    "fit_SVM_(df_cluster0,Y.iloc[df_cluster0.index], kernel ='rbf')"
   ]
  },
  {
   "cell_type": "code",
   "execution_count": null,
   "metadata": {},
   "outputs": [],
   "source": []
  },
  {
   "cell_type": "markdown",
   "metadata": {},
   "source": [
    "## 6.3 Random Forest Classifiers"
   ]
  },
  {
   "cell_type": "code",
   "execution_count": 49,
   "metadata": {},
   "outputs": [],
   "source": [
    "from sklearn.ensemble import RandomForestClassifier\n",
    "from sklearn.datasets import make_classification\n",
    "from sklearn.feature_selection import SelectFromModel"
   ]
  },
  {
   "cell_type": "code",
   "execution_count": 50,
   "metadata": {},
   "outputs": [],
   "source": [
    "\n",
    "def RF_selction(X,Y):\n",
    "    X_train, X_test, y_train, y_test = train_test_split(X, Y, test_size=0.20,random_state=138) \n",
    "    sel = SelectFromModel(RandomForestClassifier(n_estimators = 100))\n",
    "    sel.fit(X_train, y_train)\n",
    "    sel.get_support()\n",
    "    selected_feat= X_train.columns[(sel.get_support())]\n",
    "    print(len(selected_feat))\n",
    "    print(selected_feat)\n"
   ]
  },
  {
   "cell_type": "code",
   "execution_count": 51,
   "metadata": {},
   "outputs": [
    {
     "name": "stdout",
     "output_type": "stream",
     "text": [
      "8\n",
      "Index(['reusefulcount', 'friendcount', 'reviewcount', 'usefulcount',\n",
      "       'coolcount', 'funnycount', 'monmembership', 'avgreviewlen'],\n",
      "      dtype='object')\n"
     ]
    }
   ],
   "source": [
    "RF_selction(df_pos,Y)"
   ]
  },
  {
   "cell_type": "code",
   "execution_count": 52,
   "metadata": {},
   "outputs": [],
   "source": [
    "def RF_classifier(X,Y, \n",
    "                  max_features_= 'auto', \n",
    "                  n_estimators_ = 100,\n",
    "                  max_depth_ = None,\n",
    "                  min_sample_leaf_ = 2):\n",
    "    X_train, X_test, y_train, y_test = train_test_split(X, Y, test_size=0.20,random_state=138) \n",
    "    clf = RandomForestClassifier(max_features = max_features_, \n",
    "                                 n_estimators = n_estimators_,\n",
    "                                 max_depth = max_depth_,\n",
    "                                 min_samples_leaf = min_sample_leaf_)\n",
    "    clf.fit(X_train, y_train)\n",
    "    y_pred = clf.predict(X_test)  \t## predict test set\n",
    "    print(metrics.confusion_matrix(y_test, y_pred))\n",
    "    print(\"Accuracy:\",metrics.accuracy_score(y_test, y_pred))\n",
    "    print(\"Error rate:\", 1-metrics.accuracy_score(y_test, y_pred))\n",
    "    print(\"Recall:\", metrics.recall_score(y_test, y_pred))\n",
    "    print(\"Precision:\", metrics.precision_score(y_test, y_pred))"
   ]
  },
  {
   "cell_type": "code",
   "execution_count": 53,
   "metadata": {},
   "outputs": [
    {
     "name": "stdout",
     "output_type": "stream",
     "text": [
      "[[894 111]\n",
      " [ 66 929]]\n",
      "Accuracy: 0.9115\n",
      "Error rate: 0.08850000000000002\n",
      "Recall: 0.9336683417085427\n",
      "Precision: 0.8932692307692308\n"
     ]
    }
   ],
   "source": [
    "RF_classifier(df_pos,Y,n_estimators_=100,min_sample_leaf_= 2, max_depth_ = 50)"
   ]
  },
  {
   "cell_type": "code",
   "execution_count": 56,
   "metadata": {},
   "outputs": [
    {
     "name": "stdout",
     "output_type": "stream",
     "text": [
      "[[282  44]\n",
      " [ 24 338]]\n",
      "Accuracy: 0.9011627906976745\n",
      "Error rate: 0.09883720930232553\n",
      "Recall: 0.9337016574585635\n",
      "Precision: 0.8848167539267016\n"
     ]
    }
   ],
   "source": [
    "#cluster 0\n",
    "df_cluster0 = df_pos[df_pos['cluster'] == 0]\n",
    "Y = pd.Series(Y)\n",
    "RF_classifier(df_cluster0,Y.iloc[df_cluster0.index],n_estimators_=150,min_sample_leaf_= 2, max_depth_ = 100)"
   ]
  },
  {
   "cell_type": "code",
   "execution_count": 53,
   "metadata": {
    "scrolled": true
   },
   "outputs": [
    {
     "name": "stdout",
     "output_type": "stream",
     "text": [
      "[[290  41]\n",
      " [ 19 372]]\n",
      "Accuracy: 0.9168975069252078\n",
      "Error rate: 0.08310249307479223\n",
      "Recall: 0.9514066496163683\n",
      "Precision: 0.9007263922518159\n"
     ]
    }
   ],
   "source": [
    "#cluster 1\n",
    "df_cluster0 = df_pos[df_pos['cluster'] == 1]\n",
    "Y = pd.Series(Y)\n",
    "RF_classifier(df_cluster0,Y.iloc[df_cluster0.index],n_estimators_=150,min_sample_leaf_= 2, max_depth_ = 100)"
   ]
  },
  {
   "cell_type": "code",
   "execution_count": 54,
   "metadata": {},
   "outputs": [
    {
     "name": "stdout",
     "output_type": "stream",
     "text": [
      "[[201  16]\n",
      " [ 12 146]]\n",
      "Accuracy: 0.9253333333333333\n",
      "Error rate: 0.07466666666666666\n",
      "Recall: 0.9240506329113924\n",
      "Precision: 0.9012345679012346\n"
     ]
    }
   ],
   "source": [
    "#cluster 2\n",
    "df_cluster0 = df_pos[df_pos['cluster'] == 2]\n",
    "Y = pd.Series(Y)\n",
    "RF_classifier(df_cluster0,Y.iloc[df_cluster0.index],n_estimators_=150,min_sample_leaf_= 2, max_depth_ = 100)"
   ]
  },
  {
   "cell_type": "code",
   "execution_count": 55,
   "metadata": {},
   "outputs": [
    {
     "name": "stdout",
     "output_type": "stream",
     "text": [
      "[[122  14]\n",
      " [  4  76]]\n",
      "Accuracy: 0.9166666666666666\n",
      "Error rate: 0.08333333333333337\n",
      "Recall: 0.95\n",
      "Precision: 0.8444444444444444\n"
     ]
    }
   ],
   "source": [
    "#cluster 3\n",
    "df_cluster0 = df_pos[df_pos['cluster'] == 3]\n",
    "Y = pd.Series(Y)\n",
    "RF_classifier(df_cluster0,Y.iloc[df_cluster0.index],n_estimators_=150,min_sample_leaf_= 2, max_depth_ = 100)"
   ]
  },
  {
   "cell_type": "code",
   "execution_count": 57,
   "metadata": {
    "scrolled": true
   },
   "outputs": [
    {
     "name": "stdout",
     "output_type": "stream",
     "text": [
      "[[889 116]\n",
      " [ 36 959]]\n",
      "Accuracy: 0.924\n",
      "Error rate: 0.07599999999999996\n",
      "Recall: 0.963819095477387\n",
      "Precision: 0.892093023255814\n"
     ]
    }
   ],
   "source": [
    "# withou cluster\n",
    "RF_classifier(df_pos.drop('cluster',axis=1),Y,n_estimators_=150,min_sample_leaf_= 2, max_depth_ = 100 )"
   ]
  },
  {
   "cell_type": "code",
   "execution_count": 58,
   "metadata": {
    "scrolled": false
   },
   "outputs": [
    {
     "name": "stdout",
     "output_type": "stream",
     "text": [
      "[[882 123]\n",
      " [ 39 956]]\n",
      "Accuracy: 0.919\n",
      "Error rate: 0.08099999999999996\n",
      "Recall: 0.9608040201005025\n",
      "Precision: 0.8860055607043559\n"
     ]
    }
   ],
   "source": [
    "# withou text generated features\n",
    "RF_classifier(df_pos.drop(['cluster','polarity','subjective'],axis=1),Y,n_estimators_=150,min_sample_leaf_= 2, max_depth_ = 100 )"
   ]
  },
  {
   "cell_type": "markdown",
   "metadata": {},
   "source": [
    "### b. Bigram"
   ]
  },
  {
   "cell_type": "code",
   "execution_count": 60,
   "metadata": {
    "scrolled": true
   },
   "outputs": [
    {
     "name": "stdout",
     "output_type": "stream",
     "text": [
      "[[895 110]\n",
      " [ 40 955]]\n",
      "Accuracy: 0.925\n",
      "Error rate: 0.07499999999999996\n",
      "Recall: 0.9597989949748744\n",
      "Precision: 0.8967136150234741\n"
     ]
    }
   ],
   "source": [
    "RF_classifier(df_ngram,Y,n_estimators_=150,min_sample_leaf_= 2, max_depth_ = 100 )"
   ]
  },
  {
   "cell_type": "code",
   "execution_count": 61,
   "metadata": {
    "scrolled": true
   },
   "outputs": [
    {
     "name": "stdout",
     "output_type": "stream",
     "text": [
      "[[10  7]\n",
      " [ 0 45]]\n",
      "Accuracy: 0.8870967741935484\n",
      "Error rate: 0.11290322580645162\n",
      "Recall: 1.0\n",
      "Precision: 0.8653846153846154\n"
     ]
    }
   ],
   "source": [
    "#cluster 1\n",
    "df_cluster0 = df_ngram[df_ngram['cluster'] == 1]\n",
    "Y = pd.Series(Y)\n",
    "RF_classifier(df_cluster0,Y.iloc[df_cluster0.index],n_estimators_=150,min_sample_leaf_= 2, max_depth_ = 100)"
   ]
  },
  {
   "cell_type": "code",
   "execution_count": 62,
   "metadata": {},
   "outputs": [
    {
     "name": "stdout",
     "output_type": "stream",
     "text": [
      "[[731 100]\n",
      " [ 42 776]]\n",
      "Accuracy: 0.9138872043662826\n",
      "Error rate: 0.08611279563371743\n",
      "Recall: 0.9486552567237164\n",
      "Precision: 0.8858447488584474\n"
     ]
    }
   ],
   "source": [
    "#cluster 2\n",
    "df_cluster0 = df_ngram[df_ngram['cluster'] == 2]\n",
    "Y = pd.Series(Y)\n",
    "RF_classifier(df_cluster0,Y.iloc[df_cluster0.index],n_estimators_=150,min_sample_leaf_= 2, max_depth_ = 100)"
   ]
  },
  {
   "cell_type": "code",
   "execution_count": 63,
   "metadata": {
    "scrolled": true
   },
   "outputs": [
    {
     "name": "stdout",
     "output_type": "stream",
     "text": [
      "[[112  18]\n",
      " [  4 156]]\n",
      "Accuracy: 0.9241379310344827\n",
      "Error rate: 0.07586206896551728\n",
      "Recall: 0.975\n",
      "Precision: 0.896551724137931\n"
     ]
    }
   ],
   "source": [
    "#cluster 2\n",
    "df_cluster0 = df_ngram[df_ngram['cluster'] == 3]\n",
    "Y = pd.Series(Y)\n",
    "RF_classifier(df_cluster0,Y.iloc[df_cluster0.index],n_estimators_=150,min_sample_leaf_= 2, max_depth_ = 100)"
   ]
  },
  {
   "cell_type": "code",
   "execution_count": 65,
   "metadata": {
    "scrolled": true
   },
   "outputs": [
    {
     "name": "stdout",
     "output_type": "stream",
     "text": [
      "[[890 115]\n",
      " [ 41 954]]\n",
      "Accuracy: 0.922\n",
      "Error rate: 0.07799999999999996\n",
      "Recall: 0.9587939698492463\n",
      "Precision: 0.892422825070159\n"
     ]
    }
   ],
   "source": [
    "# withou cluster\n",
    "RF_classifier(df_ngram.drop('cluster',axis=1),Y,n_estimators_=150,min_sample_leaf_= 2, max_depth_ = 100 )"
   ]
  },
  {
   "cell_type": "code",
   "execution_count": 66,
   "metadata": {},
   "outputs": [
    {
     "name": "stdout",
     "output_type": "stream",
     "text": [
      "[[894 111]\n",
      " [ 40 955]]\n",
      "Accuracy: 0.9245\n",
      "Error rate: 0.07550000000000001\n",
      "Recall: 0.9597989949748744\n",
      "Precision: 0.8958724202626641\n"
     ]
    }
   ],
   "source": [
    "# withou text generated features\n",
    "RF_classifier(df_ngram.drop(['cluster','polarity','subjective'],axis=1),Y,n_estimators_=150,min_sample_leaf_= 2, max_depth_ = 100 )"
   ]
  },
  {
   "cell_type": "markdown",
   "metadata": {},
   "source": [
    "## 6.3 Neural Network"
   ]
  },
  {
   "cell_type": "markdown",
   "metadata": {},
   "source": [
    "### a. NN with pos similarity"
   ]
  },
  {
   "cell_type": "code",
   "execution_count": 60,
   "metadata": {},
   "outputs": [],
   "source": [
    "from sklearn.neural_network import MLPClassifier"
   ]
  },
  {
   "cell_type": "code",
   "execution_count": 61,
   "metadata": {},
   "outputs": [],
   "source": [
    "def NN_classifier(X, Y, hidden_layers_ = (5,2), activation_ ='relu',solver_ ='adam' , alphafloat_ =1e-5):\n",
    "\n",
    "    X_train, X_test, y_train, y_test = train_test_split(X, Y, test_size=0.20,random_state=138)\n",
    "\n",
    "    clf = MLPClassifier(solver=solver_,\n",
    "                        alpha=alphafloat_,\n",
    "                        activation =activation_,\n",
    "                        hidden_layer_sizes= hidden_layers_,\n",
    "                        random_state=1)\n",
    "\n",
    "    clf.fit(X_train, y_train)\n",
    "\n",
    "    y_pred = clf.predict(X_test)\n",
    "    cm =  metrics.confusion_matrix(y_test, y_pred)\n",
    "    print(cm)\n",
    "    print(\"Accuracy:\",metrics.accuracy_score(y_test, y_pred))\n",
    "    print(\"Error rate:\", 1-metrics.accuracy_score(y_test, y_pred))\n",
    "    print(\"Recall:\", metrics.recall_score(y_test, y_pred))\n",
    "    print(\"Precision:\", metrics.precision_score(y_test, y_pred))\n",
    "    plt.clf()\n",
    "    plt.imshow(cm, interpolation='nearest', cmap=plt.cm.Wistia)\n",
    "    classNames = ['0','1']\n",
    "    plt.title('NN Confusion Matrix - Test Data')\n",
    "    plt.ylabel('True Class')\n",
    "    plt.xlabel('Predicted Class')\n",
    "    tick_marks = np.arange(len(classNames))\n",
    "    plt.xticks(tick_marks, classNames, rotation=45)\n",
    "    plt.yticks(tick_marks, classNames)\n",
    "    s = [['TN','FP'], ['FN', 'TP']]\n",
    "    for i in range(2):\n",
    "        for j in range(2):\n",
    "            plt.text(j,i, str(s[i][j])+\" = \"+str(cm[i][j]))\n",
    "    plt.show()"
   ]
  },
  {
   "cell_type": "code",
   "execution_count": 63,
   "metadata": {},
   "outputs": [
    {
     "name": "stdout",
     "output_type": "stream",
     "text": [
      "[[838 167]\n",
      " [ 72 923]]\n",
      "Accuracy: 0.8805\n",
      "Error rate: 0.11950000000000005\n",
      "Recall: 0.9276381909547738\n",
      "Precision: 0.846788990825688\n"
     ]
    },
    {
     "data": {
      "image/png": "[encoded data removed]",
      "text/plain": [
       "<Figure size 432x288 with 1 Axes>"
      ]
     },
     "metadata": {
      "needs_background": "light"
     },
     "output_type": "display_data"
    }
   ],
   "source": [
    "NN_classifier(df_pos,Y,hidden_layers_ =(20,30,40,50), solver_='adam', activation_= 'tanh' )"
   ]
  },
  {
   "cell_type": "code",
   "execution_count": 65,
   "metadata": {},
   "outputs": [
    {
     "name": "stdout",
     "output_type": "stream",
     "text": [
      "[[276  50]\n",
      " [ 46 316]]\n",
      "Accuracy: 0.8604651162790697\n",
      "Error rate: 0.13953488372093026\n",
      "Recall: 0.8729281767955801\n",
      "Precision: 0.8633879781420765\n"
     ]
    },
    {
     "data": {
      "image/png": "[encoded data removed]",
      "text/plain": [
       "<Figure size 432x288 with 1 Axes>"
      ]
     },
     "metadata": {
      "needs_background": "light"
     },
     "output_type": "display_data"
    }
   ],
   "source": [
    "#cluster 0\n",
    "df_cluster0 = df_pos[df_pos['cluster'] == 0]\n",
    "Y = pd.Series(Y)\n",
    "NN_classifier(df_cluster0,Y.iloc[df_cluster0.index],hidden_layers_ =(20,30,40,50), solver_='adam', activation_= 'tanh' )"
   ]
  },
  {
   "cell_type": "code",
   "execution_count": 64,
   "metadata": {},
   "outputs": [
    {
     "name": "stdout",
     "output_type": "stream",
     "text": [
      "[[289  42]\n",
      " [ 48 343]]\n",
      "Accuracy: 0.8753462603878116\n",
      "Error rate: 0.1246537396121884\n",
      "Recall: 0.8772378516624041\n",
      "Precision: 0.8909090909090909\n"
     ]
    },
    {
     "data": {
      "image/png": "[encoded data removed]",
      "text/plain": [
       "<Figure size 432x288 with 1 Axes>"
      ]
     },
     "metadata": {
      "needs_background": "light"
     },
     "output_type": "display_data"
    }
   ],
   "source": [
    "#cluster 1\n",
    "df_cluster0 = df_pos[df_pos['cluster'] == 1]\n",
    "Y = pd.Series(Y)\n",
    "NN_classifier(df_cluster0,Y.iloc[df_cluster0.index],hidden_layers_ =(20,30,40,50), solver_='adam', activation_= 'tanh' )"
   ]
  },
  {
   "cell_type": "code",
   "execution_count": 67,
   "metadata": {},
   "outputs": [
    {
     "name": "stdout",
     "output_type": "stream",
     "text": [
      "[[197  20]\n",
      " [ 16 142]]\n",
      "Accuracy: 0.904\n",
      "Error rate: 0.09599999999999997\n",
      "Recall: 0.8987341772151899\n",
      "Precision: 0.8765432098765432\n"
     ]
    },
    {
     "data": {
      "image/png": "[encoded data removed]",
      "text/plain": [
       "<Figure size 432x288 with 1 Axes>"
      ]
     },
     "metadata": {
      "needs_background": "light"
     },
     "output_type": "display_data"
    }
   ],
   "source": [
    "#cluster 2\n",
    "df_cluster0 = df_pos[df_pos['cluster'] == 2]\n",
    "Y = pd.Series(Y)\n",
    "NN_classifier(df_cluster0,Y.iloc[df_cluster0.index],hidden_layers_ =(20,20,20,30), solver_='adam', activation_= 'tanh' )"
   ]
  },
  {
   "cell_type": "code",
   "execution_count": 68,
   "metadata": {
    "scrolled": true
   },
   "outputs": [
    {
     "name": "stdout",
     "output_type": "stream",
     "text": [
      "[[117  19]\n",
      " [ 13  67]]\n",
      "Accuracy: 0.8518518518518519\n",
      "Error rate: 0.14814814814814814\n",
      "Recall: 0.8375\n",
      "Precision: 0.7790697674418605\n"
     ]
    },
    {
     "data": {
      "image/png": "[encoded data removed]",
      "text/plain": [
       "<Figure size 432x288 with 1 Axes>"
      ]
     },
     "metadata": {
      "needs_background": "light"
     },
     "output_type": "display_data"
    }
   ],
   "source": [
    "#cluster 3\n",
    "df_cluster0 = df_pos[df_pos['cluster'] == 3]\n",
    "Y = pd.Series(Y)\n",
    "NN_classifier(df_cluster0,Y.iloc[df_cluster0.index],hidden_layers_ =(20,20,20,30), solver_='adam', activation_= 'tanh' )"
   ]
  },
  {
   "cell_type": "markdown",
   "metadata": {},
   "source": [
    "### b NN with bigram"
   ]
  },
  {
   "cell_type": "code",
   "execution_count": 72,
   "metadata": {
    "scrolled": true
   },
   "outputs": [
    {
     "name": "stdout",
     "output_type": "stream",
     "text": [
      "[[833 172]\n",
      " [ 56 939]]\n",
      "Accuracy: 0.886\n",
      "Error rate: 0.11399999999999999\n",
      "Recall: 0.9437185929648241\n",
      "Precision: 0.8451845184518452\n"
     ]
    },
    {
     "data": {
      "image/png": "[encoded data removed]",
      "text/plain": [
       "<Figure size 432x288 with 1 Axes>"
      ]
     },
     "metadata": {
      "needs_background": "light"
     },
     "output_type": "display_data"
    }
   ],
   "source": [
    "NN_classifier(df_ngram,Y,hidden_layers_ =(20,30,40,50), solver_='adam', activation_= 'tanh' )"
   ]
  },
  {
   "cell_type": "code",
   "execution_count": 77,
   "metadata": {
    "scrolled": true
   },
   "outputs": [
    {
     "name": "stdout",
     "output_type": "stream",
     "text": [
      "[[ 9  8]\n",
      " [ 1 44]]\n",
      "Accuracy: 0.8548387096774194\n",
      "Error rate: 0.14516129032258063\n",
      "Recall: 0.9777777777777777\n",
      "Precision: 0.8461538461538461\n"
     ]
    },
    {
     "name": "stderr",
     "output_type": "stream",
     "text": [
      "C:\\Users\\quoch\\Anaconda3\\lib\\site-packages\\sklearn\\neural_network\\_multilayer_perceptron.py:571: ConvergenceWarning: Stochastic Optimizer: Maximum iterations (200) reached and the optimization hasn't converged yet.\n",
      "  % self.max_iter, ConvergenceWarning)\n"
     ]
    },
    {
     "data": {
      "image/png": "[encoded data removed]",
      "text/plain": [
       "<Figure size 432x288 with 1 Axes>"
      ]
     },
     "metadata": {
      "needs_background": "light"
     },
     "output_type": "display_data"
    }
   ],
   "source": [
    "#cluster 1\n",
    "df_cluster0 = df_ngram[df_ngram['cluster'] == 1]\n",
    "Y = pd.Series(Y)\n",
    "NN_classifier(df_cluster0.drop('cluster',axis=1),Y.iloc[df_cluster0.index],hidden_layers_ =(20,20,20,30), solver_='adam', activation_= 'tanh' )"
   ]
  },
  {
   "cell_type": "code",
   "execution_count": 78,
   "metadata": {},
   "outputs": [
    {
     "name": "stdout",
     "output_type": "stream",
     "text": [
      "[[686 145]\n",
      " [ 71 747]]\n",
      "Accuracy: 0.8690115221346271\n",
      "Error rate: 0.13098847786537293\n",
      "Recall: 0.91320293398533\n",
      "Precision: 0.8374439461883408\n"
     ]
    },
    {
     "data": {
      "image/png": "[encoded data removed]",
      "text/plain": [
       "<Figure size 432x288 with 1 Axes>"
      ]
     },
     "metadata": {
      "needs_background": "light"
     },
     "output_type": "display_data"
    }
   ],
   "source": [
    "#cluster 2\n",
    "df_cluster0 = df_ngram[df_ngram['cluster'] == 2]\n",
    "Y = pd.Series(Y)\n",
    "NN_classifier(df_cluster0.drop('cluster',axis=1),Y.iloc[df_cluster0.index],hidden_layers_ =(20,20,20,30), solver_='adam', activation_= 'tanh' )"
   ]
  },
  {
   "cell_type": "code",
   "execution_count": 79,
   "metadata": {
    "scrolled": true
   },
   "outputs": [
    {
     "name": "stdout",
     "output_type": "stream",
     "text": [
      "[[107  23]\n",
      " [ 17 143]]\n",
      "Accuracy: 0.8620689655172413\n",
      "Error rate: 0.13793103448275867\n",
      "Recall: 0.89375\n",
      "Precision: 0.8614457831325302\n"
     ]
    },
    {
     "name": "stderr",
     "output_type": "stream",
     "text": [
      "C:\\Users\\quoch\\Anaconda3\\lib\\site-packages\\sklearn\\neural_network\\_multilayer_perceptron.py:571: ConvergenceWarning: Stochastic Optimizer: Maximum iterations (200) reached and the optimization hasn't converged yet.\n",
      "  % self.max_iter, ConvergenceWarning)\n"
     ]
    },
    {
     "data": {
      "image/png": "[encoded data removed]",
      "text/plain": [
       "<Figure size 432x288 with 1 Axes>"
      ]
     },
     "metadata": {
      "needs_background": "light"
     },
     "output_type": "display_data"
    }
   ],
   "source": [
    "#cluster 2\n",
    "df_cluster0 = df_ngram[df_ngram['cluster'] == 3]\n",
    "Y = pd.Series(Y)\n",
    "NN_classifier(df_cluster0.drop('cluster',axis=1),Y.iloc[df_cluster0.index],hidden_layers_ =(20,20,20,30), solver_='adam', activation_= 'tanh' )"
   ]
  },
  {
   "cell_type": "code",
   "execution_count": 85,
   "metadata": {
    "scrolled": true
   },
   "outputs": [
    {
     "name": "stdout",
     "output_type": "stream",
     "text": [
      "[[798 207]\n",
      " [ 40 955]]\n",
      "Accuracy: 0.8765\n",
      "Error rate: 0.12350000000000005\n",
      "Recall: 0.9597989949748744\n",
      "Precision: 0.8218588640275387\n"
     ]
    },
    {
     "data": {
      "image/png": "[encoded data removed]",
      "text/plain": [
       "<Figure size 432x288 with 1 Axes>"
      ]
     },
     "metadata": {
      "needs_background": "light"
     },
     "output_type": "display_data"
    }
   ],
   "source": [
    "# withou cluster\n",
    "NN_classifier(df_ngram.drop('cluster',axis=1),Y,hidden_layers_ =(20,30,40,50), solver_='adam', activation_= 'tanh')"
   ]
  },
  {
   "cell_type": "code",
   "execution_count": 84,
   "metadata": {},
   "outputs": [
    {
     "name": "stdout",
     "output_type": "stream",
     "text": [
      "[[823 182]\n",
      " [ 67 928]]\n",
      "Accuracy: 0.8755\n",
      "Error rate: 0.12450000000000006\n",
      "Recall: 0.9326633165829146\n",
      "Precision: 0.836036036036036\n"
     ]
    },
    {
     "data": {
      "image/png": "[encoded data removed]",
      "text/plain": [
       "<Figure size 432x288 with 1 Axes>"
      ]
     },
     "metadata": {
      "needs_background": "light"
     },
     "output_type": "display_data"
    }
   ],
   "source": [
    "# withou cluster\n",
    "NN_classifier(df_ngram.drop(['cluster','polarity','subjective'],axis=1),Y,hidden_layers_ =(20,30,40,50), solver_='adam', activation_= 'tanh')"
   ]
  },
  {
   "cell_type": "markdown",
   "metadata": {},
   "source": [
    "### z. Feed Forward Neural Network"
   ]
  },
  {
   "cell_type": "code",
   "execution_count": 168,
   "metadata": {},
   "outputs": [],
   "source": [
    "from keras.datasets import reuters\n",
    "from keras.utils.np_utils import to_categorical\n",
    "from keras.preprocessing.text import Tokenizer\n",
    "from keras import models\n",
    "from keras import layers\n",
    "from keras.utils import to_categorical\n"
   ]
  },
  {
   "cell_type": "code",
   "execution_count": 170,
   "metadata": {
    "scrolled": true
   },
   "outputs": [],
   "source": [
    "# construct a neural network\n",
    "\n",
    "# Set the number of features we want\n",
    "number_of_features = len(df_pos.columns)\n",
    "\n",
    "# Start neural network\n",
    "network = models.Sequential()\n",
    "\n",
    "# Add fully connected layer with a ReLU activation function\n",
    "network.add(layers.Dense(units=2, activation='relu', input_shape=(number_of_features,)))\n",
    "\n",
    "# Add fully connected layer with a ReLU activation function\n",
    "network.add(layers.Dense(units=2, activation='relu'))\n",
    "\n",
    "# Add fully connected layer with a softmax activation function\n",
    "network.add(layers.Dense(units=2, activation='softmax'))\n",
    "\n",
    "# Compile neural network\n",
    "network.compile(loss='categorical_crossentropy', # Cross-entropy\n",
    "                optimizer='rmsprop', # Root Mean Square Propagation\n",
    "                metrics=['accuracy']) # Accuracy performance metric"
   ]
  },
  {
   "cell_type": "code",
   "execution_count": 171,
   "metadata": {},
   "outputs": [],
   "source": [
    "# Train neural network\n",
    "y_binary = to_categorical(Y)\n",
    "\n",
    "X_train, X_test, y_train, y_test = train_test_split(df_pos, y_binary, test_size=0.20,random_state=138) \n",
    "scaler = StandardScaler()  \n",
    "scaler.fit(X_train)\n",
    "X_train = scaler.transform(X_train)  \n",
    "X_test = scaler.transform(X_test)\n",
    "\n",
    "history = network.fit(X_train, # Features\n",
    "                      y_train, # Target vector\n",
    "                      epochs=3, # Three epochs\n",
    "                      verbose=0, # No output\n",
    "                      batch_size=100, # Number of observations per batch\n",
    "                      validation_data=(X_test, y_test)) # Data to use for evaluation"
   ]
  },
  {
   "cell_type": "code",
   "execution_count": 173,
   "metadata": {},
   "outputs": [],
   "source": [
    "y_predict = network.predict(X_test)"
   ]
  },
  {
   "cell_type": "code",
   "execution_count": 177,
   "metadata": {},
   "outputs": [
    {
     "name": "stdout",
     "output_type": "stream",
     "text": [
      "2000/2000 [==============================] - 0s 26us/step\n",
      "Accuracy: 72.40\n"
     ]
    }
   ],
   "source": [
    "_, accuracy = network.evaluate(x=X_test, y=y_test  )\n",
    "print('Accuracy: %.2f' % (accuracy*100))"
   ]
  },
  {
   "cell_type": "code",
   "execution_count": null,
   "metadata": {},
   "outputs": [],
   "source": [
    "#### fit model\n",
    "# Train neural network\n",
    "def FNN_classifier():\n",
    "    history = network.fit(train_features, # Features\n",
    "                          train_target, # Target vector\n",
    "                          epochs=3, # Three epochs\n",
    "                          verbose=0, # No output\n",
    "                          batch_size=100, # Number of observations per batch\n",
    "                          validation_data=(test_features, test_target)) # Data to use for evaluation"
   ]
  },
  {
   "cell_type": "markdown",
   "metadata": {},
   "source": [
    "## 6.XXXNB model with TF-IDF"
   ]
  },
  {
   "cell_type": "code",
   "execution_count": 360,
   "metadata": {},
   "outputs": [],
   "source": [
    "# test SVM model with different way\n",
    "# split the data into training and testing datasets\n",
    "X_train, X_test, y_train, y_test = train_test_split(df_pos, Y, test_size=0.20,random_state=109)  "
   ]
  },
  {
   "cell_type": "code",
   "execution_count": 363,
   "metadata": {},
   "outputs": [
    {
     "ename": "ValueError",
     "evalue": "Input X must be non-negative",
     "output_type": "error",
     "traceback": [
      "\u001b[1;31m---------------------------------------------------------------------------\u001b[0m",
      "\u001b[1;31mValueError\u001b[0m                                Traceback (most recent call last)",
      "\u001b[1;32m<ipython-input-363-70c18dde0deb>\u001b[0m in \u001b[0;36m<module>\u001b[1;34m()\u001b[0m\n\u001b[0;32m      7\u001b[0m \u001b[0mX_test\u001b[0m \u001b[1;33m=\u001b[0m \u001b[0mscaler\u001b[0m\u001b[1;33m.\u001b[0m\u001b[0mtransform\u001b[0m\u001b[1;33m(\u001b[0m\u001b[0mX_test\u001b[0m\u001b[1;33m)\u001b[0m\u001b[1;33m\u001b[0m\u001b[0m\n\u001b[0;32m      8\u001b[0m \u001b[1;33m\u001b[0m\u001b[0m\n\u001b[1;32m----> 9\u001b[1;33m \u001b[0mclf\u001b[0m \u001b[1;33m=\u001b[0m \u001b[0mMultinomialNB\u001b[0m\u001b[1;33m(\u001b[0m\u001b[1;33m)\u001b[0m\u001b[1;33m.\u001b[0m\u001b[0mfit\u001b[0m\u001b[1;33m(\u001b[0m\u001b[0mX_train\u001b[0m\u001b[1;33m,\u001b[0m \u001b[0my_train\u001b[0m\u001b[1;33m)\u001b[0m\u001b[1;33m\u001b[0m\u001b[0m\n\u001b[0m\u001b[0;32m     10\u001b[0m \u001b[0my_pred\u001b[0m \u001b[1;33m=\u001b[0m \u001b[0mclf\u001b[0m\u001b[1;33m.\u001b[0m\u001b[0mpredict\u001b[0m\u001b[1;33m(\u001b[0m\u001b[0mX_test\u001b[0m\u001b[1;33m)\u001b[0m\u001b[1;33m\u001b[0m\u001b[0m\n\u001b[0;32m     11\u001b[0m \u001b[1;33m\u001b[0m\u001b[0m\n",
      "\u001b[1;32m~\\Anaconda3\\lib\\site-packages\\sklearn\\naive_bayes.py\u001b[0m in \u001b[0;36mfit\u001b[1;34m(self, X, y, sample_weight)\u001b[0m\n\u001b[0;32m    611\u001b[0m         self.feature_count_ = np.zeros((n_effective_classes, n_features),\n\u001b[0;32m    612\u001b[0m                                        dtype=np.float64)\n\u001b[1;32m--> 613\u001b[1;33m         \u001b[0mself\u001b[0m\u001b[1;33m.\u001b[0m\u001b[0m_count\u001b[0m\u001b[1;33m(\u001b[0m\u001b[0mX\u001b[0m\u001b[1;33m,\u001b[0m \u001b[0mY\u001b[0m\u001b[1;33m)\u001b[0m\u001b[1;33m\u001b[0m\u001b[0m\n\u001b[0m\u001b[0;32m    614\u001b[0m         \u001b[0malpha\u001b[0m \u001b[1;33m=\u001b[0m \u001b[0mself\u001b[0m\u001b[1;33m.\u001b[0m\u001b[0m_check_alpha\u001b[0m\u001b[1;33m(\u001b[0m\u001b[1;33m)\u001b[0m\u001b[1;33m\u001b[0m\u001b[0m\n\u001b[0;32m    615\u001b[0m         \u001b[0mself\u001b[0m\u001b[1;33m.\u001b[0m\u001b[0m_update_feature_log_prob\u001b[0m\u001b[1;33m(\u001b[0m\u001b[0malpha\u001b[0m\u001b[1;33m)\u001b[0m\u001b[1;33m\u001b[0m\u001b[0m\n",
      "\u001b[1;32m~\\Anaconda3\\lib\\site-packages\\sklearn\\naive_bayes.py\u001b[0m in \u001b[0;36m_count\u001b[1;34m(self, X, Y)\u001b[0m\n\u001b[0;32m    718\u001b[0m         \u001b[1;34m\"\"\"Count and smooth feature occurrences.\"\"\"\u001b[0m\u001b[1;33m\u001b[0m\u001b[0m\n\u001b[0;32m    719\u001b[0m         \u001b[1;32mif\u001b[0m \u001b[0mnp\u001b[0m\u001b[1;33m.\u001b[0m\u001b[0many\u001b[0m\u001b[1;33m(\u001b[0m\u001b[1;33m(\u001b[0m\u001b[0mX\u001b[0m\u001b[1;33m.\u001b[0m\u001b[0mdata\u001b[0m \u001b[1;32mif\u001b[0m \u001b[0missparse\u001b[0m\u001b[1;33m(\u001b[0m\u001b[0mX\u001b[0m\u001b[1;33m)\u001b[0m \u001b[1;32melse\u001b[0m \u001b[0mX\u001b[0m\u001b[1;33m)\u001b[0m \u001b[1;33m<\u001b[0m \u001b[1;36m0\u001b[0m\u001b[1;33m)\u001b[0m\u001b[1;33m:\u001b[0m\u001b[1;33m\u001b[0m\u001b[0m\n\u001b[1;32m--> 720\u001b[1;33m             \u001b[1;32mraise\u001b[0m \u001b[0mValueError\u001b[0m\u001b[1;33m(\u001b[0m\u001b[1;34m\"Input X must be non-negative\"\u001b[0m\u001b[1;33m)\u001b[0m\u001b[1;33m\u001b[0m\u001b[0m\n\u001b[0m\u001b[0;32m    721\u001b[0m         \u001b[0mself\u001b[0m\u001b[1;33m.\u001b[0m\u001b[0mfeature_count_\u001b[0m \u001b[1;33m+=\u001b[0m \u001b[0msafe_sparse_dot\u001b[0m\u001b[1;33m(\u001b[0m\u001b[0mY\u001b[0m\u001b[1;33m.\u001b[0m\u001b[0mT\u001b[0m\u001b[1;33m,\u001b[0m \u001b[0mX\u001b[0m\u001b[1;33m)\u001b[0m\u001b[1;33m\u001b[0m\u001b[0m\n\u001b[0;32m    722\u001b[0m         \u001b[0mself\u001b[0m\u001b[1;33m.\u001b[0m\u001b[0mclass_count_\u001b[0m \u001b[1;33m+=\u001b[0m \u001b[0mY\u001b[0m\u001b[1;33m.\u001b[0m\u001b[0msum\u001b[0m\u001b[1;33m(\u001b[0m\u001b[0maxis\u001b[0m\u001b[1;33m=\u001b[0m\u001b[1;36m0\u001b[0m\u001b[1;33m)\u001b[0m\u001b[1;33m\u001b[0m\u001b[0m\n",
      "\u001b[1;31mValueError\u001b[0m: Input X must be non-negative"
     ]
    }
   ],
   "source": [
    "import time\n",
    "from sklearn.naive_bayes import MultinomialNB\n",
    "start_time = time.time()\n",
    "scaler = StandardScaler()  \n",
    "scaler.fit(df_pos)\n",
    "X_train = scaler.transform(X_train)  \n",
    "X_test = scaler.transform(X_test)\n",
    "\n",
    "clf = MultinomialNB().fit(X_train, y_train)\n",
    "y_pred = clf.predict(X_test)\n",
    "\n"
   ]
  },
  {
   "cell_type": "code",
   "execution_count": 44,
   "metadata": {
    "scrolled": true
   },
   "outputs": [
    {
     "name": "stdout",
     "output_type": "stream",
     "text": [
      "0.599\n"
     ]
    }
   ],
   "source": [
    "print(metrics.accuracy_score(y_pred=y_pred, y_true=y_test))"
   ]
  },
  {
   "cell_type": "code",
   "execution_count": 45,
   "metadata": {
    "scrolled": true
   },
   "outputs": [
    {
     "data": {
      "text/plain": [
       "scipy.sparse.csr.csr_matrix"
      ]
     },
     "execution_count": 45,
     "metadata": {},
     "output_type": "execute_result"
    }
   ],
   "source": [
    "type(X_train)"
   ]
  },
  {
   "cell_type": "code",
   "execution_count": null,
   "metadata": {},
   "outputs": [],
   "source": []
  },
  {
   "cell_type": "markdown",
   "metadata": {},
   "source": [
    "# ##### Model 2: using combination Text and non-text features\n",
    "\n",
    "# using mapper to map features to dataframe\n",
    "mapper = DataFrameMapper([\n",
    "     ('description', TfidfVectorizer()),\n",
    "     ('nb_like', None),\n",
    "     ('picture_labels', TfidfVectorizer()),\n",
    "     ('nb_share', None),\n",
    "     ('user', None),\n",
    "     ('month', None),\n",
    "     ('day', None),\n",
    "     ('hour', None),\n",
    " ])"
   ]
  },
  {
   "cell_type": "code",
   "execution_count": 222,
   "metadata": {},
   "outputs": [],
   "source": [
    "from sklearn_pandas import DataFrameMapper, cross_val_score\n",
    "from sklearn.metrics import classification_report\n",
    "import sklearn.ensemble as sk"
   ]
  },
  {
   "cell_type": "code",
   "execution_count": 223,
   "metadata": {},
   "outputs": [],
   "source": [
    "def printreport(exp, pred):\n",
    "    print(pd.crosstab(exp, pred, rownames=['Actual'], colnames=['Predicted']))\n",
    "\n",
    "    print('\\n \\n')\n",
    "    print(classification_report(exp, pred))\n"
   ]
  },
  {
   "cell_type": "code",
   "execution_count": 261,
   "metadata": {},
   "outputs": [],
   "source": [
    "data2 = df[['rating', 'usefulCount','coolCount','funnyCount']].copy()\n",
    "\n",
    "data2['reviewContent'] = processed\n",
    "data2['sentiment'] =sent_analysis"
   ]
  },
  {
   "cell_type": "code",
   "execution_count": 225,
   "metadata": {},
   "outputs": [
    {
     "data": {
      "text/plain": [
       "numpy.ndarray"
      ]
     },
     "execution_count": 225,
     "metadata": {},
     "output_type": "execute_result"
    }
   ],
   "source": [
    "type(CS_similarity)"
   ]
  },
  {
   "cell_type": "code",
   "execution_count": 269,
   "metadata": {},
   "outputs": [
    {
     "name": "stdout",
     "output_type": "stream",
     "text": [
      "RangeIndex(start=0, stop=5000, step=1)\n"
     ]
    }
   ],
   "source": [
    "print(data2.index)"
   ]
  },
  {
   "cell_type": "code",
   "execution_count": 243,
   "metadata": {},
   "outputs": [],
   "source": [
    "X_tfidf= tfidf.fit_transform(data2['reviewContent'])"
   ]
  },
  {
   "cell_type": "code",
   "execution_count": 263,
   "metadata": {},
   "outputs": [],
   "source": [
    "mapper = DataFrameMapper([\n",
    "     ('rating', None),\n",
    "     ('usefulCount', None),\n",
    "     ('coolCount', None),\n",
    "     ('funnyCount', None),\n",
    "     ('reviewContent', TfidfVectorizer()),\n",
    "     ('sentiment', None)\n",
    "     #('reviewContent', [CountVectorizer(analyzer='word', ngram_range=(2, 2)),TfidfVectorizer()])\n",
    "\n",
    " ])"
   ]
  },
  {
   "cell_type": "code",
   "execution_count": 264,
   "metadata": {},
   "outputs": [],
   "source": [
    "features = mapper.fit_transform(data2)"
   ]
  },
  {
   "cell_type": "code",
   "execution_count": 250,
   "metadata": {
    "scrolled": true
   },
   "outputs": [
    {
     "data": {
      "text/plain": [
       "(5000, 16985)"
      ]
     },
     "execution_count": 250,
     "metadata": {},
     "output_type": "execute_result"
    }
   ],
   "source": [
    "features.shape"
   ]
  },
  {
   "cell_type": "code",
   "execution_count": 252,
   "metadata": {
    "scrolled": true
   },
   "outputs": [],
   "source": [
    "#integrate cosine similarity into features\n",
    "features=np.concatenate((features, CS_similarity), axis=1)"
   ]
  },
  {
   "cell_type": "code",
   "execution_count": 253,
   "metadata": {},
   "outputs": [
    {
     "data": {
      "text/plain": [
       "(5000, 21985)"
      ]
     },
     "execution_count": 253,
     "metadata": {},
     "output_type": "execute_result"
    }
   ],
   "source": [
    "features.shape"
   ]
  },
  {
   "cell_type": "code",
   "execution_count": 265,
   "metadata": {},
   "outputs": [
    {
     "name": "stdout",
     "output_type": "stream",
     "text": [
      "Predicted    0   1\n",
      "Actual            \n",
      "0          532  72\n",
      "1          318  78\n",
      "\n",
      " \n",
      "\n",
      "              precision    recall  f1-score   support\n",
      "\n",
      "           0       0.63      0.88      0.73       604\n",
      "           1       0.52      0.20      0.29       396\n",
      "\n",
      "    accuracy                           0.61      1000\n",
      "   macro avg       0.57      0.54      0.51      1000\n",
      "weighted avg       0.58      0.61      0.56      1000\n",
      "\n",
      "--- 31.03861355781555 seconds ---\n"
     ]
    }
   ],
   "source": [
    "# Split the data between train and test\n",
    "X_train, X_test, y_train, y_test = train_test_split(features, Y, test_size=0.20,random_state=109)  \n",
    "\n",
    "start_time = time.time()\n",
    "clf = sk.RandomForestClassifier(random_state=0, n_estimators=70)\n",
    "clf.fit(X_train, y_train)\n",
    "\n",
    "predicted = clf.predict(X_test)\n",
    "\n",
    "printreport(y_test, predicted)\n",
    "print(\"--- %s seconds ---\" % (time.time() - start_time))"
   ]
  },
  {
   "cell_type": "code",
   "execution_count": 266,
   "metadata": {
    "scrolled": true
   },
   "outputs": [
    {
     "name": "stdout",
     "output_type": "stream",
     "text": [
      "0.61\n"
     ]
    }
   ],
   "source": [
    "print(metrics.accuracy_score(y_pred=predicted, y_true=y_test))"
   ]
  }
 ],
 "metadata": {
  "kernelspec": {
   "display_name": "Python 3",
   "language": "python",
   "name": "python3"
  },
  "language_info": {
   "codemirror_mode": {
    "name": "ipython",
    "version": 3
   },
   "file_extension": ".py",
   "mimetype": "text/x-python",
   "name": "python",
   "nbconvert_exporter": "python",
   "pygments_lexer": "ipython3",
   "version": "3.6.5"
  }
 },
 "nbformat": 4,
 "nbformat_minor": 2
}
