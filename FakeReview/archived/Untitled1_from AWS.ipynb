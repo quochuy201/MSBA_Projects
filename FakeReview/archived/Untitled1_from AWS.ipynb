{
 "cells": [
  {
   "cell_type": "markdown",
   "metadata": {},
   "source": [
    "# FAKE REVIEW DETECTION\n",
    "\n",
    "\n",
    "## Seattle University\n",
    "## Instructor: Dr. Kim\n",
    "## Student: Huy Le"
   ]
  },
  {
   "cell_type": "markdown",
   "metadata": {},
   "source": [
    "### Readme\n",
    "This notebook contains entire of my code about my fake review detection research. It includes from the first step to get data from \"yelpreview021302.csv\" to implement machine learning models. If your computer can not execute the whole file due to the contrains of memory, you may think about break the code to many part such as Data Preprocessing, NLP (Tokenizing, TF-IDF, Consine Similarity, Sentiment Analysis), Clustering, Classifying Model, Decision Tree Diagram Generation."
   ]
  },
  {
   "cell_type": "markdown",
   "metadata": {},
   "source": [
    "## TOC:\n",
    "* [1. Import Libraries and Dataset](#1st-bullet)\n",
    "* [2. Summary Statistic](#2nd-bullet)\n",
    "* [3. Data Preprocessing](#3rd-bullet)\n",
    "* [4. Second Bullet Header](#4th-bullet)\n",
    "* [5. Second Bullet Header](#5th-bullet)\n",
    "* [6. Second Bullet Header](#6th-bullet)\n",
    "* [7. Second Bullet Header](#7th-bullet)\n"
   ]
  },
  {
   "cell_type": "markdown",
   "metadata": {},
   "source": [
    "# 1. Import Libraries and Dataset <a class=\"anchor\" id=\"1st-bullet\"></a>\n",
    "\n",
    "The dataset I used in this research was acquire from Dr. Liu at Unversity of Illinois at Chicago. I had done some integration and preprocessing steps in SQL before I came up to this datasets. For more detail about my dataset, pleas read my paper."
   ]
  },
  {
   "cell_type": "code",
   "execution_count": 51,
   "metadata": {},
   "outputs": [
    {
     "name": "stderr",
     "output_type": "stream",
     "text": [
      "[nltk_data] Downloading package stopwords to /home/jovyan/nltk_data...\n",
      "[nltk_data]   Package stopwords is already up-to-date!\n"
     ]
    },
    {
     "data": {
      "text/plain": [
       "True"
      ]
     },
     "execution_count": 51,
     "metadata": {},
     "output_type": "execute_result"
    }
   ],
   "source": [
    "# import necessary libraries\n",
    "import sys\n",
    "import nltk\n",
    "import sklearn\n",
    "import pandas as pd\n",
    "import numpy as np\n",
    "from sklearn.utils import shuffle\n",
    "nltk.download('stopwords') \n",
    "\n"
   ]
  },
  {
   "cell_type": "code",
   "execution_count": 52,
   "metadata": {},
   "outputs": [],
   "source": [
    "# load the dataset\n",
    "raw_data= pd.read_csv('./yelpreview021302.csv')\n",
    "raw_data.head(5)"
   ]
  },
  {
   "cell_type": "code",
   "execution_count": 54,
   "metadata": {},
   "outputs": [
    {
     "data": {
      "text/html": [
       "<div>\n",
       "<style scoped>\n",
       "    .dataframe tbody tr th:only-of-type {\n",
       "        vertical-align: middle;\n",
       "    }\n",
       "\n",
       "    .dataframe tbody tr th {\n",
       "        vertical-align: top;\n",
       "    }\n",
       "\n",
       "    .dataframe thead th {\n",
       "        text-align: right;\n",
       "    }\n",
       "</style>\n",
       "<table border=\"1\" class=\"dataframe\">\n",
       "  <thead>\n",
       "    <tr style=\"text-align: right;\">\n",
       "      <th></th>\n",
       "      <th>reviewid</th>\n",
       "      <th>reviewerid</th>\n",
       "      <th>businessid</th>\n",
       "      <th>reviewcontent</th>\n",
       "      <th>reviewrating</th>\n",
       "      <th>reusefulcount</th>\n",
       "      <th>recoolcount</th>\n",
       "      <th>refunnycount</th>\n",
       "      <th>reviewDate</th>\n",
       "      <th>yelpjoindate</th>\n",
       "      <th>...</th>\n",
       "      <th>buscateg</th>\n",
       "      <th>pricerange</th>\n",
       "      <th>filreviewcount</th>\n",
       "      <th>monmembership</th>\n",
       "      <th>firstreview</th>\n",
       "      <th>maxReviewDay</th>\n",
       "      <th>avgReviewDay</th>\n",
       "      <th>avgpostedrating</th>\n",
       "      <th>avgreviewlen</th>\n",
       "      <th>flagged</th>\n",
       "    </tr>\n",
       "  </thead>\n",
       "  <tbody>\n",
       "    <tr>\n",
       "      <th>0</th>\n",
       "      <td>LGCYk</td>\n",
       "      <td>KJmXsA1zFPH-n6r14JcYLw</td>\n",
       "      <td>SfRCNiCTPfGwzHEM_hCVZQ</td>\n",
       "      <td>I came here with a group of people for a birth...</td>\n",
       "      <td>4</td>\n",
       "      <td>0</td>\n",
       "      <td>0</td>\n",
       "      <td>0</td>\n",
       "      <td>4/30/2012</td>\n",
       "      <td>00:00.0</td>\n",
       "      <td>...</td>\n",
       "      <td>Hotels</td>\n",
       "      <td>2.0</td>\n",
       "      <td>6</td>\n",
       "      <td>46</td>\n",
       "      <td>0</td>\n",
       "      <td>7</td>\n",
       "      <td>1</td>\n",
       "      <td>3</td>\n",
       "      <td>711</td>\n",
       "      <td>N</td>\n",
       "    </tr>\n",
       "    <tr>\n",
       "      <th>1</th>\n",
       "      <td>GtwU21YOQn-wf4vWRUIx6w</td>\n",
       "      <td>bNYesZ944s6IJVowOnB0iA</td>\n",
       "      <td>pbEiXam9YJL3neCYHGwLUA</td>\n",
       "      <td>Unlike Next, which we'd eaten at the previous ...</td>\n",
       "      <td>5</td>\n",
       "      <td>0</td>\n",
       "      <td>0</td>\n",
       "      <td>0</td>\n",
       "      <td>9/22/2012</td>\n",
       "      <td>00:00.0</td>\n",
       "      <td>...</td>\n",
       "      <td>Restaurants</td>\n",
       "      <td>4.0</td>\n",
       "      <td>0</td>\n",
       "      <td>36</td>\n",
       "      <td>0</td>\n",
       "      <td>6</td>\n",
       "      <td>1</td>\n",
       "      <td>3</td>\n",
       "      <td>1320</td>\n",
       "      <td>N</td>\n",
       "    </tr>\n",
       "    <tr>\n",
       "      <th>2</th>\n",
       "      <td>0LpVTc3</td>\n",
       "      <td>TRKxLC3y-ZvP45e5iilMtw</td>\n",
       "      <td>pbEiXam9YJL3neCYHGwLUA</td>\n",
       "      <td>Probably one of the best meals I've had ever. ...</td>\n",
       "      <td>5</td>\n",
       "      <td>0</td>\n",
       "      <td>0</td>\n",
       "      <td>0</td>\n",
       "      <td>9/22/2012</td>\n",
       "      <td>00:00.0</td>\n",
       "      <td>...</td>\n",
       "      <td>Restaurants</td>\n",
       "      <td>4.0</td>\n",
       "      <td>0</td>\n",
       "      <td>15</td>\n",
       "      <td>0</td>\n",
       "      <td>4</td>\n",
       "      <td>2</td>\n",
       "      <td>4</td>\n",
       "      <td>241</td>\n",
       "      <td>N</td>\n",
       "    </tr>\n",
       "    <tr>\n",
       "      <th>3</th>\n",
       "      <td>V0PU0ciEBeNiHHS1</td>\n",
       "      <td>-3Mzc2O6jmYLWQJcIJdvAA</td>\n",
       "      <td>pbEiXam9YJL3neCYHGwLUA</td>\n",
       "      <td>Today marks one year since my dinner at Alinea...</td>\n",
       "      <td>5</td>\n",
       "      <td>1</td>\n",
       "      <td>1</td>\n",
       "      <td>0</td>\n",
       "      <td>9/11/2012</td>\n",
       "      <td>00:00.0</td>\n",
       "      <td>...</td>\n",
       "      <td>Restaurants</td>\n",
       "      <td>4.0</td>\n",
       "      <td>0</td>\n",
       "      <td>64</td>\n",
       "      <td>0</td>\n",
       "      <td>4</td>\n",
       "      <td>1</td>\n",
       "      <td>3</td>\n",
       "      <td>1108</td>\n",
       "      <td>N</td>\n",
       "    </tr>\n",
       "    <tr>\n",
       "      <th>4</th>\n",
       "      <td>tOC0u8KRXVJdYT9mFTEwvw</td>\n",
       "      <td>lXG7Mbhi6_nXaTZojpneUg</td>\n",
       "      <td>pbEiXam9YJL3neCYHGwLUA</td>\n",
       "      <td>Best restaurant I have ever visited in the Uni...</td>\n",
       "      <td>5</td>\n",
       "      <td>0</td>\n",
       "      <td>0</td>\n",
       "      <td>0</td>\n",
       "      <td>7/2/2012</td>\n",
       "      <td>00:00.0</td>\n",
       "      <td>...</td>\n",
       "      <td>Restaurants</td>\n",
       "      <td>4.0</td>\n",
       "      <td>0</td>\n",
       "      <td>0</td>\n",
       "      <td>0</td>\n",
       "      <td>16</td>\n",
       "      <td>2</td>\n",
       "      <td>3</td>\n",
       "      <td>789</td>\n",
       "      <td>N</td>\n",
       "    </tr>\n",
       "  </tbody>\n",
       "</table>\n",
       "<p>5 rows × 30 columns</p>\n",
       "</div>"
      ],
      "text/plain": [
       "                 reviewid              reviewerid              businessid  \\\n",
       "0                   LGCYk  KJmXsA1zFPH-n6r14JcYLw  SfRCNiCTPfGwzHEM_hCVZQ   \n",
       "1  GtwU21YOQn-wf4vWRUIx6w  bNYesZ944s6IJVowOnB0iA  pbEiXam9YJL3neCYHGwLUA   \n",
       "2                 0LpVTc3  TRKxLC3y-ZvP45e5iilMtw  pbEiXam9YJL3neCYHGwLUA   \n",
       "3        V0PU0ciEBeNiHHS1  -3Mzc2O6jmYLWQJcIJdvAA  pbEiXam9YJL3neCYHGwLUA   \n",
       "4  tOC0u8KRXVJdYT9mFTEwvw  lXG7Mbhi6_nXaTZojpneUg  pbEiXam9YJL3neCYHGwLUA   \n",
       "\n",
       "                                       reviewcontent  reviewrating  \\\n",
       "0  I came here with a group of people for a birth...             4   \n",
       "1  Unlike Next, which we'd eaten at the previous ...             5   \n",
       "2  Probably one of the best meals I've had ever. ...             5   \n",
       "3  Today marks one year since my dinner at Alinea...             5   \n",
       "4  Best restaurant I have ever visited in the Uni...             5   \n",
       "\n",
       "   reusefulcount  recoolcount  refunnycount reviewDate yelpjoindate   ...     \\\n",
       "0              0            0             0  4/30/2012      00:00.0   ...      \n",
       "1              0            0             0  9/22/2012      00:00.0   ...      \n",
       "2              0            0             0  9/22/2012      00:00.0   ...      \n",
       "3              1            1             0  9/11/2012      00:00.0   ...      \n",
       "4              0            0             0   7/2/2012      00:00.0   ...      \n",
       "\n",
       "      buscateg  pricerange  filreviewcount  monmembership  firstreview  \\\n",
       "0       Hotels         2.0               6             46            0   \n",
       "1  Restaurants         4.0               0             36            0   \n",
       "2  Restaurants         4.0               0             15            0   \n",
       "3  Restaurants         4.0               0             64            0   \n",
       "4  Restaurants         4.0               0              0            0   \n",
       "\n",
       "   maxReviewDay  avgReviewDay  avgpostedrating  avgreviewlen  flagged  \n",
       "0             7             1                3           711        N  \n",
       "1             6             1                3          1320        N  \n",
       "2             4             2                4           241        N  \n",
       "3             4             1                3          1108        N  \n",
       "4            16             2                3           789        N  \n",
       "\n",
       "[5 rows x 30 columns]"
      ]
     },
     "execution_count": 54,
     "metadata": {},
     "output_type": "execute_result"
    }
   ],
   "source": [
    "\n",
    "# I only chose review with flagged N an Y which mean non-filterd and filterd review.\n",
    "raw_data = raw_data.loc[(raw_data['flagged'] !='NR') & (raw_data['flagged']!='YR') ]\n",
    "raw_data.head(5)"
   ]
  },
  {
   "cell_type": "code",
   "execution_count": 55,
   "metadata": {},
   "outputs": [],
   "source": [
    "# Create a sample with 10000 observation with 50:50 fake and non-fake review.\n",
    "#df = raw_data.sample(5000).groupby('flagged').head(5000)\n",
    "fn = lambda obj: obj.loc[np.random.choice(obj.index, 5000, True),:]\n",
    "df = raw_data.groupby('flagged', as_index=False).apply(fn)\n",
    "df = shuffle(df)\n",
    "df.reset_index(drop=True, inplace=True)\n"
   ]
  },
  {
   "cell_type": "code",
   "execution_count": 57,
   "metadata": {
    "scrolled": true
   },
   "outputs": [
    {
     "data": {
      "text/html": [
       "<div>\n",
       "<style scoped>\n",
       "    .dataframe tbody tr th:only-of-type {\n",
       "        vertical-align: middle;\n",
       "    }\n",
       "\n",
       "    .dataframe tbody tr th {\n",
       "        vertical-align: top;\n",
       "    }\n",
       "\n",
       "    .dataframe thead th {\n",
       "        text-align: right;\n",
       "    }\n",
       "</style>\n",
       "<table border=\"1\" class=\"dataframe\">\n",
       "  <thead>\n",
       "    <tr style=\"text-align: right;\">\n",
       "      <th></th>\n",
       "      <th>flagged</th>\n",
       "      <th>buscateg</th>\n",
       "      <th>pricerange</th>\n",
       "      <th>firstreview</th>\n",
       "    </tr>\n",
       "  </thead>\n",
       "  <tbody>\n",
       "    <tr>\n",
       "      <th>0</th>\n",
       "      <td>Y</td>\n",
       "      <td>Restaurants</td>\n",
       "      <td>2.0</td>\n",
       "      <td>0</td>\n",
       "    </tr>\n",
       "    <tr>\n",
       "      <th>1</th>\n",
       "      <td>Y</td>\n",
       "      <td>Restaurants</td>\n",
       "      <td>3.0</td>\n",
       "      <td>0</td>\n",
       "    </tr>\n",
       "    <tr>\n",
       "      <th>2</th>\n",
       "      <td>Y</td>\n",
       "      <td>Restaurants</td>\n",
       "      <td>2.0</td>\n",
       "      <td>0</td>\n",
       "    </tr>\n",
       "    <tr>\n",
       "      <th>3</th>\n",
       "      <td>Y</td>\n",
       "      <td>Restaurants</td>\n",
       "      <td>2.0</td>\n",
       "      <td>0</td>\n",
       "    </tr>\n",
       "    <tr>\n",
       "      <th>4</th>\n",
       "      <td>Y</td>\n",
       "      <td>Restaurants</td>\n",
       "      <td>2.0</td>\n",
       "      <td>0</td>\n",
       "    </tr>\n",
       "    <tr>\n",
       "      <th>5</th>\n",
       "      <td>N</td>\n",
       "      <td>Restaurants</td>\n",
       "      <td>2.0</td>\n",
       "      <td>0</td>\n",
       "    </tr>\n",
       "    <tr>\n",
       "      <th>6</th>\n",
       "      <td>Y</td>\n",
       "      <td>Restaurants</td>\n",
       "      <td>1.0</td>\n",
       "      <td>0</td>\n",
       "    </tr>\n",
       "    <tr>\n",
       "      <th>7</th>\n",
       "      <td>N</td>\n",
       "      <td>Hotels</td>\n",
       "      <td>3.0</td>\n",
       "      <td>0</td>\n",
       "    </tr>\n",
       "    <tr>\n",
       "      <th>8</th>\n",
       "      <td>Y</td>\n",
       "      <td>Restaurants</td>\n",
       "      <td>2.0</td>\n",
       "      <td>0</td>\n",
       "    </tr>\n",
       "    <tr>\n",
       "      <th>9</th>\n",
       "      <td>N</td>\n",
       "      <td>Hotels</td>\n",
       "      <td>3.0</td>\n",
       "      <td>0</td>\n",
       "    </tr>\n",
       "  </tbody>\n",
       "</table>\n",
       "</div>"
      ],
      "text/plain": [
       "  flagged     buscateg  pricerange  firstreview\n",
       "0       Y  Restaurants         2.0            0\n",
       "1       Y  Restaurants         3.0            0\n",
       "2       Y  Restaurants         2.0            0\n",
       "3       Y  Restaurants         2.0            0\n",
       "4       Y  Restaurants         2.0            0\n",
       "5       N  Restaurants         2.0            0\n",
       "6       Y  Restaurants         1.0            0\n",
       "7       N       Hotels         3.0            0\n",
       "8       Y  Restaurants         2.0            0\n",
       "9       N       Hotels         3.0            0"
      ]
     },
     "execution_count": 57,
     "metadata": {},
     "output_type": "execute_result"
    }
   ],
   "source": [
    "df[['flagged','buscateg','pricerange','firstreview']].head(10)"
   ]
  },
  {
   "cell_type": "markdown",
   "metadata": {},
   "source": [
    "# 2 Summarise statistic <a class=\"anchor\" id=\"2nd-bullet\"></a>\n",
    "- proportion of fake and non fake in dataset\n",
    "- the corelation between \"flagged and other feature\""
   ]
  },
  {
   "cell_type": "markdown",
   "metadata": {},
   "source": [
    "## 2.1 Sumarize statistic"
   ]
  },
  {
   "cell_type": "code",
   "execution_count": 58,
   "metadata": {},
   "outputs": [
    {
     "name": "stdout",
     "output_type": "stream",
     "text": [
      "       reviewrating  reusefulcount  recoolcount  refunnycount  friendcount  \\\n",
      "count      10000.00       10000.00     10000.00      10000.00     10000.00   \n",
      "mean           3.78           0.45         0.27          0.25        32.04   \n",
      "std            1.31           1.63         1.34          1.28       165.98   \n",
      "min            1.00           0.00         0.00          0.00         0.00   \n",
      "25%            3.00           0.00         0.00          0.00         0.00   \n",
      "50%            4.00           0.00         0.00          0.00         1.00   \n",
      "75%            5.00           0.00         0.00          0.00        14.00   \n",
      "max            5.00          57.00        52.00         54.00      4924.00   \n",
      "\n",
      "       fancount  tipcount  reviewcount  firstcount  usefulcount      ...       \\\n",
      "count  10000.00  10000.00     10000.00    10000.00     10000.00      ...        \n",
      "mean       3.15      8.50        65.26        4.80       123.66      ...        \n",
      "std       19.61     45.32       163.48       25.21       690.61      ...        \n",
      "min        0.00      0.00         1.00        0.00         0.00      ...        \n",
      "25%        0.00      0.00         3.00        0.00         0.00      ...        \n",
      "50%        0.00      0.00        10.00        0.00         4.00      ...        \n",
      "75%        1.00      0.00        44.00        1.00        32.00      ...        \n",
      "max      556.00   1216.00      2530.00     1388.00     23034.00      ...        \n",
      "\n",
      "       funnycount  busrating  pricerange  filreviewcount  monmembership  \\\n",
      "count    10000.00   10000.00    10000.00        10000.00       10000.00   \n",
      "mean        73.13       3.89        2.32           45.63          12.31   \n",
      "std        503.74       0.33        0.68           59.27          15.67   \n",
      "min          0.00       1.00        1.00            0.00           0.00   \n",
      "25%          0.00       4.00        2.00            0.00           0.00   \n",
      "50%          1.00       4.00        2.00           14.00           5.00   \n",
      "75%         10.00       4.00        3.00           77.00          21.00   \n",
      "max      16952.00       4.50        4.00          241.00          82.00   \n",
      "\n",
      "       firstreview  maxReviewDay  avgReviewDay  avgpostedrating  avgreviewlen  \n",
      "count     10000.00      10000.00      10000.00         10000.00      10000.00  \n",
      "mean          0.00          6.17          2.04             3.29        646.36  \n",
      "std           0.03          7.25          2.10             0.92        437.71  \n",
      "min           0.00          1.00          1.00             1.00          1.00  \n",
      "25%           0.00          2.00          1.00             3.00        348.00  \n",
      "50%           0.00          4.00          1.00             3.00        547.50  \n",
      "75%           0.00          8.00          2.00             4.00        835.25  \n",
      "max           1.00         90.00         46.00             5.00       4977.00  \n",
      "\n",
      "[8 rows x 22 columns]\n"
     ]
    },
    {
     "data": {
      "text/plain": [
       "reviewid           0\n",
       "reviewerid         0\n",
       "businessid         0\n",
       "reviewcontent      0\n",
       "reviewrating       0\n",
       "reusefulcount      0\n",
       "recoolcount        0\n",
       "refunnycount       0\n",
       "reviewDate         0\n",
       "yelpjoindate       0\n",
       "friendcount        0\n",
       "fancount           0\n",
       "tipcount           0\n",
       "reviewcount        0\n",
       "firstcount         0\n",
       "usefulcount        0\n",
       "coolcount          0\n",
       "complimentcount    0\n",
       "funnycount         0\n",
       "busrating          0\n",
       "buscateg           0\n",
       "pricerange         0\n",
       "filreviewcount     0\n",
       "monmembership      0\n",
       "firstreview        0\n",
       "maxReviewDay       0\n",
       "avgReviewDay       0\n",
       "avgpostedrating    0\n",
       "avgreviewlen       0\n",
       "flagged            0\n",
       "dtype: int64"
      ]
     },
     "execution_count": 58,
     "metadata": {},
     "output_type": "execute_result"
    }
   ],
   "source": [
    "# Summarize statistic\n",
    "print(round(df.describe(),2))\n",
    "df.isna().sum()"
   ]
  },
  {
   "cell_type": "code",
   "execution_count": 59,
   "metadata": {},
   "outputs": [],
   "source": [
    "df['pricerange'] = df['pricerange'].fillna(0.0)"
   ]
  },
  {
   "cell_type": "code",
   "execution_count": 60,
   "metadata": {},
   "outputs": [
    {
     "name": "stdout",
     "output_type": "stream",
     "text": [
      "Y    5000\n",
      "N    5000\n",
      "Name: flagged, dtype: int64\n",
      "% filtered reviews: 50.0\n",
      "% non-filtered reviews: 50.0\n"
     ]
    }
   ],
   "source": [
    "# checking data distribution\n",
    "Y = df['flagged']\n",
    "\n",
    "print(Y.value_counts())\n",
    "\n",
    "print('% filtered reviews: {}'.format(round(Y.value_counts()[0]/len(Y)*100),3))\n",
    "print('% non-filtered reviews: {}'.format(round(Y.value_counts()[1]/len(Y)*100),2))"
   ]
  },
  {
   "cell_type": "code",
   "execution_count": 2,
   "metadata": {},
   "outputs": [],
   "source": [
    "#Export dataset to CSV file \n",
    "#df.to_csv('sampleof10k.csv')"
   ]
  },
  {
   "cell_type": "markdown",
   "metadata": {},
   "source": [
    "# 3. Data Preprocessing  <a class=\"anchor\" id=\"3rd-bullet\"></a>\n",
    "## 3.1 Textual Data Cleaning\n",
    "\n",
    "steps:\n",
    "- text feature genereate: \n",
    "    - n-gram\n",
    "    - Part of Spech\n",
    "    - TF-IDF\n",
    "    - Cosine Similarity\n",
    "- sentiment analysis\n",
    "\n"
   ]
  },
  {
   "cell_type": "code",
   "execution_count": 61,
   "metadata": {},
   "outputs": [],
   "source": [
    "from sklearn.preprocessing import LabelEncoder"
   ]
  },
  {
   "cell_type": "code",
   "execution_count": 3,
   "metadata": {},
   "outputs": [
    {
     "ename": "NameError",
     "evalue": "name 'df' is not defined",
     "output_type": "error",
     "traceback": [
      "\u001b[1;31m---------------------------------------------------------------------------\u001b[0m",
      "\u001b[1;31mNameError\u001b[0m                                 Traceback (most recent call last)",
      "\u001b[1;32m<ipython-input-3-ea1df27c4883>\u001b[0m in \u001b[0;36m<module>\u001b[1;34m\u001b[0m\n\u001b[0;32m      1\u001b[0m \u001b[1;31m# store the review content and non-text features to diff dataframe\u001b[0m\u001b[1;33m\u001b[0m\u001b[1;33m\u001b[0m\u001b[0m\n\u001b[1;32m----> 2\u001b[1;33m \u001b[0mdf\u001b[0m\u001b[1;33m[\u001b[0m\u001b[1;34m'flagged'\u001b[0m\u001b[1;33m]\u001b[0m \u001b[1;33m=\u001b[0m \u001b[0mdf\u001b[0m\u001b[1;33m[\u001b[0m\u001b[1;34m'flagged'\u001b[0m\u001b[1;33m]\u001b[0m\u001b[1;33m.\u001b[0m\u001b[0mastype\u001b[0m\u001b[1;33m(\u001b[0m\u001b[1;34m'category'\u001b[0m\u001b[1;33m)\u001b[0m\u001b[1;33m\u001b[0m\u001b[0m\n\u001b[0m\u001b[0;32m      3\u001b[0m \u001b[0mdf\u001b[0m\u001b[1;33m[\u001b[0m\u001b[1;34m'buscateg'\u001b[0m\u001b[1;33m]\u001b[0m \u001b[1;33m=\u001b[0m \u001b[0mdf\u001b[0m\u001b[1;33m[\u001b[0m\u001b[1;34m'buscateg'\u001b[0m\u001b[1;33m]\u001b[0m\u001b[1;33m.\u001b[0m\u001b[0mastype\u001b[0m\u001b[1;33m(\u001b[0m\u001b[1;34m'category'\u001b[0m\u001b[1;33m)\u001b[0m\u001b[1;33m\u001b[0m\u001b[0m\n\u001b[0;32m      4\u001b[0m \u001b[0mdf\u001b[0m\u001b[1;33m[\u001b[0m\u001b[1;34m'pricerange'\u001b[0m\u001b[1;33m]\u001b[0m \u001b[1;33m=\u001b[0m \u001b[0mdf\u001b[0m\u001b[1;33m[\u001b[0m\u001b[1;34m'pricerange'\u001b[0m\u001b[1;33m]\u001b[0m\u001b[1;33m.\u001b[0m\u001b[0mastype\u001b[0m\u001b[1;33m(\u001b[0m\u001b[1;34m'category'\u001b[0m\u001b[1;33m)\u001b[0m\u001b[1;33m\u001b[0m\u001b[0m\n\u001b[0;32m      5\u001b[0m \u001b[0mdf\u001b[0m\u001b[1;33m[\u001b[0m\u001b[1;34m'firstreview'\u001b[0m\u001b[1;33m]\u001b[0m \u001b[1;33m=\u001b[0m \u001b[0mdf\u001b[0m\u001b[1;33m[\u001b[0m\u001b[1;34m'firstreview'\u001b[0m\u001b[1;33m]\u001b[0m\u001b[1;33m.\u001b[0m\u001b[0mastype\u001b[0m\u001b[1;33m(\u001b[0m\u001b[1;34m'category'\u001b[0m\u001b[1;33m)\u001b[0m\u001b[1;33m\u001b[0m\u001b[0m\n",
      "\u001b[1;31mNameError\u001b[0m: name 'df' is not defined"
     ]
    }
   ],
   "source": [
    "# store the review content and non-text features to diff dataframe\n",
    "df['flagged'] = df['flagged'].astype('category')\n",
    "df['buscateg'] = df['buscateg'].astype('category')\n",
    "df['pricerange'] = df['pricerange'].astype('category')\n",
    "df['firstreview'] = df['firstreview'].astype('category')\n",
    "\n",
    "\n",
    "review_content = df['reviewcontent']\n",
    "behavior_attr = df[['reviewrating',\n",
    "                    'reusefulcount',\n",
    "                    'recoolcount',\n",
    "                    'refunnycount',\n",
    "                    'friendcount',\n",
    "                    'fancount',\n",
    "                    'tipcount',\n",
    "                    'reviewcount',\n",
    "                    'firstcount',\n",
    "                    'usefulcount',\n",
    "                    'coolcount',\n",
    "                    'complimentcount',\n",
    "                    'funnycount',\n",
    "                    'busrating',\n",
    "                    'buscateg',\n",
    "                    'pricerange',\n",
    "                    'monmembership',\n",
    "                    'firstreview',\n",
    "                    'maxReviewDay',\n",
    "                    'avgReviewDay',\n",
    "                    'avgpostedrating',\n",
    "                    'avgreviewlen'\n",
    "                    ]]\n",
    "\n",
    "# replace NaN with space\n",
    "review_content = review_content.fillna('')\n",
    "\n",
    "\n",
    "\n",
    "# convert class labels to binary values, 0 = ham and 1 = spam\n",
    "encoder = LabelEncoder()\n",
    "Y = encoder.fit_transform(df['flagged'])\n",
    "\n",
    "behavior_attr['buscateg'] =  encoder.fit_transform(behavior_attr['buscateg'])\n",
    "behavior_attr['pricerange'] = encoder.fit_transform(behavior_attr['pricerange'])\n",
    "behavior_attr['firstreview'] = encoder.fit_transform(behavior_attr['firstreview'])\n",
    "\n",
    "print(review_content[:10])"
   ]
  },
  {
   "cell_type": "code",
   "execution_count": 63,
   "metadata": {},
   "outputs": [],
   "source": [
    "# use regular expressions to replace email address, URLs, Phone numbers, other numbers\n",
    "\n",
    "# Replace email addresses with 'email'\n",
    "processed = review_content.str.replace(r'^.+@[^\\.].*\\.[a-z]{2,}$',\n",
    "                                      'emailaddress')\n",
    "\n",
    "# Replace URLs with 'webaddress'\n",
    "processed = processed.str.replace(r'^http\\://[a-zA-Z0-9\\-\\.]+\\.[a-zA-Z]{2,3}(/\\S*)?$',\n",
    "                                   'webaddress')\n",
    "\n",
    "# Replace moneu symbols with 'moneysymb' (€,£)\n",
    "processed = processed.str.replace(r'€|\\$|£', 'moneysymb')\n",
    "\n",
    "# replace 10 digit phone numbers (formats include paranthesis, space, no space, dashes) with phonenumber\n",
    "processed = processed.str.replace(r'^\\(?[\\d]{3}\\)?[\\s-]?[\\d]{3}[\\s-]?[\\d]{4}$',\n",
    "                                 'phonenumber')\n",
    "\n",
    "#replace numbers with 'number'\n",
    "processed = processed.str.replace(r'\\d+(\\.\\d+)?','number')"
   ]
  },
  {
   "cell_type": "code",
   "execution_count": 64,
   "metadata": {},
   "outputs": [],
   "source": [
    "# Remove Punctuation\n",
    "processed = processed.str.replace(r'[^\\w\\d\\s]', ' ')\n",
    "\n",
    "# replace whitespac between terms with a single space\n",
    "processed = processed.str.replace(r'\\s+',' ') \n",
    "\n",
    "# remove leading and trailing whitespace\n",
    "processed = processed.str.replace(r'^\\s+|\\s+?$','')"
   ]
  },
  {
   "cell_type": "code",
   "execution_count": 65,
   "metadata": {},
   "outputs": [
    {
     "name": "stdout",
     "output_type": "stream",
     "text": [
      "0       the food is hit or miss and with great breakfa...\n",
      "1       great servie and great food my gf and i have b...\n",
      "2       i had dinner here this place is amazing i had ...\n",
      "3       good food but service needs to learn english w...\n",
      "4                             great place incredible food\n",
      "5       came here for my birthday this year and of cou...\n",
      "6       just ordered our first delivery pizza thru fog...\n",
      "7       number stars we stayed here for three nights o...\n",
      "8       if you can appreciate a really good burger the...\n",
      "9       i have stayed here number times in the past nu...\n",
      "10      this place seriously never disappoints we came...\n",
      "11      amazing comfort food not too expensive for the...\n",
      "12      i had the trio steak en tree with the differen...\n",
      "13      the atmosphere is very romantic with low light...\n",
      "14      super sad because i found this bakery just a f...\n",
      "15      went for sunday brunch and sat outside on thei...\n",
      "16      this place is definitely somewhere you should ...\n",
      "17      the owner for piece takes his business and ser...\n",
      "18      visited shaw s crab house twice when i was in ...\n",
      "19      i ve live in the neighborhood and have been wa...\n",
      "20      it s been two years now and slowly i m becomin...\n",
      "21      needs help the first room did not have a bath ...\n",
      "22      this is a great little italian restaurant that...\n",
      "23      very tasty fresh food with a good wine selecti...\n",
      "24      if whole foods trader joes and a local farmer ...\n",
      "25      over hyped over priced nice selection but that...\n",
      "26      this place is definitely fresh fresh fresh as ...\n",
      "27      have you ever had a mediocre meal and vowed to...\n",
      "28      this place is fantastic the beer selection is ...\n",
      "29      excellent location obviously and the shared ar...\n",
      "                              ...                        \n",
      "9970    i ve lived down the street for two years now p...\n",
      "9971    pizza pizza yum yum yum love this cute sy plac...\n",
      "9972    if you are looking for old world class and a f...\n",
      "9973    what is not to like about anteprima a friendly...\n",
      "9974    first time at the grand lux my best friend and...\n",
      "9975    this was great and moneysymbnumber for the thr...\n",
      "9976    spectacular best bbq place i ve been in chicag...\n",
      "9977    our room was lovely and the view was fantastic...\n",
      "9978            yup it s as good as everyone thinks it is\n",
      "9979    i ve eaten here several times for brunch and d...\n",
      "9980    fogo is absolutely amazing and the staff is ve...\n",
      "9981    the food at this restaurant is pretty good unf...\n",
      "9982    this place is delicious a little noisy but wor...\n",
      "9983    my favorite persian restaurant good food servi...\n",
      "9984    omg i love it there the food is so good the pe...\n",
      "9985    i hadn t been to this place since number when ...\n",
      "9986    we stay at this hotel several times a year as ...\n",
      "9987    part of me wants to give this resto five stars...\n",
      "9988    this review is a bit biased it was my birthday...\n",
      "9989    went to hopleaf on a date a few weeks ago and ...\n",
      "9990    date seating time i went with a group of numbe...\n",
      "9991    its tasty especially the veggies decor is cool...\n",
      "9992    absolutely one of the chicagoland s classic ho...\n",
      "9993    vegans here s a pizza for you we are big fans ...\n",
      "9994    the food here was amazing my husband and i too...\n",
      "9995    i had brunch here today enjoyed the decor food...\n",
      "9996    first off i would like to comment on the great...\n",
      "9997                one of chicago s best new restaurants\n",
      "9998    the atmosphere at indie cafe is really very pl...\n",
      "9999    late evening of july number number i took my e...\n",
      "Name: reviewcontent, Length: 10000, dtype: object\n"
     ]
    }
   ],
   "source": [
    "# change words to lower case\n",
    "processed = processed.str.lower()\n",
    "print(processed)"
   ]
  },
  {
   "cell_type": "code",
   "execution_count": 66,
   "metadata": {},
   "outputs": [],
   "source": [
    "# remove stopwords from review\n",
    "from nltk.corpus import stopwords\n",
    "\n",
    "stop_words = set(stopwords.words('english'))\n",
    "\n",
    "processed = processed.apply(lambda x: ' '.join(\n",
    "            term for term in x.split() if term not in stop_words))"
   ]
  },
  {
   "cell_type": "code",
   "execution_count": 67,
   "metadata": {},
   "outputs": [
    {
     "name": "stdout",
     "output_type": "stream",
     "text": [
      "0       food hit miss great breakfast places city swee...\n",
      "1       great servie great food gf sunda couple times ...\n",
      "2       dinner place amazing best yummiest indian food...\n",
      "3       good food service needs learn english came che...\n",
      "4                             great place incredible food\n",
      "5       came birthday year course disappointed deal sc...\n",
      "6       ordered first delivery pizza thru fogo deliver...\n",
      "7       number stars stayed three nights recent trip c...\n",
      "8       appreciate really good burger absolutely enjoy...\n",
      "9       stayed number times past number days thoroughl...\n",
      "10      place seriously never disappoints came friday ...\n",
      "11      amazing comfort food expensive gold coast thin...\n",
      "12      trio steak en tree different crust topping rec...\n",
      "13      atmosphere romantic low lighting nice music pl...\n",
      "14      super sad found bakery months moved addicted m...\n",
      "15      went sunday brunch sat outside nice patio back...\n",
      "16      place definitely somewhere go great conversati...\n",
      "17      owner piece takes business service seriously r...\n",
      "18      visited shaw crab house twice chicago reason s...\n",
      "19      live neighborhood wanting try place went long ...\n",
      "20      two years slowly becoming expert downtown chic...\n",
      "21      needs help first room bath tub second room ree...\n",
      "22      great little italian restaurant gets busy earl...\n",
      "23      tasty fresh food good wine selection servers s...\n",
      "24      whole foods trader joes local farmer raises co...\n",
      "25      hyped priced nice selection noisey took along ...\n",
      "26      place definitely fresh fresh fresh someone els...\n",
      "27      ever mediocre meal vowed never return wanted s...\n",
      "28      place fantastic beer selection extensive well ...\n",
      "29      excellent location obviously shared areas pret...\n",
      "                              ...                        \n",
      "9970    lived street two years passed place many times...\n",
      "9971    pizza pizza yum yum yum love cute sy place hea...\n",
      "9972    looking old world class fabulous entry impress...\n",
      "9973    like anteprima friendly neighborhood restauran...\n",
      "9974    first time grand lux best friend went dinner l...\n",
      "9975    great moneysymbnumber three five courses reall...\n",
      "9976    spectacular best bbq place chicago doubt numbe...\n",
      "9977    room lovely view fantastic hotel concierge sua...\n",
      "9978                             yup good everyone thinks\n",
      "9979    eaten several times brunch dinner want overdo ...\n",
      "9980    fogo absolutely amazing staff friendly absolut...\n",
      "9981    food restaurant pretty good unfortunately fact...\n",
      "9982    place delicious little noisy worth food compla...\n",
      "9983    favorite persian restaurant good food service ...\n",
      "9984       omg love food good people work sweet love much\n",
      "9985    place since number last lived chicago staying ...\n",
      "9986    stay hotel several times year quick overnight ...\n",
      "9987    part wants give resto five stars part wants gi...\n",
      "9988    review bit biased birthday number number numbe...\n",
      "9989    went hopleaf date weeks ago really impressed g...\n",
      "9990    date seating time went group number friday apr...\n",
      "9991    tasty especially veggies decor cool nice atmos...\n",
      "9992    absolutely one chicagoland classic hotdog spot...\n",
      "9993    vegans pizza big fans art vegetarian stuffed c...\n",
      "9994    food amazing husband took sons one sons birthd...\n",
      "9995    brunch today enjoyed decor food service wish w...\n",
      "9996    first would like comment great space fact use ...\n",
      "9997                     one chicago best new restaurants\n",
      "9998    atmosphere indie cafe really pleasant usually ...\n",
      "9999    late evening july number number took european ...\n",
      "Name: reviewcontent, Length: 10000, dtype: object\n"
     ]
    }
   ],
   "source": [
    "print(processed)"
   ]
  },
  {
   "cell_type": "code",
   "execution_count": 68,
   "metadata": {},
   "outputs": [],
   "source": [
    "# remove word stems using a Porter stemmer\n",
    "ps = nltk.PorterStemmer()\n",
    "\n",
    "processed = processed.apply(lambda x: ' '.join(\n",
    "            ps.stem(term) for term in x.split()))\n"
   ]
  },
  {
   "cell_type": "code",
   "execution_count": 69,
   "metadata": {},
   "outputs": [],
   "source": [
    "#processed.to_csv('processed_content.csv', header ='review_content')"
   ]
  },
  {
   "cell_type": "markdown",
   "metadata": {},
   "source": [
    "# 4 Generate Text features\n"
   ]
  },
  {
   "cell_type": "markdown",
   "metadata": {},
   "source": [
    "## 4.1 Part of Speech"
   ]
  },
  {
   "cell_type": "code",
   "execution_count": 4,
   "metadata": {
    "scrolled": true
   },
   "outputs": [
    {
     "ename": "NameError",
     "evalue": "name 'nltk' is not defined",
     "output_type": "error",
     "traceback": [
      "\u001b[1;31m---------------------------------------------------------------------------\u001b[0m",
      "\u001b[1;31mNameError\u001b[0m                                 Traceback (most recent call last)",
      "\u001b[1;32m<ipython-input-4-ab051f735874>\u001b[0m in \u001b[0;36m<module>\u001b[1;34m\u001b[0m\n\u001b[0;32m      2\u001b[0m \u001b[1;33m\u001b[0m\u001b[0m\n\u001b[0;32m      3\u001b[0m \u001b[1;32mfrom\u001b[0m \u001b[0mnltk\u001b[0m \u001b[1;32mimport\u001b[0m \u001b[0mword_tokenize\u001b[0m\u001b[1;33m,\u001b[0m \u001b[0mpos_tag\u001b[0m\u001b[1;33m\u001b[0m\u001b[0m\n\u001b[1;32m----> 4\u001b[1;33m \u001b[0mnltk\u001b[0m\u001b[1;33m.\u001b[0m\u001b[0mdownload\u001b[0m\u001b[1;33m(\u001b[0m\u001b[1;34m'punkt'\u001b[0m\u001b[1;33m)\u001b[0m\u001b[1;33m\u001b[0m\u001b[0m\n\u001b[0m\u001b[0;32m      5\u001b[0m \u001b[0mnltk\u001b[0m\u001b[1;33m.\u001b[0m\u001b[0mdownload\u001b[0m\u001b[1;33m(\u001b[0m\u001b[1;34m'averaged_perceptron_tagger'\u001b[0m\u001b[1;33m)\u001b[0m\u001b[1;33m\u001b[0m\u001b[0m\n\u001b[0;32m      6\u001b[0m \u001b[1;33m\u001b[0m\u001b[0m\n",
      "\u001b[1;31mNameError\u001b[0m: name 'nltk' is not defined"
     ]
    }
   ],
   "source": [
    "# create part of speech represents of review content\n",
    "\n",
    "from nltk import word_tokenize, pos_tag\n",
    "nltk.download('punkt')\n",
    "nltk.download('averaged_perceptron_tagger')\n",
    "\n",
    "#tokenized review into word\n",
    "#word_tok = processed.apply(word_tokenize)\n",
    "#print(word_tok.head(10))\n"
   ]
  },
  {
   "cell_type": "code",
   "execution_count": 81,
   "metadata": {},
   "outputs": [],
   "source": [
    "# [('I', 'PRP'), (\"'m\", 'VBP'), ('learning', 'VBG'), ('NLP', 'NNP')]\n",
    "pos = processed.apply(word_tokenize).apply(pos_tag)"
   ]
  },
  {
   "cell_type": "code",
   "execution_count": 82,
   "metadata": {},
   "outputs": [],
   "source": [
    "for i, sent in enumerate(pos):\n",
    "    pos[i] =' '.join([word + '_' + postag for word, postag in sent])"
   ]
  },
  {
   "cell_type": "code",
   "execution_count": 83,
   "metadata": {},
   "outputs": [
    {
     "name": "stdout",
     "output_type": "stream",
     "text": [
      "0    food_NN hit_VBD miss_JJ great_JJ breakfast_NN ...\n",
      "1    great_JJ servie_NN great_JJ food_NN gf_NN sund...\n",
      "2    dinner_NN place_NN amazing_VBG best_JJS yummie...\n",
      "3    good_JJ food_NN service_NN needs_VBZ learn_JJ ...\n",
      "4              great_JJ place_NN incredible_JJ food_NN\n",
      "5    came_VBD birthday_JJ year_NN course_NN disappo...\n",
      "6    ordered_VBN first_JJ delivery_NN pizza_NN thru...\n",
      "7    number_NN stars_NNS stayed_VBD three_CD nights...\n",
      "8    appreciate_NN really_RB good_JJ burger_NN abso...\n",
      "9    stayed_VBN number_NN times_NNS past_JJ number_...\n",
      "Name: reviewcontent, dtype: object\n"
     ]
    }
   ],
   "source": [
    "print(pos[:10])\n"
   ]
  },
  {
   "cell_type": "markdown",
   "metadata": {},
   "source": [
    "## 4.2 Cosine Similarity\n"
   ]
  },
  {
   "cell_type": "code",
   "execution_count": 84,
   "metadata": {},
   "outputs": [],
   "source": [
    "# ML Packages For Vectorization of Text For Feature Extraction\n",
    "from sklearn.feature_extraction.text import CountVectorizer\n",
    "from sklearn.feature_extraction.text import TfidfVectorizer\n",
    "from sklearn.metrics.pairwise import cosine_similarity"
   ]
  },
  {
   "cell_type": "markdown",
   "metadata": {},
   "source": [
    "### a. Cosine Similarity by N-grams"
   ]
  },
  {
   "cell_type": "code",
   "execution_count": 85,
   "metadata": {},
   "outputs": [],
   "source": [
    "corpus = processed\n",
    "# using Uni-gram because bi-gram or trigram take too long to generate, but did show difference between reviews\n",
    "#cv = CountVectorizer(analyzer='word', ngram_range=(2, 2))\n",
    "#X_cv = cv.fit_transform(corpus) # Fit the Data\n",
    "\n",
    "# create fi-idf vector\n",
    "tfidf = TfidfVectorizer(analyzer='word', ngram_range=(1,1)) # create tf-idf vector based unigram, Range(1,1) mean n =[1,1]\n",
    "#X_tfidf= tfidf.fit_transform(corpus)"
   ]
  },
  {
   "cell_type": "code",
   "execution_count": 86,
   "metadata": {},
   "outputs": [],
   "source": [
    "# create cosine similarity by tf-idf vector\n",
    "CS_similarity_bigram =cosine_similarity(tfidf.fit_transform(corpus))"
   ]
  },
  {
   "cell_type": "code",
   "execution_count": 87,
   "metadata": {},
   "outputs": [
    {
     "data": {
      "text/plain": [
       "(10000, 10000)"
      ]
     },
     "execution_count": 87,
     "metadata": {},
     "output_type": "execute_result"
    }
   ],
   "source": [
    "# get the feature shape\n",
    "CS_similarity_bigram.shape"
   ]
  },
  {
   "cell_type": "code",
   "execution_count": 88,
   "metadata": {
    "scrolled": true
   },
   "outputs": [
    {
     "data": {
      "text/plain": [
       "array([[1.        , 0.02315172, 0.00876211, ..., 0.        , 0.036431  ,\n",
       "        0.04300472],\n",
       "       [0.02315172, 1.        , 0.0493819 , ..., 0.01959317, 0.06073143,\n",
       "        0.0817795 ],\n",
       "       [0.00876211, 0.0493819 , 1.        , ..., 0.03960129, 0.01299416,\n",
       "        0.02687792],\n",
       "       ...,\n",
       "       [0.        , 0.01959317, 0.03960129, ..., 1.        , 0.03709863,\n",
       "        0.04238176],\n",
       "       [0.036431  , 0.06073143, 0.01299416, ..., 0.03709863, 1.        ,\n",
       "        0.03819221],\n",
       "       [0.04300472, 0.0817795 , 0.02687792, ..., 0.04238176, 0.03819221,\n",
       "        1.        ]])"
      ]
     },
     "execution_count": 88,
     "metadata": {},
     "output_type": "execute_result"
    }
   ],
   "source": [
    "CS_similarity_bigram"
   ]
  },
  {
   "cell_type": "code",
   "execution_count": 89,
   "metadata": {},
   "outputs": [],
   "source": [
    "#del CS_similarity_bigram"
   ]
  },
  {
   "cell_type": "markdown",
   "metadata": {},
   "source": [
    "### b. Cosine Similarity by Part of Speech"
   ]
  },
  {
   "cell_type": "code",
   "execution_count": 90,
   "metadata": {
    "scrolled": false
   },
   "outputs": [],
   "source": [
    "corpus = pos\n",
    "# create fi-idf vector base on POS\n",
    "tfidf = TfidfVectorizer(analyzer='word', ngram_range=(1, 1))\n",
    "pos_tfidf= tfidf.fit_transform(corpus)\n",
    "\n",
    "#print(pos_tfidf.shape)"
   ]
  },
  {
   "cell_type": "code",
   "execution_count": 91,
   "metadata": {},
   "outputs": [
    {
     "data": {
      "text/plain": [
       "['______nnp',\n",
       " '__nn',\n",
       " '__nnp',\n",
       " '_number_nnp',\n",
       " 'aa_vb',\n",
       " 'aaa_jj',\n",
       " 'aaa_nn',\n",
       " 'aaaaah_nn',\n",
       " 'aaaand_nn',\n",
       " 'aaah_jj',\n",
       " 'aaargh_in',\n",
       " 'aacckkk_nn',\n",
       " 'aagain_jj',\n",
       " 'aahs_nn',\n",
       " 'aak_rb',\n",
       " 'aaron_nn',\n",
       " 'aaron_vbp',\n",
       " 'aback_nn',\n",
       " 'aback_rb',\n",
       " 'aback_rp',\n",
       " 'abandoned_jj',\n",
       " 'abandoned_vbn',\n",
       " 'abbey_jj',\n",
       " 'abby_nn',\n",
       " 'abeba_nn',\n",
       " 'aberration_nn',\n",
       " 'abide_in',\n",
       " 'abide_rb',\n",
       " 'abide_vb',\n",
       " 'abilities_nns',\n",
       " 'ability_nn',\n",
       " 'abinthe_nn',\n",
       " 'abismal_jj',\n",
       " 'abit_nn',\n",
       " 'abit_rb',\n",
       " 'able_jj',\n",
       " 'abnormal_jj',\n",
       " 'abnormal_nn',\n",
       " 'abolutely_rb',\n",
       " 'abominable_jj',\n",
       " 'abominations_nns',\n",
       " 'aborted_vbd',\n",
       " 'aboslute_nn',\n",
       " 'abound_vbp',\n",
       " 'aboutthat_rb',\n",
       " 'abovementioned_vbn',\n",
       " 'abra_in',\n",
       " 'abrasive_jj',\n",
       " 'abrazo_nn',\n",
       " 'abridged_vbn',\n",
       " 'abroad_rb',\n",
       " 'abrupt_jj',\n",
       " 'abruptly_rb',\n",
       " 'abs_jj',\n",
       " 'absconded_vbd',\n",
       " 'absence_nn',\n",
       " 'absent_jj',\n",
       " 'absentee_jj',\n",
       " 'absinthe_jj',\n",
       " 'absinthe_nn',\n",
       " 'absoloutely_rb',\n",
       " 'absolut_nn',\n",
       " 'absolute_jj',\n",
       " 'absolute_nn',\n",
       " 'absolute_vbp',\n",
       " 'absolutely_rb',\n",
       " 'absolutly_rb',\n",
       " 'absorb_jj',\n",
       " 'absorb_nn',\n",
       " 'absorb_rb',\n",
       " 'absorbed_vbn',\n",
       " 'absorbing_vbg',\n",
       " 'absoultely_rb',\n",
       " 'abstinence_nn',\n",
       " 'abstract_jj',\n",
       " 'absurd_jj',\n",
       " 'absurd_nn',\n",
       " 'absurdly_rb',\n",
       " 'abt_jj',\n",
       " 'abu_nn',\n",
       " 'abuela_nns',\n",
       " 'abundance_jj',\n",
       " 'abundance_nn',\n",
       " 'abundance_rb',\n",
       " 'abundant_jj',\n",
       " 'abundantly_rb',\n",
       " 'abuse_in',\n",
       " 'abuse_nn',\n",
       " 'abused_jj',\n",
       " 'abut_jj',\n",
       " 'abut_rb',\n",
       " 'abv_jj',\n",
       " 'abysmal_jj',\n",
       " 'abysmal_nn',\n",
       " 'ac_in',\n",
       " 'ac_jj',\n",
       " 'ac_nn',\n",
       " 'ac_rb',\n",
       " 'ac_rp',\n",
       " 'ac_vbp',\n",
       " 'acapulco_vbp',\n",
       " 'accanto_in',\n",
       " 'acccomodating_vbg',\n",
       " 'accent_jj',\n",
       " 'accent_nn',\n",
       " 'accented_vbd',\n",
       " 'accented_vbn',\n",
       " 'accenting_vbg',\n",
       " 'accents_nns',\n",
       " 'accents_vbz',\n",
       " 'accentuate_nn',\n",
       " 'accentuated_vbd',\n",
       " 'accentuating_vbg',\n",
       " 'accept_in',\n",
       " 'accept_jj',\n",
       " 'accept_nn',\n",
       " 'accept_rp',\n",
       " 'accept_vbd',\n",
       " 'accept_vbp',\n",
       " 'acceptability_nn',\n",
       " 'acceptable_jj',\n",
       " 'acceptable_vb',\n",
       " 'accepted_vb',\n",
       " 'accepted_vbd',\n",
       " 'accepted_vbn',\n",
       " 'accepting_vbg',\n",
       " 'accepts_nns',\n",
       " 'access_nn',\n",
       " 'accessable_jj',\n",
       " 'accessed_vbd',\n",
       " 'accessible_jj',\n",
       " 'accessory_nn',\n",
       " 'accident_jj',\n",
       " 'accident_nn',\n",
       " 'accident_vbp',\n",
       " 'accidental_jj',\n",
       " 'accidental_nn',\n",
       " 'accidentally_rb',\n",
       " 'accidently_rb',\n",
       " 'accidents_nns',\n",
       " 'acclaimed_jj',\n",
       " 'accolades_in',\n",
       " 'accolades_jj',\n",
       " 'accolades_nns',\n",
       " 'accomadating_vbg',\n",
       " 'accomidated_vbd',\n",
       " 'accomidating_vbg',\n",
       " 'accommodate_jj',\n",
       " 'accommodate_nn',\n",
       " 'accommodate_rb',\n",
       " 'accommodate_vb',\n",
       " 'accommodate_vbp',\n",
       " 'accommodated_vbd',\n",
       " 'accommodated_vbn',\n",
       " 'accommodates_nns',\n",
       " 'accommodates_vbz',\n",
       " 'accommodating_nn',\n",
       " 'accommodating_vbg',\n",
       " 'accommodation_nn',\n",
       " 'accommodations_nns',\n",
       " 'accomodate_jj',\n",
       " 'accomodate_nn',\n",
       " 'accomodate_vbp',\n",
       " 'accomodated_jj',\n",
       " 'accomodated_vbd',\n",
       " 'accomodating_nn',\n",
       " 'accomodating_vb',\n",
       " 'accomodating_vbg',\n",
       " 'accomodation_nn',\n",
       " 'accomodations_nns',\n",
       " 'accompanied_jj',\n",
       " 'accompanied_vbd',\n",
       " 'accompanied_vbn',\n",
       " 'accompanies_nns',\n",
       " 'accompaniment_jj',\n",
       " 'accompaniment_nn',\n",
       " 'accompaniments_nns',\n",
       " 'accompaning_vbg',\n",
       " 'accompany_in',\n",
       " 'accompany_jj',\n",
       " 'accompany_nn',\n",
       " 'accompany_rp',\n",
       " 'accompany_vb',\n",
       " 'accompany_vbp',\n",
       " 'accompanying_vbg',\n",
       " 'accompanyment_nn',\n",
       " 'accomplish_jj',\n",
       " 'accomplish_vb',\n",
       " 'accomplished_vb',\n",
       " 'accomplished_vbn',\n",
       " 'accomplishes_vbz',\n",
       " 'accomplishing_vbg',\n",
       " 'accomplishment_jj',\n",
       " 'accomplishment_nn',\n",
       " 'accord_jj',\n",
       " 'accord_nn',\n",
       " 'accordance_nn',\n",
       " 'accordian_jj',\n",
       " 'according_vbg',\n",
       " 'accordingly_rb',\n",
       " 'accordion_nn',\n",
       " 'account_jj',\n",
       " 'account_nn',\n",
       " 'account_vbp',\n",
       " 'accountants_nns',\n",
       " 'accounted_vbd',\n",
       " 'accounting_nn',\n",
       " 'accounting_vbg',\n",
       " 'accountingtwo_nn',\n",
       " 'accounts_nns',\n",
       " 'accouterments_nns',\n",
       " 'accoutrement_nn',\n",
       " 'accoutrements_nns',\n",
       " 'accridited_vbn',\n",
       " 'accross_in',\n",
       " 'accuracy_nn',\n",
       " 'accurate_jj',\n",
       " 'accurate_nn',\n",
       " 'accurate_vbp',\n",
       " 'accurately_rb',\n",
       " 'accused_vbd',\n",
       " 'accusing_vbg',\n",
       " 'accustomed_vbd',\n",
       " 'accustomed_vbn',\n",
       " 'ace_nn',\n",
       " 'achatz_in',\n",
       " 'achatz_jj',\n",
       " 'achatz_nn',\n",
       " 'achatz_nns',\n",
       " 'achatz_rb',\n",
       " 'achatz_vbd',\n",
       " 'achatz_vbp',\n",
       " 'ache_nn',\n",
       " 'aches_jj',\n",
       " 'achievable_jj',\n",
       " 'achieve_vb',\n",
       " 'achievement_jj',\n",
       " 'achievement_nn',\n",
       " 'achieving_vbg',\n",
       " 'aching_vbg',\n",
       " 'achingly_rb',\n",
       " 'achiote_nn',\n",
       " 'acid_jj',\n",
       " 'acidic_jj',\n",
       " 'acidity_in',\n",
       " 'acidity_nn',\n",
       " 'acknowledge_jj',\n",
       " 'acknowledge_nn',\n",
       " 'acknowledge_vb',\n",
       " 'acknowledge_vbp',\n",
       " 'acknowledged_jj',\n",
       " 'acknowledged_vbd',\n",
       " 'acknowledged_vbn',\n",
       " 'acknowledgement_nn',\n",
       " 'acknowledging_vbg',\n",
       " 'acoustic_jj',\n",
       " 'acoustical_jj',\n",
       " 'acoustically_rb',\n",
       " 'acoustics_nns',\n",
       " 'acquaintances_nns',\n",
       " 'acquainted_vbn',\n",
       " 'acquired_vbd',\n",
       " 'acquired_vbn',\n",
       " 'acquiring_vbg',\n",
       " 'acre_jj',\n",
       " 'acre_nn',\n",
       " 'acres_nns',\n",
       " 'acres_vbz',\n",
       " 'acrobat_jj',\n",
       " 'acrobat_nn',\n",
       " 'acrobatic_jj',\n",
       " 'acrobatics_nns',\n",
       " 'acrobats_nns',\n",
       " 'across_in',\n",
       " 'across_jj',\n",
       " 'across_rp',\n",
       " 'acrylic_jj',\n",
       " 'act_jj',\n",
       " 'act_nn',\n",
       " 'act_vb',\n",
       " 'act_vbp',\n",
       " 'acted_jj',\n",
       " 'acted_vbd',\n",
       " 'acted_vbn',\n",
       " 'acting_nn',\n",
       " 'acting_vbg',\n",
       " 'action_nn',\n",
       " 'actions_nns',\n",
       " 'activated_vbd',\n",
       " 'activates_vbz',\n",
       " 'active_jj',\n",
       " 'actively_rb',\n",
       " 'activities_nns',\n",
       " 'activity_nn',\n",
       " 'actor_nn',\n",
       " 'actress_nn',\n",
       " 'acts_vbz',\n",
       " 'actual_jj',\n",
       " 'actualizes_vbz',\n",
       " 'actually_rb',\n",
       " 'acura_jj',\n",
       " 'acura_nn',\n",
       " 'acutally_rb',\n",
       " 'acute_jj',\n",
       " 'acutely_rb',\n",
       " 'ad_nn',\n",
       " 'ada_nn',\n",
       " 'adage_nn',\n",
       " 'adam_nn',\n",
       " 'adam_nns',\n",
       " 'adapt_jj',\n",
       " 'adaptation_nn',\n",
       " 'adapted_vb',\n",
       " 'add_cc',\n",
       " 'add_in',\n",
       " 'add_jj',\n",
       " 'add_nn',\n",
       " 'add_nns',\n",
       " 'add_rb',\n",
       " 'add_rp',\n",
       " 'add_vb',\n",
       " 'add_vbp',\n",
       " 'add_vbz',\n",
       " 'added_jj',\n",
       " 'added_vb',\n",
       " 'added_vbd',\n",
       " 'added_vbn',\n",
       " 'addendum_jj',\n",
       " 'addict_vbp',\n",
       " 'addicted_jj',\n",
       " 'addicted_vbd',\n",
       " 'addicted_vbn',\n",
       " 'addicting_vbg',\n",
       " 'addiction_nn',\n",
       " 'addictive_jj',\n",
       " 'addictive_nn',\n",
       " 'addidtion_nn',\n",
       " 'adding_vbg',\n",
       " 'addis_jj',\n",
       " 'addition_nn',\n",
       " 'additional_jj',\n",
       " 'additionally_rb',\n",
       " 'additions_nns',\n",
       " 'additionschorizo_rb',\n",
       " 'additonal_jj',\n",
       " 'address_jj',\n",
       " 'address_nn',\n",
       " 'address_vbp',\n",
       " 'addressed_jj',\n",
       " 'addressed_vbd',\n",
       " 'addressed_vbn',\n",
       " 'addresses_nns',\n",
       " 'addressing_vbg',\n",
       " 'adds_vbz',\n",
       " 'adeptly_rb',\n",
       " 'adequate_jj',\n",
       " 'adequate_nn',\n",
       " 'adequate_rb',\n",
       " 'adequate_vbp',\n",
       " 'adequately_rb',\n",
       " 'adhdness_rb',\n",
       " 'adhered_vbd',\n",
       " 'adige_in',\n",
       " 'adjacent_jj',\n",
       " 'adjective_jj',\n",
       " 'adjoining_nn',\n",
       " 'adjoining_vbg',\n",
       " 'adjust_jj',\n",
       " 'adjust_vbp',\n",
       " 'adjustable_jj',\n",
       " 'adjusted_jj',\n",
       " 'adjusted_vbd',\n",
       " 'adjusted_vbn',\n",
       " 'adjustment_jj',\n",
       " 'adjustment_nn',\n",
       " 'adjustments_nns',\n",
       " 'admirably_rb',\n",
       " 'admiration_nn',\n",
       " 'admire_nn',\n",
       " 'admire_vb',\n",
       " 'admire_vbp',\n",
       " 'admire_vbz',\n",
       " 'admired_vbd',\n",
       " 'admiring_vbg',\n",
       " 'admission_nn',\n",
       " 'admit_jj',\n",
       " 'admit_nn',\n",
       " 'admit_nns',\n",
       " 'admit_rb',\n",
       " 'admit_vb',\n",
       " 'admit_vbp',\n",
       " 'admitted_vbd',\n",
       " 'admitted_vbn',\n",
       " 'admittedly_rb',\n",
       " 'admitting_vbg',\n",
       " 'admixed_jj',\n",
       " 'adobo_jj',\n",
       " 'adobo_nn',\n",
       " 'adobo_nns',\n",
       " 'adobo_vbp',\n",
       " 'adolescent_nn',\n",
       " 'adopt_rb',\n",
       " 'adopt_vb',\n",
       " 'adopted_vbn',\n",
       " 'adorable_jj',\n",
       " 'adoration_nn',\n",
       " 'adore_in',\n",
       " 'adore_jj',\n",
       " 'adore_nn',\n",
       " 'adore_rb',\n",
       " 'adore_rbr',\n",
       " 'adore_vbp',\n",
       " 'adored_vbd',\n",
       " 'adored_vbn',\n",
       " 'adorned_jj',\n",
       " 'adorned_vbd',\n",
       " 'adorning_vbg',\n",
       " 'adrenaline_nn',\n",
       " 'adrian_jj',\n",
       " 'adriano_jj',\n",
       " 'adriano_nn',\n",
       " 'adriano_vbd',\n",
       " 'adriatic_jj',\n",
       " 'ads_nns',\n",
       " 'adult_jj',\n",
       " 'adult_nn',\n",
       " 'adult_vbp',\n",
       " 'adults_in',\n",
       " 'adults_nns',\n",
       " 'advance_in',\n",
       " 'advance_jj',\n",
       " 'advance_nn',\n",
       " 'advance_rb',\n",
       " 'advance_vb',\n",
       " 'advance_vbp',\n",
       " 'advanced_jj',\n",
       " 'advanced_vbd',\n",
       " 'advances_vbz',\n",
       " 'advantage_jj',\n",
       " 'advantage_nn',\n",
       " 'advantages_nns',\n",
       " 'adventure_jj',\n",
       " 'adventure_nn',\n",
       " 'adventurer_nn',\n",
       " 'adventurers_nns',\n",
       " 'adventures_nns',\n",
       " 'adventures_vbz',\n",
       " 'adventuresome_jj',\n",
       " 'adventurous_jj',\n",
       " 'advertise_nn',\n",
       " 'advertise_rb',\n",
       " 'advertised_jj',\n",
       " 'advertised_vbd',\n",
       " 'advertised_vbn',\n",
       " 'advertisement_nn',\n",
       " 'advertises_nns',\n",
       " 'advertising_nn',\n",
       " 'advice_jj',\n",
       " 'advice_nn',\n",
       " 'advice_rb',\n",
       " 'advice_rp',\n",
       " 'advice_vb',\n",
       " 'advice_vbp',\n",
       " 'advil_rb',\n",
       " 'advise_nn',\n",
       " 'advise_rb',\n",
       " 'advise_vb',\n",
       " 'advised_vbd',\n",
       " 'advises_nns',\n",
       " 'advising_vbg',\n",
       " 'advisor_nn',\n",
       " 'advocated_vbd',\n",
       " 'advocates_nns',\n",
       " 'aerial_jj',\n",
       " 'aerial_nn',\n",
       " 'aeron_nn',\n",
       " 'aesthetic_jj',\n",
       " 'aesthetically_rb',\n",
       " 'aesthetics_nns',\n",
       " 'af_jj',\n",
       " 'afar_nn',\n",
       " 'affable_jj',\n",
       " 'affair_nn',\n",
       " 'affairs_nns',\n",
       " 'affect_jj',\n",
       " 'affect_vb',\n",
       " 'affectation_nn',\n",
       " 'affected_jj',\n",
       " 'affected_vb',\n",
       " 'affected_vbd',\n",
       " 'affection_nn',\n",
       " 'affective_jj',\n",
       " 'affects_nns',\n",
       " 'affiliated_vbd',\n",
       " 'affinity_nn',\n",
       " 'affirmations_nns',\n",
       " 'affirmed_vbd',\n",
       " 'affogato_jj',\n",
       " 'affogato_nn',\n",
       " 'afford_in',\n",
       " 'afford_jj',\n",
       " 'afford_nn',\n",
       " 'afford_rb',\n",
       " 'afford_vb',\n",
       " 'afford_vbp',\n",
       " 'affordability_nn',\n",
       " 'affordable_jj',\n",
       " 'affordable_nn',\n",
       " 'affordable_rb',\n",
       " 'affordably_rb',\n",
       " 'afforded_vbd',\n",
       " 'aficionado_nn',\n",
       " 'aficionado_nns',\n",
       " 'aficionado_rb',\n",
       " 'aficionados_vbp',\n",
       " 'aflame_nn',\n",
       " 'aforementioned_jj',\n",
       " 'aforementioned_vbd',\n",
       " 'aforementioned_vbn',\n",
       " 'afraid_jj',\n",
       " 'afraid_nn',\n",
       " 'afraid_rp',\n",
       " 'afraid_vbd',\n",
       " 'afraid_vbp',\n",
       " 'africa_nn',\n",
       " 'africa_rb',\n",
       " 'african_jj',\n",
       " 'afrika_jj',\n",
       " 'afterall_dt',\n",
       " 'afterall_nn',\n",
       " 'afternoon_nn',\n",
       " 'afternoons_nns',\n",
       " 'aftertaste_nn',\n",
       " 'afterthought_jj',\n",
       " 'afterthought_rb',\n",
       " 'afterthought_vbd',\n",
       " 'afterward_in',\n",
       " 'afterward_rb',\n",
       " 'afterwards_nns',\n",
       " 'afterwards_vbp',\n",
       " 'afterword_rp',\n",
       " 'afterwords_nns',\n",
       " 'afterwork_nn',\n",
       " 'agava_vbp',\n",
       " 'age_nn',\n",
       " 'aged_vb',\n",
       " 'aged_vbd',\n",
       " 'aged_vbn',\n",
       " 'agenda_nn',\n",
       " 'agent_nn',\n",
       " 'agents_nns',\n",
       " 'ages_nns',\n",
       " 'ages_vbz',\n",
       " 'aggravated_vbd',\n",
       " 'aggravated_vbn',\n",
       " 'aggravating_vbg',\n",
       " 'aggravation_nn',\n",
       " 'aggresively_rb',\n",
       " 'aggressive_jj',\n",
       " 'aggressively_rb',\n",
       " 'aging_vbg',\n",
       " 'aglass_nn',\n",
       " 'agneau_jj',\n",
       " 'agnolotti_jj',\n",
       " 'agnolotti_nns',\n",
       " 'ago_in',\n",
       " 'ago_rb',\n",
       " 'agree_in',\n",
       " 'agree_jj',\n",
       " 'agree_nn',\n",
       " 'agree_nns',\n",
       " 'agree_rb',\n",
       " 'agree_vb',\n",
       " 'agree_vbp',\n",
       " 'agree_vbz',\n",
       " 'agreeable_jj',\n",
       " 'agreed_jj',\n",
       " 'agreed_rp',\n",
       " 'agreed_vbd',\n",
       " 'agreed_vbn',\n",
       " 'agreeing_vbg',\n",
       " 'agreement_nn',\n",
       " 'agrees_nns',\n",
       " 'agrees_vbz',\n",
       " 'agriculture_nn',\n",
       " 'agua_jj',\n",
       " 'agua_nn',\n",
       " 'agua_vbd',\n",
       " 'agua_vbz',\n",
       " 'aguas_nn',\n",
       " 'ah_in',\n",
       " 'ah_jj',\n",
       " 'ah_nn',\n",
       " 'ah_rb',\n",
       " 'ah_vbp',\n",
       " 'ahead_rb',\n",
       " 'aheads_nns',\n",
       " 'ahem_jj',\n",
       " 'ahh_jj',\n",
       " 'ahh_nn',\n",
       " 'ahh_nns',\n",
       " 'ahhed_vbn',\n",
       " 'ahhh_jj',\n",
       " 'ahhh_nn',\n",
       " 'ahhhh_jj',\n",
       " 'ahhhh_nns',\n",
       " 'ahhhhh_jj',\n",
       " 'ahhhhh_nn',\n",
       " 'ahhhhh_rb',\n",
       " 'ahhhhhh_in',\n",
       " 'ahhhhhhhh_rb',\n",
       " 'ahhhhmazing_vbg',\n",
       " 'ahhhmazing_vbg',\n",
       " 'ahhing_vbg',\n",
       " 'ahi_in',\n",
       " 'ahi_jj',\n",
       " 'ahi_nn',\n",
       " 'ahi_rb',\n",
       " 'ahi_vbp',\n",
       " 'ahodaga_jj',\n",
       " 'ahodaga_nn',\n",
       " 'ahodaga_rb',\n",
       " 'ahogada_jj',\n",
       " 'ahogada_nn',\n",
       " 'ahogada_nns',\n",
       " 'ahogada_rb',\n",
       " 'ahogada_vb',\n",
       " 'ahogado_jj',\n",
       " 'ahold_jj',\n",
       " 'ahugada_nns',\n",
       " 'ai_vbp',\n",
       " 'aid_nn',\n",
       " 'aide_rb',\n",
       " 'aiiight_jj',\n",
       " 'aiite_jj',\n",
       " 'ailment_jj',\n",
       " 'ailoi_rb',\n",
       " 'ailoli_nns',\n",
       " 'aim_jj',\n",
       " 'aimed_vbd',\n",
       " 'aiming_vbg',\n",
       " 'aimless_nn',\n",
       " 'aims_nns',\n",
       " 'ainsi_nn',\n",
       " 'aint_nn',\n",
       " 'aioli_jj',\n",
       " 'aioli_nn',\n",
       " 'aioli_nns',\n",
       " 'aioli_rb',\n",
       " 'aioli_vbp',\n",
       " 'aioli_vbz',\n",
       " 'air_jj',\n",
       " 'air_nn',\n",
       " 'air_vb',\n",
       " 'air_vbp',\n",
       " 'aircard_nn',\n",
       " 'airconditioning_nn',\n",
       " 'aircraft_nn',\n",
       " 'airfare_nn',\n",
       " 'airier_rb',\n",
       " 'airline_nn',\n",
       " 'airlines_nns',\n",
       " 'airplane_jj',\n",
       " 'airplane_vbp',\n",
       " 'airport_jj',\n",
       " 'airport_nn',\n",
       " 'airport_rb',\n",
       " 'airports_nns',\n",
       " 'airs_vbz',\n",
       " 'airways_nns',\n",
       " 'airy_jj',\n",
       " 'airy_nn',\n",
       " 'aisle_jj',\n",
       " 'aisle_rb',\n",
       " 'aisles_nns',\n",
       " 'aja_in',\n",
       " 'aja_nn',\n",
       " 'aja_rb',\n",
       " 'ajar_nn',\n",
       " 'ajar_nns',\n",
       " 'aji_in',\n",
       " 'aji_jj',\n",
       " 'aji_nn',\n",
       " 'ajillo_jj',\n",
       " 'ajillo_vbz',\n",
       " 'ajo_nn',\n",
       " 'ajoining_nn',\n",
       " 'ajoining_vbg',\n",
       " 'ajumma_nn',\n",
       " 'aka_in',\n",
       " 'aka_jj',\n",
       " 'aka_nn',\n",
       " 'aka_vbp',\n",
       " 'ake_vb',\n",
       " 'akin_in',\n",
       " 'akin_jj',\n",
       " 'akron_nn',\n",
       " 'akward_rb',\n",
       " 'al_in',\n",
       " 'al_jj',\n",
       " 'al_nn',\n",
       " 'al_vbp',\n",
       " 'ala_jj',\n",
       " 'ala_nn',\n",
       " 'ala_vbp',\n",
       " 'alabama_nn',\n",
       " 'alabama_vbz',\n",
       " 'alacarte_nns',\n",
       " 'alan_jj',\n",
       " 'alan_rb',\n",
       " 'alanis_nn',\n",
       " 'alarm_jj',\n",
       " 'alarm_nn',\n",
       " 'alarmed_jj',\n",
       " 'alarmed_vbd',\n",
       " 'alarming_vbg',\n",
       " 'alarms_nns',\n",
       " 'alas_jj',\n",
       " 'alas_nn',\n",
       " 'alas_nns',\n",
       " 'alas_rb',\n",
       " 'alas_vbp',\n",
       " 'alaska_jj',\n",
       " 'alaska_nn',\n",
       " 'alaskan_jj',\n",
       " 'alaskan_nn',\n",
       " 'albacore_in',\n",
       " 'albacore_nn',\n",
       " 'albacore_rb',\n",
       " 'albany_nn',\n",
       " 'albarino_nn',\n",
       " 'albeit_in',\n",
       " 'albeit_jj',\n",
       " 'albeit_nn',\n",
       " 'albert_nn',\n",
       " 'alberto_jj',\n",
       " 'alberto_nn',\n",
       " 'alberto_vbp',\n",
       " 'albiet_jj',\n",
       " 'album_nn',\n",
       " 'alchemy_nn',\n",
       " 'alchohol_nn',\n",
       " 'alchoholic_jj',\n",
       " 'alcohol_in',\n",
       " 'alcohol_jj',\n",
       " 'alcohol_nn',\n",
       " 'alcohol_nns',\n",
       " 'alcohol_rb',\n",
       " 'alcohol_vbp',\n",
       " 'alcoholic_jj',\n",
       " 'alcoholy_jj',\n",
       " 'alcove_in',\n",
       " 'alcoves_nns',\n",
       " 'alderman_nn',\n",
       " 'ale_jj',\n",
       " 'ale_nn',\n",
       " 'ale_vbp',\n",
       " 'alert_jj',\n",
       " 'alert_nn',\n",
       " 'alert_vb',\n",
       " 'alerted_jj',\n",
       " 'alerted_vbd',\n",
       " 'alerting_vbg',\n",
       " 'alerts_nns',\n",
       " 'ales_nns',\n",
       " 'ales_rb',\n",
       " 'ales_vbz',\n",
       " 'alex_jj',\n",
       " 'alfredo_jj',\n",
       " 'alfredo_nn',\n",
       " 'alfredo_nns',\n",
       " 'alfresco_nn',\n",
       " 'algerian_jj',\n",
       " 'alhambres_nns',\n",
       " 'alhambres_vbz',\n",
       " 'alia_nns',\n",
       " 'alice_jj',\n",
       " 'alice_nn',\n",
       " 'alicha_jj',\n",
       " 'alicha_nn',\n",
       " 'alicia_jj',\n",
       " 'alicia_nn',\n",
       " 'alicia_rb',\n",
       " 'alien_nn',\n",
       " 'aliena_nn',\n",
       " 'alienate_nn',\n",
       " 'aligned_vbd',\n",
       " 'aligned_vbn',\n",
       " 'aliiance_nn',\n",
       " 'aliiance_rb',\n",
       " 'alike_rb',\n",
       " 'alinea_in',\n",
       " 'alinea_jj',\n",
       " 'alinea_nn',\n",
       " 'alinea_nns',\n",
       " 'alinea_rb',\n",
       " 'alinea_rbs',\n",
       " 'alinea_rp',\n",
       " 'alinea_vb',\n",
       " 'alinea_vbd',\n",
       " 'alinea_vbp',\n",
       " 'alison_vbp',\n",
       " 'alittle_jj',\n",
       " 'alittle_rb',\n",
       " 'alittle_rp',\n",
       " 'alive_jj',\n",
       " 'alk_nn',\n",
       " 'alla_nn',\n",
       " 'allagash_jj',\n",
       " 'allagash_rb',\n",
       " 'allbe_nn',\n",
       " 'alle_jj',\n",
       " 'allegiance_nn',\n",
       " 'allegro_jj',\n",
       " 'allegro_nn',\n",
       " 'allergen_nn',\n",
       " 'allergic_in',\n",
       " 'allergic_jj',\n",
       " 'allergic_nn',\n",
       " 'allergies_nns',\n",
       " 'allergies_vbz',\n",
       " 'allergro_in',\n",
       " 'allergy_jj',\n",
       " 'allergy_nn',\n",
       " 'allergy_vbp',\n",
       " 'allerton_in',\n",
       " 'allerton_jj',\n",
       " 'allerton_nn',\n",
       " 'allerton_rb',\n",
       " 'allerton_rp',\n",
       " 'allerton_vb',\n",
       " 'allerton_vbd',\n",
       " 'allerton_vbp',\n",
       " 'alleviated_vbd',\n",
       " 'alley_in',\n",
       " 'alley_jj',\n",
       " 'alley_nn',\n",
       " 'alley_rb',\n",
       " 'alley_vb',\n",
       " 'alley_vbp',\n",
       " 'alliance_jj',\n",
       " 'alliance_nn',\n",
       " 'alliance_rb',\n",
       " 'alliance_vbp',\n",
       " 'alligator_nn',\n",
       " 'allinea_vbp',\n",
       " 'allison_nn',\n",
       " 'allk_jj',\n",
       " 'alll_jj',\n",
       " 'allll_nn',\n",
       " 'alloes_vbz',\n",
       " 'allot_jj',\n",
       " 'allotted_vbn',\n",
       " 'allow_in',\n",
       " 'allow_jj',\n",
       " 'allow_nn',\n",
       " 'allow_rp',\n",
       " 'allow_vb',\n",
       " 'allow_vbp',\n",
       " 'allowance_nn',\n",
       " 'allowed_vb',\n",
       " 'allowed_vbd',\n",
       " 'allowed_vbn',\n",
       " 'allowing_vbg',\n",
       " 'allows_nns',\n",
       " 'allows_vbz',\n",
       " 'alls_nns',\n",
       " 'allspice_nn',\n",
       " 'allude_nn',\n",
       " 'allure_jj',\n",
       " 'allure_nn',\n",
       " 'alma_vbp',\n",
       " 'almendra_fw',\n",
       " 'almendrado_nn',\n",
       " 'almendrado_vbp',\n",
       " 'almendras_nns',\n",
       " 'almendras_rb',\n",
       " 'almond_jj',\n",
       " 'almond_nn',\n",
       " 'almond_rb',\n",
       " 'almond_vbp',\n",
       " 'almondine_nn',\n",
       " 'almonds_nns',\n",
       " 'almonds_vbz',\n",
       " 'almost_rb',\n",
       " 'alo_jj',\n",
       " 'aloft_rb',\n",
       " 'alomg_nn',\n",
       " 'alone_jj',\n",
       " 'alone_nn',\n",
       " 'alone_rb',\n",
       " 'along_in',\n",
       " 'along_jj',\n",
       " 'along_rb',\n",
       " 'along_rp',\n",
       " 'along_vb',\n",
       " 'alongside_in',\n",
       " 'alongside_jj',\n",
       " 'alongside_nn',\n",
       " 'alongside_rb',\n",
       " 'alonzo_nn',\n",
       " 'aloo_jj',\n",
       " 'aloof_jj',\n",
       " 'aloof_rb',\n",
       " 'aloof_vbz',\n",
       " 'alot_jj',\n",
       " 'alot_nn',\n",
       " 'alot_rb',\n",
       " 'aloud_jj',\n",
       " 'aloud_vbp',\n",
       " 'alpha_jj',\n",
       " 'alphabetical_jj',\n",
       " 'already_rb',\n",
       " 'alright_jj',\n",
       " 'alright_nn',\n",
       " 'alright_rb',\n",
       " 'alright_vbd',\n",
       " 'alrighty_jj',\n",
       " 'also_rb',\n",
       " 'altar_jj',\n",
       " 'alter_nn',\n",
       " 'alterations_nns',\n",
       " 'altered_jj',\n",
       " 'altered_vbd',\n",
       " 'altered_vbn',\n",
       " 'altering_vbg',\n",
       " 'alternate_nn',\n",
       " 'alternated_vbd',\n",
       " 'alternative_jj',\n",
       " 'alternative_nn',\n",
       " 'alternatives_nns',\n",
       " 'altho_jj',\n",
       " 'altho_nn',\n",
       " 'although_in',\n",
       " 'althought_vbd',\n",
       " 'althought_vbn',\n",
       " 'altitude_nn',\n",
       " 'alto_nn',\n",
       " 'altogether_rb',\n",
       " 'aluminum_vbp',\n",
       " 'alumn_jj',\n",
       " 'alumnus_rb',\n",
       " 'alwasy_jj',\n",
       " 'alwasy_nn',\n",
       " 'alway_rb',\n",
       " 'always_rb',\n",
       " 'alzheimer_nn',\n",
       " 'amaaaaaaazing_vbg',\n",
       " 'amaaaazing_vbg',\n",
       " 'amaaaazzzzing_vbg',\n",
       " 'amaaazing_vbg',\n",
       " 'amada_jj',\n",
       " 'amada_nn',\n",
       " 'amalfi_in',\n",
       " 'amalfi_jj',\n",
       " 'amalfi_nn',\n",
       " 'amalfitini_nn',\n",
       " 'amalfitini_rp',\n",
       " 'amalgamations_nns',\n",
       " 'amanda_in',\n",
       " 'amanda_nn',\n",
       " 'amanda_nns',\n",
       " 'amanda_vbp',\n",
       " 'amaretto_in',\n",
       " 'amaretto_nn',\n",
       " 'amaro_nn',\n",
       " 'amateur_jj',\n",
       " 'amateur_vbp',\n",
       " 'amaze_jj',\n",
       " 'amaze_nn',\n",
       " 'amaze_vbp',\n",
       " 'amaze_vbz',\n",
       " 'amazeballs_nns',\n",
       " 'amazed_jj',\n",
       " 'amazed_vbd',\n",
       " 'amazed_vbn',\n",
       " 'amazes_nns',\n",
       " 'amazes_vbz',\n",
       " 'amazing_jj',\n",
       " 'amazing_nn',\n",
       " 'amazing_vb',\n",
       " 'amazing_vbg',\n",
       " 'amazinggg_nn',\n",
       " 'amazingly_rb',\n",
       " 'amazingness_jj',\n",
       " 'amazingness_nn',\n",
       " 'amazingness_rb',\n",
       " 'amazingness_vbp',\n",
       " 'amb_jj',\n",
       " 'amb_vb',\n",
       " 'ambad_jj',\n",
       " 'ambassador_nn',\n",
       " 'ambassadors_nns',\n",
       " 'amber_jj',\n",
       " 'amber_nn',\n",
       " 'amber_rb',\n",
       " 'amber_vb',\n",
       " 'ambiance_in',\n",
       " 'ambiance_jj',\n",
       " 'ambiance_nn',\n",
       " ...]"
      ]
     },
     "execution_count": 91,
     "metadata": {},
     "output_type": "execute_result"
    }
   ],
   "source": [
    "tfidf.get_feature_names()"
   ]
  },
  {
   "cell_type": "code",
   "execution_count": 92,
   "metadata": {},
   "outputs": [],
   "source": [
    "import time"
   ]
  },
  {
   "cell_type": "code",
   "execution_count": 93,
   "metadata": {},
   "outputs": [
    {
     "name": "stdout",
     "output_type": "stream",
     "text": [
      "--- 3.8835015296936035 seconds ---\n"
     ]
    }
   ],
   "source": [
    "import time\n",
    "start_time = time.time()\n",
    "\n",
    "# create cosine similarity by tf-idf vector\n",
    "CS_similarity_pos =cosine_similarity(pos_tfidf)\n",
    "\n",
    "print(\"--- %s seconds ---\" % (time.time() - start_time))"
   ]
  },
  {
   "cell_type": "code",
   "execution_count": 95,
   "metadata": {
    "scrolled": false
   },
   "outputs": [
    {
     "data": {
      "text/plain": [
       "array([[1.        , 0.01919377, 0.00823067, ..., 0.        , 0.02049023,\n",
       "        0.04011572],\n",
       "       [0.01919377, 1.        , 0.04307507, ..., 0.01511245, 0.05320423,\n",
       "        0.06455132],\n",
       "       [0.00823067, 0.04307507, 1.        , ..., 0.        , 0.00402454,\n",
       "        0.01745411],\n",
       "       ...,\n",
       "       [0.        , 0.01511245, 0.        , ..., 1.        , 0.02888037,\n",
       "        0.        ],\n",
       "       [0.02049023, 0.05320423, 0.00402454, ..., 0.02888037, 1.        ,\n",
       "        0.03441654],\n",
       "       [0.04011572, 0.06455132, 0.01745411, ..., 0.        , 0.03441654,\n",
       "        1.        ]])"
      ]
     },
     "execution_count": 95,
     "metadata": {},
     "output_type": "execute_result"
    }
   ],
   "source": [
    "CS_similarity_pos"
   ]
  },
  {
   "cell_type": "code",
   "execution_count": 96,
   "metadata": {},
   "outputs": [],
   "source": [
    "# this chunk is used to save the cosine similarity matrix\n",
    "# Use if you want separate my code to overcome memory exceed\n",
    "\n",
    "# import pickle\n",
    "# # #save variable\n",
    "# with open('CS_similarity_pos', 'wb') as f:\n",
    "#     pickle.dump(CS_similarity_pos, f)\n",
    "\n",
    "# with open('CS_similarity_bigram', 'wb') as f:\n",
    "#     pickle.dump(CS_similarity_bigram, f)\n",
    "   \n",
    "#load variable\n",
    "#with open(filename, ‘rb’) as f:\n",
    "    #var_you_want_to_load_into = pickle.load(f)"
   ]
  },
  {
   "cell_type": "code",
   "execution_count": 97,
   "metadata": {},
   "outputs": [],
   "source": [
    "# cs_matrix = CS_similarity_pos\n",
    "\n",
    "# for i in range(0, cs_matrix.shape[0]):\n",
    "#     cs_matrix[i,i] =0"
   ]
  },
  {
   "cell_type": "code",
   "execution_count": 98,
   "metadata": {},
   "outputs": [],
   "source": [
    "#cs_matrix"
   ]
  },
  {
   "cell_type": "markdown",
   "metadata": {},
   "source": [
    "## 4.3 Sentiment analysis\n"
   ]
  },
  {
   "cell_type": "code",
   "execution_count": 99,
   "metadata": {},
   "outputs": [],
   "source": [
    "from textblob import TextBlob \n",
    "from textblob.sentiments import NaiveBayesAnalyzer\n",
    "\n",
    "#Example how to get sentiment score of a text\n",
    "#rv_sentiment = TextBlob(\"Came in on the early afternoon on Sunday. The food was tasty and priced well.\",analyzer=NaiveBayesAnalyzer()).sentiment\n"
   ]
  },
  {
   "cell_type": "markdown",
   "metadata": {},
   "source": [
    "### ** Note **\n",
    "Because NaiveBayesAnalyzer() take too long to analyze the sentiment of whole dataset. I had tested and it take me more than 4hours. So, I choose move forward with pattern analyzer"
   ]
  },
  {
   "cell_type": "code",
   "execution_count": 100,
   "metadata": {
    "scrolled": true
   },
   "outputs": [
    {
     "name": "stderr",
     "output_type": "stream",
     "text": [
      "/opt/conda/lib/python3.6/site-packages/ipykernel_launcher.py:4: SettingWithCopyWarning: \n",
      "A value is trying to be set on a copy of a slice from a DataFrame.\n",
      "Try using .loc[row_indexer,col_indexer] = value instead\n",
      "\n",
      "See the caveats in the documentation: http://pandas.pydata.org/pandas-docs/stable/indexing.html#indexing-view-versus-copy\n",
      "  after removing the cwd from sys.path.\n",
      "/opt/conda/lib/python3.6/site-packages/ipykernel_launcher.py:5: SettingWithCopyWarning: \n",
      "A value is trying to be set on a copy of a slice from a DataFrame.\n",
      "Try using .loc[row_indexer,col_indexer] = value instead\n",
      "\n",
      "See the caveats in the documentation: http://pandas.pydata.org/pandas-docs/stable/indexing.html#indexing-view-versus-copy\n",
      "  \"\"\"\n"
     ]
    }
   ],
   "source": [
    "# Polarity and subjectivity\n",
    "pol = lambda x: TextBlob(x).sentiment.polarity\n",
    "sub = lambda x: TextBlob(x).sentiment.subjectivity\n",
    "\n",
    "# generate polarity and subjectivity then add them to behavior_attr dataframe\n",
    "behavior_attr['polarity'] = processed.apply(pol)\n",
    "behavior_attr['subjective'] = processed.apply(sub)\n",
    "\n",
    "#reve_pos = []\n",
    "#reve_pos += [TextBlob(x, analyzer= NaiveBayesAnalyzer()).sentiment.p_pos  for x in processed]"
   ]
  },
  {
   "cell_type": "code",
   "execution_count": 101,
   "metadata": {},
   "outputs": [],
   "source": [
    "#behavior_attr.to_csv('behavior_attr.csv')"
   ]
  },
  {
   "cell_type": "code",
   "execution_count": 102,
   "metadata": {
    "scrolled": true
   },
   "outputs": [],
   "source": [
    "# Let's plot the results\n",
    "# import matplotlib.pyplot as plt\n",
    "\n",
    "# plt.rcParams['figure.figsize'] = [10, 8]\n",
    "\n",
    "# x = polarity\n",
    "# y = subjective\n",
    "# plt.scatter(x, y, color='blue')\n",
    "# #plt.text(x+.001, y+.001, data['full_name'][index], fontsize=10)\n",
    "# plt.xlim(-.01, .12) \n",
    "    \n",
    "# plt.title('Sentiment Analysis', fontsize=20)\n",
    "# plt.xlabel('<-- Negative -------- Positive -->', fontsize=15)\n",
    "# plt.ylabel('<-- Facts -------- Opinions -->', fontsize=15)\n",
    "\n",
    "# plt.show()"
   ]
  },
  {
   "cell_type": "markdown",
   "metadata": {},
   "source": [
    "### Behavior feature\n",
    "- behavior_attr: behavioral attributes\n",
    "### Text_feature\n",
    "- processed: text content\n",
    "- polarity: polarity of review\n",
    "- subjective: subjectivity of review\n",
    "- CS_similarity_pos: consine similarity generated from POS\n",
    "- CS_similarity_bigram: cosine similarity generated from bi-gram"
   ]
  },
  {
   "cell_type": "markdown",
   "metadata": {},
   "source": [
    "# 5 Clusstering"
   ]
  },
  {
   "cell_type": "markdown",
   "metadata": {},
   "source": [
    "## 5.1 Clustering with PoS-based cosine similarity"
   ]
  },
  {
   "cell_type": "code",
   "execution_count": 107,
   "metadata": {
    "scrolled": false
   },
   "outputs": [],
   "source": [
    "from sklearn.mixture import GaussianMixture\n",
    "\n",
    "\n",
    "def em_clustering(X, k ):\n",
    "    gmm = GaussianMixture(n_components=k, random_state= 138)\n",
    "    gmm.fit(X)\n",
    "    return gmm\n",
    "\n"
   ]
  },
  {
   "cell_type": "code",
   "execution_count": 108,
   "metadata": {},
   "outputs": [
    {
     "name": "stdout",
     "output_type": "stream",
     "text": [
      "--- 742.4926126003265 seconds ---\n"
     ]
    }
   ],
   "source": [
    "# em Clustering\n",
    "start_time = time.time()\n",
    "k= 5 \n",
    "gmm = em_clustering(CS_similarity_pos,k)\n",
    "\n",
    "\n",
    "print(\"--- %s seconds ---\" % (time.time() - start_time))"
   ]
  },
  {
   "cell_type": "code",
   "execution_count": 109,
   "metadata": {},
   "outputs": [
    {
     "data": {
      "text/plain": [
       "0"
      ]
     },
     "execution_count": 109,
     "metadata": {},
     "output_type": "execute_result"
    }
   ],
   "source": [
    "import gc\n",
    "gc.collect()"
   ]
  },
  {
   "cell_type": "code",
   "execution_count": 111,
   "metadata": {},
   "outputs": [
    {
     "data": {
      "text/plain": [
       "array([2, 1, 1, 2, 1, 0, 0, 4, 2, 3])"
      ]
     },
     "execution_count": 111,
     "metadata": {},
     "output_type": "execute_result"
    }
   ],
   "source": [
    "cluster_pos = gmm.predict(CS_similarity_pos)\n",
    "\n",
    "cluster_pos[:10]"
   ]
  },
  {
   "cell_type": "code",
   "execution_count": 112,
   "metadata": {},
   "outputs": [],
   "source": [
    "#plot clustering result\n",
    "dt_plt = pd.DataFrame({'Cluster':cluster_pos})\n",
    "dt_plt =pd.DataFrame({'Cluster':dt_plt.groupby('Cluster')['Cluster'].count().index, 'count': dt_plt.groupby('Cluster')['Cluster'].count()})"
   ]
  },
  {
   "cell_type": "code",
   "execution_count": 113,
   "metadata": {
    "scrolled": true
   },
   "outputs": [
    {
     "data": {
      "text/html": [
       "<div>\n",
       "<style scoped>\n",
       "    .dataframe tbody tr th:only-of-type {\n",
       "        vertical-align: middle;\n",
       "    }\n",
       "\n",
       "    .dataframe tbody tr th {\n",
       "        vertical-align: top;\n",
       "    }\n",
       "\n",
       "    .dataframe thead th {\n",
       "        text-align: right;\n",
       "    }\n",
       "</style>\n",
       "<table border=\"1\" class=\"dataframe\">\n",
       "  <thead>\n",
       "    <tr style=\"text-align: right;\">\n",
       "      <th></th>\n",
       "      <th>Cluster</th>\n",
       "      <th>count</th>\n",
       "    </tr>\n",
       "    <tr>\n",
       "      <th>Cluster</th>\n",
       "      <th></th>\n",
       "      <th></th>\n",
       "    </tr>\n",
       "  </thead>\n",
       "  <tbody>\n",
       "    <tr>\n",
       "      <th>0</th>\n",
       "      <td>0</td>\n",
       "      <td>2850</td>\n",
       "    </tr>\n",
       "    <tr>\n",
       "      <th>1</th>\n",
       "      <td>1</td>\n",
       "      <td>866</td>\n",
       "    </tr>\n",
       "    <tr>\n",
       "      <th>2</th>\n",
       "      <td>2</td>\n",
       "      <td>3799</td>\n",
       "    </tr>\n",
       "    <tr>\n",
       "      <th>3</th>\n",
       "      <td>3</td>\n",
       "      <td>1053</td>\n",
       "    </tr>\n",
       "    <tr>\n",
       "      <th>4</th>\n",
       "      <td>4</td>\n",
       "      <td>1432</td>\n",
       "    </tr>\n",
       "  </tbody>\n",
       "</table>\n",
       "</div>"
      ],
      "text/plain": [
       "         Cluster  count\n",
       "Cluster                \n",
       "0              0   2850\n",
       "1              1    866\n",
       "2              2   3799\n",
       "3              3   1053\n",
       "4              4   1432"
      ]
     },
     "execution_count": 113,
     "metadata": {},
     "output_type": "execute_result"
    }
   ],
   "source": [
    "dt_plt"
   ]
  },
  {
   "cell_type": "code",
   "execution_count": 114,
   "metadata": {},
   "outputs": [],
   "source": [
    "#visualizing\n",
    "import itertools\n",
    "from scipy import linalg\n",
    "import matplotlib.pyplot as plt\n",
    "import matplotlib as mpl\n"
   ]
  },
  {
   "cell_type": "code",
   "execution_count": 115,
   "metadata": {},
   "outputs": [
    {
     "data": {
      "image/png": "[encoded data removed]",
      "text/plain": [
       "<Figure size 432x288 with 1 Axes>"
      ]
     },
     "metadata": {
      "needs_background": "light"
     },
     "output_type": "display_data"
    }
   ],
   "source": [
    "color_iter = ['navy', 'turquoise', 'cornflowerblue','darkorange']\n",
    "plt.figure(figsize=(6,6))\n",
    "plt.bar(dt_plt['Cluster'], dt_plt['count'],  color=color_iter )\n",
    "plt.xlabel('Clusters')\n",
    "plt.xticks(dt_plt['Cluster'])\n",
    "plt.ylabel('Count')\n",
    "plt.title('Review Clustering by POS Cosine Similarity')\n",
    "\n",
    "for x,y in zip(dt_plt['Cluster'], dt_plt['count']):\n",
    "    plt.annotate('{}'.format(y ),\n",
    "                 xy=(x , y + 10),\n",
    "                 xytext=(0, 3),  # 3 points vertical offset\n",
    "                 textcoords=\"offset points\",\n",
    "                 ha='center', va='bottom')\n",
    "plt.show()"
   ]
  },
  {
   "cell_type": "code",
   "execution_count": 116,
   "metadata": {
    "scrolled": true
   },
   "outputs": [
    {
     "data": {
      "image/png": "[encoded data removed]",
      "text/plain": [
       "<Figure size 432x288 with 1 Axes>"
      ]
     },
     "metadata": {
      "needs_background": "light"
     },
     "output_type": "display_data"
    }
   ],
   "source": [
    "# This plot visualize cluster based on the cosine similarity among the reviews\n",
    "\n",
    "plt.scatter(CS_similarity_pos[:, 0], CS_similarity_pos[:, 1], c=cluster_pos, s=40, cmap='viridis', alpha =0.5)\n",
    "plt.show()"
   ]
  },
  {
   "cell_type": "code",
   "execution_count": 117,
   "metadata": {},
   "outputs": [],
   "source": [
    "# def draw_ellipse(position, covariance, ax=None, **kwargs):\n",
    "#     \"\"\"Draw an ellipse with a given position and covariance\"\"\"\n",
    "#     ax = ax or plt.gca()\n",
    "    \n",
    "#     # Convert covariance to principal axes\n",
    "#     if covariance.shape == (2, 2):\n",
    "#         U, s, Vt = np.linalg.svd(covariance)\n",
    "#         angle = np.degrees(np.arctan2(U[1, 0], U[0, 0]))\n",
    "#         width, height = 2 * np.sqrt(s)\n",
    "#     else:\n",
    "#         angle = 0\n",
    "#         width, height = 2 * np.sqrt(covariance)\n",
    "    \n",
    "#     # Draw the Ellipse\n",
    "#     for nsig in range(1, 4):\n",
    "#         ax.add_patch(Ellipse(position, nsig * width, nsig * height,\n",
    "#                              angle, **kwargs))\n",
    "        \n",
    "# def plot_gmm(gmm, lables_, X, label=True, ax=None):\n",
    "#     ax = ax or plt.gca()\n",
    "#     labels = lables_\n",
    "#     if label:\n",
    "#         ax.scatter(X[:, 0], X[:, 1], c=labels, s=40, cmap='viridis', zorder=2)\n",
    "#     else:\n",
    "#         ax.scatter(X[:, 0], X[:, 1], s=40, zorder=2)\n",
    "#     ax.axis('equal')\n",
    "    \n",
    "#     w_factor = 0.2 / gmm.weights_.max()\n",
    "#     for pos, covar, w in zip(gmm.means_, gmm.covariances_, gmm.weights_):\n",
    "#         draw_ellipse(pos, covar, alpha=w * w_factor)"
   ]
  },
  {
   "cell_type": "code",
   "execution_count": null,
   "metadata": {},
   "outputs": [],
   "source": [
    "#plot_gmm(gmm,cluster_pos, CS_similarity_pos)"
   ]
  },
  {
   "cell_type": "markdown",
   "metadata": {},
   "source": [
    "## 5.2 Clustering with uni-gram-based Cosine similarity "
   ]
  },
  {
   "cell_type": "code",
   "execution_count": 118,
   "metadata": {
    "scrolled": true
   },
   "outputs": [
    {
     "name": "stdout",
     "output_type": "stream",
     "text": [
      "--- 743.0532357692719 seconds ---\n"
     ]
    }
   ],
   "source": [
    "from sklearn.mixture import GaussianMixture\n",
    "\n",
    "\n",
    "# em Clustering\n",
    "start_time = time.time()\n",
    "gmm = em_clustering(CS_similarity_bigram,k)\n",
    "print(\"--- %s seconds ---\" % (time.time() - start_time))"
   ]
  },
  {
   "cell_type": "code",
   "execution_count": 119,
   "metadata": {},
   "outputs": [
    {
     "data": {
      "text/plain": [
       "array([3, 1, 3, 3, 1, 0, 0, 4, 3, 4])"
      ]
     },
     "execution_count": 119,
     "metadata": {},
     "output_type": "execute_result"
    }
   ],
   "source": [
    "cluster_ngram = gmm.predict(CS_similarity_bigram)\n",
    "\n",
    "cluster_ngram[:10]"
   ]
  },
  {
   "cell_type": "code",
   "execution_count": 120,
   "metadata": {},
   "outputs": [],
   "source": [
    "#plot clustering result\n",
    "dt_plt = pd.DataFrame({'Cluster':cluster_ngram})\n",
    "dt_plt = dt_plt.groupby('Cluster')['Cluster'].count()"
   ]
  },
  {
   "cell_type": "code",
   "execution_count": 121,
   "metadata": {
    "scrolled": true
   },
   "outputs": [
    {
     "data": {
      "text/plain": [
       "Cluster\n",
       "0    2544\n",
       "1     913\n",
       "2    1714\n",
       "3    3717\n",
       "4    1112\n",
       "Name: Cluster, dtype: int64"
      ]
     },
     "execution_count": 121,
     "metadata": {},
     "output_type": "execute_result"
    }
   ],
   "source": [
    "dt_plt"
   ]
  },
  {
   "cell_type": "code",
   "execution_count": 122,
   "metadata": {
    "scrolled": true
   },
   "outputs": [
    {
     "data": {
      "image/png": "[encoded data removed]",
      "text/plain": [
       "<Figure size 432x288 with 1 Axes>"
      ]
     },
     "metadata": {
      "needs_background": "light"
     },
     "output_type": "display_data"
    }
   ],
   "source": [
    "#visualizing clusters\n",
    "\n",
    "color_iter = ['navy', 'turquoise', 'cornflowerblue','darkorange']\n",
    "\n",
    "dt_plt.plot(kind ='bar', color = color_iter)\n",
    "for x,y in zip(dt_plt.index, dt_plt):\n",
    "    plt.annotate('{}'.format(y ),\n",
    "                 xy=(x , y + 10),\n",
    "                 xytext=(0, 3),  # 3 points vertical offset\n",
    "                 textcoords=\"offset points\",\n",
    "                 ha='center', va='bottom')\n",
    "plt.title('CLusters by Ngram cosine similarity')\n",
    "plt.show()"
   ]
  },
  {
   "cell_type": "markdown",
   "metadata": {},
   "source": [
    "## 5.3 Integration cluster label with behavioral features"
   ]
  },
  {
   "cell_type": "code",
   "execution_count": 123,
   "metadata": {},
   "outputs": [],
   "source": [
    "df_pos=pd.concat([behavior_attr,\n",
    "                 pd.DataFrame({'cluster':cluster_pos}).reindex(behavior_attr.index)],\n",
    "#                  pd.DataFrame({'polarity':polarity}).reindex(behavior_attr.index),\n",
    "#                  pd.DataFrame({'subjective':subjective}).reindex(behavior_attr.index)],\n",
    "                 #pd.DataFrame(CS_similarity_bigram).reindex(behavior_attr.index)], \n",
    "                 axis=1) \n",
    "df_ngram=pd.concat([behavior_attr,\n",
    "                 pd.DataFrame({'cluster':cluster_ngram}).reindex(behavior_attr.index)],\n",
    "#                  pd.DataFrame({'polarity':polarity}).reindex(behavior_attr.index),\n",
    "#                  pd.DataFrame({'subjective':subjective}).reindex(behavior_attr.index)],\n",
    "#                  #pd.DataFrame(CS_similarity_bigram).reindex(behavior_attr.index)], \n",
    "                 axis=1) "
   ]
  },
  {
   "cell_type": "code",
   "execution_count": null,
   "metadata": {},
   "outputs": [],
   "source": [
    "df_pos.to_csv('df_pos.csv')\n",
    "df_ngram.to_csv('df_ngram.csv')"
   ]
  },
  {
   "cell_type": "code",
   "execution_count": 75,
   "metadata": {
    "scrolled": true
   },
   "outputs": [
    {
     "data": {
      "text/html": [
       "<div>\n",
       "<style scoped>\n",
       "    .dataframe tbody tr th:only-of-type {\n",
       "        vertical-align: middle;\n",
       "    }\n",
       "\n",
       "    .dataframe tbody tr th {\n",
       "        vertical-align: top;\n",
       "    }\n",
       "\n",
       "    .dataframe thead th {\n",
       "        text-align: right;\n",
       "    }\n",
       "</style>\n",
       "<table border=\"1\" class=\"dataframe\">\n",
       "  <thead>\n",
       "    <tr style=\"text-align: right;\">\n",
       "      <th></th>\n",
       "      <th>reviewrating</th>\n",
       "      <th>reusefulcount</th>\n",
       "      <th>recoolcount</th>\n",
       "      <th>refunnycount</th>\n",
       "      <th>friendcount</th>\n",
       "      <th>fancount</th>\n",
       "      <th>tipcount</th>\n",
       "      <th>reviewcount</th>\n",
       "      <th>firstcount</th>\n",
       "      <th>usefulcount</th>\n",
       "      <th>...</th>\n",
       "      <th>pricerange</th>\n",
       "      <th>monmembership</th>\n",
       "      <th>firstreview</th>\n",
       "      <th>maxReviewDay</th>\n",
       "      <th>avgReviewDay</th>\n",
       "      <th>avgpostedrating</th>\n",
       "      <th>avgreviewlen</th>\n",
       "      <th>polarity</th>\n",
       "      <th>subjective</th>\n",
       "      <th>cluster</th>\n",
       "    </tr>\n",
       "  </thead>\n",
       "  <tbody>\n",
       "    <tr>\n",
       "      <th>0</th>\n",
       "      <td>5</td>\n",
       "      <td>0</td>\n",
       "      <td>0</td>\n",
       "      <td>0</td>\n",
       "      <td>0</td>\n",
       "      <td>0</td>\n",
       "      <td>0</td>\n",
       "      <td>1</td>\n",
       "      <td>0</td>\n",
       "      <td>0</td>\n",
       "      <td>...</td>\n",
       "      <td>1</td>\n",
       "      <td>0</td>\n",
       "      <td>0</td>\n",
       "      <td>1</td>\n",
       "      <td>1</td>\n",
       "      <td>5</td>\n",
       "      <td>76</td>\n",
       "      <td>0.500000</td>\n",
       "      <td>0.583333</td>\n",
       "      <td>7</td>\n",
       "    </tr>\n",
       "    <tr>\n",
       "      <th>1</th>\n",
       "      <td>4</td>\n",
       "      <td>0</td>\n",
       "      <td>0</td>\n",
       "      <td>0</td>\n",
       "      <td>1</td>\n",
       "      <td>0</td>\n",
       "      <td>0</td>\n",
       "      <td>18</td>\n",
       "      <td>0</td>\n",
       "      <td>5</td>\n",
       "      <td>...</td>\n",
       "      <td>2</td>\n",
       "      <td>0</td>\n",
       "      <td>0</td>\n",
       "      <td>9</td>\n",
       "      <td>3</td>\n",
       "      <td>3</td>\n",
       "      <td>299</td>\n",
       "      <td>0.585714</td>\n",
       "      <td>0.614286</td>\n",
       "      <td>2</td>\n",
       "    </tr>\n",
       "    <tr>\n",
       "      <th>2</th>\n",
       "      <td>5</td>\n",
       "      <td>0</td>\n",
       "      <td>0</td>\n",
       "      <td>0</td>\n",
       "      <td>1</td>\n",
       "      <td>0</td>\n",
       "      <td>0</td>\n",
       "      <td>1</td>\n",
       "      <td>0</td>\n",
       "      <td>0</td>\n",
       "      <td>...</td>\n",
       "      <td>1</td>\n",
       "      <td>0</td>\n",
       "      <td>0</td>\n",
       "      <td>1</td>\n",
       "      <td>1</td>\n",
       "      <td>5</td>\n",
       "      <td>196</td>\n",
       "      <td>0.700000</td>\n",
       "      <td>0.925000</td>\n",
       "      <td>2</td>\n",
       "    </tr>\n",
       "    <tr>\n",
       "      <th>3</th>\n",
       "      <td>5</td>\n",
       "      <td>0</td>\n",
       "      <td>0</td>\n",
       "      <td>0</td>\n",
       "      <td>0</td>\n",
       "      <td>0</td>\n",
       "      <td>0</td>\n",
       "      <td>4</td>\n",
       "      <td>0</td>\n",
       "      <td>0</td>\n",
       "      <td>...</td>\n",
       "      <td>0</td>\n",
       "      <td>0</td>\n",
       "      <td>0</td>\n",
       "      <td>2</td>\n",
       "      <td>2</td>\n",
       "      <td>4</td>\n",
       "      <td>371</td>\n",
       "      <td>1.000000</td>\n",
       "      <td>0.300000</td>\n",
       "      <td>0</td>\n",
       "    </tr>\n",
       "    <tr>\n",
       "      <th>4</th>\n",
       "      <td>1</td>\n",
       "      <td>0</td>\n",
       "      <td>0</td>\n",
       "      <td>0</td>\n",
       "      <td>0</td>\n",
       "      <td>0</td>\n",
       "      <td>0</td>\n",
       "      <td>2</td>\n",
       "      <td>0</td>\n",
       "      <td>7</td>\n",
       "      <td>...</td>\n",
       "      <td>1</td>\n",
       "      <td>0</td>\n",
       "      <td>0</td>\n",
       "      <td>1</td>\n",
       "      <td>1</td>\n",
       "      <td>3</td>\n",
       "      <td>1042</td>\n",
       "      <td>0.123684</td>\n",
       "      <td>0.271930</td>\n",
       "      <td>3</td>\n",
       "    </tr>\n",
       "    <tr>\n",
       "      <th>5</th>\n",
       "      <td>5</td>\n",
       "      <td>0</td>\n",
       "      <td>0</td>\n",
       "      <td>0</td>\n",
       "      <td>0</td>\n",
       "      <td>0</td>\n",
       "      <td>0</td>\n",
       "      <td>4</td>\n",
       "      <td>1</td>\n",
       "      <td>1</td>\n",
       "      <td>...</td>\n",
       "      <td>1</td>\n",
       "      <td>0</td>\n",
       "      <td>0</td>\n",
       "      <td>2</td>\n",
       "      <td>1</td>\n",
       "      <td>2</td>\n",
       "      <td>840</td>\n",
       "      <td>0.328169</td>\n",
       "      <td>0.470000</td>\n",
       "      <td>4</td>\n",
       "    </tr>\n",
       "    <tr>\n",
       "      <th>6</th>\n",
       "      <td>4</td>\n",
       "      <td>0</td>\n",
       "      <td>0</td>\n",
       "      <td>0</td>\n",
       "      <td>0</td>\n",
       "      <td>0</td>\n",
       "      <td>0</td>\n",
       "      <td>1</td>\n",
       "      <td>0</td>\n",
       "      <td>0</td>\n",
       "      <td>...</td>\n",
       "      <td>2</td>\n",
       "      <td>0</td>\n",
       "      <td>0</td>\n",
       "      <td>1</td>\n",
       "      <td>1</td>\n",
       "      <td>4</td>\n",
       "      <td>22</td>\n",
       "      <td>0.800000</td>\n",
       "      <td>0.750000</td>\n",
       "      <td>1</td>\n",
       "    </tr>\n",
       "    <tr>\n",
       "      <th>7</th>\n",
       "      <td>4</td>\n",
       "      <td>0</td>\n",
       "      <td>0</td>\n",
       "      <td>0</td>\n",
       "      <td>10</td>\n",
       "      <td>0</td>\n",
       "      <td>0</td>\n",
       "      <td>251</td>\n",
       "      <td>1</td>\n",
       "      <td>87</td>\n",
       "      <td>...</td>\n",
       "      <td>0</td>\n",
       "      <td>28</td>\n",
       "      <td>0</td>\n",
       "      <td>19</td>\n",
       "      <td>2</td>\n",
       "      <td>3</td>\n",
       "      <td>616</td>\n",
       "      <td>0.340009</td>\n",
       "      <td>0.515731</td>\n",
       "      <td>3</td>\n",
       "    </tr>\n",
       "    <tr>\n",
       "      <th>8</th>\n",
       "      <td>1</td>\n",
       "      <td>1</td>\n",
       "      <td>0</td>\n",
       "      <td>0</td>\n",
       "      <td>7</td>\n",
       "      <td>0</td>\n",
       "      <td>0</td>\n",
       "      <td>20</td>\n",
       "      <td>1</td>\n",
       "      <td>41</td>\n",
       "      <td>...</td>\n",
       "      <td>1</td>\n",
       "      <td>29</td>\n",
       "      <td>0</td>\n",
       "      <td>5</td>\n",
       "      <td>2</td>\n",
       "      <td>3</td>\n",
       "      <td>1421</td>\n",
       "      <td>0.251515</td>\n",
       "      <td>0.590909</td>\n",
       "      <td>3</td>\n",
       "    </tr>\n",
       "    <tr>\n",
       "      <th>9</th>\n",
       "      <td>3</td>\n",
       "      <td>0</td>\n",
       "      <td>0</td>\n",
       "      <td>0</td>\n",
       "      <td>70</td>\n",
       "      <td>10</td>\n",
       "      <td>10</td>\n",
       "      <td>260</td>\n",
       "      <td>15</td>\n",
       "      <td>165</td>\n",
       "      <td>...</td>\n",
       "      <td>0</td>\n",
       "      <td>28</td>\n",
       "      <td>0</td>\n",
       "      <td>19</td>\n",
       "      <td>2</td>\n",
       "      <td>3</td>\n",
       "      <td>644</td>\n",
       "      <td>0.057639</td>\n",
       "      <td>0.493750</td>\n",
       "      <td>1</td>\n",
       "    </tr>\n",
       "  </tbody>\n",
       "</table>\n",
       "<p>10 rows × 25 columns</p>\n",
       "</div>"
      ],
      "text/plain": [
       "   reviewrating  reusefulcount  recoolcount  refunnycount  friendcount  \\\n",
       "0             5              0            0             0            0   \n",
       "1             4              0            0             0            1   \n",
       "2             5              0            0             0            1   \n",
       "3             5              0            0             0            0   \n",
       "4             1              0            0             0            0   \n",
       "5             5              0            0             0            0   \n",
       "6             4              0            0             0            0   \n",
       "7             4              0            0             0           10   \n",
       "8             1              1            0             0            7   \n",
       "9             3              0            0             0           70   \n",
       "\n",
       "   fancount  tipcount  reviewcount  firstcount  usefulcount   ...     \\\n",
       "0         0         0            1           0            0   ...      \n",
       "1         0         0           18           0            5   ...      \n",
       "2         0         0            1           0            0   ...      \n",
       "3         0         0            4           0            0   ...      \n",
       "4         0         0            2           0            7   ...      \n",
       "5         0         0            4           1            1   ...      \n",
       "6         0         0            1           0            0   ...      \n",
       "7         0         0          251           1           87   ...      \n",
       "8         0         0           20           1           41   ...      \n",
       "9        10        10          260          15          165   ...      \n",
       "\n",
       "   pricerange  monmembership  firstreview  maxReviewDay  avgReviewDay  \\\n",
       "0           1              0            0             1             1   \n",
       "1           2              0            0             9             3   \n",
       "2           1              0            0             1             1   \n",
       "3           0              0            0             2             2   \n",
       "4           1              0            0             1             1   \n",
       "5           1              0            0             2             1   \n",
       "6           2              0            0             1             1   \n",
       "7           0             28            0            19             2   \n",
       "8           1             29            0             5             2   \n",
       "9           0             28            0            19             2   \n",
       "\n",
       "   avgpostedrating  avgreviewlen  polarity  subjective  cluster  \n",
       "0                5            76  0.500000    0.583333        7  \n",
       "1                3           299  0.585714    0.614286        2  \n",
       "2                5           196  0.700000    0.925000        2  \n",
       "3                4           371  1.000000    0.300000        0  \n",
       "4                3          1042  0.123684    0.271930        3  \n",
       "5                2           840  0.328169    0.470000        4  \n",
       "6                4            22  0.800000    0.750000        1  \n",
       "7                3           616  0.340009    0.515731        3  \n",
       "8                3          1421  0.251515    0.590909        3  \n",
       "9                3           644  0.057639    0.493750        1  \n",
       "\n",
       "[10 rows x 25 columns]"
      ]
     },
     "execution_count": 75,
     "metadata": {},
     "output_type": "execute_result"
    }
   ],
   "source": [
    "df_pos.head(10)"
   ]
  },
  {
   "cell_type": "markdown",
   "metadata": {},
   "source": [
    "# 6 Building classify model"
   ]
  },
  {
   "cell_type": "markdown",
   "metadata": {},
   "source": [
    "## 6.1 Features Selection based logistic regression"
   ]
  },
  {
   "cell_type": "code",
   "execution_count": 124,
   "metadata": {
    "scrolled": true
   },
   "outputs": [
    {
     "name": "stderr",
     "output_type": "stream",
     "text": [
      "/opt/conda/lib/python3.6/site-packages/ipykernel_launcher.py:36: FutureWarning: 'argmin' is deprecated, use 'idxmin' instead. The behavior of 'argmin'\n",
      "will be corrected to return the positional minimum in the future.\n",
      "Use 'series.values.argmin' to get the position of the minimum now.\n"
     ]
    },
    {
     "name": "stdout",
     "output_type": "stream",
     "text": [
      "Add  monmembership                  with p-value 0.0\n",
      "Add  maxReviewDay                   with p-value 1.96502e-175\n",
      "Add  avgReviewDay                   with p-value 1.57181e-82\n",
      "Add  reusefulcount                  with p-value 6.94187e-65\n",
      "Add  recoolcount                    with p-value 1.26947e-23\n",
      "Add  avgreviewlen                   with p-value 3.41336e-18\n",
      "Add  coolcount                      with p-value 3.73116e-14\n",
      "Add  reviewrating                   with p-value 5.37516e-14\n",
      "Add  tipcount                       with p-value 1.72092e-10\n",
      "Add  pricerange                     with p-value 5.5973e-06\n",
      "Add  avgpostedrating                with p-value 2.82165e-05\n",
      "Add  polarity                       with p-value 0.0014789\n",
      "Add  firstcount                     with p-value 0.00142852\n",
      "Add  reviewcount                    with p-value 0.00105509\n",
      "resulting features:\n",
      "['monmembership', 'maxReviewDay', 'avgReviewDay', 'reusefulcount', 'recoolcount', 'avgreviewlen', 'coolcount', 'reviewrating', 'tipcount', 'pricerange', 'avgpostedrating', 'polarity', 'firstcount', 'reviewcount']\n"
     ]
    }
   ],
   "source": [
    "import statsmodels.api as sm\n",
    "\n",
    "X = df_pos\n",
    "y = Y\n",
    "def stepwise_selection(X, y, \n",
    "                       initial_list=[], \n",
    "                       threshold_in=0.01, \n",
    "                       threshold_out = 0.05, \n",
    "                       verbose=True):\n",
    "    \"\"\" Perform a forward-backward feature selection \n",
    "    based on p-value from statsmodels.api.OLS\n",
    "    Arguments:\n",
    "        X - pandas.DataFrame with candidate features\n",
    "        y - list-like with the target\n",
    "        initial_list - list of features to start with (column names of X)\n",
    "        threshold_in - include a feature if its p-value < threshold_in\n",
    "        threshold_out - exclude a feature if its p-value > threshold_out\n",
    "        verbose - whether to print the sequence of inclusions and exclusions\n",
    "    Returns: list of selected features \n",
    "    Always set threshold_in < threshold_out to avoid infinite looping.\n",
    "    See https://en.wikipedia.org/wiki/Stepwise_regression for the details\n",
    "    \"\"\"\n",
    "    included = list(initial_list)\n",
    "    while True:\n",
    "        changed=False\n",
    "        # forward step\n",
    "        excluded = list(set(X.columns)-set(included))\n",
    "        new_pval = pd.Series(index=excluded)\n",
    "        for new_column in excluded:\n",
    "            model = sm.OLS(y, sm.add_constant(pd.DataFrame(X[included+[new_column]]))).fit()\n",
    "            new_pval[new_column] = model.pvalues[new_column]\n",
    "        best_pval = new_pval.min()\n",
    "        if best_pval < threshold_in:\n",
    "            best_feature = new_pval.argmin()\n",
    "            included.append(best_feature)\n",
    "            changed=True\n",
    "            if verbose:\n",
    "                print('Add  {:30} with p-value {:.6}'.format(best_feature, best_pval))\n",
    "\n",
    "        # backward step\n",
    "        model = sm.OLS(y, sm.add_constant(pd.DataFrame(X[included]))).fit()\n",
    "        # use all coefs except intercept\n",
    "        pvalues = model.pvalues.iloc[1:]\n",
    "        worst_pval = pvalues.max() # null if pvalues is empty\n",
    "        if worst_pval > threshold_out:\n",
    "            changed=True\n",
    "            worst_feature = pvalues.argmax()\n",
    "            included.remove(worst_feature)\n",
    "            if verbose:\n",
    "                print('Drop {:30} with p-value {:.6}'.format(worst_feature, worst_pval))\n",
    "        if not changed:\n",
    "            break\n",
    "    return included\n",
    "\n",
    "result = stepwise_selection(X, y)\n",
    "\n",
    "print('resulting features:')\n",
    "print(result)\n",
    "\n"
   ]
  },
  {
   "cell_type": "code",
   "execution_count": 125,
   "metadata": {},
   "outputs": [],
   "source": [
    "df_filtered = df_pos[['monmembership', 'maxReviewDay', 'reusefulcount', 'avgReviewDay', 'complimentcount', 'avgreviewlen', 'reviewrating', 'avgpostedrating', 'recoolcount', 'tipcount', 'buscateg', 'polarity', 'fancount', 'firstreview', 'subjective', 'cluster']]"
   ]
  },
  {
   "cell_type": "markdown",
   "metadata": {},
   "source": [
    "## 6.2 Svm model\n",
    "### a. Pos similarity"
   ]
  },
  {
   "cell_type": "code",
   "execution_count": 126,
   "metadata": {},
   "outputs": [],
   "source": [
    "# entire dataset\n",
    "# test building classify model with consine similarity\n",
    "# we can split the featuresets into training and testing datasets using sklearn\n",
    "from sklearn import model_selection\n",
    "from sklearn.model_selection  import train_test_split\n",
    "from sklearn.preprocessing import StandardScaler\n",
    "from nltk.classify.scikitlearn import SklearnClassifier\n",
    "from sklearn.svm import SVC\n",
    "from sklearn import metrics\n"
   ]
  },
  {
   "cell_type": "code",
   "execution_count": 143,
   "metadata": {},
   "outputs": [],
   "source": [
    "\n",
    "def fit_SVM_(X,Y, kernel ='rbf'):\n",
    "    X_train, X_test, y_train, y_test = train_test_split(X, Y, test_size=0.20,random_state=138) \n",
    "    scaler = StandardScaler()  \n",
    "    scaler.fit(X)\n",
    "    X_train = scaler.transform(X_train)  \n",
    "    X_test = scaler.transform(X_test)\n",
    "    # SVM kernel: ‘linear’, ‘poly’, ‘rbf’, ‘sigmoid’, ‘precomputed\n",
    "    # standardize the independent variable\n",
    "    svclassifier = SVC(kernel='rbf')    \t## Linear SVM\n",
    "    svclassifier.fit(X_train, y_train)  \n",
    "    y_pred = svclassifier.predict(X_test)  \t## predict test se\n",
    "    print(metrics.confusion_matrix(y_test, y_pred))\n",
    "    print(\"Accuracy:\",metrics.accuracy_score(y_test, y_pred))\n",
    "    print(\"Error rate:\", 1-metrics.accuracy_score(y_test, y_pred))\n",
    "    print(\"Recall:\", metrics.recall_score(y_test, y_pred))\n",
    "    print(\"Precision:\", metrics.precision_score(y_test, y_pred))\n",
    "    print('{} {} {} {}'.format(metrics.accuracy_score(y_test, y_pred),\n",
    "                   1-metrics.accuracy_score(y_test, y_pred),\n",
    "                   metrics.recall_score(y_test, y_pred),\n",
    "                   metrics.precision_score(y_test, y_pred)))\n"
   ]
  },
  {
   "cell_type": "code",
   "execution_count": 149,
   "metadata": {
    "scrolled": false
   },
   "outputs": [
    {
     "name": "stdout",
     "output_type": "stream",
     "text": [
      "[[781 201]\n",
      " [ 75 943]]\n",
      "Accuracy: 0.862\n",
      "Error rate: 0.138\n",
      "Recall: 0.9263261296660118\n",
      "Precision: 0.8243006993006993\n",
      "0.862 0.138 0.9263261296660118 0.8243006993006993\n",
      "--- 2.429598569869995 seconds ---\n"
     ]
    }
   ],
   "source": [
    "import time\n",
    "start_time = time.time()\n",
    "\n",
    "fit_SVM_(df_pos,Y, kernel ='rbf')\n",
    "\n",
    "print(\"--- %s seconds ---\" % (time.time() - start_time))\n"
   ]
  },
  {
   "cell_type": "code",
   "execution_count": 140,
   "metadata": {},
   "outputs": [
    {
     "name": "stdout",
     "output_type": "stream",
     "text": [
      "\n",
      " Classifying in cluster: 0\n",
      "[[186  64]\n",
      " [ 31 289]]\n",
      "Accuracy: 0.8333333333333334\n",
      "Error rate: 0.16666666666666663\n",
      "Recall: 0.903125\n",
      "Precision: 0.8186968838526912\n",
      "0.8333333333333334 0.16666666666666663 0.903125 0.8186968838526912 \n",
      "\n",
      " Classifying in cluster: 1\n",
      "[[ 32  23]\n",
      " [  6 113]]\n",
      "Accuracy: 0.8333333333333334\n",
      "Error rate: 0.16666666666666663\n",
      "Recall: 0.9495798319327731\n",
      "Precision: 0.8308823529411765\n",
      "0.8333333333333334 0.16666666666666663 0.9495798319327731 0.8308823529411765 \n",
      "\n",
      " Classifying in cluster: 2\n",
      "[[324  61]\n",
      " [ 31 344]]\n",
      "Accuracy: 0.8789473684210526\n",
      "Error rate: 0.12105263157894741\n",
      "Recall: 0.9173333333333333\n",
      "Precision: 0.8493827160493828\n",
      "0.8789473684210526 0.12105263157894741 0.9173333333333333 0.8493827160493828 \n",
      "\n",
      " Classifying in cluster: 3\n",
      "[[112  17]\n",
      " [ 15  67]]\n",
      "Accuracy: 0.8483412322274881\n",
      "Error rate: 0.15165876777251186\n",
      "Recall: 0.8170731707317073\n",
      "Precision: 0.7976190476190477\n",
      "0.8483412322274881 0.15165876777251186 0.8170731707317073 0.7976190476190477 \n",
      "\n",
      " Classifying in cluster: 4\n",
      "[[138  15]\n",
      " [ 14 120]]\n",
      "Accuracy: 0.8989547038327527\n",
      "Error rate: 0.10104529616724733\n",
      "Recall: 0.8955223880597015\n",
      "Precision: 0.8888888888888888\n",
      "0.8989547038327527 0.10104529616724733 0.8955223880597015 0.8888888888888888 \n"
     ]
    }
   ],
   "source": [
    "for i in range(0,k):\n",
    "    df_cluster0 = df_pos[df_pos['cluster'] == i]\n",
    "    Y = pd.Series(Y)\n",
    "    print('\\n Classifying in cluster: {}'.format(i))\n",
    "    fit_SVM_(df_cluster0.drop('cluster',axis=1),Y.iloc[df_cluster0.index], kernel ='rbf')"
   ]
  },
  {
   "cell_type": "code",
   "execution_count": 147,
   "metadata": {},
   "outputs": [
    {
     "name": "stdout",
     "output_type": "stream",
     "text": [
      "[[781 201]\n",
      " [ 72 946]]\n",
      "Accuracy: 0.8635\n",
      "Error rate: 0.13649999999999995\n",
      "Recall: 0.9292730844793713\n",
      "Precision: 0.8247602441150829\n",
      "0.8635 0.13649999999999995 0.9292730844793713 0.8247602441150829\n"
     ]
    }
   ],
   "source": [
    "# withou cluster\n",
    "fit_SVM_(df_pos.drop('cluster',axis=1),Y, kernel ='rbf' )\n"
   ]
  },
  {
   "cell_type": "markdown",
   "metadata": {},
   "source": [
    "### b. Unigram"
   ]
  },
  {
   "cell_type": "code",
   "execution_count": 107,
   "metadata": {
    "scrolled": true
   },
   "outputs": [
    {
     "name": "stdout",
     "output_type": "stream",
     "text": [
      "[[797 213]\n",
      " [ 55 935]]\n",
      "Accuracy: 0.866\n",
      "Error rate: 0.134\n",
      "Recall: 0.9444444444444444\n",
      "Precision: 0.8144599303135889\n",
      "--- 2.5167458057403564 seconds ---\n"
     ]
    }
   ],
   "source": [
    "import time\n",
    "start_time = time.time()\n",
    "\n",
    "fit_SVM_(df_ngram,Y, kernel ='rbf')\n",
    "\n",
    "print(\"--- %s seconds ---\" % (time.time() - start_time))\n"
   ]
  },
  {
   "cell_type": "code",
   "execution_count": 122,
   "metadata": {},
   "outputs": [
    {
     "name": "stdout",
     "output_type": "stream",
     "text": [
      "Classifying in cluster: 0\n",
      "[[82 16]\n",
      " [ 6 89]]\n",
      "Accuracy: 0.8860103626943006\n",
      "Error rate: 0.11398963730569944\n",
      "Recall: 0.9368421052631579\n",
      "Precision: 0.8476190476190476\n",
      "Classifying in cluster: 1\n",
      "[[21  6]\n",
      " [ 0 32]]\n",
      "Accuracy: 0.8983050847457628\n",
      "Error rate: 0.10169491525423724\n",
      "Recall: 1.0\n",
      "Precision: 0.8421052631578947\n",
      "Classifying in cluster: 2\n",
      "[[18  5]\n",
      " [ 0 24]]\n",
      "Accuracy: 0.8936170212765957\n",
      "Error rate: 0.1063829787234043\n",
      "Recall: 1.0\n",
      "Precision: 0.8275862068965517\n",
      "Classifying in cluster: 3\n",
      "[[ 83  31]\n",
      " [ 20 152]]\n",
      "Accuracy: 0.8216783216783217\n",
      "Error rate: 0.17832167832167833\n",
      "Recall: 0.8837209302325582\n",
      "Precision: 0.8306010928961749\n",
      "Classifying in cluster: 4\n",
      "[[201  62]\n",
      " [ 29 278]]\n",
      "Accuracy: 0.8403508771929824\n",
      "Error rate: 0.1596491228070176\n",
      "Recall: 0.9055374592833876\n",
      "Precision: 0.8176470588235294\n",
      "Classifying in cluster: 5\n",
      "[[231  46]\n",
      " [ 20 176]]\n",
      "Accuracy: 0.8604651162790697\n",
      "Error rate: 0.13953488372093026\n",
      "Recall: 0.8979591836734694\n",
      "Precision: 0.7927927927927928\n",
      "Classifying in cluster: 6\n",
      "[[ 27  29]\n",
      " [  1 101]]\n",
      "Accuracy: 0.810126582278481\n",
      "Error rate: 0.189873417721519\n",
      "Recall: 0.9901960784313726\n",
      "Precision: 0.7769230769230769\n",
      "Classifying in cluster: 7\n",
      "[[98 28]\n",
      " [ 6 84]]\n",
      "Accuracy: 0.8425925925925926\n",
      "Error rate: 0.15740740740740744\n",
      "Recall: 0.9333333333333333\n",
      "Precision: 0.75\n"
     ]
    }
   ],
   "source": [
    "for i in range(0,k):\n",
    "    df_cluster0 = df_ngram[df_ngram['cluster'] == i]\n",
    "    Y = pd.Series(Y)\n",
    "    print('Classifying in cluster: {}'.format(i))\n",
    "    fit_SVM_(df_cluster0.drop('cluster',axis=1),Y.iloc[df_cluster0.index], kernel ='rbf')"
   ]
  },
  {
   "cell_type": "markdown",
   "metadata": {},
   "source": [
    "## 6.3 Random Forest Classifiers"
   ]
  },
  {
   "cell_type": "code",
   "execution_count": 152,
   "metadata": {},
   "outputs": [],
   "source": [
    "from sklearn.ensemble import RandomForestClassifier\n",
    "from sklearn.datasets import make_classification\n",
    "from sklearn.feature_selection import SelectFromModel"
   ]
  },
  {
   "cell_type": "code",
   "execution_count": 182,
   "metadata": {},
   "outputs": [],
   "source": [
    "\n",
    "def RF_selction(X,Y):\n",
    "    X_train, X_test, y_train, y_test = train_test_split(X, Y, test_size=0.20,random_state=138) \n",
    "    sel = SelectFromModel(RandomForestClassifier(n_estimators = 500,max_depth = 100))\n",
    "    sel.fit(X_train, y_train)\n",
    "    sel.get_support()\n",
    "    selected_feat= X_train.columns[(sel.get_support())]\n",
    "    print(len(selected_feat))\n",
    "    print(selected_feat)\n"
   ]
  },
  {
   "cell_type": "code",
   "execution_count": 183,
   "metadata": {},
   "outputs": [
    {
     "name": "stdout",
     "output_type": "stream",
     "text": [
      "9\n",
      "Index(['reusefulcount', 'friendcount', 'reviewcount', 'usefulcount',\n",
      "       'coolcount', 'complimentcount', 'funnycount', 'monmembership',\n",
      "       'avgreviewlen'],\n",
      "      dtype='object')\n"
     ]
    }
   ],
   "source": [
    "RF_selction(df_pos,Y)"
   ]
  },
  {
   "cell_type": "code",
   "execution_count": 188,
   "metadata": {},
   "outputs": [],
   "source": [
    "def RF_classifier(X,Y, \n",
    "                  max_features_= 'auto', \n",
    "                  n_estimators_ = 100,\n",
    "                  max_depth_ = None,\n",
    "                  min_sample_leaf_ = 2):\n",
    "    X_train, X_test, y_train, y_test = train_test_split(X, Y, test_size=0.20,random_state=138) \n",
    "    clf = RandomForestClassifier(max_features = max_features_, \n",
    "                                 n_estimators = n_estimators_,\n",
    "                                 max_depth = max_depth_,\n",
    "                                 min_samples_leaf = min_sample_leaf_)\n",
    "    clf.fit(X_train, y_train)\n",
    "    y_pred = clf.predict(X_test)  \t## predict test set\n",
    "    print(metrics.confusion_matrix(y_test, y_pred))\n",
    "    print(\"Accuracy:\",metrics.accuracy_score(y_test, y_pred))\n",
    "    print(\"Error rate:\", 1-metrics.accuracy_score(y_test, y_pred))\n",
    "    print(\"Recall:\", metrics.recall_score(y_test, y_pred))\n",
    "    print(\"Precision:\", metrics.precision_score(y_test, y_pred))\n",
    "    print('{} {} {} {}'.format(metrics.accuracy_score(y_test, y_pred),\n",
    "                   1-metrics.accuracy_score(y_test, y_pred),\n",
    "                   metrics.recall_score(y_test, y_pred),\n",
    "                   metrics.precision_score(y_test, y_pred)))\n",
    "    return(clf)"
   ]
  },
  {
   "cell_type": "code",
   "execution_count": 189,
   "metadata": {},
   "outputs": [
    {
     "name": "stdout",
     "output_type": "stream",
     "text": [
      "[[857 125]\n",
      " [ 44 974]]\n",
      "Accuracy: 0.9155\n",
      "Error rate: 0.08450000000000002\n",
      "Recall: 0.9567779960707269\n",
      "Precision: 0.8862602365787079\n",
      "0.9155 0.08450000000000002 0.9567779960707269 0.8862602365787079\n"
     ]
    }
   ],
   "source": [
    "clf = RF_classifier(df_pos,Y,n_estimators_=500,min_sample_leaf_= 2, max_depth_ = 100)"
   ]
  },
  {
   "cell_type": "code",
   "execution_count": 233,
   "metadata": {},
   "outputs": [
    {
     "name": "stdout",
     "output_type": "stream",
     "text": [
      "            feature  importance\n",
      "9       usefulcount    0.150057\n",
      "10        coolcount    0.123513\n",
      "7       reviewcount    0.107604\n",
      "4       friendcount    0.095748\n",
      "11  complimentcount    0.068227\n",
      "12       funnycount    0.066428\n",
      "16    monmembership    0.063104\n",
      "1     reusefulcount    0.058786\n",
      "21     avgreviewlen    0.039708\n",
      "22         polarity    0.033082\n"
     ]
    },
    {
     "data": {
      "image/png": "[encoded data removed]",
      "text/plain": [
       "<Figure size 432x288 with 1 Axes>"
      ]
     },
     "metadata": {
      "needs_background": "light"
     },
     "output_type": "display_data"
    }
   ],
   "source": [
    "fi = pd.DataFrame({'feature': list(df_pos.columns),\n",
    "                  'importance': clf.feature_importances_}).\\\n",
    "                   sort_values('importance', ascending = False)\n",
    "print(fi.head(10))\n",
    "\n",
    "dfplot = fi.head(10).sort_values('importance', ascending = True)\n",
    "\n",
    "N=10\n",
    "colors = np.random.rand(N)\n",
    "plt.scatter(dfplot['feature'], dfplot['importance'], s =50, c='tomato', alpha=1, marker ='^')\n",
    "plt.xticks(rotation=90)\n",
    "plt.xlabel('Features Name')\n",
    "plt.ylabel('Importance')\n",
    "plt.title('Top 10 Importance Features in RF model')\n",
    "for x,y in zip(range(0,11), dfplot['importance']):\n",
    "    plt.annotate('{}'.format(round(y,3)),\n",
    "                 xy=(x , y + 0.01),\n",
    "                 xytext=(0, 0),  # 3 points vertical offset\n",
    "                 textcoords=\"offset points\",\n",
    "                 ha='center', va='bottom')\n",
    "\n",
    "plt.show()"
   ]
  },
  {
   "cell_type": "code",
   "execution_count": null,
   "metadata": {},
   "outputs": [],
   "source": []
  },
  {
   "cell_type": "code",
   "execution_count": null,
   "metadata": {},
   "outputs": [],
   "source": []
  },
  {
   "cell_type": "code",
   "execution_count": 159,
   "metadata": {},
   "outputs": [
    {
     "name": "stdout",
     "output_type": "stream",
     "text": [
      "\n",
      "Classifying in cluster: 0\n",
      "[[206  44]\n",
      " [ 24 296]]\n",
      "Accuracy: 0.8807017543859649\n",
      "Error rate: 0.11929824561403513\n",
      "Recall: 0.925\n",
      "Precision: 0.8705882352941177\n",
      "0.8807017543859649 0.11929824561403513 0.925 0.8705882352941177\n",
      "\n",
      "Classifying in cluster: 1\n",
      "[[ 42  13]\n",
      " [  8 111]]\n",
      "Accuracy: 0.8793103448275862\n",
      "Error rate: 0.12068965517241381\n",
      "Recall: 0.9327731092436975\n",
      "Precision: 0.8951612903225806\n",
      "0.8793103448275862 0.12068965517241381 0.9327731092436975 0.8951612903225806\n",
      "\n",
      "Classifying in cluster: 2\n",
      "[[348  37]\n",
      " [ 16 359]]\n",
      "Accuracy: 0.9302631578947368\n",
      "Error rate: 0.06973684210526321\n",
      "Recall: 0.9573333333333334\n",
      "Precision: 0.9065656565656566\n",
      "0.9302631578947368 0.06973684210526321 0.9573333333333334 0.9065656565656566\n",
      "\n",
      "Classifying in cluster: 3\n",
      "[[120   9]\n",
      " [  7  75]]\n",
      "Accuracy: 0.9241706161137441\n",
      "Error rate: 0.07582938388625593\n",
      "Recall: 0.9146341463414634\n",
      "Precision: 0.8928571428571429\n",
      "0.9241706161137441 0.07582938388625593 0.9146341463414634 0.8928571428571429\n",
      "\n",
      "Classifying in cluster: 4\n",
      "[[148   5]\n",
      " [  5 129]]\n",
      "Accuracy: 0.9651567944250871\n",
      "Error rate: 0.03484320557491294\n",
      "Recall: 0.9626865671641791\n",
      "Precision: 0.9626865671641791\n",
      "0.9651567944250871 0.03484320557491294 0.9626865671641791 0.9626865671641791\n"
     ]
    }
   ],
   "source": [
    "for i in range(0,k):\n",
    "    df_cluster0 = df_pos[df_pos['cluster'] == i]\n",
    "    Y = pd.Series(Y)\n",
    "    print('\\nClassifying in cluster: {}'.format(i))\n",
    "    RF_classifier(df_cluster0.drop('cluster',axis=1),Y.iloc[df_cluster0.index],n_estimators_=500,min_sample_leaf_= 2, max_depth_ = 100)"
   ]
  },
  {
   "cell_type": "code",
   "execution_count": 174,
   "metadata": {
    "scrolled": true
   },
   "outputs": [
    {
     "name": "stdout",
     "output_type": "stream",
     "text": [
      "[[862 120]\n",
      " [ 51 967]]\n",
      "Accuracy: 0.9145\n",
      "Error rate: 0.08550000000000002\n",
      "Recall: 0.949901768172888\n",
      "Precision: 0.889604415823367\n",
      "0.9145 0.08550000000000002 0.949901768172888 0.889604415823367\n"
     ]
    }
   ],
   "source": [
    "# withou cluster\n",
    "RF_classifier(df_pos.drop('cluster',axis=1),Y,n_estimators_=150,min_sample_leaf_= 2, max_depth_ = 50 )"
   ]
  },
  {
   "cell_type": "code",
   "execution_count": 173,
   "metadata": {
    "scrolled": false
   },
   "outputs": [
    {
     "name": "stdout",
     "output_type": "stream",
     "text": [
      "[[861 121]\n",
      " [ 51 967]]\n",
      "Accuracy: 0.914\n",
      "Error rate: 0.08599999999999997\n",
      "Recall: 0.949901768172888\n",
      "Precision: 0.8887867647058824\n",
      "0.914 0.08599999999999997 0.949901768172888 0.8887867647058824\n"
     ]
    }
   ],
   "source": [
    "# withou text generated features\n",
    "RF_classifier(df_pos.drop(['polarity','subjective'],axis=1),Y,n_estimators_=150,min_sample_leaf_= 2, max_depth_ = 50 )"
   ]
  },
  {
   "cell_type": "markdown",
   "metadata": {},
   "source": [
    "### b. Bigram"
   ]
  },
  {
   "cell_type": "code",
   "execution_count": 161,
   "metadata": {
    "scrolled": true
   },
   "outputs": [
    {
     "name": "stdout",
     "output_type": "stream",
     "text": [
      "[[858 124]\n",
      " [ 48 970]]\n",
      "Accuracy: 0.914\n",
      "Error rate: 0.08599999999999997\n",
      "Recall: 0.9528487229862476\n",
      "Precision: 0.886654478976234\n",
      "0.914 0.08599999999999997 0.9528487229862476 0.886654478976234\n"
     ]
    }
   ],
   "source": [
    "RF_classifier(df_ngram,Y,n_estimators_=150,min_sample_leaf_= 2, max_depth_ = 100 )"
   ]
  },
  {
   "cell_type": "code",
   "execution_count": 163,
   "metadata": {
    "scrolled": true
   },
   "outputs": [
    {
     "name": "stdout",
     "output_type": "stream",
     "text": [
      "\n",
      "Classifying in cluster: 0\n",
      "[[203  34]\n",
      " [ 18 254]]\n",
      "Accuracy: 0.8978388998035364\n",
      "Error rate: 0.10216110019646363\n",
      "Recall: 0.9338235294117647\n",
      "Precision: 0.8819444444444444\n",
      "0.8978388998035364 0.10216110019646363 0.9338235294117647 0.8819444444444444\n",
      "\n",
      "Classifying in cluster: 1\n",
      "[[ 48  15]\n",
      " [  4 116]]\n",
      "Accuracy: 0.8961748633879781\n",
      "Error rate: 0.10382513661202186\n",
      "Recall: 0.9666666666666667\n",
      "Precision: 0.8854961832061069\n",
      "0.8961748633879781 0.10382513661202186 0.9666666666666667 0.8854961832061069\n",
      "\n",
      "Classifying in cluster: 2\n",
      "[[148  13]\n",
      " [  7 175]]\n",
      "Accuracy: 0.9416909620991254\n",
      "Error rate: 0.058309037900874605\n",
      "Recall: 0.9615384615384616\n",
      "Precision: 0.9308510638297872\n",
      "0.9416909620991254 0.058309037900874605 0.9615384615384616 0.9308510638297872\n",
      "\n",
      "Classifying in cluster: 3\n",
      "[[349  42]\n",
      " [ 15 338]]\n",
      "Accuracy: 0.9233870967741935\n",
      "Error rate: 0.0766129032258065\n",
      "Recall: 0.9575070821529745\n",
      "Precision: 0.8894736842105263\n",
      "0.9233870967741935 0.0766129032258065 0.9575070821529745 0.8894736842105263\n",
      "\n",
      "Classifying in cluster: 4\n",
      "[[134   9]\n",
      " [  6  74]]\n",
      "Accuracy: 0.9327354260089686\n",
      "Error rate: 0.06726457399103136\n",
      "Recall: 0.925\n",
      "Precision: 0.891566265060241\n",
      "0.9327354260089686 0.06726457399103136 0.925 0.891566265060241\n"
     ]
    }
   ],
   "source": [
    "for i in range(0,k):\n",
    "    df_cluster0 = df_ngram[df_ngram['cluster'] == i]\n",
    "    Y = pd.Series(Y)\n",
    "    print('\\nClassifying in cluster: {}'.format(i))\n",
    "    RF_classifier(df_cluster0.drop('cluster',axis=1),Y.iloc[df_cluster0.index],n_estimators_=150,min_sample_leaf_= 2, max_depth_ = 100)"
   ]
  },
  {
   "cell_type": "code",
   "execution_count": 164,
   "metadata": {
    "scrolled": true
   },
   "outputs": [
    {
     "name": "stdout",
     "output_type": "stream",
     "text": [
      "[[853 129]\n",
      " [ 49 969]]\n",
      "Accuracy: 0.911\n",
      "Error rate: 0.08899999999999997\n",
      "Recall: 0.9518664047151277\n",
      "Precision: 0.8825136612021858\n",
      "0.911 0.08899999999999997 0.9518664047151277 0.8825136612021858\n"
     ]
    }
   ],
   "source": [
    "# withou cluster\n",
    "RF_classifier(df_ngram.drop('cluster',axis=1),Y,n_estimators_=150,min_sample_leaf_= 2, max_depth_ = 100 )"
   ]
  },
  {
   "cell_type": "code",
   "execution_count": null,
   "metadata": {},
   "outputs": [],
   "source": [
    "# withou text generated features\n",
    "RF_classifier(df_ngram.drop(['cluster','polarity','subjective'],axis=1),Y,n_estimators_=150,min_sample_leaf_= 2, max_depth_ = 100 )"
   ]
  },
  {
   "cell_type": "markdown",
   "metadata": {},
   "source": [
    "## 6.3 Neural Network"
   ]
  },
  {
   "cell_type": "markdown",
   "metadata": {},
   "source": [
    "### a. NN with pos similarity"
   ]
  },
  {
   "cell_type": "code",
   "execution_count": 167,
   "metadata": {},
   "outputs": [],
   "source": [
    "from sklearn.neural_network import MLPClassifier"
   ]
  },
  {
   "cell_type": "code",
   "execution_count": 168,
   "metadata": {},
   "outputs": [],
   "source": [
    "def NN_classifier(X, Y, hidden_layers_ = (5,2), activation_ ='relu',solver_ ='adam' , alphafloat_ =1e-5):\n",
    "\n",
    "    X_train, X_test, y_train, y_test = train_test_split(X, Y, test_size=0.20,random_state=138)\n",
    "\n",
    "    clf = MLPClassifier(solver=solver_,\n",
    "                        alpha=alphafloat_,\n",
    "                        activation =activation_,\n",
    "                        hidden_layer_sizes= hidden_layers_,\n",
    "                        random_state=1)\n",
    "\n",
    "    clf.fit(X_train, y_train)\n",
    "\n",
    "    y_pred = clf.predict(X_test)\n",
    "    cm =  metrics.confusion_matrix(y_test, y_pred)\n",
    "    print(cm)\n",
    "    print(\"Accuracy:\",metrics.accuracy_score(y_test, y_pred))\n",
    "    print(\"Error rate:\", 1-metrics.accuracy_score(y_test, y_pred))\n",
    "    print(\"Recall:\", metrics.recall_score(y_test, y_pred))\n",
    "    print(\"Precision:\", metrics.precision_score(y_test, y_pred))\n",
    "    print('{} {} {} {}'.format(metrics.accuracy_score(y_test, y_pred),\n",
    "                   1-metrics.accuracy_score(y_test, y_pred),\n",
    "                   metrics.recall_score(y_test, y_pred),\n",
    "                   metrics.precision_score(y_test, y_pred)))\n",
    "#     plt.clf()\n",
    "#     plt.imshow(cm, interpolation='nearest', cmap=plt.cm.Wistia)\n",
    "#     classNames = ['0','1']\n",
    "#     plt.title('NN Confusion Matrix - Test Data')\n",
    "#     plt.ylabel('True Class')\n",
    "#     plt.xlabel('Predicted Class')\n",
    "#     tick_marks = np.arange(len(classNames))\n",
    "#     plt.xticks(tick_marks, classNames, rotation=45)\n",
    "#     plt.yticks(tick_marks, classNames)\n",
    "#     s = [['TN','FP'], ['FN', 'TP']]\n",
    "#     for i in range(2):\n",
    "#         for j in range(2):\n",
    "#             plt.text(j,i, str(s[i][j])+\" = \"+str(cm[i][j]))\n",
    "#     plt.show()"
   ]
  },
  {
   "cell_type": "code",
   "execution_count": 176,
   "metadata": {},
   "outputs": [
    {
     "name": "stdout",
     "output_type": "stream",
     "text": [
      "[[829 153]\n",
      " [101 917]]\n",
      "Accuracy: 0.873\n",
      "Error rate: 0.127\n",
      "Recall: 0.9007858546168959\n",
      "Precision: 0.8570093457943925\n",
      "0.873 0.127 0.9007858546168959 0.8570093457943925\n"
     ]
    }
   ],
   "source": [
    "# full clusters\n",
    "\n",
    "NN_classifier(df_pos,Y,hidden_layers_ =(20,30,40,50), solver_='adam', activation_= 'tanh' )"
   ]
  },
  {
   "cell_type": "code",
   "execution_count": 170,
   "metadata": {},
   "outputs": [
    {
     "name": "stdout",
     "output_type": "stream",
     "text": [
      "\n",
      "Classifying in cluster: 0\n",
      "[[196  54]\n",
      " [ 39 281]]\n",
      "Accuracy: 0.8368421052631579\n",
      "Error rate: 0.16315789473684206\n",
      "Recall: 0.878125\n",
      "Precision: 0.8388059701492537\n",
      "0.8368421052631579 0.16315789473684206 0.878125 0.8388059701492537\n",
      "\n",
      "Classifying in cluster: 1\n"
     ]
    },
    {
     "name": "stderr",
     "output_type": "stream",
     "text": [
      "/opt/conda/lib/python3.6/site-packages/sklearn/neural_network/_multilayer_perceptron.py:571: ConvergenceWarning: Stochastic Optimizer: Maximum iterations (200) reached and the optimization hasn't converged yet.\n",
      "  % self.max_iter, ConvergenceWarning)\n"
     ]
    },
    {
     "name": "stdout",
     "output_type": "stream",
     "text": [
      "[[ 35  20]\n",
      " [  6 113]]\n",
      "Accuracy: 0.8505747126436781\n",
      "Error rate: 0.14942528735632188\n",
      "Recall: 0.9495798319327731\n",
      "Precision: 0.849624060150376\n",
      "0.8505747126436781 0.14942528735632188 0.9495798319327731 0.849624060150376\n",
      "\n",
      "Classifying in cluster: 2\n",
      "[[324  61]\n",
      " [ 27 348]]\n",
      "Accuracy: 0.8842105263157894\n",
      "Error rate: 0.11578947368421055\n",
      "Recall: 0.928\n",
      "Precision: 0.8508557457212714\n",
      "0.8842105263157894 0.11578947368421055 0.928 0.8508557457212714\n",
      "\n",
      "Classifying in cluster: 3\n",
      "[[117  12]\n",
      " [ 13  69]]\n",
      "Accuracy: 0.8815165876777251\n",
      "Error rate: 0.11848341232227488\n",
      "Recall: 0.8414634146341463\n",
      "Precision: 0.8518518518518519\n",
      "0.8815165876777251 0.11848341232227488 0.8414634146341463 0.8518518518518519\n",
      "\n",
      "Classifying in cluster: 4\n",
      "[[142  11]\n",
      " [ 11 123]]\n",
      "Accuracy: 0.9233449477351916\n",
      "Error rate: 0.0766550522648084\n",
      "Recall: 0.917910447761194\n",
      "Precision: 0.917910447761194\n",
      "0.9233449477351916 0.0766550522648084 0.917910447761194 0.917910447761194\n"
     ]
    }
   ],
   "source": [
    "for i in range(0,k):\n",
    "    df_cluster0 = df_pos[df_pos['cluster'] == i]\n",
    "    Y = pd.Series(Y)\n",
    "    print('\\nClassifying in cluster: {}'.format(i))\n",
    "    NN_classifier(df_cluster0.drop('cluster',axis=1),Y.iloc[df_cluster0.index],hidden_layers_ =(20,30,40,50), solver_='adam', activation_= 'tanh' )"
   ]
  },
  {
   "cell_type": "code",
   "execution_count": 172,
   "metadata": {},
   "outputs": [
    {
     "name": "stdout",
     "output_type": "stream",
     "text": [
      "[[834 148]\n",
      " [104 914]]\n",
      "Accuracy: 0.874\n",
      "Error rate: 0.126\n",
      "Recall: 0.8978388998035364\n",
      "Precision: 0.8606403013182674\n",
      "0.874 0.126 0.8978388998035364 0.8606403013182674\n"
     ]
    }
   ],
   "source": [
    "#without cluster\n",
    "NN_classifier(df_pos.drop('cluster',axis=1),Y,hidden_layers_ =(20,30,40,50), solver_='adam', activation_= 'tanh' )"
   ]
  },
  {
   "cell_type": "markdown",
   "metadata": {},
   "source": [
    "### b NN with bigram"
   ]
  },
  {
   "cell_type": "code",
   "execution_count": 144,
   "metadata": {
    "scrolled": false
   },
   "outputs": [
    {
     "name": "stdout",
     "output_type": "stream",
     "text": [
      "[[850 160]\n",
      " [ 85 905]]\n",
      "Accuracy: 0.8775\n",
      "Error rate: 0.12250000000000005\n",
      "Recall: 0.9141414141414141\n",
      "Precision: 0.8497652582159625\n"
     ]
    },
    {
     "data": {
      "image/png": "[encoded data removed]",
      "text/plain": [
       "<Figure size 432x288 with 1 Axes>"
      ]
     },
     "metadata": {
      "needs_background": "light"
     },
     "output_type": "display_data"
    }
   ],
   "source": [
    "NN_classifier(df_ngram,Y,hidden_layers_ =(20,30,40,50), solver_='adam', activation_= 'tanh' )"
   ]
  },
  {
   "cell_type": "code",
   "execution_count": 145,
   "metadata": {},
   "outputs": [
    {
     "name": "stdout",
     "output_type": "stream",
     "text": [
      "Classifying in cluster: 0\n",
      "[[84 14]\n",
      " [ 6 89]]\n",
      "Accuracy: 0.8963730569948186\n",
      "Error rate: 0.10362694300518138\n",
      "Recall: 0.9368421052631579\n",
      "Precision: 0.8640776699029126\n"
     ]
    },
    {
     "data": {
      "image/png": "[encoded data removed]",
      "text/plain": [
       "<Figure size 432x288 with 1 Axes>"
      ]
     },
     "metadata": {
      "needs_background": "light"
     },
     "output_type": "display_data"
    },
    {
     "name": "stdout",
     "output_type": "stream",
     "text": [
      "Classifying in cluster: 1\n",
      "[[21  6]\n",
      " [ 1 31]]\n",
      "Accuracy: 0.8813559322033898\n",
      "Error rate: 0.11864406779661019\n",
      "Recall: 0.96875\n",
      "Precision: 0.8378378378378378\n"
     ]
    },
    {
     "data": {
      "image/png": "[encoded data removed]",
      "text/plain": [
       "<Figure size 432x288 with 1 Axes>"
      ]
     },
     "metadata": {
      "needs_background": "light"
     },
     "output_type": "display_data"
    },
    {
     "name": "stdout",
     "output_type": "stream",
     "text": [
      "Classifying in cluster: 2\n",
      "[[21  2]\n",
      " [ 2 22]]\n",
      "Accuracy: 0.9148936170212766\n",
      "Error rate: 0.08510638297872342\n",
      "Recall: 0.9166666666666666\n",
      "Precision: 0.9166666666666666\n"
     ]
    },
    {
     "data": {
      "image/png": "[encoded data removed]",
      "text/plain": [
       "<Figure size 432x288 with 1 Axes>"
      ]
     },
     "metadata": {
      "needs_background": "light"
     },
     "output_type": "display_data"
    },
    {
     "name": "stdout",
     "output_type": "stream",
     "text": [
      "Classifying in cluster: 3\n",
      "[[ 92  22]\n",
      " [ 27 145]]\n",
      "Accuracy: 0.8286713286713286\n",
      "Error rate: 0.17132867132867136\n",
      "Recall: 0.8430232558139535\n",
      "Precision: 0.8682634730538922\n"
     ]
    },
    {
     "data": {
      "image/png": "[encoded data removed]",
      "text/plain": [
       "<Figure size 432x288 with 1 Axes>"
      ]
     },
     "metadata": {
      "needs_background": "light"
     },
     "output_type": "display_data"
    },
    {
     "name": "stdout",
     "output_type": "stream",
     "text": [
      "Classifying in cluster: 4\n",
      "[[214  49]\n",
      " [ 29 278]]\n",
      "Accuracy: 0.8631578947368421\n",
      "Error rate: 0.13684210526315788\n",
      "Recall: 0.9055374592833876\n",
      "Precision: 0.8501529051987767\n"
     ]
    },
    {
     "data": {
      "image/png": "[encoded data removed]",
      "text/plain": [
       "<Figure size 432x288 with 1 Axes>"
      ]
     },
     "metadata": {
      "needs_background": "light"
     },
     "output_type": "display_data"
    },
    {
     "name": "stdout",
     "output_type": "stream",
     "text": [
      "Classifying in cluster: 5\n",
      "[[226  51]\n",
      " [  8 188]]\n",
      "Accuracy: 0.8752642706131079\n",
      "Error rate: 0.12473572938689215\n",
      "Recall: 0.9591836734693877\n",
      "Precision: 0.7866108786610879\n"
     ]
    },
    {
     "data": {
      "image/png": "[encoded data removed]",
      "text/plain": [
       "<Figure size 432x288 with 1 Axes>"
      ]
     },
     "metadata": {
      "needs_background": "light"
     },
     "output_type": "display_data"
    },
    {
     "name": "stdout",
     "output_type": "stream",
     "text": [
      "Classifying in cluster: 6\n",
      "[[34 22]\n",
      " [ 9 93]]\n",
      "Accuracy: 0.8037974683544303\n",
      "Error rate: 0.19620253164556967\n",
      "Recall: 0.9117647058823529\n",
      "Precision: 0.808695652173913\n"
     ]
    },
    {
     "data": {
      "image/png": "[encoded data removed]",
      "text/plain": [
       "<Figure size 432x288 with 1 Axes>"
      ]
     },
     "metadata": {
      "needs_background": "light"
     },
     "output_type": "display_data"
    },
    {
     "name": "stdout",
     "output_type": "stream",
     "text": [
      "Classifying in cluster: 7\n",
      "[[109  17]\n",
      " [ 14  76]]\n",
      "Accuracy: 0.8564814814814815\n",
      "Error rate: 0.1435185185185185\n",
      "Recall: 0.8444444444444444\n",
      "Precision: 0.8172043010752689\n"
     ]
    },
    {
     "data": {
      "image/png": "[encoded data removed]",
      "text/plain": [
       "<Figure size 432x288 with 1 Axes>"
      ]
     },
     "metadata": {
      "needs_background": "light"
     },
     "output_type": "display_data"
    }
   ],
   "source": [
    "for i in range(0,k):\n",
    "    df_cluster0 = df_ngram[df_ngram['cluster'] == i]\n",
    "    Y = pd.Series(Y)\n",
    "    print('Classifying in cluster: {}'.format(i))\n",
    "    NN_classifier(df_cluster0.drop('cluster',axis=1),Y.iloc[df_cluster0.index],hidden_layers_ =(20,30,40,50), solver_='adam', activation_= 'tanh' )"
   ]
  },
  {
   "cell_type": "code",
   "execution_count": 146,
   "metadata": {
    "scrolled": true
   },
   "outputs": [
    {
     "name": "stdout",
     "output_type": "stream",
     "text": [
      "[[931  79]\n",
      " [208 782]]\n",
      "Accuracy: 0.8565\n",
      "Error rate: 0.14349999999999996\n",
      "Recall: 0.7898989898989899\n",
      "Precision: 0.908246225319396\n"
     ]
    },
    {
     "data": {
      "image/png": "[encoded data removed]",
      "text/plain": [
       "<Figure size 432x288 with 1 Axes>"
      ]
     },
     "metadata": {
      "needs_background": "light"
     },
     "output_type": "display_data"
    }
   ],
   "source": [
    "# withou cluster\n",
    "NN_classifier(df_ngram.drop('cluster',axis=1),Y,hidden_layers_ =(20,30,40,50), solver_='adam', activation_= 'tanh')"
   ]
  },
  {
   "cell_type": "code",
   "execution_count": null,
   "metadata": {},
   "outputs": [],
   "source": [
    "# withou cluster\n",
    "NN_classifier(df_ngram.drop(['cluster','polarity','subjective'],axis=1),Y,hidden_layers_ =(20,30,40,50), solver_='adam', activation_= 'tanh')"
   ]
  },
  {
   "cell_type": "markdown",
   "metadata": {},
   "source": [
    "## 6.4 Decision Tree\n"
   ]
  },
  {
   "cell_type": "code",
   "execution_count": 149,
   "metadata": {},
   "outputs": [],
   "source": [
    "from sklearn import tree"
   ]
  },
  {
   "cell_type": "code",
   "execution_count": 148,
   "metadata": {},
   "outputs": [],
   "source": [
    "def DT_clf(X, Y, max_features_= 'auto', \n",
    "                  max_depth_ = None,\n",
    "                  min_sample_leaf_ = 2):\n",
    "    from sklearn import tree\n",
    "    X_train, X_test, y_train, y_test = train_test_split(X, Y, test_size=0.20,random_state=138)\n",
    "\n",
    "    clf = tree.DecisionTreeClassifier(max_features = max_features_, \n",
    "                                     max_depth = max_depth_,\n",
    "                                     min_samples_leaf = min_sample_leaf_)\n",
    "\n",
    "    clf.fit(X_train, y_train)\n",
    "    \n",
    "    #plot the tree\n",
    "    #tree.plot_tree(clf.fit(X_train, y_train)) \n",
    "    \n",
    "    y_pred = clf.predict(X_test)\n",
    "    cm =  metrics.confusion_matrix(y_test, y_pred)\n",
    "    print(cm)\n",
    "    print(\"Accuracy:\",metrics.accuracy_score(y_test, y_pred))\n",
    "    print(\"Error rate:\", 1-metrics.accuracy_score(y_test, y_pred))\n",
    "    print(\"Recall:\", metrics.recall_score(y_test, y_pred))\n",
    "    print(\"Precision:\", metrics.precision_score(y_test, y_pred))\n",
    "    plt.clf()\n",
    "    plt.imshow(cm, interpolation='nearest', cmap=plt.cm.Wistia)\n",
    "    classNames = ['0','1']\n",
    "    plt.title('NN Confusion Matrix - Test Data')\n",
    "    plt.ylabel('True Class')\n",
    "    plt.xlabel('Predicted Class')\n",
    "    tick_marks = np.arange(len(classNames))\n",
    "    plt.xticks(tick_marks, classNames, rotation=45)\n",
    "    plt.yticks(tick_marks, classNames)\n",
    "    s = [['TN','FP'], ['FN', 'TP']]\n",
    "    for i in range(2):\n",
    "        for j in range(2):\n",
    "            plt.text(j,i, str(s[i][j])+\" = \"+str(cm[i][j]))\n",
    "    plt.show()\n",
    "    return clf\n",
    "    "
   ]
  },
  {
   "cell_type": "code",
   "execution_count": 164,
   "metadata": {
    "scrolled": true
   },
   "outputs": [
    {
     "name": "stdout",
     "output_type": "stream",
     "text": [
      "[[871 139]\n",
      " [105 885]]\n",
      "Accuracy: 0.878\n",
      "Error rate: 0.122\n",
      "Recall: 0.8939393939393939\n",
      "Precision: 0.8642578125\n"
     ]
    },
    {
     "data": {
      "image/png": "[encoded data removed]",
      "text/plain": [
       "<Figure size 432x288 with 1 Axes>"
      ]
     },
     "metadata": {
      "needs_background": "light"
     },
     "output_type": "display_data"
    }
   ],
   "source": [
    "dtmodel = DT_clf(df_pos,Y,min_sample_leaf_= 2, max_depth_ = 15)"
   ]
  },
  {
   "cell_type": "code",
   "execution_count": 173,
   "metadata": {},
   "outputs": [
    {
     "name": "stdout",
     "output_type": "stream",
     "text": [
      "Classifying in cluster: 0\n",
      "[[874 136]\n",
      " [ 97 893]]\n",
      "Accuracy: 0.8835\n",
      "Error rate: 0.11650000000000005\n",
      "Recall: 0.902020202020202\n",
      "Precision: 0.8678328474246841\n"
     ]
    },
    {
     "data": {
      "image/png": "[encoded data removed]",
      "text/plain": [
       "<Figure size 432x288 with 1 Axes>"
      ]
     },
     "metadata": {
      "needs_background": "light"
     },
     "output_type": "display_data"
    },
    {
     "name": "stdout",
     "output_type": "stream",
     "text": [
      "Classifying in cluster: 1\n",
      "[[876 134]\n",
      " [ 84 906]]\n",
      "Accuracy: 0.891\n",
      "Error rate: 0.10899999999999999\n",
      "Recall: 0.9151515151515152\n",
      "Precision: 0.8711538461538462\n"
     ]
    },
    {
     "data": {
      "image/png": "[encoded data removed]",
      "text/plain": [
       "<Figure size 432x288 with 1 Axes>"
      ]
     },
     "metadata": {
      "needs_background": "light"
     },
     "output_type": "display_data"
    },
    {
     "name": "stdout",
     "output_type": "stream",
     "text": [
      "Classifying in cluster: 2\n",
      "[[870 140]\n",
      " [113 877]]\n",
      "Accuracy: 0.8735\n",
      "Error rate: 0.12649999999999995\n",
      "Recall: 0.8858585858585859\n",
      "Precision: 0.8623402163225172\n"
     ]
    },
    {
     "data": {
      "image/png": "[encoded data removed]",
      "text/plain": [
       "<Figure size 432x288 with 1 Axes>"
      ]
     },
     "metadata": {
      "needs_background": "light"
     },
     "output_type": "display_data"
    },
    {
     "name": "stdout",
     "output_type": "stream",
     "text": [
      "Classifying in cluster: 3\n",
      "[[872 138]\n",
      " [107 883]]\n",
      "Accuracy: 0.8775\n",
      "Error rate: 0.12250000000000005\n",
      "Recall: 0.8919191919191919\n",
      "Precision: 0.8648383937316356\n"
     ]
    },
    {
     "data": {
      "image/png": "[encoded data removed]",
      "text/plain": [
       "<Figure size 432x288 with 1 Axes>"
      ]
     },
     "metadata": {
      "needs_background": "light"
     },
     "output_type": "display_data"
    },
    {
     "name": "stdout",
     "output_type": "stream",
     "text": [
      "Classifying in cluster: 4\n",
      "[[875 135]\n",
      " [108 882]]\n",
      "Accuracy: 0.8785\n",
      "Error rate: 0.12150000000000005\n",
      "Recall: 0.8909090909090909\n",
      "Precision: 0.8672566371681416\n"
     ]
    },
    {
     "data": {
      "image/png": "[encoded data removed]",
      "text/plain": [
       "<Figure size 432x288 with 1 Axes>"
      ]
     },
     "metadata": {
      "needs_background": "light"
     },
     "output_type": "display_data"
    },
    {
     "name": "stdout",
     "output_type": "stream",
     "text": [
      "Classifying in cluster: 5\n",
      "[[866 144]\n",
      " [113 877]]\n",
      "Accuracy: 0.8715\n",
      "Error rate: 0.12849999999999995\n",
      "Recall: 0.8858585858585859\n",
      "Precision: 0.8589618021547503\n"
     ]
    },
    {
     "data": {
      "image/png": "[encoded data removed]",
      "text/plain": [
       "<Figure size 432x288 with 1 Axes>"
      ]
     },
     "metadata": {
      "needs_background": "light"
     },
     "output_type": "display_data"
    },
    {
     "name": "stdout",
     "output_type": "stream",
     "text": [
      "Classifying in cluster: 6\n",
      "[[864 146]\n",
      " [ 95 895]]\n",
      "Accuracy: 0.8795\n",
      "Error rate: 0.12050000000000005\n",
      "Recall: 0.9040404040404041\n",
      "Precision: 0.8597502401536984\n"
     ]
    },
    {
     "data": {
      "image/png": "[encoded data removed]",
      "text/plain": [
       "<Figure size 432x288 with 1 Axes>"
      ]
     },
     "metadata": {
      "needs_background": "light"
     },
     "output_type": "display_data"
    },
    {
     "name": "stdout",
     "output_type": "stream",
     "text": [
      "Classifying in cluster: 7\n",
      "[[864 146]\n",
      " [107 883]]\n",
      "Accuracy: 0.8735\n",
      "Error rate: 0.12649999999999995\n",
      "Recall: 0.8919191919191919\n",
      "Precision: 0.858114674441205\n"
     ]
    },
    {
     "data": {
      "image/png": "[encoded data removed]",
      "text/plain": [
       "<Figure size 432x288 with 1 Axes>"
      ]
     },
     "metadata": {
      "needs_background": "light"
     },
     "output_type": "display_data"
    }
   ],
   "source": [
    "for i in range(0,k):\n",
    "    df_cluster0 = df_pos[df_pos['cluster'] == i]\n",
    "    Y = pd.Series(Y)\n",
    "    print('Classifying in cluster: {}'.format(i))\n",
    "    dt_k = DT_clf(df_pos.drop('cluster', axis =1),Y,min_sample_leaf_= 2, max_depth_ = 15)"
   ]
  },
  {
   "cell_type": "code",
   "execution_count": 178,
   "metadata": {
    "scrolled": false
   },
   "outputs": [
    {
     "name": "stdout",
     "output_type": "stream",
     "text": [
      "[[849 161]\n",
      " [104 886]]\n",
      "Accuracy: 0.8675\n",
      "Error rate: 0.13249999999999995\n",
      "Recall: 0.8949494949494949\n",
      "Precision: 0.8462273161413563\n"
     ]
    },
    {
     "data": {
      "image/png": "[encoded data removed]",
      "text/plain": [
       "<Figure size 432x288 with 1 Axes>"
      ]
     },
     "metadata": {
      "needs_background": "light"
     },
     "output_type": "display_data"
    }
   ],
   "source": [
    "# withou cluster\n",
    "dtmodel = DT_clf(df_pos.drop(['cluster'],axis=1),Y,min_sample_leaf_= 2, max_depth_ = 15)"
   ]
  },
  {
   "cell_type": "markdown",
   "metadata": {},
   "source": [
    "### b. Unigram"
   ]
  },
  {
   "cell_type": "code",
   "execution_count": 172,
   "metadata": {
    "scrolled": true
   },
   "outputs": [
    {
     "name": "stdout",
     "output_type": "stream",
     "text": [
      "[[882 128]\n",
      " [ 87 903]]\n",
      "Accuracy: 0.8925\n",
      "Error rate: 0.10750000000000004\n",
      "Recall: 0.9121212121212121\n",
      "Precision: 0.8758486905916586\n"
     ]
    },
    {
     "data": {
      "image/png": "[encoded data removed]",
      "text/plain": [
       "<Figure size 432x288 with 1 Axes>"
      ]
     },
     "metadata": {
      "needs_background": "light"
     },
     "output_type": "display_data"
    }
   ],
   "source": [
    "dtmodel = DT_clf(df_ngram,Y,min_sample_leaf_= 2, max_depth_ = 15)"
   ]
  },
  {
   "cell_type": "code",
   "execution_count": 176,
   "metadata": {
    "scrolled": false
   },
   "outputs": [
    {
     "name": "stdout",
     "output_type": "stream",
     "text": [
      "Classifying in cluster: 0\n",
      "[[85 13]\n",
      " [ 6 89]]\n",
      "Accuracy: 0.9015544041450777\n",
      "Error rate: 0.0984455958549223\n",
      "Recall: 0.9368421052631579\n",
      "Precision: 0.8725490196078431\n"
     ]
    },
    {
     "data": {
      "image/png": "[encoded data removed]",
      "text/plain": [
       "<Figure size 432x288 with 1 Axes>"
      ]
     },
     "metadata": {
      "needs_background": "light"
     },
     "output_type": "display_data"
    },
    {
     "name": "stdout",
     "output_type": "stream",
     "text": [
      "Classifying in cluster: 1\n",
      "[[25  2]\n",
      " [ 2 30]]\n",
      "Accuracy: 0.9322033898305084\n",
      "Error rate: 0.06779661016949157\n",
      "Recall: 0.9375\n",
      "Precision: 0.9375\n"
     ]
    },
    {
     "data": {
      "image/png": "[encoded data removed]",
      "text/plain": [
       "<Figure size 432x288 with 1 Axes>"
      ]
     },
     "metadata": {
      "needs_background": "light"
     },
     "output_type": "display_data"
    },
    {
     "name": "stdout",
     "output_type": "stream",
     "text": [
      "Classifying in cluster: 2\n",
      "[[22  1]\n",
      " [ 8 16]]\n",
      "Accuracy: 0.8085106382978723\n",
      "Error rate: 0.19148936170212771\n",
      "Recall: 0.6666666666666666\n",
      "Precision: 0.9411764705882353\n"
     ]
    },
    {
     "data": {
      "image/png": "[encoded data removed]",
      "text/plain": [
       "<Figure size 432x288 with 1 Axes>"
      ]
     },
     "metadata": {
      "needs_background": "light"
     },
     "output_type": "display_data"
    },
    {
     "name": "stdout",
     "output_type": "stream",
     "text": [
      "Classifying in cluster: 3\n",
      "[[ 95  19]\n",
      " [ 26 146]]\n",
      "Accuracy: 0.8426573426573427\n",
      "Error rate: 0.1573426573426573\n",
      "Recall: 0.8488372093023255\n",
      "Precision: 0.8848484848484849\n"
     ]
    },
    {
     "data": {
      "image/png": "[encoded data removed]",
      "text/plain": [
       "<Figure size 432x288 with 1 Axes>"
      ]
     },
     "metadata": {
      "needs_background": "light"
     },
     "output_type": "display_data"
    },
    {
     "name": "stdout",
     "output_type": "stream",
     "text": [
      "Classifying in cluster: 4\n",
      "[[235  28]\n",
      " [ 65 242]]\n",
      "Accuracy: 0.8368421052631579\n",
      "Error rate: 0.16315789473684206\n",
      "Recall: 0.7882736156351792\n",
      "Precision: 0.8962962962962963\n"
     ]
    },
    {
     "data": {
      "image/png": "[encoded data removed]",
      "text/plain": [
       "<Figure size 432x288 with 1 Axes>"
      ]
     },
     "metadata": {
      "needs_background": "light"
     },
     "output_type": "display_data"
    },
    {
     "name": "stdout",
     "output_type": "stream",
     "text": [
      "Classifying in cluster: 5\n",
      "[[247  30]\n",
      " [ 21 175]]\n",
      "Accuracy: 0.8921775898520085\n",
      "Error rate: 0.10782241014799154\n",
      "Recall: 0.8928571428571429\n",
      "Precision: 0.8536585365853658\n"
     ]
    },
    {
     "data": {
      "image/png": "[encoded data removed]",
      "text/plain": [
       "<Figure size 432x288 with 1 Axes>"
      ]
     },
     "metadata": {
      "needs_background": "light"
     },
     "output_type": "display_data"
    },
    {
     "name": "stdout",
     "output_type": "stream",
     "text": [
      "Classifying in cluster: 6\n",
      "[[41 15]\n",
      " [10 92]]\n",
      "Accuracy: 0.8417721518987342\n",
      "Error rate: 0.15822784810126578\n",
      "Recall: 0.9019607843137255\n",
      "Precision: 0.8598130841121495\n"
     ]
    },
    {
     "data": {
      "image/png": "[encoded data removed]",
      "text/plain": [
       "<Figure size 432x288 with 1 Axes>"
      ]
     },
     "metadata": {
      "needs_background": "light"
     },
     "output_type": "display_data"
    },
    {
     "name": "stdout",
     "output_type": "stream",
     "text": [
      "Classifying in cluster: 7\n",
      "[[105  21]\n",
      " [  9  81]]\n",
      "Accuracy: 0.8611111111111112\n",
      "Error rate: 0.13888888888888884\n",
      "Recall: 0.9\n",
      "Precision: 0.7941176470588235\n"
     ]
    },
    {
     "data": {
      "image/png": "[encoded data removed]",
      "text/plain": [
       "<Figure size 432x288 with 1 Axes>"
      ]
     },
     "metadata": {
      "needs_background": "light"
     },
     "output_type": "display_data"
    }
   ],
   "source": [
    "for i in range(0,k):\n",
    "    df_cluster0 = df_ngram[df_ngram['cluster'] == i]\n",
    "    Y = pd.Series(Y)\n",
    "    print('Classifying in cluster: {}'.format(i))\n",
    "    dt_k = DT_clf(df_cluster0.drop('cluster', axis =1),Y[df_cluster0.index],min_sample_leaf_= 2, max_depth_ = 15)"
   ]
  },
  {
   "cell_type": "code",
   "execution_count": 179,
   "metadata": {},
   "outputs": [
    {
     "name": "stdout",
     "output_type": "stream",
     "text": [
      "[[862 148]\n",
      " [ 89 901]]\n",
      "Accuracy: 0.8815\n",
      "Error rate: 0.11850000000000005\n",
      "Recall: 0.9101010101010101\n",
      "Precision: 0.8589132507149666\n"
     ]
    },
    {
     "data": {
      "image/png": "[encoded data removed]",
      "text/plain": [
       "<Figure size 432x288 with 1 Axes>"
      ]
     },
     "metadata": {
      "needs_background": "light"
     },
     "output_type": "display_data"
    }
   ],
   "source": [
    "# without cluster\n",
    "dtmodel = DT_clf(df_ngram.drop(['cluster'],axis=1),Y,min_sample_leaf_= 2, max_depth_ = 15)"
   ]
  },
  {
   "cell_type": "code",
   "execution_count": 181,
   "metadata": {},
   "outputs": [
    {
     "name": "stdout",
     "output_type": "stream",
     "text": [
      "[[856 154]\n",
      " [ 69 921]]\n",
      "Accuracy: 0.8885\n",
      "Error rate: 0.11150000000000004\n",
      "Recall: 0.9303030303030303\n",
      "Precision: 0.8567441860465116\n"
     ]
    },
    {
     "data": {
      "image/png": "[encoded data removed]",
      "text/plain": [
       "<Figure size 432x288 with 1 Axes>"
      ]
     },
     "metadata": {
      "needs_background": "light"
     },
     "output_type": "display_data"
    }
   ],
   "source": [
    "# dt for visualize\n",
    "# chosing 5 level of depth \n",
    "dtmodel = DT_clf(df_ngram,Y,min_sample_leaf_= 2, max_depth_ = 10)"
   ]
  },
  {
   "cell_type": "code",
   "execution_count": 183,
   "metadata": {
    "scrolled": false
   },
   "outputs": [],
   "source": [
    "import graphviz \n",
    "from IPython.display import SVG\n",
    "#from StringIO import StringIO\n",
    "\n",
    "dot_data= tree.export_graphviz(dtmodel, out_file=\"ngram_8cluster.dot\",\n",
    "                               feature_names=df_ngram.columns) \n",
    "\n"
   ]
  },
  {
   "cell_type": "code",
   "execution_count": 166,
   "metadata": {},
   "outputs": [],
   "source": [
    "# import os\n",
    "# #./usr/lib/x86_64-linux-gnu/graphviz\n",
    "# os.environ[\"PATH\"] += os.pathsep + './usr/bin/'"
   ]
  },
  {
   "cell_type": "code",
   "execution_count": null,
   "metadata": {},
   "outputs": [],
   "source": [
    "# with open(\"mytree.dot\") as f:\n",
    "#     dot_graph = f.read()\n",
    "# #graphviz.Source(dot_graph)\n",
    "# graph = graphviz.Source(dot_graph)\n",
    "# graph.render(\"image\",view=True)"
   ]
  },
  {
   "cell_type": "markdown",
   "metadata": {},
   "source": [
    "### z. Feed Forward Neural Network"
   ]
  },
  {
   "cell_type": "code",
   "execution_count": null,
   "metadata": {},
   "outputs": [],
   "source": [
    "from keras.datasets import reuters\n",
    "from keras.utils.np_utils import to_categorical\n",
    "from keras.preprocessing.text import Tokenizer\n",
    "from keras import models\n",
    "from keras import layers\n",
    "from keras.utils import to_categorical\n"
   ]
  },
  {
   "cell_type": "code",
   "execution_count": null,
   "metadata": {
    "scrolled": true
   },
   "outputs": [],
   "source": [
    "# construct a neural network\n",
    "\n",
    "# Set the number of features we want\n",
    "number_of_features = len(df_pos.columns)\n",
    "\n",
    "# Start neural network\n",
    "network = models.Sequential()\n",
    "\n",
    "# Add fully connected layer with a ReLU activation function\n",
    "network.add(layers.Dense(units=2, activation='relu', input_shape=(number_of_features,)))\n",
    "\n",
    "# Add fully connected layer with a ReLU activation function\n",
    "network.add(layers.Dense(units=2, activation='relu'))\n",
    "\n",
    "# Add fully connected layer with a softmax activation function\n",
    "network.add(layers.Dense(units=2, activation='softmax'))\n",
    "\n",
    "# Compile neural network\n",
    "network.compile(loss='categorical_crossentropy', # Cross-entropy\n",
    "                optimizer='rmsprop', # Root Mean Square Propagation\n",
    "                metrics=['accuracy']) # Accuracy performance metric"
   ]
  },
  {
   "cell_type": "code",
   "execution_count": null,
   "metadata": {},
   "outputs": [],
   "source": [
    "# Train neural network\n",
    "y_binary = to_categorical(Y)\n",
    "\n",
    "X_train, X_test, y_train, y_test = train_test_split(df_pos, y_binary, test_size=0.20,random_state=138) \n",
    "scaler = StandardScaler()  \n",
    "scaler.fit(X_train)\n",
    "X_train = scaler.transform(X_train)  \n",
    "X_test = scaler.transform(X_test)\n",
    "\n",
    "history = network.fit(X_train, # Features\n",
    "                      y_train, # Target vector\n",
    "                      epochs=3, # Three epochs\n",
    "                      verbose=0, # No output\n",
    "                      batch_size=100, # Number of observations per batch\n",
    "                      validation_data=(X_test, y_test)) # Data to use for evaluation"
   ]
  },
  {
   "cell_type": "code",
   "execution_count": null,
   "metadata": {},
   "outputs": [],
   "source": [
    "y_predict = network.predict(X_test)"
   ]
  },
  {
   "cell_type": "code",
   "execution_count": null,
   "metadata": {},
   "outputs": [],
   "source": [
    "_, accuracy = network.evaluate(x=X_test, y=y_test  )\n",
    "print('Accuracy: %.2f' % (accuracy*100))"
   ]
  },
  {
   "cell_type": "code",
   "execution_count": null,
   "metadata": {},
   "outputs": [],
   "source": [
    "#### fit model\n",
    "# Train neural network\n",
    "def FNN_classifier():\n",
    "    history = network.fit(train_features, # Features\n",
    "                          train_target, # Target vector\n",
    "                          epochs=3, # Three epochs\n",
    "                          verbose=0, # No output\n",
    "                          batch_size=100, # Number of observations per batch\n",
    "                          validation_data=(test_features, test_target)) # Data to use for evaluation"
   ]
  },
  {
   "cell_type": "markdown",
   "metadata": {},
   "source": [
    "## 6.XXXNB model with TF-IDF"
   ]
  },
  {
   "cell_type": "code",
   "execution_count": 139,
   "metadata": {},
   "outputs": [],
   "source": [
    "# test SVM model with different way\n",
    "# split the data into training and testing datasets\n",
    "X_train, X_test, y_train, y_test = train_test_split(df_pos, Y, test_size=0.20,random_state=109)  "
   ]
  },
  {
   "cell_type": "code",
   "execution_count": 140,
   "metadata": {},
   "outputs": [
    {
     "ename": "ImportError",
     "evalue": "cannot import name '_check_sample_weight'",
     "output_type": "error",
     "traceback": [
      "\u001b[0;31m---------------------------------------------------------------------------\u001b[0m",
      "\u001b[0;31mImportError\u001b[0m                               Traceback (most recent call last)",
      "\u001b[0;32m<ipython-input-140-914fc29b9044>\u001b[0m in \u001b[0;36m<module>\u001b[0;34m\u001b[0m\n\u001b[1;32m      1\u001b[0m \u001b[0;32mimport\u001b[0m \u001b[0mtime\u001b[0m\u001b[0;34m\u001b[0m\u001b[0m\n\u001b[0;32m----> 2\u001b[0;31m \u001b[0;32mfrom\u001b[0m \u001b[0msklearn\u001b[0m\u001b[0;34m.\u001b[0m\u001b[0mnaive_bayes\u001b[0m \u001b[0;32mimport\u001b[0m \u001b[0mMultinomialNB\u001b[0m\u001b[0;34m\u001b[0m\u001b[0m\n\u001b[0m\u001b[1;32m      3\u001b[0m \u001b[0mstart_time\u001b[0m \u001b[0;34m=\u001b[0m \u001b[0mtime\u001b[0m\u001b[0;34m.\u001b[0m\u001b[0mtime\u001b[0m\u001b[0;34m(\u001b[0m\u001b[0;34m)\u001b[0m\u001b[0;34m\u001b[0m\u001b[0m\n\u001b[1;32m      4\u001b[0m \u001b[0mscaler\u001b[0m \u001b[0;34m=\u001b[0m \u001b[0mStandardScaler\u001b[0m\u001b[0;34m(\u001b[0m\u001b[0;34m)\u001b[0m\u001b[0;34m\u001b[0m\u001b[0m\n\u001b[1;32m      5\u001b[0m \u001b[0mscaler\u001b[0m\u001b[0;34m.\u001b[0m\u001b[0mfit\u001b[0m\u001b[0;34m(\u001b[0m\u001b[0mdf_pos\u001b[0m\u001b[0;34m)\u001b[0m\u001b[0;34m\u001b[0m\u001b[0m\n",
      "\u001b[0;32m/opt/conda/lib/python3.6/site-packages/sklearn/naive_bayes.py\u001b[0m in \u001b[0;36m<module>\u001b[0;34m\u001b[0m\n\u001b[1;32m     32\u001b[0m \u001b[0;32mfrom\u001b[0m \u001b[0;34m.\u001b[0m\u001b[0mutils\u001b[0m\u001b[0;34m.\u001b[0m\u001b[0mmulticlass\u001b[0m \u001b[0;32mimport\u001b[0m \u001b[0m_check_partial_fit_first_call\u001b[0m\u001b[0;34m\u001b[0m\u001b[0m\n\u001b[1;32m     33\u001b[0m \u001b[0;32mfrom\u001b[0m \u001b[0;34m.\u001b[0m\u001b[0mutils\u001b[0m\u001b[0;34m.\u001b[0m\u001b[0mvalidation\u001b[0m \u001b[0;32mimport\u001b[0m \u001b[0mcheck_is_fitted\u001b[0m\u001b[0;34m,\u001b[0m \u001b[0mcheck_non_negative\u001b[0m\u001b[0;34m,\u001b[0m \u001b[0mcolumn_or_1d\u001b[0m\u001b[0;34m\u001b[0m\u001b[0m\n\u001b[0;32m---> 34\u001b[0;31m \u001b[0;32mfrom\u001b[0m \u001b[0;34m.\u001b[0m\u001b[0mutils\u001b[0m\u001b[0;34m.\u001b[0m\u001b[0mvalidation\u001b[0m \u001b[0;32mimport\u001b[0m \u001b[0m_check_sample_weight\u001b[0m\u001b[0;34m\u001b[0m\u001b[0m\n\u001b[0m\u001b[1;32m     35\u001b[0m \u001b[0;34m\u001b[0m\u001b[0m\n\u001b[1;32m     36\u001b[0m __all__ = ['BernoulliNB', 'GaussianNB', 'MultinomialNB', 'ComplementNB',\n",
      "\u001b[0;31mImportError\u001b[0m: cannot import name '_check_sample_weight'"
     ]
    }
   ],
   "source": [
    "import time\n",
    "from sklearn.naive_bayes import MultinomialNB\n",
    "start_time = time.time()\n",
    "scaler = StandardScaler()  \n",
    "scaler.fit(df_pos)\n",
    "X_train = scaler.transform(X_train)  \n",
    "X_test = scaler.transform(X_test)\n",
    "\n",
    "clf = MultinomialNB().fit(X_train, y_train)\n",
    "y_pred = clf.predict(X_test)\n",
    "\n"
   ]
  },
  {
   "cell_type": "code",
   "execution_count": null,
   "metadata": {
    "scrolled": true
   },
   "outputs": [],
   "source": [
    "print(metrics.accuracy_score(y_pred=y_pred, y_true=y_test))"
   ]
  },
  {
   "cell_type": "code",
   "execution_count": null,
   "metadata": {
    "scrolled": true
   },
   "outputs": [],
   "source": [
    "type(X_train)"
   ]
  },
  {
   "cell_type": "code",
   "execution_count": null,
   "metadata": {},
   "outputs": [],
   "source": []
  },
  {
   "cell_type": "markdown",
   "metadata": {},
   "source": [
    "# ##### Model 2: using combination Text and non-text features\n",
    "\n",
    "# using mapper to map features to dataframe\n",
    "mapper = DataFrameMapper([\n",
    "     ('description', TfidfVectorizer()),\n",
    "     ('nb_like', None),\n",
    "     ('picture_labels', TfidfVectorizer()),\n",
    "     ('nb_share', None),\n",
    "     ('user', None),\n",
    "     ('month', None),\n",
    "     ('day', None),\n",
    "     ('hour', None),\n",
    " ])"
   ]
  },
  {
   "cell_type": "code",
   "execution_count": null,
   "metadata": {},
   "outputs": [],
   "source": [
    "from sklearn_pandas import DataFrameMapper, cross_val_score\n",
    "from sklearn.metrics import classification_report\n",
    "import sklearn.ensemble as sk"
   ]
  },
  {
   "cell_type": "code",
   "execution_count": null,
   "metadata": {},
   "outputs": [],
   "source": [
    "def printreport(exp, pred):\n",
    "    print(pd.crosstab(exp, pred, rownames=['Actual'], colnames=['Predicted']))\n",
    "\n",
    "    print('\\n \\n')\n",
    "    print(classification_report(exp, pred))\n"
   ]
  },
  {
   "cell_type": "code",
   "execution_count": null,
   "metadata": {},
   "outputs": [],
   "source": [
    "data2 = df[['rating', 'usefulCount','coolCount','funnyCount']].copy()\n",
    "\n",
    "data2['reviewContent'] = processed\n",
    "data2['sentiment'] =sent_analysis"
   ]
  },
  {
   "cell_type": "code",
   "execution_count": null,
   "metadata": {},
   "outputs": [],
   "source": [
    "type(CS_similarity)"
   ]
  },
  {
   "cell_type": "code",
   "execution_count": null,
   "metadata": {},
   "outputs": [],
   "source": [
    "print(data2.index)"
   ]
  },
  {
   "cell_type": "code",
   "execution_count": null,
   "metadata": {},
   "outputs": [],
   "source": [
    "X_tfidf= tfidf.fit_transform(data2['reviewContent'])"
   ]
  },
  {
   "cell_type": "code",
   "execution_count": null,
   "metadata": {},
   "outputs": [],
   "source": [
    "mapper = DataFrameMapper([\n",
    "     ('rating', None),\n",
    "     ('usefulCount', None),\n",
    "     ('coolCount', None),\n",
    "     ('funnyCount', None),\n",
    "     ('reviewContent', TfidfVectorizer()),\n",
    "     ('sentiment', None)\n",
    "     #('reviewContent', [CountVectorizer(analyzer='word', ngram_range=(2, 2)),TfidfVectorizer()])\n",
    "\n",
    " ])"
   ]
  },
  {
   "cell_type": "code",
   "execution_count": null,
   "metadata": {},
   "outputs": [],
   "source": [
    "features = mapper.fit_transform(data2)"
   ]
  },
  {
   "cell_type": "code",
   "execution_count": null,
   "metadata": {
    "scrolled": true
   },
   "outputs": [],
   "source": [
    "features.shape"
   ]
  },
  {
   "cell_type": "code",
   "execution_count": null,
   "metadata": {
    "scrolled": true
   },
   "outputs": [],
   "source": [
    "#integrate cosine similarity into features\n",
    "features=np.concatenate((features, CS_similarity), axis=1)"
   ]
  },
  {
   "cell_type": "code",
   "execution_count": null,
   "metadata": {},
   "outputs": [],
   "source": [
    "features.shape"
   ]
  },
  {
   "cell_type": "code",
   "execution_count": null,
   "metadata": {},
   "outputs": [],
   "source": [
    "# Split the data between train and test\n",
    "X_train, X_test, y_train, y_test = train_test_split(features, Y, test_size=0.20,random_state=109)  \n",
    "\n",
    "start_time = time.time()\n",
    "clf = sk.RandomForestClassifier(random_state=0, n_estimators=70)\n",
    "clf.fit(X_train, y_train)\n",
    "\n",
    "predicted = clf.predict(X_test)\n",
    "\n",
    "printreport(y_test, predicted)\n",
    "print(\"--- %s seconds ---\" % (time.time() - start_time))"
   ]
  },
  {
   "cell_type": "code",
   "execution_count": null,
   "metadata": {
    "scrolled": true
   },
   "outputs": [],
   "source": [
    "print(metrics.accuracy_score(y_pred=predicted, y_true=y_test))"
   ]
  }
 ],
 "metadata": {
  "kernelspec": {
   "display_name": "Python 3",
   "language": "python",
   "name": "python3"
  },
  "language_info": {
   "codemirror_mode": {
    "name": "ipython",
    "version": 3
   },
   "file_extension": ".py",
   "mimetype": "text/x-python",
   "name": "python",
   "nbconvert_exporter": "python",
   "pygments_lexer": "ipython3",
   "version": "3.6.5"
  }
 },
 "nbformat": 4,
 "nbformat_minor": 2
}
